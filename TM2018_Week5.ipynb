{
 "cells": [
  {
   "cell_type": "markdown",
   "metadata": {},
   "source": [
    "# Session 5 - Document classification and prediction"
   ]
  },
  {
   "cell_type": "markdown",
   "metadata": {},
   "source": [
    "## You have been asked to build a document classifier that helps your communication staff determine the audience for incoming news articles. \n",
    "\n",
    "They have provided you with some test data that has the article and their determination of the audience (Executive, Staff, Everyone).  They also included the number of \"Likes\" the story got because they think that might be helpful in determining who should read things.   "
   ]
  },
  {
   "cell_type": "code",
   "execution_count": 17,
   "metadata": {},
   "outputs": [],
   "source": [
    "# set up the environment\n",
    "import pandas as pd\n",
    "import numpy as np\n",
    "from sklearn.feature_extraction.text import CountVectorizer, TfidfVectorizer\n",
    "import nltk\n",
    "pathname = \"C:\\\\Users\\\\Paul\\\\Desktop\\\\Rockhurst\\\\BIA 6304-Text Mining\\\\Week 5\" #where to get/put files\n",
    "pd.set_option('display.max_colwidth', 15000) #important for getting all the text\n"
   ]
  },
  {
   "cell_type": "code",
   "execution_count": 18,
   "metadata": {},
   "outputs": [
    {
     "name": "stdout",
     "output_type": "stream",
     "text": [
      "(3848, 7)\n",
      "['description', 'headline', 'url', 'text', 'cleantext', 'Audience', 'likes']\n"
     ]
    }
   ],
   "source": [
    "newsdf = pd.read_csv(pathname + \"\\\\nytnews_tagged.csv\", index_col = 0) \n",
    "\n",
    "print(newsdf.shape)\n",
    "print(list(newsdf))"
   ]
  },
  {
   "cell_type": "markdown",
   "metadata": {},
   "source": [
    "### Don't hesitate to investigate your data before deciding on what preprocessing needs to be done\n",
    "### Remember:\n",
    "* Some processing needs to be done before creating the feature space: custom dictionary replacements, stemming, lemmatization (or definition of stemmer/lemmatizer) for vectorization step\n",
    "* stopwords and lowercase changes are options *during* vectorization and do not need to be done ahead of time\n",
    "\n",
    "\n"
   ]
  },
  {
   "cell_type": "code",
   "execution_count": 19,
   "metadata": {},
   "outputs": [
    {
     "name": "stdout",
     "output_type": "stream",
     "text": [
      "(3848, 62296)\n",
      "<class 'list'> 62296\n",
      "<class 'list'> 62296\n"
     ]
    }
   ],
   "source": [
    "# quick peak at basic feature space\n",
    "prelim = CountVectorizer(binary=False, stop_words = 'english') \n",
    "prelim_dm = prelim.fit_transform(newsdf['text'])\n",
    "print(prelim_dm.shape)\n",
    "\n",
    "names = prelim.get_feature_names()\n",
    "print(type(names), len(names))\n",
    "\n",
    "count = np.sum(prelim_dm.toarray(), axis = 0).tolist()\n",
    "print(type(count), len(count))\n",
    "count_df = pd.DataFrame(count, index = names, columns = ['count'])\n",
    "\n",
    "count_df.sort_values(['count'], ascending = False).head(20)\n",
    "\n",
    "# storing this for later use\n",
    "keep_count = count_df.sort_values(['count'], ascending = False)"
   ]
  },
  {
   "cell_type": "code",
   "execution_count": 20,
   "metadata": {},
   "outputs": [],
   "source": [
    "# a little preprocessing\n",
    "import re\n",
    "news_dict = {'united states':'us','states':'state', 'years':'year',\n",
    "             'new york': 'ny', 'republicans':'republican', 'schools':'school',\n",
    "            'companies':'company'}\n",
    "\n",
    "\n",
    "def multiple_replace(dict, text): \n",
    "\n",
    "  \"\"\" Replace in 'text' all occurences of any key in the given\n",
    "  dictionary by its corresponding value.  Returns the new string.\"\"\" \n",
    "  text = str(text).lower()\n",
    "\n",
    "  # Create a regular expression  from the dictionary keys\n",
    "  regex = re.compile(\"(%s)\" % \"|\".join(map(re.escape, dict.keys())))\n",
    "\n",
    "  # For each match, look-up corresponding value in dictionary\n",
    "  return regex.sub(lambda mo: dict[mo.string[mo.start():mo.end()]], text)\n",
    "\n",
    "newsdf['cleantext'] = newsdf.text.apply(lambda x: multiple_replace(news_dict, x))\n"
   ]
  },
  {
   "cell_type": "code",
   "execution_count": 21,
   "metadata": {},
   "outputs": [
    {
     "name": "stdout",
     "output_type": "stream",
     "text": [
      "<class 'list'>\n",
      "179\n",
      "222\n"
     ]
    }
   ],
   "source": [
    "# create a custom stopwords list - I choose to start with the nltk list\n",
    "from nltk.corpus import stopwords\n",
    "\n",
    "nltk_stopwords = stopwords.words(\"english\")\n",
    "\n",
    "print(type(nltk_stopwords))\n",
    "print(len(nltk_stopwords))\n",
    "my_stopwords = nltk_stopwords + [\"mr\", \"ms\", \"say\",\"said\", \"0\", '000','10', '100', '11', '12', '13', '14', '15', '16', '17', '18', '19', '20', '200', '2007', '2008', '2009', '2010', '2011', '2012', '2013', '2014', '21', '22', '23', '24', '25', '27', '30', '300', '35', '40', '45', '50', '500', '60', '70', '80']\n",
    "print(len(my_stopwords))"
   ]
  },
  {
   "cell_type": "code",
   "execution_count": 23,
   "metadata": {},
   "outputs": [
    {
     "name": "stdout",
     "output_type": "stream",
     "text": [
      "(3848, 1236)\n",
      "(3848, 1236)\n",
      "(3848, 1207)\n",
      "<class 'list'> 1236\n"
     ]
    }
   ],
   "source": [
    "from sklearn.feature_extraction.text import CountVectorizer, TfidfVectorizer\n",
    "\n",
    "# instantiate vectorizer(s)\n",
    "cv1 = CountVectorizer(lowercase=True, \n",
    "                     stop_words=my_stopwords,\n",
    "                     binary=False,\n",
    "                     max_df=0.95, \n",
    "                     min_df=0.05,\n",
    "                     ngram_range = (1,2)) \n",
    "tfidf1 = TfidfVectorizer(lowercase=True, \n",
    "                        stop_words= my_stopwords, \n",
    "                        max_df=0.95, \n",
    "                        min_df=0.05,\n",
    "                        ngram_range = (1,2)) \n",
    "\n",
    "choice = TfidfVectorizer(lowercase=True,\n",
    "                         use_idf=True,\n",
    "                         stop_words=my_stopwords,\n",
    "                         max_df = 0.95,\n",
    "                         min_df = 0.05)\n",
    "#choose your favorite parameter combination\n",
    "\n",
    "# fit and transform text\n",
    "cv_dm = cv1.fit_transform(newsdf['cleantext'])\n",
    "tfidf_dm = tfidf1.fit_transform(newsdf['cleantext'])\n",
    "choice_dm = choice.fit_transform(newsdf['cleantext'])\n",
    "\n",
    "# print matrix shape(s)\n",
    "print(cv_dm.shape)\n",
    "print(tfidf_dm.shape)\n",
    "print(choice_dm.shape)\n",
    "names = cv1.get_feature_names()\n",
    "print(type(names), len(names))\n",
    "#save this feature list for later\n",
    "big_feature_list = cv1.get_feature_names()"
   ]
  },
  {
   "cell_type": "code",
   "execution_count": 24,
   "metadata": {},
   "outputs": [
    {
     "name": "stdout",
     "output_type": "stream",
     "text": [
      "<class 'list'> 1236\n"
     ]
    },
    {
     "data": {
      "text/html": [
       "<div>\n",
       "<style scoped>\n",
       "    .dataframe tbody tr th:only-of-type {\n",
       "        vertical-align: middle;\n",
       "    }\n",
       "\n",
       "    .dataframe tbody tr th {\n",
       "        vertical-align: top;\n",
       "    }\n",
       "\n",
       "    .dataframe thead th {\n",
       "        text-align: right;\n",
       "    }\n",
       "</style>\n",
       "<table border=\"1\" class=\"dataframe\">\n",
       "  <thead>\n",
       "    <tr style=\"text-align: right;\">\n",
       "      <th></th>\n",
       "      <th>count</th>\n",
       "    </tr>\n",
       "  </thead>\n",
       "  <tbody>\n",
       "    <tr>\n",
       "      <th>year</th>\n",
       "      <td>10314</td>\n",
       "    </tr>\n",
       "    <tr>\n",
       "      <th>one</th>\n",
       "      <td>8680</td>\n",
       "    </tr>\n",
       "    <tr>\n",
       "      <th>would</th>\n",
       "      <td>8627</td>\n",
       "    </tr>\n",
       "    <tr>\n",
       "      <th>like</th>\n",
       "      <td>6614</td>\n",
       "    </tr>\n",
       "    <tr>\n",
       "      <th>people</th>\n",
       "      <td>5547</td>\n",
       "    </tr>\n",
       "    <tr>\n",
       "      <th>new</th>\n",
       "      <td>5022</td>\n",
       "    </tr>\n",
       "    <tr>\n",
       "      <th>two</th>\n",
       "      <td>4899</td>\n",
       "    </tr>\n",
       "    <tr>\n",
       "      <th>time</th>\n",
       "      <td>4757</td>\n",
       "    </tr>\n",
       "    <tr>\n",
       "      <th>could</th>\n",
       "      <td>4620</td>\n",
       "    </tr>\n",
       "    <tr>\n",
       "      <th>also</th>\n",
       "      <td>4316</td>\n",
       "    </tr>\n",
       "    <tr>\n",
       "      <th>last</th>\n",
       "      <td>4247</td>\n",
       "    </tr>\n",
       "    <tr>\n",
       "      <th>many</th>\n",
       "      <td>4211</td>\n",
       "    </tr>\n",
       "    <tr>\n",
       "      <th>first</th>\n",
       "      <td>4057</td>\n",
       "    </tr>\n",
       "    <tr>\n",
       "      <th>even</th>\n",
       "      <td>4029</td>\n",
       "    </tr>\n",
       "    <tr>\n",
       "      <th>state</th>\n",
       "      <td>3986</td>\n",
       "    </tr>\n",
       "    <tr>\n",
       "      <th>us</th>\n",
       "      <td>3869</td>\n",
       "    </tr>\n",
       "    <tr>\n",
       "      <th>city</th>\n",
       "      <td>3514</td>\n",
       "    </tr>\n",
       "    <tr>\n",
       "      <th>president</th>\n",
       "      <td>2991</td>\n",
       "    </tr>\n",
       "    <tr>\n",
       "      <th>government</th>\n",
       "      <td>2959</td>\n",
       "    </tr>\n",
       "    <tr>\n",
       "      <th>house</th>\n",
       "      <td>2943</td>\n",
       "    </tr>\n",
       "  </tbody>\n",
       "</table>\n",
       "</div>"
      ],
      "text/plain": [
       "            count\n",
       "year        10314\n",
       "one          8680\n",
       "would        8627\n",
       "like         6614\n",
       "people       5547\n",
       "new          5022\n",
       "two          4899\n",
       "time         4757\n",
       "could        4620\n",
       "also         4316\n",
       "last         4247\n",
       "many         4211\n",
       "first        4057\n",
       "even         4029\n",
       "state        3986\n",
       "us           3869\n",
       "city         3514\n",
       "president    2991\n",
       "government   2959\n",
       "house        2943"
      ]
     },
     "execution_count": 24,
     "metadata": {},
     "output_type": "execute_result"
    }
   ],
   "source": [
    "count = np.sum(cv_dm.toarray(), axis = 0).tolist()\n",
    "print(type(count), len(count))\n",
    "count_df = pd.DataFrame(count, index = names, columns = ['count'])\n",
    "\n",
    "count_df.sort_values(['count'], ascending = False).head(20)"
   ]
  },
  {
   "cell_type": "code",
   "execution_count": 11,
   "metadata": {},
   "outputs": [],
   "source": [
    "# quick peak at the whole list of feature names\n",
    "#good to investigate at first but PLEASE \n",
    "#comment this out before creating the HTML\n",
    "#print(cv1.get_feature_names()) "
   ]
  },
  {
   "cell_type": "markdown",
   "metadata": {},
   "source": [
    "### We want to predict the audience.  What does our target variable look like?"
   ]
  },
  {
   "cell_type": "code",
   "execution_count": 26,
   "metadata": {},
   "outputs": [
    {
     "data": {
      "text/plain": [
       "<matplotlib.axes._subplots.AxesSubplot at 0x1f7e221dbe0>"
      ]
     },
     "execution_count": 26,
     "metadata": {},
     "output_type": "execute_result"
    },
    {
     "data": {
      "image/png": "[encoded data removed]",
      "text/plain": [
       "<matplotlib.figure.Figure at 0x1f7d9e6f550>"
      ]
     },
     "metadata": {},
     "output_type": "display_data"
    }
   ],
   "source": [
    "# What does our target variable look like?\n",
    "%matplotlib inline\n",
    "import matplotlib as mpl\n",
    "import matplotlib.pyplot as plt\n",
    "\n",
    "# get a feel for the distribution\n",
    "newsdf['Audience'].value_counts().plot(kind='bar')"
   ]
  },
  {
   "cell_type": "markdown",
   "metadata": {},
   "source": [
    "## Now let's try to build a model to predict the classification\n",
    "\n",
    "### First create the training and test datasets"
   ]
  },
  {
   "cell_type": "code",
   "execution_count": 30,
   "metadata": {},
   "outputs": [
    {
     "name": "stdout",
     "output_type": "stream",
     "text": [
      "<class 'numpy.ndarray'> [[0 0 0 ... 0 0 0]\n",
      " [0 0 0 ... 0 0 0]\n",
      " [0 0 0 ... 0 1 0]\n",
      " ...\n",
      " [0 0 0 ... 0 0 0]\n",
      " [0 0 0 ... 1 0 0]\n",
      " [0 0 0 ... 0 0 0]]\n",
      "<class 'numpy.ndarray'> ['Executive' 'Staff' 'Executive' 'Executive' 'Executive' 'Executive'\n",
      " 'Staff' 'Staff' 'Everyone' 'Executive']\n"
     ]
    }
   ],
   "source": [
    "# train test split\n",
    "# data are X, labels are y\n",
    "from sklearn.model_selection import train_test_split\n",
    "\n",
    "X = cv_dm.toarray()  #remember this is the output from the vectorizer and we are turning it into an array\n",
    "print(type(X), X[0:10])\n",
    "\n",
    "\n",
    "y = newsdf['Audience'].values #this is an array of labels\n",
    "print(type(y), y[0:10])\n",
    "\n",
    " "
   ]
  },
  {
   "cell_type": "code",
   "execution_count": 31,
   "metadata": {},
   "outputs": [
    {
     "name": "stdout",
     "output_type": "stream",
     "text": [
      "(2693, 1236)\n",
      "(1155, 1236)\n",
      "(2693,)\n",
      "(1155,)\n"
     ]
    }
   ],
   "source": [
    "X_train, X_test, y_train, y_test = train_test_split(X, y, test_size=0.3, random_state=42) #random_state is set seed\n",
    "\n",
    "# function creates 4 output structures - order matters\n",
    "print(X_train.shape)\n",
    "print(X_test.shape)\n",
    "print(y_train.shape)\n",
    "print(y_test.shape)\n"
   ]
  },
  {
   "cell_type": "markdown",
   "metadata": {},
   "source": [
    "## Decision Tree\n",
    "\n",
    "Documentation: http://scikit-learn.org/stable/modules/generated/sklearn.tree.DecisionTreeClassifier.html"
   ]
  },
  {
   "cell_type": "code",
   "execution_count": 32,
   "metadata": {},
   "outputs": [
    {
     "name": "stdout",
     "output_type": "stream",
     "text": [
      "DecisionTreeClassifier(class_weight=None, criterion='gini', max_depth=None,\n",
      "            max_features=None, max_leaf_nodes=None,\n",
      "            min_impurity_decrease=0.0, min_impurity_split=None,\n",
      "            min_samples_leaf=1, min_samples_split=2,\n",
      "            min_weight_fraction_leaf=0.0, presort=False, random_state=42,\n",
      "            splitter='best')\n",
      "0.5636363636363636\n",
      "accuracy: 0.5636363636363636\n",
      "             precision    recall  f1-score   support\n",
      "\n",
      "   Everyone       0.02      0.02      0.02        58\n",
      "  Executive       0.60      0.62      0.61       599\n",
      "      Staff       0.56      0.56      0.56       498\n",
      "\n",
      "avg / total       0.56      0.56      0.56      1155\n",
      "\n"
     ]
    }
   ],
   "source": [
    "from sklearn import metrics\n",
    "from sklearn.tree import DecisionTreeClassifier\n",
    "\n",
    "# fit a Decision Tree model to the data\n",
    "model = DecisionTreeClassifier(random_state = 42)\n",
    "print(model)\n",
    "model.fit(X_train, y_train)\n",
    "\n",
    "# make predictions\n",
    "clf1_expected = y_test\n",
    "clf1_predicted = model.predict(X_test)\n",
    "\n",
    "print(model.score(X_test, y_test))\n",
    "\n",
    "# summarize the fit of the model\n",
    "print(\"accuracy: \" + str(metrics.accuracy_score(clf1_expected, clf1_predicted)))\n",
    "print(metrics.classification_report(clf1_expected, clf1_predicted))"
   ]
  },
  {
   "cell_type": "markdown",
   "metadata": {},
   "source": [
    "### This is a HUGE tree.  In reality we would use some of the settings to prune it down."
   ]
  },
  {
   "cell_type": "markdown",
   "metadata": {},
   "source": [
    "## Naive Bayes"
   ]
  },
  {
   "cell_type": "markdown",
   "metadata": {},
   "source": [
    "http://blog.yhathq.com/posts/naive-bayes-in-python.html"
   ]
  },
  {
   "cell_type": "code",
   "execution_count": 33,
   "metadata": {},
   "outputs": [
    {
     "name": "stdout",
     "output_type": "stream",
     "text": [
      "MultinomialNB(alpha=1.0, class_prior=None, fit_prior=True)\n",
      "0.7004329004329004\n",
      "accuracy: 0.7004329004329004\n",
      "             precision    recall  f1-score   support\n",
      "\n",
      "   Everyone       0.09      0.05      0.07        58\n",
      "  Executive       0.72      0.78      0.75       599\n",
      "      Staff       0.71      0.68      0.70       498\n",
      "\n",
      "avg / total       0.69      0.70      0.69      1155\n",
      "\n"
     ]
    }
   ],
   "source": [
    "# Multinomial Naive Bayes\n",
    "from sklearn.naive_bayes import MultinomialNB\n",
    "\n",
    "# fit a Naive Bayes model to the data\n",
    "model = MultinomialNB()\n",
    "print(model)\n",
    "model.fit(X_train, y_train)\n",
    "\n",
    "# make predictions\n",
    "clf2_expected = y_test\n",
    "clf2_predicted = model.predict(X_test)\n",
    "\n",
    "print(model.score(X_test, y_test))\n",
    "\n",
    "# summarize the fit of the model\n",
    "print(\"accuracy: \" + str(metrics.accuracy_score(clf2_expected, clf2_predicted)))\n",
    "print(metrics.classification_report(clf2_expected, clf2_predicted))"
   ]
  },
  {
   "cell_type": "markdown",
   "metadata": {},
   "source": [
    "## Logistic Regression"
   ]
  },
  {
   "cell_type": "markdown",
   "metadata": {},
   "source": [
    "http://blog.yhathq.com/posts/logistic-regression-and-python.html"
   ]
  },
  {
   "cell_type": "code",
   "execution_count": 41,
   "metadata": {},
   "outputs": [
    {
     "name": "stdout",
     "output_type": "stream",
     "text": [
      "LogisticRegression(C=1.0, class_weight=None, dual=False, fit_intercept=True,\n",
      "          intercept_scaling=1, max_iter=100, multi_class='ovr', n_jobs=1,\n",
      "          penalty='l2', random_state=42, solver='liblinear', tol=0.0001,\n",
      "          verbose=0, warm_start=False)\n",
      "0.7506493506493507\n",
      "accuracy: 0.7506493506493507\n",
      "             precision    recall  f1-score   support\n",
      "\n",
      "   Everyone       0.00      0.00      0.00        58\n",
      "  Executive       0.75      0.83      0.79       599\n",
      "      Staff       0.75      0.74      0.74       498\n",
      "\n",
      "avg / total       0.71      0.75      0.73      1155\n",
      "\n"
     ]
    },
    {
     "name": "stderr",
     "output_type": "stream",
     "text": [
      "C:\\Users\\Paul\\Anaconda3\\lib\\site-packages\\sklearn\\metrics\\classification.py:1135: UndefinedMetricWarning: Precision and F-score are ill-defined and being set to 0.0 in labels with no predicted samples.\n",
      "  'precision', 'predicted', average, warn_for)\n"
     ]
    }
   ],
   "source": [
    "# Logistic Regression\n",
    "from sklearn.linear_model import LogisticRegression\n",
    "\n",
    "# fit a logistic regression model to the data\n",
    "model = LogisticRegression(random_state = 42)\n",
    "print(model)\n",
    "model.fit(X_train, y_train)\n",
    "\n",
    "# make predictions\n",
    "clf3_expected = y_test\n",
    "clf3_predicted = model.predict(X_test)\n",
    "\n",
    "print(model.score(X_test, y_test))\n",
    "\n",
    "# summarize the fit of the model\n",
    "print(\"accuracy: \" + str(metrics.accuracy_score(clf3_expected, clf3_predicted)))\n",
    "print(metrics.classification_report(clf3_expected, clf3_predicted))"
   ]
  },
  {
   "cell_type": "markdown",
   "metadata": {},
   "source": [
    "## Confusion Matrix"
   ]
  },
  {
   "cell_type": "code",
   "execution_count": 42,
   "metadata": {},
   "outputs": [
    {
     "data": {
      "image/png": "[encoded data removed]",
      "text/plain": [
       "<matplotlib.figure.Figure at 0x1f7e4c9a470>"
      ]
     },
     "metadata": {},
     "output_type": "display_data"
    },
    {
     "name": "stdout",
     "output_type": "stream",
     "text": [
      "[[  2  30  26]\n",
      " [ 19 378 202]\n",
      " [  9 201 288]]\n"
     ]
    },
    {
     "data": {
      "image/png": "[encoded data removed]",
      "text/plain": [
       "<matplotlib.figure.Figure at 0x1f7e2297b38>"
      ]
     },
     "metadata": {},
     "output_type": "display_data"
    },
    {
     "name": "stdout",
     "output_type": "stream",
     "text": [
      "[[  0  36  22]\n",
      " [  0 486 113]\n",
      " [  0 158 340]]\n"
     ]
    },
    {
     "data": {
      "image/png": "[encoded data removed]",
      "text/plain": [
       "<matplotlib.figure.Figure at 0x1f7ded1b390>"
      ]
     },
     "metadata": {},
     "output_type": "display_data"
    },
    {
     "name": "stdout",
     "output_type": "stream",
     "text": [
      "[[  0  32  26]\n",
      " [  0 500  99]\n",
      " [  0 131 367]]\n"
     ]
    }
   ],
   "source": [
    "# display confusion matrix\n",
    "def create_cm(t1, t2):\n",
    "    cm = metrics.confusion_matrix(t1, t2)\n",
    "    plt.matshow(cm)\n",
    "    plt.title('Confusion matrix')\n",
    "    plt.colorbar()\n",
    "    plt.ylabel('True label')\n",
    "    plt.xlabel('Predicted label')\n",
    "    plt.show()\n",
    "    print(cm)\n",
    "\n",
    "create_cm(clf1_expected, clf1_predicted)\n",
    "create_cm(clf2_expected, clf2_predicted)\n",
    "create_cm(clf3_expected, clf3_predicted)"
   ]
  },
  {
   "cell_type": "markdown",
   "metadata": {
    "collapsed": true
   },
   "source": [
    "# Do weights help?"
   ]
  },
  {
   "cell_type": "code",
   "execution_count": 44,
   "metadata": {},
   "outputs": [
    {
     "name": "stdout",
     "output_type": "stream",
     "text": [
      "<class 'numpy.ndarray'> [[0.         0.         0.         ... 0.         0.         0.        ]\n",
      " [0.         0.         0.         ... 0.         0.         0.        ]\n",
      " [0.         0.         0.         ... 0.         0.04837011 0.        ]\n",
      " ...\n",
      " [0.         0.         0.         ... 0.         0.         0.        ]\n",
      " [0.         0.         0.         ... 0.04178052 0.         0.        ]\n",
      " [0.         0.         0.         ... 0.         0.         0.        ]]\n",
      "<class 'numpy.ndarray'> ['Executive' 'Staff' 'Executive' 'Executive' 'Executive' 'Executive'\n",
      " 'Staff' 'Staff' 'Everyone' 'Executive']\n"
     ]
    }
   ],
   "source": [
    "# train test split\n",
    "# data are X, labels are y\n",
    "from sklearn.model_selection import train_test_split\n",
    "\n",
    "X = tfidf_dm.toarray()  #remember this is the output from the vectorizer\n",
    "print(type(X), X[0:10])\n",
    "\n",
    "\n",
    "y = newsdf['Audience'].values #this is an array of labels\n",
    "print(type(y), y[0:10])\n",
    " "
   ]
  },
  {
   "cell_type": "code",
   "execution_count": 45,
   "metadata": {},
   "outputs": [
    {
     "name": "stdout",
     "output_type": "stream",
     "text": [
      "(2693, 1236)\n",
      "(1155, 1236)\n",
      "(2693,)\n",
      "(1155,)\n"
     ]
    }
   ],
   "source": [
    "X_train, X_test, y_train, y_test = train_test_split(X, y, test_size=0.3, random_state=42) #random_state is set seed\n",
    "\n",
    "# function creates 4 output structures - order matters\n",
    "print(X_train.shape)\n",
    "print(X_test.shape)\n",
    "print(y_train.shape)\n",
    "print(y_test.shape)\n"
   ]
  },
  {
   "cell_type": "code",
   "execution_count": 46,
   "metadata": {},
   "outputs": [
    {
     "name": "stdout",
     "output_type": "stream",
     "text": [
      "0.5783549783549784\n",
      "accuracy: 0.5783549783549784\n",
      "             precision    recall  f1-score   support\n",
      "\n",
      "   Everyone       0.07      0.03      0.05        58\n",
      "  Executive       0.62      0.63      0.63       599\n",
      "      Staff       0.56      0.58      0.57       498\n",
      "\n",
      "avg / total       0.57      0.58      0.57      1155\n",
      "\n"
     ]
    }
   ],
   "source": [
    "# Decision Tree Classifier\n",
    "from sklearn import metrics\n",
    "from sklearn.tree import DecisionTreeClassifier\n",
    "\n",
    "# fit a decision tree model to the data\n",
    "model = DecisionTreeClassifier(random_state = 42)\n",
    "model.fit(X_train, y_train)\n",
    "\n",
    "# make predictions\n",
    "clf1_expected = y_test\n",
    "clf1_predicted = model.predict(X_test)\n",
    "\n",
    "\n",
    "print(model.score(X_test,y_test))\n",
    "\n",
    "# summarize the fit of the model\n",
    "print(\"accuracy: \" + str(metrics.accuracy_score(clf1_expected, clf1_predicted)))\n",
    "print(metrics.classification_report(clf1_expected, clf1_predicted))"
   ]
  },
  {
   "cell_type": "code",
   "execution_count": 47,
   "metadata": {},
   "outputs": [
    {
     "name": "stdout",
     "output_type": "stream",
     "text": [
      "MultinomialNB(alpha=1.0, class_prior=None, fit_prior=True)\n",
      "0.7151515151515152\n",
      "accuracy: 0.7151515151515152\n",
      "             precision    recall  f1-score   support\n",
      "\n",
      "   Everyone       0.00      0.00      0.00        58\n",
      "  Executive       0.71      0.81      0.76       599\n",
      "      Staff       0.72      0.68      0.70       498\n",
      "\n",
      "avg / total       0.68      0.72      0.70      1155\n",
      "\n"
     ]
    },
    {
     "name": "stderr",
     "output_type": "stream",
     "text": [
      "C:\\Users\\Paul\\Anaconda3\\lib\\site-packages\\sklearn\\metrics\\classification.py:1135: UndefinedMetricWarning: Precision and F-score are ill-defined and being set to 0.0 in labels with no predicted samples.\n",
      "  'precision', 'predicted', average, warn_for)\n"
     ]
    }
   ],
   "source": [
    "# Multinomial Naive Bayes\n",
    "from sklearn.naive_bayes import MultinomialNB\n",
    "\n",
    "# fit a Naive Bayes model to the data\n",
    "model = MultinomialNB()\n",
    "print(model)\n",
    "model.fit(X_train, y_train)\n",
    "\n",
    "# make predictions\n",
    "clf2_expected = y_test\n",
    "clf2_predicted = model.predict(X_test)\n",
    "\n",
    "print(model.score(X_test, y_test))\n",
    "\n",
    "# summarize the fit of the model\n",
    "print(\"accuracy: \" + str(metrics.accuracy_score(clf2_expected, clf2_predicted)))\n",
    "print(metrics.classification_report(clf2_expected, clf2_predicted))"
   ]
  },
  {
   "cell_type": "code",
   "execution_count": 50,
   "metadata": {},
   "outputs": [
    {
     "name": "stdout",
     "output_type": "stream",
     "text": [
      "LogisticRegression(C=1.0, class_weight=None, dual=False, fit_intercept=True,\n",
      "          intercept_scaling=1, max_iter=100, multi_class='ovr', n_jobs=1,\n",
      "          penalty='l2', random_state=42, solver='liblinear', tol=0.0001,\n",
      "          verbose=0, warm_start=False)\n",
      "0.7506493506493507\n",
      "accuracy: 0.7506493506493507\n",
      "             precision    recall  f1-score   support\n",
      "\n",
      "   Everyone       0.00      0.00      0.00        58\n",
      "  Executive       0.75      0.83      0.79       599\n",
      "      Staff       0.75      0.74      0.74       498\n",
      "\n",
      "avg / total       0.71      0.75      0.73      1155\n",
      "\n"
     ]
    },
    {
     "name": "stderr",
     "output_type": "stream",
     "text": [
      "C:\\Users\\Paul\\Anaconda3\\lib\\site-packages\\sklearn\\metrics\\classification.py:1135: UndefinedMetricWarning: Precision and F-score are ill-defined and being set to 0.0 in labels with no predicted samples.\n",
      "  'precision', 'predicted', average, warn_for)\n"
     ]
    }
   ],
   "source": [
    "# Logistic Regression\n",
    "from sklearn.linear_model import LogisticRegression\n",
    "\n",
    "# fit a logistic regression model to the data\n",
    "model = LogisticRegression(random_state = 42)\n",
    "print(model)\n",
    "model.fit(X_train, y_train)\n",
    "\n",
    "# make predictions\n",
    "clf3_expected = y_test\n",
    "clf3_predicted = model.predict(X_test)\n",
    "\n",
    "print(model.score(X_test, y_test))\n",
    "\n",
    "# summarize the fit of the model\n",
    "print(\"accuracy: \" + str(metrics.accuracy_score(clf3_expected, clf3_predicted)))\n",
    "print(metrics.classification_report(clf3_expected, clf3_predicted))"
   ]
  },
  {
   "cell_type": "code",
   "execution_count": 49,
   "metadata": {},
   "outputs": [
    {
     "data": {
      "image/png": "[encoded data removed]",
      "text/plain": [
       "<matplotlib.figure.Figure at 0x1f7e438f048>"
      ]
     },
     "metadata": {},
     "output_type": "display_data"
    },
    {
     "name": "stdout",
     "output_type": "stream",
     "text": [
      "[[  2  30  26]\n",
      " [ 19 378 202]\n",
      " [  9 201 288]]\n"
     ]
    },
    {
     "data": {
      "image/png": "[encoded data removed]",
      "text/plain": [
       "<matplotlib.figure.Figure at 0x1f7e78eb9b0>"
      ]
     },
     "metadata": {},
     "output_type": "display_data"
    },
    {
     "name": "stdout",
     "output_type": "stream",
     "text": [
      "[[  0  36  22]\n",
      " [  0 486 113]\n",
      " [  0 158 340]]\n"
     ]
    },
    {
     "data": {
      "image/png": "[encoded data removed]",
      "text/plain": [
       "<matplotlib.figure.Figure at 0x1f7ed29e390>"
      ]
     },
     "metadata": {},
     "output_type": "display_data"
    },
    {
     "name": "stdout",
     "output_type": "stream",
     "text": [
      "[[  0  32  26]\n",
      " [  0 500  99]\n",
      " [  0 131 367]]\n"
     ]
    }
   ],
   "source": [
    "# display confusion matrix\n",
    "def create_cm(t1, t2):\n",
    "    cm = metrics.confusion_matrix(t1, t2)\n",
    "    plt.matshow(cm)\n",
    "    plt.title('Confusion matrix')\n",
    "    plt.colorbar()\n",
    "    plt.ylabel('True label')\n",
    "    plt.xlabel('Predicted label')\n",
    "    plt.show()\n",
    "    print(cm)\n",
    "\n",
    "create_cm(clf1_expected, clf1_predicted)\n",
    "create_cm(clf2_expected, clf2_predicted)\n",
    "create_cm(clf3_expected, clf3_predicted)"
   ]
  },
  {
   "cell_type": "markdown",
   "metadata": {},
   "source": [
    "\n",
    "### Is the accuracy \"good\" enough?  How might you make improvements?\n",
    "#### What if you change your feature space? Is 1200+ features too many for this prediction?"
   ]
  },
  {
   "cell_type": "code",
   "execution_count": 52,
   "metadata": {},
   "outputs": [
    {
     "name": "stdout",
     "output_type": "stream",
     "text": [
      "(3848, 497)\n"
     ]
    }
   ],
   "source": [
    "# Logistic regression using tfidf weights seemed to have the highest accuracy.\n",
    "# But it missed predictions on the neutral category entirely. \n",
    "# Let's see what happens when we change the feature space.\n",
    "round3 = TfidfVectorizer(use_idf = True,\n",
    "                         lowercase=True, \n",
    "                         stop_words=my_stopwords,\n",
    "                         binary=False,\n",
    "                         max_df=0.90, \n",
    "                         min_df=0.1,\n",
    "                         ngram_range = (1,2))\n",
    "round3_dm = round3.fit_transform(newsdf['cleantext'])\n",
    "print(round3_dm.shape)\n"
   ]
  },
  {
   "cell_type": "code",
   "execution_count": 53,
   "metadata": {},
   "outputs": [
    {
     "name": "stdout",
     "output_type": "stream",
     "text": [
      "LogisticRegression(C=1.0, class_weight=None, dual=False, fit_intercept=True,\n",
      "          intercept_scaling=1, max_iter=100, multi_class='ovr', n_jobs=1,\n",
      "          penalty='l2', random_state=42, solver='liblinear', tol=0.0001,\n",
      "          verbose=0, warm_start=False)\n",
      "0.703030303030303\n",
      "accuracy: 0.703030303030303\n",
      "             precision    recall  f1-score   support\n",
      "\n",
      "   Everyone       0.00      0.00      0.00        40\n",
      "  Executive       0.71      0.76      0.74       589\n",
      "      Staff       0.69      0.69      0.69       526\n",
      "\n",
      "avg / total       0.68      0.70      0.69      1155\n",
      "\n"
     ]
    },
    {
     "name": "stderr",
     "output_type": "stream",
     "text": [
      "C:\\Users\\Paul\\Anaconda3\\lib\\site-packages\\sklearn\\metrics\\classification.py:1135: UndefinedMetricWarning: Precision and F-score are ill-defined and being set to 0.0 in labels with no predicted samples.\n",
      "  'precision', 'predicted', average, warn_for)\n"
     ]
    },
    {
     "data": {
      "image/png": "[encoded data removed]",
      "text/plain": [
       "<matplotlib.figure.Figure at 0x1f7f939d0f0>"
      ]
     },
     "metadata": {},
     "output_type": "display_data"
    },
    {
     "name": "stdout",
     "output_type": "stream",
     "text": [
      "[[  0  17  23]\n",
      " [  0 450 139]\n",
      " [  0 164 362]]\n"
     ]
    }
   ],
   "source": [
    "X = round3_dm.toarray()  \n",
    "y = newsdf['Audience'].values #this is an array of labels - don't need to define this again but in case you forgot\n",
    "X_train, X_test, y_train, y_test = train_test_split(X, y, test_size=0.3, random_state=123) #random_state is set seed\n",
    "model = LogisticRegression(random_state = 42)\n",
    "print(model)\n",
    "model.fit(X_train, y_train)\n",
    "\n",
    "# make predictions\n",
    "clf3_expected = y_test\n",
    "clf3_predicted = model.predict(X_test)\n",
    "\n",
    "print(model.score(X_test, y_test))\n",
    "\n",
    "# summarize the fit of the model\n",
    "print(\"accuracy: \" + str(metrics.accuracy_score(clf3_expected, clf3_predicted)))\n",
    "print(metrics.classification_report(clf3_expected, clf3_predicted))\n",
    "\n",
    "create_cm(clf3_expected, clf3_predicted)\n"
   ]
  },
  {
   "cell_type": "markdown",
   "metadata": {},
   "source": [
    "### Is this okay?  We've got nearly 70% overall accuracy but we never predict one class correctly?  "
   ]
  },
  {
   "cell_type": "code",
   "execution_count": 54,
   "metadata": {},
   "outputs": [
    {
     "name": "stdout",
     "output_type": "stream",
     "text": [
      "DecisionTreeClassifier(class_weight=None, criterion='gini', max_depth=None,\n",
      "            max_features=None, max_leaf_nodes=None,\n",
      "            min_impurity_decrease=0.0, min_impurity_split=None,\n",
      "            min_samples_leaf=1, min_samples_split=2,\n",
      "            min_weight_fraction_leaf=0.0, presort=False, random_state=42,\n",
      "            splitter='best')\n",
      "0.5670995670995671\n",
      "accuracy: 0.5670995670995671\n",
      "             precision    recall  f1-score   support\n",
      "\n",
      "   Everyone       0.08      0.10      0.09        40\n",
      "  Executive       0.61      0.59      0.60       589\n",
      "      Staff       0.57      0.58      0.57       526\n",
      "\n",
      "avg / total       0.57      0.57      0.57      1155\n",
      "\n"
     ]
    },
    {
     "data": {
      "image/png": "[encoded data removed]",
      "text/plain": [
       "<matplotlib.figure.Figure at 0x1f7e3668588>"
      ]
     },
     "metadata": {},
     "output_type": "display_data"
    },
    {
     "name": "stdout",
     "output_type": "stream",
     "text": [
      "[[  4  20  16]\n",
      " [ 25 345 219]\n",
      " [ 20 200 306]]\n"
     ]
    }
   ],
   "source": [
    "# Decision trees seemed to be the only ones who handled the \n",
    "# class imbalance well although the overall accuracy was lower.  Let's try\n",
    "# that with our new feature space\n",
    "# Decision Tree Classifier\n",
    "\n",
    "X = round3_dm.toarray()  \n",
    "y = newsdf['Audience'].values #this is an array of labels - don't need to define this again but in case you forgot\n",
    "X_train, X_test, y_train, y_test = train_test_split(X, y, test_size=0.3, random_state=123) #random_state is set seed\n",
    "model = DecisionTreeClassifier(random_state = 42)\n",
    "print(model)\n",
    "model.fit(X_train, y_train)\n",
    "\n",
    "# make predictions\n",
    "clf3_expected = y_test\n",
    "clf3_predicted = model.predict(X_test)\n",
    "\n",
    "print(model.score(X_test, y_test))\n",
    "final_model_names = round3.get_feature_names()\n",
    "\n",
    "# summarize the fit of the model\n",
    "print(\"accuracy: \" + str(metrics.accuracy_score(clf3_expected, clf3_predicted)))\n",
    "print(metrics.classification_report(clf3_expected, clf3_predicted))\n",
    "\n",
    "create_cm(clf3_expected, clf3_predicted)\n"
   ]
  },
  {
   "cell_type": "markdown",
   "metadata": {},
   "source": [
    "### How do we use this model to predict?  Bring in new news\n",
    "\n"
   ]
  },
  {
   "cell_type": "code",
   "execution_count": 56,
   "metadata": {},
   "outputs": [
    {
     "name": "stdout",
     "output_type": "stream",
     "text": [
      "(201, 5)\n",
      "['Unnamed: 0', 'Unnamed: 0.1', 'date', 'text', 'likes']\n"
     ]
    },
    {
     "data": {
      "text/html": [
       "<div>\n",
       "<style scoped>\n",
       "    .dataframe tbody tr th:only-of-type {\n",
       "        vertical-align: middle;\n",
       "    }\n",
       "\n",
       "    .dataframe tbody tr th {\n",
       "        vertical-align: top;\n",
       "    }\n",
       "\n",
       "    .dataframe thead th {\n",
       "        text-align: right;\n",
       "    }\n",
       "</style>\n",
       "<table border=\"1\" class=\"dataframe\">\n",
       "  <thead>\n",
       "    <tr style=\"text-align: right;\">\n",
       "      <th></th>\n",
       "      <th>Unnamed: 0</th>\n",
       "      <th>Unnamed: 0.1</th>\n",
       "      <th>date</th>\n",
       "      <th>text</th>\n",
       "      <th>likes</th>\n",
       "    </tr>\n",
       "  </thead>\n",
       "  <tbody>\n",
       "    <tr>\n",
       "      <th>0</th>\n",
       "      <td>0</td>\n",
       "      <td>0</td>\n",
       "      <td>12/31/14</td>\n",
       "      <td>Gold prices ended down for second year in a row, weighed down by investors' expectations of higher U.S. interest rates and tame inflation around the world.&lt;/br&gt;&lt;/br&gt;Gold for February delivery, the most actively traded contract, closed down $16.30, at $1,184.10 a troy ounce on the Comex division of the New York Mercantile Exchange. Prices fell 1.5% for the year.&lt;/br&gt;&lt;/br&gt;A stronger dollar weighed on gold Wednesday, making the metal more expensive for buyers holding other currencies. The WSJ Dollar Index, which gauges the dollar against other major currencies, was recently up 0.4%, at 83.00.&lt;/br&gt;&lt;/br&gt;\"The way things stand, I would be looking to sell into any rallies from here,\" said Bob Haberkorn, a broker at RJO Futures. \"Gold will continue to be weak because of rate expectations.\"&lt;/br&gt;&lt;/br&gt;An improving U.S. economy has sparked expectations that the Federal Reserve will raise interest rates in 2015, a move that would hurt gold, which struggles to compete with yield-bearing investments in times of tighter monetary policy. At the same time, inflation has been elusive in the world's major economies, reducing gold's attractiveness as a hedge against rising consumer prices.</td>\n",
       "      <td>202.0</td>\n",
       "    </tr>\n",
       "    <tr>\n",
       "      <th>1</th>\n",
       "      <td>1</td>\n",
       "      <td>1</td>\n",
       "      <td>12/26/14</td>\n",
       "      <td>Gold prices rose Friday, as investors locked in profits on bets for the precious metal's decline in a thinly traded market.&lt;/br&gt;&lt;/br&gt;Gold for February delivery, the most actively traded contract, closed up $21.80, or 1.9%, at $1,195.30 a troy ounce on the Comex division of the New York Mercantile Exchange. It was the highest settlement since Dec. 19.&lt;/br&gt;&lt;/br&gt;Prices for the precious metal are down 3% from December's highs, as a swiftly improving U.S. economy has raised concerns that the Federal Reserve will lift interest rates sooner than expected in 2015. Gold struggles to compete with yield-bearing investments when rates rise.&lt;/br&gt;&lt;/br&gt;On Friday, some investors appeared to be buying gold to cover their bets on a decline in prices, while others were looking for bargains after the metal's drop, analysts said.&lt;/br&gt;&lt;/br&gt;\"Thin, postholiday trading conditions are likely exacerbating the bigger daily price move,\" said Jim Wyckoff, an analyst at Kitco.com, in a note to clients. \"Many traders and investors have checked out for the week, if not for the rest of the year.\"</td>\n",
       "      <td>894.0</td>\n",
       "    </tr>\n",
       "    <tr>\n",
       "      <th>2</th>\n",
       "      <td>2</td>\n",
       "      <td>2</td>\n",
       "      <td>12/24/14</td>\n",
       "      <td>The dollar gained against the yen and the euro on Tuesday after the U.S. economy grew at the fastest pace in 11 years, bolstering the market's expectations for higher interest rates.&lt;/br&gt;&lt;/br&gt;The dollar increased 0.6% in late-afternoon trade to 120.77 yen, a two-week high. The euro pushed to a more than two-year low in early trade and was recently down 0.5% to $1.2169.&lt;/br&gt;&lt;/br&gt;U.S. gross domestic product grew 5% in the third quarter, well above last month's estimate of 3.9%, the Commerce Department said Tuesday. It was the fastest pace since GDP grew 6.9% during the third quarter of 2003.&lt;/br&gt;&lt;/br&gt;The GDP data encouraged investors who have been betting that a recovering U.S. economy would spur the Federal Reserve to raise interest rates before other major central banks do. Higher U.S. rates would bring more investors to the dollar, as they would increase returns on assets denominated in the currency.&lt;/br&gt;&lt;/br&gt;\"With 5% growth in the U.S. now, even if we don't improve at that pace next quarter, we're still light years ahead of the eurozone and Japan,\" said Joseph Quinlan, chief market strategist at U.S. Trust Private Wealth Management.</td>\n",
       "      <td>2202.0</td>\n",
       "    </tr>\n",
       "    <tr>\n",
       "      <th>3</th>\n",
       "      <td>3</td>\n",
       "      <td>3</td>\n",
       "      <td>12/23/14</td>\n",
       "      <td>The dollar gained against the yen and the euro on Tuesday after the U.S. economy grew at , bolstering the market's expectations for higher interest rates.&lt;/br&gt;&lt;/br&gt;The dollar increased 0.6% in late-afternoon trade to 120.77 yen, a two-week high. The euro pushed to a more than two-year low in early trade and was recently down 0.5% to $1.2169.&lt;/br&gt;&lt;/br&gt;U.S. gross domestic product grew 5% in the third quarter, well above last month's estimate of 3.9%, the Commerce Department said Tuesday. It was the fastest pace since GDP grew 6.9% during the third quarter of 2003.&lt;/br&gt;&lt;/br&gt;The GDP data encouraged investors who have been betting that a recovering U.S. economy would spur the Federal Reserve to raise interest rates before other major central banks do. Higher U.S. rates would bring more investors to the dollar, as they would increase returns on assets denominated in the currency.&lt;/br&gt;&lt;/br&gt;\"With 5% growth in the U.S. now, even if we don't improve at that pace next quarter, we're still light years ahead of the eurozone and Japan,\" said Joseph Quinlan, chief market strategist at U.S. Trust Private Wealth Management. \"It sets us up for Fed tightening by the second half of next year.\"</td>\n",
       "      <td>4550.0</td>\n",
       "    </tr>\n",
       "    <tr>\n",
       "      <th>4</th>\n",
       "      <td>4</td>\n",
       "      <td>4</td>\n",
       "      <td>12/23/14</td>\n",
       "      <td>Gold prices fell Tuesday, weighed down by a larger-than-expected revision to U.S. economic growth.&lt;/br&gt;&lt;/br&gt;Gold for February delivery, the most actively traded contract, closed down $1.80, or 0.2%, at $1,178.00 a troy ounce on the Comex division of the New York Mercantile Exchange.&lt;/br&gt;&lt;/br&gt;The U.S. economy posted its strongest growth in more than a decade during the third quarter, supported by robust consumer spending and business investment, Commerce Department data showed Tuesday. Gross domestic product growth was revised to 5% in the period, beating analysts' expectations of 4.3% expansion.&lt;/br&gt;&lt;/br&gt;The economy's robust expansion bolstered the case for the Federal Reserve to raise interest rates next year, hurting prices for gold, which struggles to compete with yield-bearing investments during times of tighter monetary policy.&lt;/br&gt;&lt;/br&gt;\"Gold didn't like this number at all,\" said Bob Haberkorn, a broker at RJO Futures. \"There is now more ammo for the Fed to raise rates.\"</td>\n",
       "      <td>2260.0</td>\n",
       "    </tr>\n",
       "  </tbody>\n",
       "</table>\n",
       "</div>"
      ],
      "text/plain": [
       "   Unnamed: 0  Unnamed: 0.1      date  \\\n",
       "0           0             0  12/31/14   \n",
       "1           1             1  12/26/14   \n",
       "2           2             2  12/24/14   \n",
       "3           3             3  12/23/14   \n",
       "4           4             4  12/23/14   \n",
       "\n",
       "                                                                                                                                                                                                                                                                                                                                                                                                                                                                                                                                                                                                                                                                                                                                                                                                                                                                                                                                                                                                                                                                                                                                                                                                                                       text  \\\n",
       "0        Gold prices ended down for second year in a row, weighed down by investors' expectations of higher U.S. interest rates and tame inflation around the world.</br></br>Gold for February delivery, the most actively traded contract, closed down $16.30, at $1,184.10 a troy ounce on the Comex division of the New York Mercantile Exchange. Prices fell 1.5% for the year.</br></br>A stronger dollar weighed on gold Wednesday, making the metal more expensive for buyers holding other currencies. The WSJ Dollar Index, which gauges the dollar against other major currencies, was recently up 0.4%, at 83.00.</br></br>\"The way things stand, I would be looking to sell into any rallies from here,\" said Bob Haberkorn, a broker at RJO Futures. \"Gold will continue to be weak because of rate expectations.\"</br></br>An improving U.S. economy has sparked expectations that the Federal Reserve will raise interest rates in 2015, a move that would hurt gold, which struggles to compete with yield-bearing investments in times of tighter monetary policy. At the same time, inflation has been elusive in the world's major economies, reducing gold's attractiveness as a hedge against rising consumer prices.   \n",
       "1                                                                                                                   Gold prices rose Friday, as investors locked in profits on bets for the precious metal's decline in a thinly traded market.</br></br>Gold for February delivery, the most actively traded contract, closed up $21.80, or 1.9%, at $1,195.30 a troy ounce on the Comex division of the New York Mercantile Exchange. It was the highest settlement since Dec. 19.</br></br>Prices for the precious metal are down 3% from December's highs, as a swiftly improving U.S. economy has raised concerns that the Federal Reserve will lift interest rates sooner than expected in 2015. Gold struggles to compete with yield-bearing investments when rates rise.</br></br>On Friday, some investors appeared to be buying gold to cover their bets on a decline in prices, while others were looking for bargains after the metal's drop, analysts said.</br></br>\"Thin, postholiday trading conditions are likely exacerbating the bigger daily price move,\" said Jim Wyckoff, an analyst at Kitco.com, in a note to clients. \"Many traders and investors have checked out for the week, if not for the rest of the year.\"   \n",
       "2                                          The dollar gained against the yen and the euro on Tuesday after the U.S. economy grew at the fastest pace in 11 years, bolstering the market's expectations for higher interest rates.</br></br>The dollar increased 0.6% in late-afternoon trade to 120.77 yen, a two-week high. The euro pushed to a more than two-year low in early trade and was recently down 0.5% to $1.2169.</br></br>U.S. gross domestic product grew 5% in the third quarter, well above last month's estimate of 3.9%, the Commerce Department said Tuesday. It was the fastest pace since GDP grew 6.9% during the third quarter of 2003.</br></br>The GDP data encouraged investors who have been betting that a recovering U.S. economy would spur the Federal Reserve to raise interest rates before other major central banks do. Higher U.S. rates would bring more investors to the dollar, as they would increase returns on assets denominated in the currency.</br></br>\"With 5% growth in the U.S. now, even if we don't improve at that pace next quarter, we're still light years ahead of the eurozone and Japan,\" said Joseph Quinlan, chief market strategist at U.S. Trust Private Wealth Management.   \n",
       "3  The dollar gained against the yen and the euro on Tuesday after the U.S. economy grew at , bolstering the market's expectations for higher interest rates.</br></br>The dollar increased 0.6% in late-afternoon trade to 120.77 yen, a two-week high. The euro pushed to a more than two-year low in early trade and was recently down 0.5% to $1.2169.</br></br>U.S. gross domestic product grew 5% in the third quarter, well above last month's estimate of 3.9%, the Commerce Department said Tuesday. It was the fastest pace since GDP grew 6.9% during the third quarter of 2003.</br></br>The GDP data encouraged investors who have been betting that a recovering U.S. economy would spur the Federal Reserve to raise interest rates before other major central banks do. Higher U.S. rates would bring more investors to the dollar, as they would increase returns on assets denominated in the currency.</br></br>\"With 5% growth in the U.S. now, even if we don't improve at that pace next quarter, we're still light years ahead of the eurozone and Japan,\" said Joseph Quinlan, chief market strategist at U.S. Trust Private Wealth Management. \"It sets us up for Fed tightening by the second half of next year.\"   \n",
       "4                                                                                                                                                                                                            Gold prices fell Tuesday, weighed down by a larger-than-expected revision to U.S. economic growth.</br></br>Gold for February delivery, the most actively traded contract, closed down $1.80, or 0.2%, at $1,178.00 a troy ounce on the Comex division of the New York Mercantile Exchange.</br></br>The U.S. economy posted its strongest growth in more than a decade during the third quarter, supported by robust consumer spending and business investment, Commerce Department data showed Tuesday. Gross domestic product growth was revised to 5% in the period, beating analysts' expectations of 4.3% expansion.</br></br>The economy's robust expansion bolstered the case for the Federal Reserve to raise interest rates next year, hurting prices for gold, which struggles to compete with yield-bearing investments during times of tighter monetary policy.</br></br>\"Gold didn't like this number at all,\" said Bob Haberkorn, a broker at RJO Futures. \"There is now more ammo for the Fed to raise rates.\"   \n",
       "\n",
       "    likes  \n",
       "0   202.0  \n",
       "1   894.0  \n",
       "2  2202.0  \n",
       "3  4550.0  \n",
       "4  2260.0  "
      ]
     },
     "execution_count": 56,
     "metadata": {},
     "output_type": "execute_result"
    }
   ],
   "source": [
    "wsjnewsdf = pd.read_csv(pathname + \"\\\\wsjnews.csv\") \n",
    "\n",
    "print(wsjnewsdf.shape)\n",
    "print(list(wsjnewsdf))\n",
    "wsjnewsdf.head()"
   ]
  },
  {
   "cell_type": "markdown",
   "metadata": {},
   "source": [
    "### What prep do we need to do? What if we just vectorize the space as is? \n"
   ]
  },
  {
   "cell_type": "code",
   "execution_count": 57,
   "metadata": {},
   "outputs": [
    {
     "name": "stdout",
     "output_type": "stream",
     "text": [
      "(201, 446)\n"
     ]
    },
    {
     "ename": "ValueError",
     "evalue": "Number of features of the model must match the input. Model n_features is 497 and input n_features is 446 ",
     "output_type": "error",
     "traceback": [
      "\u001b[1;31m---------------------------------------------------------------------------\u001b[0m",
      "\u001b[1;31mValueError\u001b[0m                                Traceback (most recent call last)",
      "\u001b[1;32m<ipython-input-57-43196d4e8a00>\u001b[0m in \u001b[0;36m<module>\u001b[1;34m()\u001b[0m\n\u001b[0;32m      6\u001b[0m \u001b[1;33m\u001b[0m\u001b[0m\n\u001b[0;32m      7\u001b[0m \u001b[1;31m# that's not the same feature space that we had before so it won't work\u001b[0m\u001b[1;33m\u001b[0m\u001b[1;33m\u001b[0m\u001b[0m\n\u001b[1;32m----> 8\u001b[1;33m \u001b[0mwsjcv_predicted\u001b[0m \u001b[1;33m=\u001b[0m \u001b[0mmodel\u001b[0m\u001b[1;33m.\u001b[0m\u001b[0mpredict\u001b[0m\u001b[1;33m(\u001b[0m\u001b[0mwsjcv_dm\u001b[0m\u001b[1;33m)\u001b[0m\u001b[1;33m\u001b[0m\u001b[0m\n\u001b[0m",
      "\u001b[1;32m~\\Anaconda3\\lib\\site-packages\\sklearn\\tree\\tree.py\u001b[0m in \u001b[0;36mpredict\u001b[1;34m(self, X, check_input)\u001b[0m\n\u001b[0;32m    410\u001b[0m         \"\"\"\n\u001b[0;32m    411\u001b[0m         \u001b[0mcheck_is_fitted\u001b[0m\u001b[1;33m(\u001b[0m\u001b[0mself\u001b[0m\u001b[1;33m,\u001b[0m \u001b[1;34m'tree_'\u001b[0m\u001b[1;33m)\u001b[0m\u001b[1;33m\u001b[0m\u001b[0m\n\u001b[1;32m--> 412\u001b[1;33m         \u001b[0mX\u001b[0m \u001b[1;33m=\u001b[0m \u001b[0mself\u001b[0m\u001b[1;33m.\u001b[0m\u001b[0m_validate_X_predict\u001b[0m\u001b[1;33m(\u001b[0m\u001b[0mX\u001b[0m\u001b[1;33m,\u001b[0m \u001b[0mcheck_input\u001b[0m\u001b[1;33m)\u001b[0m\u001b[1;33m\u001b[0m\u001b[0m\n\u001b[0m\u001b[0;32m    413\u001b[0m         \u001b[0mproba\u001b[0m \u001b[1;33m=\u001b[0m \u001b[0mself\u001b[0m\u001b[1;33m.\u001b[0m\u001b[0mtree_\u001b[0m\u001b[1;33m.\u001b[0m\u001b[0mpredict\u001b[0m\u001b[1;33m(\u001b[0m\u001b[0mX\u001b[0m\u001b[1;33m)\u001b[0m\u001b[1;33m\u001b[0m\u001b[0m\n\u001b[0;32m    414\u001b[0m         \u001b[0mn_samples\u001b[0m \u001b[1;33m=\u001b[0m \u001b[0mX\u001b[0m\u001b[1;33m.\u001b[0m\u001b[0mshape\u001b[0m\u001b[1;33m[\u001b[0m\u001b[1;36m0\u001b[0m\u001b[1;33m]\u001b[0m\u001b[1;33m\u001b[0m\u001b[0m\n",
      "\u001b[1;32m~\\Anaconda3\\lib\\site-packages\\sklearn\\tree\\tree.py\u001b[0m in \u001b[0;36m_validate_X_predict\u001b[1;34m(self, X, check_input)\u001b[0m\n\u001b[0;32m    382\u001b[0m                              \u001b[1;34m\"match the input. Model n_features is %s and \"\u001b[0m\u001b[1;33m\u001b[0m\u001b[0m\n\u001b[0;32m    383\u001b[0m                              \u001b[1;34m\"input n_features is %s \"\u001b[0m\u001b[1;33m\u001b[0m\u001b[0m\n\u001b[1;32m--> 384\u001b[1;33m                              % (self.n_features_, n_features))\n\u001b[0m\u001b[0;32m    385\u001b[0m \u001b[1;33m\u001b[0m\u001b[0m\n\u001b[0;32m    386\u001b[0m         \u001b[1;32mreturn\u001b[0m \u001b[0mX\u001b[0m\u001b[1;33m\u001b[0m\u001b[0m\n",
      "\u001b[1;31mValueError\u001b[0m: Number of features of the model must match the input. Model n_features is 497 and input n_features is 446 "
     ]
    }
   ],
   "source": [
    "## what prep do we need to do? What if we just vectorize the space as is? \n",
    "\n",
    "wsjcv_dm = cv1.fit_transform(wsjnewsdf['text'])#\n",
    "\n",
    "print(wsjcv_dm.shape)\n",
    "\n",
    "# that's not the same feature space that we had before so it won't work\n",
    "wsjcv_predicted = model.predict(wsjcv_dm)\n"
   ]
  },
  {
   "cell_type": "markdown",
   "metadata": {},
   "source": [
    "### We need to create the counts for this space using the vocab from our first space\n",
    "### Remember, we captured our feature names with the list names"
   ]
  },
  {
   "cell_type": "code",
   "execution_count": 58,
   "metadata": {},
   "outputs": [
    {
     "name": "stdout",
     "output_type": "stream",
     "text": [
      "<class 'list'>\n",
      "497\n",
      "(201, 497)\n"
     ]
    }
   ],
   "source": [
    "\n",
    "print(type(final_model_names))\n",
    "print(len(final_model_names))\n",
    "\n",
    "\n",
    "cvnews = CountVectorizer(lowercase=True, \n",
    "                     stop_words=my_stopwords,\n",
    "                     binary=False,\n",
    "                     max_df=0.95, \n",
    "                     min_df=0.05,\n",
    "                     ngram_range = (1,2),\n",
    "                     vocabulary = final_model_names) \n",
    "\n",
    "\n",
    "wsjcv_dm = cvnews.fit_transform(wsjnewsdf['text'])\n",
    "\n",
    "print(wsjcv_dm.shape)\n",
    "\n",
    "# that's not the same feature space that we had before so it won't work\n",
    "#wsjcv_predicted = model.predict(wsjcv_dm)"
   ]
  },
  {
   "cell_type": "code",
   "execution_count": 59,
   "metadata": {},
   "outputs": [
    {
     "name": "stdout",
     "output_type": "stream",
     "text": [
      "(201,)\n",
      "['Executive' 'Staff' 'Everyone' 'Everyone' 'Staff' 'Staff' 'Staff' 'Staff'\n",
      " 'Staff' 'Executive']\n"
     ]
    }
   ],
   "source": [
    "# now do our prediction\n",
    "\n",
    "wsjcv_predicted = model.predict(wsjcv_dm)\n",
    "print(wsjcv_predicted.shape)\n",
    "print(wsjcv_predicted[0:10])"
   ]
  },
  {
   "cell_type": "markdown",
   "metadata": {},
   "source": [
    "### Now we have our predicted labels.  Are they \"right\"?  In general we'll never know.  We know we used a model with around 70% accuracy so we would assume that prediction rate here.  \n",
    "\n",
    "\n",
    "### Things to consider:\n",
    "* We've forced this text to take on our specific feature space.  Therefore, we are getting the information about this text that conforms to our model.  If there are \"important\" tokens in the WSJ that are not part of our feature space, we are not capturing that. As we assumed in class, they are being ignored. \n",
    "* We haven't done the full preprocessing on the new text so we may not be getting a comparable count for some of our features:  \"states\" will still appear and will be ignored because it's not in our vocabulary and the count for \"state\" won't be comparable because we aren't adding in the reformed \"state\" items. \n",
    "* Depending on your compute power, timing for producing results, and level of complexity for the preprocessing, you may or may not take all the preparatory steps on the new data before running it through your model.  You will lose accuracy because you are not quite matching your current data to what the model expects but that might be okay.  "
   ]
  },
  {
   "cell_type": "markdown",
   "metadata": {},
   "source": [
    "## What if we are losing important information when we drop the feature space from 1200 to 500?  Can we get fewer features and capture the same variation?\n",
    "\n",
    "## Principal Component Analysis (PCA)!!!"
   ]
  },
  {
   "cell_type": "markdown",
   "metadata": {},
   "source": [
    "Principal Component Analysis (PCA) is a dimensionality-reduction technique that is often used to transform a high-dimensional dataset into a smaller-dimensional subspace prior to running a machine learning algorithm on the data.\n",
    "\n",
    "PCA is helpful because:\n",
    "* Most algorithms will run significantly faster if they have fewer dimensions they need to look at.\n",
    "* Reducing the dimensionality of the dataset reduces the number of degrees of freedom of the hypothesis, which reduces the risk of overfitting.\n",
    "* Reducing the dimensionality via PCA can simplify the dataset, facilitating description, visualization, and insight.\n",
    "\n",
    "Link: http://scikit-learn.org/stable/modules/decomposition.html#decompositions \n",
    "Full version of the summary below:  http://www.lauradhamilton.com/introduction-to-principal-component-analysis-pca"
   ]
  },
  {
   "cell_type": "code",
   "execution_count": 60,
   "metadata": {},
   "outputs": [
    {
     "data": {
      "text/html": [
       "<img src=\"http://www.lauradhamilton.com/posts/2014/pca-original-dataset.png\"/>"
      ],
      "text/plain": [
       "<IPython.core.display.Image object>"
      ]
     },
     "metadata": {},
     "output_type": "display_data"
    },
    {
     "name": "stdout",
     "output_type": "stream",
     "text": [
      "Let’s say our original dataset has two variables, x1 and x2.\n"
     ]
    },
    {
     "data": {
      "text/html": [
       "<img src=\"http://www.lauradhamilton.com/posts/2014/pca-first-principal-component.png\"/>"
      ],
      "text/plain": [
       "<IPython.core.display.Image object>"
      ]
     },
     "metadata": {},
     "output_type": "display_data"
    },
    {
     "name": "stdout",
     "output_type": "stream",
     "text": [
      "If we draw a line that splits the oval lengthwise, that line signifies the component that explains the most variance.\n"
     ]
    },
    {
     "data": {
      "text/html": [
       "<img src=\"http://www.lauradhamilton.com/posts/2014/pca-first-component-projection.png\"/>"
      ],
      "text/plain": [
       "<IPython.core.display.Image object>"
      ]
     },
     "metadata": {},
     "output_type": "display_data"
    },
    {
     "name": "stdout",
     "output_type": "stream",
     "text": [
      "We would collapse our dataset onto a single line (by projecting it onto that line).\n"
     ]
    },
    {
     "data": {
      "text/html": [
       "<img src=\"http://www.lauradhamilton.com/posts/2014/pca-projected-to-one-dimension.png\"/>"
      ],
      "text/plain": [
       "<IPython.core.display.Image object>"
      ]
     },
     "metadata": {},
     "output_type": "display_data"
    },
    {
     "name": "stdout",
     "output_type": "stream",
     "text": [
      "The projected representation of the data onto a single dimension corresponds to the first principal component.\n"
     ]
    }
   ],
   "source": [
    "from IPython.display import display, Image\n",
    "display(Image(url='http://www.lauradhamilton.com/posts/2014/pca-original-dataset.png'))\n",
    "print(\"Let’s say our original dataset has two variables, x1 and x2.\")\n",
    "display(Image(url='http://www.lauradhamilton.com/posts/2014/pca-first-principal-component.png'))\n",
    "print(\"If we draw a line that splits the oval lengthwise, that line signifies the component that explains the most variance.\")\n",
    "display(Image(url='http://www.lauradhamilton.com/posts/2014/pca-first-component-projection.png'))\n",
    "print(\"We would collapse our dataset onto a single line (by projecting it onto that line).\")\n",
    "display(Image(url='http://www.lauradhamilton.com/posts/2014/pca-projected-to-one-dimension.png'))\n",
    "print(\"The projected representation of the data onto a single dimension corresponds to the first principal component.\")"
   ]
  },
  {
   "cell_type": "code",
   "execution_count": 62,
   "metadata": {},
   "outputs": [
    {
     "name": "stdout",
     "output_type": "stream",
     "text": [
      "(3848, 1236)\n",
      "(3848, 497)\n",
      "PCA Total Variance Explained: 0.8807207899032254\n"
     ]
    }
   ],
   "source": [
    "# Is this what we need to get better predictions for our news articles?\n",
    "# First question:  How many components?\n",
    "\n",
    "# Our original feature space was pretty big\n",
    "print(cv_dm.shape)\n",
    "\n",
    "# the next round was smaller\n",
    "print(round3_dm.shape)\n",
    "\n",
    "from sklearn.decomposition import PCA, RandomizedPCA\n",
    "\n",
    "# we want something that is smaller than 1200 \n",
    "# let's start with 500 - that's about how big the second round space was\n",
    "# maybe we've kept more info for the same number of features\n",
    "\n",
    "\n",
    "pca = PCA(n_components=500)\n",
    "X_pca = pca.fit_transform(cv_dm.toarray())\n",
    "\n",
    "print( 'PCA Total Variance Explained: ' + str(sum(pca.explained_variance_ratio_)))\n"
   ]
  },
  {
   "cell_type": "code",
   "execution_count": 63,
   "metadata": {},
   "outputs": [
    {
     "name": "stdout",
     "output_type": "stream",
     "text": [
      "0.567965367965368\n",
      "accuracy: 0.567965367965368\n",
      "             precision    recall  f1-score   support\n",
      "\n",
      "   Everyone       0.05      0.05      0.05        58\n",
      "  Executive       0.62      0.62      0.62       599\n",
      "      Staff       0.56      0.56      0.56       498\n",
      "\n",
      "avg / total       0.57      0.57      0.57      1155\n",
      "\n"
     ]
    }
   ],
   "source": [
    "#set up our test and training vectors with the PCA'd vector space\n",
    "X = X_pca  #remember this is the output from the vectorizer and we are turning it into an array\n",
    "y = newsdf['Audience'].values #this is an array of labels\n",
    "\n",
    "\n",
    "X_train, X_test, y_train, y_test = train_test_split(X, y, test_size=0.3, random_state=42) #random_state is set seed\n",
    "\n",
    "\n",
    "# fit a decision treel to the data\n",
    "model = DecisionTreeClassifier(random_state = 42)\n",
    "model.fit(X_train, y_train)\n",
    "\n",
    "# make predictions\n",
    "clf1_expected = y_test\n",
    "clf1_predicted = model.predict(X_test)\n",
    "\n",
    "\n",
    "print(model.score(X_test,y_test))\n",
    "\n",
    "# summarize the fit of the model\n",
    "print(\"accuracy: \" + str(metrics.accuracy_score(clf1_expected, clf1_predicted)))\n",
    "print(metrics.classification_report(clf1_expected, clf1_predicted))\n",
    "\n",
    "\n"
   ]
  },
  {
   "cell_type": "markdown",
   "metadata": {},
   "source": [
    "### Can't use Naive Bayes here - why?"
   ]
  },
  {
   "cell_type": "code",
   "execution_count": 64,
   "metadata": {},
   "outputs": [
    {
     "name": "stdout",
     "output_type": "stream",
     "text": [
      "LogisticRegression(C=1.0, class_weight=None, dual=False, fit_intercept=True,\n",
      "          intercept_scaling=1, max_iter=100, multi_class='ovr', n_jobs=1,\n",
      "          penalty='l2', random_state=42, solver='liblinear', tol=0.0001,\n",
      "          verbose=0, warm_start=False)\n",
      "0.7090909090909091\n",
      "accuracy: 0.7090909090909091\n",
      "             precision    recall  f1-score   support\n",
      "\n",
      "   Everyone       0.14      0.09      0.11        58\n",
      "  Executive       0.75      0.76      0.75       599\n",
      "      Staff       0.70      0.72      0.71       498\n",
      "\n",
      "avg / total       0.70      0.71      0.70      1155\n",
      "\n"
     ]
    }
   ],
   "source": [
    "# fit a logistic regression model to the data\n",
    "model = LogisticRegression(random_state = 42)\n",
    "print(model)\n",
    "model.fit(X_train, y_train)\n",
    "\n",
    "# make predictions\n",
    "clf3_expected = y_test\n",
    "clf3_predicted = model.predict(X_test)\n",
    "\n",
    "print(model.score(X_test, y_test))\n",
    "\n",
    "# summarize the fit of the model\n",
    "print(\"accuracy: \" + str(metrics.accuracy_score(clf3_expected, clf3_predicted)))\n",
    "print(metrics.classification_report(clf3_expected, clf3_predicted))"
   ]
  },
  {
   "cell_type": "code",
   "execution_count": 65,
   "metadata": {},
   "outputs": [
    {
     "name": "stdout",
     "output_type": "stream",
     "text": [
      "PCA Total Variance Explained: 0.7779048967175822\n"
     ]
    }
   ],
   "source": [
    "# Are these results any better?\n",
    "\n",
    "# What about using the weighted feature space?\n",
    "pca = PCA(n_components=500)\n",
    "X_pca_tf = pca.fit_transform(tfidf_dm.toarray())\n",
    "print( 'PCA Total Variance Explained: ' + str(sum(pca.explained_variance_ratio_)))\n"
   ]
  },
  {
   "cell_type": "code",
   "execution_count": 66,
   "metadata": {},
   "outputs": [
    {
     "name": "stdout",
     "output_type": "stream",
     "text": [
      "0.5541125541125541\n",
      "accuracy: 0.5541125541125541\n",
      "             precision    recall  f1-score   support\n",
      "\n",
      "   Everyone       0.04      0.03      0.04        58\n",
      "  Executive       0.62      0.59      0.61       599\n",
      "      Staff       0.54      0.57      0.55       498\n",
      "\n",
      "avg / total       0.55      0.55      0.55      1155\n",
      "\n"
     ]
    }
   ],
   "source": [
    "# Hmmmm.... same number of features, less variation explained....\n",
    "# predictive power?\n",
    "\n",
    "\n",
    "#set up our test and training vectors with the PCA'd vector space\n",
    "X = X_pca_tf  \n",
    "y = newsdf['Audience'].values \n",
    "\n",
    "X_train, X_test, y_train, y_test = train_test_split(X, y, test_size=0.3, random_state=42) #random_state is set seed\n",
    "\n",
    "# fit a decision tree model to the data\n",
    "model = DecisionTreeClassifier(random_state = 42)\n",
    "model.fit(X_train, y_train)\n",
    "\n",
    "# make predictions\n",
    "clf1_expected = y_test\n",
    "clf1_predicted = model.predict(X_test)\n",
    "\n",
    "print(model.score(X_test,y_test))\n",
    "\n",
    "# summarize the fit of the model\n",
    "print(\"accuracy: \" + str(metrics.accuracy_score(clf1_expected, clf1_predicted)))\n",
    "print(metrics.classification_report(clf1_expected, clf1_predicted))"
   ]
  },
  {
   "cell_type": "markdown",
   "metadata": {
    "collapsed": true
   },
   "source": [
    "###  Did that help? "
   ]
  },
  {
   "cell_type": "code",
   "execution_count": 67,
   "metadata": {},
   "outputs": [
    {
     "name": "stdout",
     "output_type": "stream",
     "text": [
      "Number of components: 0\n",
      "PCA Total Variance Explained: 0\n",
      "Number of components: 50\n",
      "PCA Total Variance Explained: 0.46851645869977515\n",
      "Number of components: 100\n",
      "PCA Total Variance Explained: 0.5765216954599504\n",
      "Number of components: 150\n",
      "PCA Total Variance Explained: 0.6452748332721319\n",
      "Number of components: 200\n",
      "PCA Total Variance Explained: 0.6997795944894853\n",
      "Number of components: 250\n",
      "PCA Total Variance Explained: 0.7440061367636682\n",
      "Number of components: 300\n",
      "PCA Total Variance Explained: 0.780706415552449\n",
      "Number of components: 350\n",
      "PCA Total Variance Explained: 0.8116555899416054\n",
      "Number of components: 400\n",
      "PCA Total Variance Explained: 0.8380736535023328\n",
      "Number of components: 450\n",
      "PCA Total Variance Explained: 0.8608569981266041\n",
      "Number of components: 500\n",
      "PCA Total Variance Explained: 0.8807671555369921\n",
      "Number of components: 550\n",
      "PCA Total Variance Explained: 0.8979186504374127\n",
      "Number of components: 600\n",
      "PCA Total Variance Explained: 0.9130199369347559\n",
      "Number of components: 650\n",
      "PCA Total Variance Explained: 0.9262556813805398\n",
      "Number of components: 700\n",
      "PCA Total Variance Explained: 0.9379568701347595\n",
      "Number of components: 750\n",
      "PCA Total Variance Explained: 0.9482660991591665\n",
      "Number of components: 800\n",
      "PCA Total Variance Explained: 0.9573471381416039\n",
      "Number of components: 850\n",
      "PCA Total Variance Explained: 0.9654107845537604\n",
      "Number of components: 900\n",
      "PCA Total Variance Explained: 0.9724271723213183\n",
      "Number of components: 950\n",
      "PCA Total Variance Explained: 0.9785982493741743\n",
      "Number of components: 1000\n",
      "PCA Total Variance Explained: 0.9844687189404775\n",
      "Number of components: 1050\n",
      "PCA Total Variance Explained: 0.9889814019950816\n",
      "Number of components: 1100\n",
      "PCA Total Variance Explained: 0.9928250234544539\n",
      "Number of components: 1150\n",
      "PCA Total Variance Explained: 0.996034283677769\n",
      "Number of components: 1200\n",
      "PCA Total Variance Explained: 0.9986312791739221\n"
     ]
    }
   ],
   "source": [
    "# How do we know 500 is the \"right\" number?  How much of the variation do we need?\n",
    "# What are the options? \n",
    "\n",
    "for i in range(0,len(names)-1, 50):\n",
    "\n",
    "    pca = PCA(n_components=i)\n",
    "    X_pca = pca.fit_transform(cv_dm.toarray())\n",
    "    print(\"Number of components: \" + str(i))\n",
    "    print('PCA Total Variance Explained: ' + str(sum(pca.explained_variance_ratio_)))\n"
   ]
  },
  {
   "cell_type": "code",
   "execution_count": 68,
   "metadata": {},
   "outputs": [
    {
     "name": "stdout",
     "output_type": "stream",
     "text": [
      "0.548051948051948\n",
      "accuracy: 0.548051948051948\n",
      "             precision    recall  f1-score   support\n",
      "\n",
      "   Everyone       0.02      0.02      0.02        58\n",
      "  Executive       0.61      0.62      0.62       599\n",
      "      Staff       0.53      0.52      0.52       498\n",
      "\n",
      "avg / total       0.54      0.55      0.55      1155\n",
      "\n"
     ]
    }
   ],
   "source": [
    "# let's try 600 components instead\n",
    "pca = PCA(n_components=600)\n",
    "X_pca = pca.fit_transform(cv_dm.toarray())\n",
    "\n",
    "X = X_pca  \n",
    "y = newsdf['Audience'].values \n",
    "\n",
    "\n",
    "X_train, X_test, y_train, y_test = train_test_split(X, y, test_size=0.3, random_state=42) #random_state is set seed\n",
    "\n",
    "\n",
    "# fit a CART model to the data\n",
    "model = DecisionTreeClassifier(random_state = 42)\n",
    "model.fit(X_train, y_train)\n",
    "clf = model.fit(X_train, y_train)\n",
    "# make predictions\n",
    "clf1_expected = y_test\n",
    "clf1_predicted = model.predict(X_test)\n",
    "\n",
    "\n",
    "print(model.score(X_test,y_test))\n",
    "\n",
    "# summarize the fit of the model\n",
    "print(\"accuracy: \" + str(metrics.accuracy_score(clf1_expected, clf1_predicted)))\n",
    "print(metrics.classification_report(clf1_expected, clf1_predicted))\n",
    "\n"
   ]
  },
  {
   "cell_type": "markdown",
   "metadata": {},
   "source": [
    "## What about adding external information to help with prediction?  \n",
    "\n",
    "### We have data on \"likes\" - how do we use that?"
   ]
  },
  {
   "cell_type": "code",
   "execution_count": 76,
   "metadata": {},
   "outputs": [
    {
     "name": "stdout",
     "output_type": "stream",
     "text": [
      "(3848, 1236)\n",
      "(3848, 1237)\n"
     ]
    }
   ],
   "source": [
    "# Add this column to our feature space - cv_dm\n",
    "# Let's use the \"Big\" feature space instead of the 500 feature version\n",
    "\n",
    "print(cv_dm.shape)\n",
    "\n",
    "Xdf = pd.DataFrame(cv_dm.toarray())\n",
    "Xdf['likes'] = np.transpose(newsdf.likes.values)\n",
    "\n",
    "print(Xdf.shape)"
   ]
  },
  {
   "cell_type": "code",
   "execution_count": 77,
   "metadata": {},
   "outputs": [
    {
     "name": "stdout",
     "output_type": "stream",
     "text": [
      "(2693, 1237)\n",
      "(1155, 1237)\n",
      "(2693,)\n",
      "(1155,)\n"
     ]
    }
   ],
   "source": [
    "X = Xdf\n",
    "Y = newsdf.Audience\n",
    "X_train, X_test, y_train, y_test = train_test_split(X, y, test_size=0.3, random_state=42) #random_state is set seed\n",
    "\n",
    "# function creates 4 output structures - order matters\n",
    "print(X_train.shape)\n",
    "print(X_test.shape)\n",
    "print(y_train.shape)\n",
    "print(y_test.shape)\n"
   ]
  },
  {
   "cell_type": "code",
   "execution_count": 78,
   "metadata": {},
   "outputs": [
    {
     "name": "stdout",
     "output_type": "stream",
     "text": [
      "LogisticRegression(C=1.0, class_weight=None, dual=False, fit_intercept=True,\n",
      "          intercept_scaling=1, max_iter=100, multi_class='ovr', n_jobs=1,\n",
      "          penalty='l2', random_state=42, solver='liblinear', tol=0.0001,\n",
      "          verbose=0, warm_start=False)\n",
      "0.8242424242424242\n",
      "accuracy: 0.8242424242424242\n",
      "             precision    recall  f1-score   support\n",
      "\n",
      "   Everyone       0.55      0.21      0.30        58\n",
      "  Executive       0.82      0.85      0.83       599\n",
      "      Staff       0.84      0.87      0.85       498\n",
      "\n",
      "avg / total       0.82      0.82      0.82      1155\n",
      "\n"
     ]
    }
   ],
   "source": [
    "# Logistic Regression\n",
    "\n",
    "# fit a logistic regression model to the data\n",
    "model = LogisticRegression(random_state = 42)\n",
    "print(model)\n",
    "model.fit(X_train, y_train)\n",
    "\n",
    "# make predictions\n",
    "clf3_expected = y_test\n",
    "clf3_predicted = model.predict(X_test)\n",
    "\n",
    "print(model.score(X_test, y_test))\n",
    "\n",
    "# summarize the fit of the model\n",
    "print(\"accuracy: \" + str(metrics.accuracy_score(clf3_expected, clf3_predicted)))\n",
    "print(metrics.classification_report(clf3_expected, clf3_predicted))"
   ]
  },
  {
   "cell_type": "markdown",
   "metadata": {},
   "source": [
    "### Wow, in this case the number of \"likes\" increased our predictive power tremendously!\n",
    "\n",
    "We should definitely use these data for our prediction.  Let's do that and see how much our predictions change.  "
   ]
  },
  {
   "cell_type": "code",
   "execution_count": 72,
   "metadata": {},
   "outputs": [
    {
     "name": "stdout",
     "output_type": "stream",
     "text": [
      "1236\n",
      "(201, 1236)\n",
      "(201, 1237)\n"
     ]
    }
   ],
   "source": [
    "# Need to re-create wsj feature space using the larger feature list captured in big_feature_list\n",
    "\n",
    "print(len(big_feature_list))\n",
    "\n",
    "cvnews2 = CountVectorizer(lowercase=True, \n",
    "                     stop_words=my_stopwords,\n",
    "                     binary=False,\n",
    "                     max_df=0.95, \n",
    "                     min_df=0.05,\n",
    "                     ngram_range = (1,2),\n",
    "                     vocabulary = big_feature_list) \n",
    "\n",
    "\n",
    "wsjcv_dm2 = cvnews2.fit_transform(wsjnewsdf['text'])\n",
    "print(wsjcv_dm2.shape)\n",
    "\n",
    "Wdf = pd.DataFrame(wsjcv_dm2.toarray())\n",
    "Wdf['likes'] = np.transpose(wsjnewsdf.likes.values)\n",
    "\n",
    "print(Wdf.shape)"
   ]
  },
  {
   "cell_type": "code",
   "execution_count": 73,
   "metadata": {},
   "outputs": [
    {
     "name": "stdout",
     "output_type": "stream",
     "text": [
      "(201,)\n",
      "['Executive' 'Staff' 'Everyone' 'Everyone' 'Staff' 'Staff' 'Staff' 'Staff'\n",
      " 'Staff' 'Executive']\n"
     ]
    }
   ],
   "source": [
    "# now do our prediction\n",
    "\n",
    "wsjcv2_predicted = model.predict(Wdf)\n",
    "print(wsjcv_predicted.shape)\n",
    "print(wsjcv_predicted[0:10])"
   ]
  },
  {
   "cell_type": "markdown",
   "metadata": {
    "collapsed": true
   },
   "source": [
    "### Does this make a difference?  Does it change many of the label assignments?"
   ]
  },
  {
   "cell_type": "code",
   "execution_count": 74,
   "metadata": {},
   "outputs": [
    {
     "name": "stdout",
     "output_type": "stream",
     "text": [
      "131\n"
     ]
    }
   ],
   "source": [
    "diff = np.where(wsjcv_predicted != wsjcv2_predicted)\n",
    "print(len(diff[0]))"
   ]
  },
  {
   "cell_type": "markdown",
   "metadata": {},
   "source": [
    "### Is this \"right\"?  \n",
    "\n",
    "We don't know.  We don't know the truth.  We only know that we used all the information we had to make a prediction using a model that had about 80% accuracy.  That is better than the model we had before. \n",
    "\n",
    "#### Note:  when you include external information, you need to worry about comparability of measures.\n",
    "When we are only using counts or tfidf weights from our feature space, all the units are comparable.  When we added in likes, they are measured on a different scale.  Remember, some models are VERY sensative to scale discrepancies.  We may need to scale information that we include so that it is more comparable to our feature space representation.\n"
   ]
  },
  {
   "cell_type": "code",
   "execution_count": 75,
   "metadata": {},
   "outputs": [
    {
     "name": "stdout",
     "output_type": "stream",
     "text": [
      "7026.0\n",
      "7.0\n",
      "21374\n",
      "1\n"
     ]
    }
   ],
   "source": [
    "# Do we need to worry about the addition of likes to our count vectorized feature space?\n",
    "# range of values for \"likes\"\n",
    "print(max(Wdf['likes']))\n",
    "print((min(Wdf['likes'])))\n",
    "\n",
    "# range of values for bag of words\n",
    "print(max(keep_count['count']))\n",
    "print(min(keep_count['count']))\n",
    "\n",
    "#I think we are good here"
   ]
  },
  {
   "cell_type": "markdown",
   "metadata": {
    "collapsed": true
   },
   "source": [
    "### Main take aways:\n",
    "* Predictive models can be applied to text. Tonight we looked at supervised learning methods. \n",
    "* Lots of feature space options came into play tonight - we looked at how to use PCA as another tool. \n",
    "* Sentiment analysis models are trained on a specific corpus and then prediction is done to assign sentiment labels to new text. \n",
    "* Which classifier to use with which settings are more choices that the data scientist needs to make (on top of label creation options (dictionary/index), preprocesing options (stop word lists, stemming/lemmatization), vectorizer options, parameter settings, etc.))\n",
    "\n"
   ]
  },
  {
   "cell_type": "code",
   "execution_count": null,
   "metadata": {
    "collapsed": true
   },
   "outputs": [],
   "source": []
  }
 ],
 "metadata": {
  "anaconda-cloud": {},
  "kernelspec": {
   "display_name": "Python 3",
   "language": "python",
   "name": "python3"
  },
  "language_info": {
   "codemirror_mode": {
    "name": "ipython",
    "version": 3
   },
   "file_extension": ".py",
   "mimetype": "text/x-python",
   "name": "python",
   "nbconvert_exporter": "python",
   "pygments_lexer": "ipython3",
   "version": "3.6.4"
  }
 },
 "nbformat": 4,
 "nbformat_minor": 1
}
