{
 "cells": [
  {
   "cell_type": "markdown",
   "metadata": {},
   "source": [
    "# Final Project : Classifying Prospects\n",
    "### Paul Kauffman & Julian Furrow\n",
    "Attempting to classify potential clients using policy types they underwrite."
   ]
  },
  {
   "cell_type": "markdown",
   "metadata": {},
   "source": [
    "# Import Packages "
   ]
  },
  {
   "cell_type": "code",
   "execution_count": 72,
   "metadata": {},
   "outputs": [],
   "source": [
    "import pandas as pd\n",
    "from __future__ import division\n",
    "import numpy as np \n",
    "from nltk.corpus import stopwords\n",
    "#from plotly.offline import init_notebook_mode, iplot\n",
    "import nltk\n",
    "import matplotlib.pyplot as plt\n",
    "import plotly.graph_objs as go\n",
    "#import plotly.plotly as py\n",
    "#from plotly import tools\n",
    "#import plotly\n",
    "#plotly.offline.init_notebook_mode(connected=True)"
   ]
  },
  {
   "cell_type": "markdown",
   "metadata": {},
   "source": [
    "# Accuracy Reference Matrix"
   ]
  },
  {
   "cell_type": "code",
   "execution_count": 73,
   "metadata": {},
   "outputs": [],
   "source": [
    "#pd.read_excel('C:/Users/paulka/Desktop/Final Project/Model Summary.xlsx')"
   ]
  },
  {
   "cell_type": "markdown",
   "metadata": {},
   "source": [
    "# Upload Dataset"
   ]
  },
  {
   "cell_type": "code",
   "execution_count": 74,
   "metadata": {},
   "outputs": [
    {
     "name": "stdout",
     "output_type": "stream",
     "text": [
      "(27971, 3)\n",
      "['ProgramEntityPlusId', 'CoverageTypes', 'ClientClassification']\n"
     ]
    },
    {
     "data": {
      "text/html": [
       "<div>\n",
       "<style scoped>\n",
       "    .dataframe tbody tr th:only-of-type {\n",
       "        vertical-align: middle;\n",
       "    }\n",
       "\n",
       "    .dataframe tbody tr th {\n",
       "        vertical-align: top;\n",
       "    }\n",
       "\n",
       "    .dataframe thead th {\n",
       "        text-align: right;\n",
       "    }\n",
       "</style>\n",
       "<table border=\"1\" class=\"dataframe\">\n",
       "  <thead>\n",
       "    <tr style=\"text-align: right;\">\n",
       "      <th></th>\n",
       "      <th>ProgramEntityPlusId</th>\n",
       "      <th>CoverageTypes</th>\n",
       "      <th>ClientClassification</th>\n",
       "    </tr>\n",
       "  </thead>\n",
       "  <tbody>\n",
       "    <tr>\n",
       "      <th>0</th>\n",
       "      <td>AISP00036</td>\n",
       "      <td>GENERAL LIABILITY, LIQUOR LIABILITY</td>\n",
       "      <td>Services</td>\n",
       "    </tr>\n",
       "    <tr>\n",
       "      <th>1</th>\n",
       "      <td>AISP00060</td>\n",
       "      <td>TRUCK LIABILITY, AUTOMOBILE</td>\n",
       "      <td>General</td>\n",
       "    </tr>\n",
       "    <tr>\n",
       "      <th>2</th>\n",
       "      <td>AISP00092</td>\n",
       "      <td>GENERAL LIABILITY, EXCESS LIABILITY</td>\n",
       "      <td>Manufacturing</td>\n",
       "    </tr>\n",
       "    <tr>\n",
       "      <th>3</th>\n",
       "      <td>AISP00093</td>\n",
       "      <td>GENERAL LIABILITY</td>\n",
       "      <td>Services</td>\n",
       "    </tr>\n",
       "    <tr>\n",
       "      <th>4</th>\n",
       "      <td>AISP00127</td>\n",
       "      <td>GENERAL LIABILITY, PROPERTY</td>\n",
       "      <td>Retail Trade</td>\n",
       "    </tr>\n",
       "    <tr>\n",
       "      <th>5</th>\n",
       "      <td>AISP00128</td>\n",
       "      <td>EMPLOYMENT PRACTICES LIABILITY, HIRED/NON-OWN...</td>\n",
       "      <td>General</td>\n",
       "    </tr>\n",
       "    <tr>\n",
       "      <th>6</th>\n",
       "      <td>AISP00153</td>\n",
       "      <td>PROFESSIONAL LIABILITY, PROPERTY, PACKAGE</td>\n",
       "      <td>Real Estate</td>\n",
       "    </tr>\n",
       "    <tr>\n",
       "      <th>7</th>\n",
       "      <td>AISP00164</td>\n",
       "      <td>PACKAGE, GEN. LIAB./PROF. LIAB.</td>\n",
       "      <td>General</td>\n",
       "    </tr>\n",
       "    <tr>\n",
       "      <th>8</th>\n",
       "      <td>AISP00170</td>\n",
       "      <td>BUSINESS OWNERS, GEN. LIAB./PROF. LIAB., PROF...</td>\n",
       "      <td>General</td>\n",
       "    </tr>\n",
       "    <tr>\n",
       "      <th>9</th>\n",
       "      <td>AISP00241</td>\n",
       "      <td>EMPLOYMENT PRACTICES LIABILITY, CARGO, PACKAG...</td>\n",
       "      <td>Services</td>\n",
       "    </tr>\n",
       "  </tbody>\n",
       "</table>\n",
       "</div>"
      ],
      "text/plain": [
       "  ProgramEntityPlusId                                      CoverageTypes  \\\n",
       "0           AISP00036                GENERAL LIABILITY, LIQUOR LIABILITY   \n",
       "1           AISP00060                        TRUCK LIABILITY, AUTOMOBILE   \n",
       "2           AISP00092                GENERAL LIABILITY, EXCESS LIABILITY   \n",
       "3           AISP00093                                  GENERAL LIABILITY   \n",
       "4           AISP00127                        GENERAL LIABILITY, PROPERTY   \n",
       "5           AISP00128   EMPLOYMENT PRACTICES LIABILITY, HIRED/NON-OWN...   \n",
       "6           AISP00153          PROFESSIONAL LIABILITY, PROPERTY, PACKAGE   \n",
       "7           AISP00164                    PACKAGE, GEN. LIAB./PROF. LIAB.   \n",
       "8           AISP00170   BUSINESS OWNERS, GEN. LIAB./PROF. LIAB., PROF...   \n",
       "9           AISP00241   EMPLOYMENT PRACTICES LIABILITY, CARGO, PACKAG...   \n",
       "\n",
       "  ClientClassification  \n",
       "0             Services  \n",
       "1              General  \n",
       "2        Manufacturing  \n",
       "3             Services  \n",
       "4         Retail Trade  \n",
       "5              General  \n",
       "6          Real Estate  \n",
       "7              General  \n",
       "8              General  \n",
       "9             Services  "
      ]
     },
     "execution_count": 74,
     "metadata": {},
     "output_type": "execute_result"
    }
   ],
   "source": [
    "df = pd.read_excel('C:/Users/Paul/Desktop/Rockhurst/BIA 6304-Text Mining/Final Project/PE Classification Data.xlsx')\n",
    "df = df.replace('/n', ' ', regex = True)\n",
    "print(df.shape) # Shape of the dataset\n",
    "print(list(df))\n",
    "df.head(10)"
   ]
  },
  {
   "cell_type": "markdown",
   "metadata": {},
   "source": [
    "# Count of Client Classification Records"
   ]
  },
  {
   "cell_type": "code",
   "execution_count": 75,
   "metadata": {},
   "outputs": [
    {
     "data": {
      "text/html": [
       "<div>\n",
       "<style scoped>\n",
       "    .dataframe tbody tr th:only-of-type {\n",
       "        vertical-align: middle;\n",
       "    }\n",
       "\n",
       "    .dataframe tbody tr th {\n",
       "        vertical-align: top;\n",
       "    }\n",
       "\n",
       "    .dataframe thead th {\n",
       "        text-align: right;\n",
       "    }\n",
       "</style>\n",
       "<table border=\"1\" class=\"dataframe\">\n",
       "  <thead>\n",
       "    <tr style=\"text-align: right;\">\n",
       "      <th></th>\n",
       "      <th>ProgramEntityPlusId</th>\n",
       "      <th>CoverageTypes</th>\n",
       "    </tr>\n",
       "    <tr>\n",
       "      <th>ClientClassification</th>\n",
       "      <th></th>\n",
       "      <th></th>\n",
       "    </tr>\n",
       "  </thead>\n",
       "  <tbody>\n",
       "    <tr>\n",
       "      <th>*Dummy Data</th>\n",
       "      <td>1</td>\n",
       "      <td>1</td>\n",
       "    </tr>\n",
       "    <tr>\n",
       "      <th>Agriculture</th>\n",
       "      <td>258</td>\n",
       "      <td>258</td>\n",
       "    </tr>\n",
       "    <tr>\n",
       "      <th>Construction</th>\n",
       "      <td>1969</td>\n",
       "      <td>1969</td>\n",
       "    </tr>\n",
       "    <tr>\n",
       "      <th>General</th>\n",
       "      <td>7889</td>\n",
       "      <td>7889</td>\n",
       "    </tr>\n",
       "    <tr>\n",
       "      <th>Government</th>\n",
       "      <td>49</td>\n",
       "      <td>49</td>\n",
       "    </tr>\n",
       "    <tr>\n",
       "      <th>Manufacturing</th>\n",
       "      <td>120</td>\n",
       "      <td>120</td>\n",
       "    </tr>\n",
       "    <tr>\n",
       "      <th>Mining</th>\n",
       "      <td>74</td>\n",
       "      <td>74</td>\n",
       "    </tr>\n",
       "    <tr>\n",
       "      <th>Real Estate</th>\n",
       "      <td>4445</td>\n",
       "      <td>4445</td>\n",
       "    </tr>\n",
       "    <tr>\n",
       "      <th>Retail Trade</th>\n",
       "      <td>839</td>\n",
       "      <td>839</td>\n",
       "    </tr>\n",
       "    <tr>\n",
       "      <th>Services</th>\n",
       "      <td>9607</td>\n",
       "      <td>9607</td>\n",
       "    </tr>\n",
       "    <tr>\n",
       "      <th>Transportation</th>\n",
       "      <td>2653</td>\n",
       "      <td>2653</td>\n",
       "    </tr>\n",
       "    <tr>\n",
       "      <th>Wholesale Trade</th>\n",
       "      <td>67</td>\n",
       "      <td>67</td>\n",
       "    </tr>\n",
       "  </tbody>\n",
       "</table>\n",
       "</div>"
      ],
      "text/plain": [
       "                      ProgramEntityPlusId  CoverageTypes\n",
       "ClientClassification                                    \n",
       "*Dummy Data                             1              1\n",
       "Agriculture                           258            258\n",
       "Construction                         1969           1969\n",
       "General                              7889           7889\n",
       "Government                             49             49\n",
       "Manufacturing                         120            120\n",
       "Mining                                 74             74\n",
       "Real Estate                          4445           4445\n",
       "Retail Trade                          839            839\n",
       "Services                             9607           9607\n",
       "Transportation                       2653           2653\n",
       "Wholesale Trade                        67             67"
      ]
     },
     "execution_count": 75,
     "metadata": {},
     "output_type": "execute_result"
    }
   ],
   "source": [
    "df.groupby('ClientClassification').count()"
   ]
  },
  {
   "cell_type": "markdown",
   "metadata": {},
   "source": [
    "# Import Sklearn Packages"
   ]
  },
  {
   "cell_type": "code",
   "execution_count": 76,
   "metadata": {},
   "outputs": [],
   "source": [
    "from sklearn.feature_extraction.text import CountVectorizer, TfidfVectorizer\n",
    "from sklearn.model_selection import train_test_split, cross_val_score\n",
    "from sklearn import metrics\n",
    "from sklearn.tree import DecisionTreeClassifier\n",
    "from sklearn.linear_model import LogisticRegression, Lasso\n",
    "from sklearn.naive_bayes import MultinomialNB\n",
    "from sklearn.decomposition import PCA, RandomizedPCA\n",
    "from sklearn.ensemble import RandomForestClassifier, GradientBoostingClassifier\n",
    "from sklearn.cluster import KMeans\n",
    "from sklearn.svm import SVC"
   ]
  },
  {
   "cell_type": "markdown",
   "metadata": {},
   "source": [
    "# Base CountVectorizor \n",
    "    using base vecotrizer to establish baseline models"
   ]
  },
  {
   "cell_type": "code",
   "execution_count": 77,
   "metadata": {},
   "outputs": [
    {
     "name": "stdout",
     "output_type": "stream",
     "text": [
      "(27971, 173)\n",
      "           count\n",
      "liability  23355\n",
      "general    21020\n",
      "package    17021\n",
      "property   14328\n",
      "auto       10453\n",
      "            count\n",
      "terrorism     344\n",
      "operators     331\n",
      "indemnity     317\n",
      "protection    317\n",
      "glass         314\n"
     ]
    }
   ],
   "source": [
    "cv = CountVectorizer(binary=True, lowercase=True, max_df=1.0, max_features=None, \n",
    "                     min_df=1, ngram_range=(1,1), stop_words=None)\n",
    "\n",
    "cv_dm = cv.fit_transform(df['CoverageTypes'].values.astype('U'))\n",
    "print(cv_dm.shape)\n",
    "names = cv.get_feature_names()   \n",
    "count = np.sum(cv_dm.toarray(), axis = 0) \n",
    "count2 = count.tolist() \n",
    "count_df = pd.DataFrame(count2, index = names, columns = ['count']) \n",
    "print(count_df.sort_values(['count'], ascending = False)[0:100] .head())\n",
    "print(count_df.sort_values(['count'], ascending = False)[0:100] .tail())\n"
   ]
  },
  {
   "cell_type": "markdown",
   "metadata": {},
   "source": [
    "## ---------------------------------------------------------------------------------------------------------------------------------\n",
    "# [Round 1]\n",
    "## ---------------------------------------------------------------------------------------------------------------------------------"
   ]
  },
  {
   "cell_type": "markdown",
   "metadata": {},
   "source": [
    "Base models to see how well the models predict on the test data. Test/Train is at 95/5. "
   ]
  },
  {
   "cell_type": "code",
   "execution_count": 78,
   "metadata": {},
   "outputs": [
    {
     "name": "stdout",
     "output_type": "stream",
     "text": [
      "(27971, 173)\n",
      "(27971,)\n",
      "(26572, 173)\n",
      "(1399, 173)\n",
      "(26572,)\n",
      "(1399,)\n"
     ]
    }
   ],
   "source": [
    "X = cv_dm.toarray()  #remember this is the output from the vectorizer and we are turning it into an array\n",
    "#print(type(X), X[0:10])\n",
    "print(X.shape)\n",
    "\n",
    "\n",
    "y = df['ClientClassification'].values #this is an array of labels\n",
    "#print(type(y), y[0:10])\n",
    "print(y.shape)\n",
    "\n",
    "# train and test on count\n",
    "X_train, X_test, y_train, y_test = train_test_split(X, y, test_size=0.05, random_state=42) #random_state is set seed\n",
    "\n",
    "# function creates 4 output structures - order matters\n",
    "print(X_train.shape)\n",
    "print(X_test.shape)\n",
    "print(y_train.shape)\n",
    "print(y_test.shape)"
   ]
  },
  {
   "cell_type": "markdown",
   "metadata": {},
   "source": [
    "### Decision Tree\n",
    "(40%)"
   ]
  },
  {
   "cell_type": "code",
   "execution_count": 79,
   "metadata": {},
   "outputs": [
    {
     "name": "stdout",
     "output_type": "stream",
     "text": [
      "accuracy: \n",
      "0.4045746962115797\n",
      "===================\n",
      "                 precision    recall  f1-score   support\n",
      "\n",
      "    Agriculture       0.22      0.12      0.16        16\n",
      "   Construction       0.19      0.14      0.16        94\n",
      "        General       0.34      0.43      0.38       408\n",
      "     Government       0.00      0.00      0.00         3\n",
      "  Manufacturing       0.00      0.00      0.00         5\n",
      "         Mining       0.00      0.00      0.00         1\n",
      "    Real Estate       0.40      0.47      0.43       200\n",
      "   Retail Trade       0.18      0.11      0.14        44\n",
      "       Services       0.50      0.43      0.46       472\n",
      " Transportation       0.58      0.47      0.52       154\n",
      "Wholesale Trade       0.00      0.00      0.00         2\n",
      "\n",
      "    avg / total       0.41      0.40      0.40      1399\n",
      "\n"
     ]
    }
   ],
   "source": [
    "# fit a Decision Tree dt_model to the data\n",
    "dt_model = DecisionTreeClassifier(class_weight=None, criterion='gini', max_depth=None,\n",
    "            max_features=None, max_leaf_nodes=None,\n",
    "            min_impurity_decrease=0.0, min_impurity_split=None,\n",
    "            min_samples_leaf=1, min_samples_split=2,\n",
    "            min_weight_fraction_leaf=0.0, presort=False, random_state=42,\n",
    "            splitter='best')\n",
    "#print(dt_model)\n",
    "dt_model.fit(X_train, y_train)\n",
    "\n",
    "# make predictions\n",
    "clf1_expected = y_test\n",
    "clf1_predicted = dt_model.predict(X_test)\n",
    "\n",
    "#print(dt_model.score(X_test, y_test))\n",
    "\n",
    "# summarize the fit of the dt_model\n",
    "print(\"accuracy: \\n\" + str(metrics.accuracy_score(clf1_expected, clf1_predicted)))\n",
    "print('===================')\n",
    "print(metrics.classification_report(clf1_expected, clf1_predicted))"
   ]
  },
  {
   "cell_type": "markdown",
   "metadata": {},
   "source": [
    "### Logistic Regression\n",
    "(51%)"
   ]
  },
  {
   "cell_type": "code",
   "execution_count": 80,
   "metadata": {},
   "outputs": [
    {
     "name": "stdout",
     "output_type": "stream",
     "text": [
      "accuracy: \n",
      "0.509649749821301\n",
      "===================\n",
      "                 precision    recall  f1-score   support\n",
      "\n",
      "    Agriculture       0.67      0.12      0.21        16\n",
      "   Construction       0.47      0.07      0.13        94\n",
      "        General       0.40      0.50      0.44       408\n",
      "     Government       0.00      0.00      0.00         3\n",
      "  Manufacturing       0.00      0.00      0.00         5\n",
      "         Mining       0.00      0.00      0.00         1\n",
      "    Real Estate       0.58      0.58      0.58       200\n",
      "   Retail Trade       0.57      0.09      0.16        44\n",
      "       Services       0.55      0.63      0.59       472\n",
      " Transportation       0.67      0.53      0.59       154\n",
      "Wholesale Trade       0.00      0.00      0.00         2\n",
      "\n",
      "    avg / total       0.52      0.51      0.49      1399\n",
      "\n"
     ]
    },
    {
     "name": "stderr",
     "output_type": "stream",
     "text": [
      "C:\\Users\\Paul\\Anaconda3\\lib\\site-packages\\sklearn\\metrics\\classification.py:1135: UndefinedMetricWarning:\n",
      "\n",
      "Precision and F-score are ill-defined and being set to 0.0 in labels with no predicted samples.\n",
      "\n"
     ]
    }
   ],
   "source": [
    "# fit a logistic regression lr_model to the data\n",
    "lr_model = LogisticRegression(C=1.0, class_weight=None, dual=False, fit_intercept=True,\n",
    "          intercept_scaling=1, max_iter=100, multi_class='ovr', n_jobs=1,\n",
    "          penalty='l2', random_state=42, solver='liblinear', tol=0.0001,\n",
    "          verbose=0, warm_start=False)\n",
    "#print(lr_model)\n",
    "lr_model.fit(X_train, y_train)\n",
    "\n",
    "# make predictions\n",
    "clf2_expected = y_test\n",
    "clf2_predicted = lr_model.predict(X_test)\n",
    "\n",
    "#print(lr_model.score(X_test, y_test))\n",
    "\n",
    "# summarize the fit of the lr_model\n",
    "print(\"accuracy: \\n\" + str(metrics.accuracy_score(clf2_expected, clf2_predicted)))\n",
    "print('===================')\n",
    "print(metrics.classification_report(clf2_expected, clf2_predicted))"
   ]
  },
  {
   "cell_type": "markdown",
   "metadata": {},
   "source": [
    "### Naive Bayes\n",
    "(44%)"
   ]
  },
  {
   "cell_type": "code",
   "execution_count": 81,
   "metadata": {},
   "outputs": [
    {
     "name": "stdout",
     "output_type": "stream",
     "text": [
      "accuracy: \n",
      "0.44388849177984274\n",
      "===================\n",
      "                 precision    recall  f1-score   support\n",
      "\n",
      "    *Dummy Data       0.00      0.00      0.00         0\n",
      "    Agriculture       0.30      0.19      0.23        16\n",
      "   Construction       0.22      0.16      0.19        94\n",
      "        General       0.35      0.50      0.41       408\n",
      "     Government       0.00      0.00      0.00         3\n",
      "  Manufacturing       0.00      0.00      0.00         5\n",
      "         Mining       0.00      0.00      0.00         1\n",
      "    Real Estate       0.58      0.48      0.53       200\n",
      "   Retail Trade       0.29      0.11      0.16        44\n",
      "       Services       0.54      0.46      0.50       472\n",
      " Transportation       0.58      0.51      0.54       154\n",
      "Wholesale Trade       0.00      0.00      0.00         2\n",
      "\n",
      "    avg / total       0.46      0.44      0.44      1399\n",
      "\n"
     ]
    },
    {
     "name": "stderr",
     "output_type": "stream",
     "text": [
      "C:\\Users\\Paul\\Anaconda3\\lib\\site-packages\\sklearn\\metrics\\classification.py:1135: UndefinedMetricWarning:\n",
      "\n",
      "Precision and F-score are ill-defined and being set to 0.0 in labels with no predicted samples.\n",
      "\n",
      "C:\\Users\\Paul\\Anaconda3\\lib\\site-packages\\sklearn\\metrics\\classification.py:1137: UndefinedMetricWarning:\n",
      "\n",
      "Recall and F-score are ill-defined and being set to 0.0 in labels with no true samples.\n",
      "\n"
     ]
    }
   ],
   "source": [
    "# fit a Naive Bayes model to the data\n",
    "nb_model = MultinomialNB(alpha=1.0, class_prior=None, fit_prior=True)\n",
    "#print(nb_model)\n",
    "nb_model.fit(X_train, y_train)\n",
    "\n",
    "# make predictions\n",
    "clf3_expected = y_test\n",
    "clf3_predicted = nb_model.predict(X_test)\n",
    "\n",
    "#print(nb_model.score(X_test, y_test))\n",
    "\n",
    "# summarize the fit of the nb_model\n",
    "print(\"accuracy: \\n\" + str(metrics.accuracy_score(clf3_expected, clf3_predicted)))\n",
    "print('===================')\n",
    "print(metrics.classification_report(clf3_expected, clf3_predicted))"
   ]
  },
  {
   "cell_type": "markdown",
   "metadata": {},
   "source": [
    "### Random Forest\n",
    "(48%)"
   ]
  },
  {
   "cell_type": "code",
   "execution_count": 82,
   "metadata": {},
   "outputs": [
    {
     "name": "stdout",
     "output_type": "stream",
     "text": [
      "accuracy: \n",
      "0.4832022873481058\n",
      "                 precision    recall  f1-score   support\n",
      "\n",
      "    Agriculture       0.29      0.12      0.17        16\n",
      "   Construction       0.34      0.12      0.17        94\n",
      "        General       0.37      0.43      0.40       408\n",
      "     Government       0.00      0.00      0.00         3\n",
      "  Manufacturing       0.00      0.00      0.00         5\n",
      "         Mining       0.00      0.00      0.00         1\n",
      "    Real Estate       0.52      0.52      0.52       200\n",
      "   Retail Trade       0.28      0.11      0.16        44\n",
      "       Services       0.53      0.63      0.58       472\n",
      " Transportation       0.73      0.54      0.62       154\n",
      "Wholesale Trade       0.00      0.00      0.00         2\n",
      "\n",
      "    avg / total       0.48      0.48      0.47      1399\n",
      "\n"
     ]
    },
    {
     "name": "stderr",
     "output_type": "stream",
     "text": [
      "C:\\Users\\Paul\\Anaconda3\\lib\\site-packages\\sklearn\\metrics\\classification.py:1135: UndefinedMetricWarning:\n",
      "\n",
      "Precision and F-score are ill-defined and being set to 0.0 in labels with no predicted samples.\n",
      "\n"
     ]
    }
   ],
   "source": [
    "rf_model = RandomForestClassifier(bootstrap=True, class_weight=None, criterion='gini',\n",
    "            max_depth=None, max_features='auto', max_leaf_nodes=None,\n",
    "            min_impurity_decrease=0.0, min_impurity_split=None,\n",
    "            min_samples_leaf=1, min_samples_split=2,\n",
    "            min_weight_fraction_leaf=0.0, n_estimators=100, n_jobs=1,\n",
    "            oob_score=False, random_state=42, verbose=0, warm_start=False)\n",
    "\n",
    "#print(rf_model)\n",
    "\n",
    "rf_model.fit(X_train, y_train)\n",
    "\n",
    "clf4_expected = y_test\n",
    "clf4_predicted = rf_model.predict(X_test)\n",
    "\n",
    "#print(rf_model.score(X_test,y_test))\n",
    "\n",
    "# summarize the fit of the rf_model\n",
    "print(\"accuracy: \\n\" + str(metrics.accuracy_score(clf4_expected, clf4_predicted)))\n",
    "print(metrics.classification_report(clf4_expected, clf4_predicted))"
   ]
  },
  {
   "cell_type": "markdown",
   "metadata": {},
   "source": [
    "### Also Tried \n",
    "- SVM (50%)\n",
    "- Boosting (51%)\n",
    "- Bagging\n",
    "- KNN\n",
    "- NN\n",
    "\n",
    "Logistic Regression was the best model at 51%. Random forest also showed promise, though LR was the quick to run model. "
   ]
  },
  {
   "cell_type": "markdown",
   "metadata": {},
   "source": [
    "## ---------------------------------------------------------------------------------------------------------------------------------\n",
    "# [Round 2]\n",
    "## ---------------------------------------------------------------------------------------------------------------------------------"
   ]
  },
  {
   "cell_type": "markdown",
   "metadata": {},
   "source": [
    "The \"General\" Classification is a \"catch-all\" for Agents that had trouble being classified. Genral could be creating noise for the other classe. We may look to use this model to improve on the classification of the \"General\" population.  "
   ]
  },
  {
   "cell_type": "markdown",
   "metadata": {},
   "source": [
    "## Removing General to try and improve accuracy "
   ]
  },
  {
   "cell_type": "markdown",
   "metadata": {},
   "source": [
    "### New DF without \"General\" Class"
   ]
  },
  {
   "cell_type": "code",
   "execution_count": 83,
   "metadata": {},
   "outputs": [
    {
     "name": "stdout",
     "output_type": "stream",
     "text": [
      "(27971, 3)\n",
      "(20081, 3)\n"
     ]
    }
   ],
   "source": [
    "print(df.shape)\n",
    "df_drop_gen = df[(df.ClientClassification != 'General') & (df.ClientClassification != '*Dummy Data') ]\n",
    "print(df_drop_gen.shape)"
   ]
  },
  {
   "cell_type": "markdown",
   "metadata": {},
   "source": [
    "### Weights Vectorizer\n",
    "    adding in a weighted set to see if model preform differently "
   ]
  },
  {
   "cell_type": "code",
   "execution_count": 84,
   "metadata": {
    "scrolled": true
   },
   "outputs": [
    {
     "name": "stdout",
     "output_type": "stream",
     "text": [
      "(20081, 171)\n"
     ]
    }
   ],
   "source": [
    "wv = TfidfVectorizer(binary=False, lowercase=True, max_df=1.0, max_features=None, \n",
    "                     min_df=1, ngram_range=(1,1), stop_words=None)\n",
    "\n",
    "\n",
    "wv_dm = wv.fit_transform(df_drop_gen['CoverageTypes'].values.astype('U'))\n",
    "print(wv_dm.shape)\n",
    "wv_df =pd.DataFrame(wv_dm.toarray(), columns=wv.get_feature_names())"
   ]
  },
  {
   "cell_type": "markdown",
   "metadata": {},
   "source": [
    "### Counts Vectorizer "
   ]
  },
  {
   "cell_type": "code",
   "execution_count": 85,
   "metadata": {},
   "outputs": [
    {
     "name": "stdout",
     "output_type": "stream",
     "text": [
      "(20081, 171)\n"
     ]
    }
   ],
   "source": [
    "cv = CountVectorizer(binary=False, lowercase=True, max_df=1.0, max_features=None, \n",
    "                     min_df=1, ngram_range=(1,1), stop_words=None)\n",
    "\n",
    "cv_dm = cv.fit_transform(df_drop_gen['CoverageTypes'].values.astype('U'))\n",
    "print(cv_dm.shape)\n",
    "cv_df =pd.DataFrame(cv_dm.toarray(), columns=cv.get_feature_names())"
   ]
  },
  {
   "cell_type": "markdown",
   "metadata": {},
   "source": [
    "### Test/Train Split (Count) (95/5)"
   ]
  },
  {
   "cell_type": "code",
   "execution_count": 86,
   "metadata": {
    "scrolled": false
   },
   "outputs": [
    {
     "name": "stdout",
     "output_type": "stream",
     "text": [
      "(20081, 171)\n",
      "(20081,)\n",
      "(19076, 171)\n",
      "(1005, 171)\n",
      "(19076,)\n",
      "(1005,)\n"
     ]
    }
   ],
   "source": [
    "X = cv_dm.toarray()  #remember this is the output from the vectorizer and we are turning it into an array\n",
    "#print(type(X), X[0:10])\n",
    "print(X.shape)\n",
    "\n",
    "\n",
    "y = df_drop_gen['ClientClassification'].values #this is an array of labels\n",
    "#print(type(y), y[0:10])\n",
    "print(y.shape)\n",
    "\n",
    "\n",
    "# train and test on count\n",
    "X_train, X_test, y_train, y_test = train_test_split(X, y, test_size=0.05, random_state=42) #random_state is set seed\n",
    "\n",
    "# function creates 4 output structures - order matters\n",
    "print(X_train.shape)\n",
    "print(X_test.shape)\n",
    "print(y_train.shape)\n",
    "print(y_test.shape)"
   ]
  },
  {
   "cell_type": "markdown",
   "metadata": {},
   "source": [
    "### Test/Train Split (Weights) (95/5)"
   ]
  },
  {
   "cell_type": "code",
   "execution_count": 87,
   "metadata": {},
   "outputs": [
    {
     "name": "stdout",
     "output_type": "stream",
     "text": [
      "(20081, 171)\n",
      "(20081,)\n",
      "(19076, 171)\n",
      "(1005, 171)\n",
      "(19076,)\n",
      "(1005,)\n"
     ]
    }
   ],
   "source": [
    "X_w = wv_dm.toarray()  #remember this is the output from the vectorizer and we are turning it into an array\n",
    "#print(type(X_w), X_w[0:10])\n",
    "print(X_w.shape)\n",
    "\n",
    "\n",
    "y_w = df_drop_gen['ClientClassification'].values #this is an array of labels\n",
    "#print(type(y_w), y[0:10])\n",
    "print(y_w.shape)\n",
    "\n",
    "\n",
    "# train and test on count\n",
    "X_w_train, X_w_test, y_w_train, y_w_test = train_test_split(X_w, y_w, test_size=0.05, random_state=42) #random_state is set seed\n",
    "\n",
    "# function creates 4 output structures - order matters\n",
    "print(X_w_train.shape)\n",
    "print(X_w_test.shape)\n",
    "print(y_w_train.shape)\n",
    "print(y_w_test.shape)"
   ]
  },
  {
   "cell_type": "markdown",
   "metadata": {},
   "source": [
    "### Decision Tree (Count) \n",
    "(55%)"
   ]
  },
  {
   "cell_type": "code",
   "execution_count": 88,
   "metadata": {},
   "outputs": [
    {
     "name": "stdout",
     "output_type": "stream",
     "text": [
      "accuracy: \n",
      "0.5572139303482587\n",
      "===================\n",
      "                 precision    recall  f1-score   support\n",
      "\n",
      "    Agriculture       0.00      0.00      0.00        15\n",
      "   Construction       0.16      0.15      0.16        98\n",
      "     Government       0.00      0.00      0.00         1\n",
      "  Manufacturing       0.00      0.00      0.00         6\n",
      "         Mining       0.00      0.00      0.00         0\n",
      "    Real Estate       0.55      0.61      0.57       228\n",
      "   Retail Trade       0.32      0.18      0.23        39\n",
      "       Services       0.64      0.65      0.65       475\n",
      " Transportation       0.68      0.64      0.66       140\n",
      "Wholesale Trade       0.00      0.00      0.00         3\n",
      "\n",
      "    avg / total       0.55      0.56      0.55      1005\n",
      "\n"
     ]
    },
    {
     "name": "stderr",
     "output_type": "stream",
     "text": [
      "C:\\Users\\Paul\\Anaconda3\\lib\\site-packages\\sklearn\\metrics\\classification.py:1135: UndefinedMetricWarning:\n",
      "\n",
      "Precision and F-score are ill-defined and being set to 0.0 in labels with no predicted samples.\n",
      "\n",
      "C:\\Users\\Paul\\Anaconda3\\lib\\site-packages\\sklearn\\metrics\\classification.py:1137: UndefinedMetricWarning:\n",
      "\n",
      "Recall and F-score are ill-defined and being set to 0.0 in labels with no true samples.\n",
      "\n"
     ]
    }
   ],
   "source": [
    "# fit a Decision Tree dt_model to the data\n",
    "dt_model = DecisionTreeClassifier(class_weight=None, criterion='gini', max_depth=None,\n",
    "            max_features=None, max_leaf_nodes=None,\n",
    "            min_impurity_decrease=0.0, min_impurity_split=None,\n",
    "            min_samples_leaf=1, min_samples_split=2,\n",
    "            min_weight_fraction_leaf=0.0, presort=False, random_state=42,\n",
    "            splitter='best')\n",
    "#print(dt_model)\n",
    "dt_model.fit(X_train, y_train)\n",
    "\n",
    "# make predictions\n",
    "clf1_expected = y_test\n",
    "clf1_predicted = dt_model.predict(X_test)\n",
    "\n",
    "#print(dt_model.score(X_test, y_test))\n",
    "\n",
    "# summarize the fit of the dt_model\n",
    "print(\"accuracy: \\n\" + str(metrics.accuracy_score(clf1_expected, clf1_predicted)))\n",
    "print('===================')\n",
    "print(metrics.classification_report(clf1_expected, clf1_predicted))"
   ]
  },
  {
   "cell_type": "markdown",
   "metadata": {},
   "source": [
    "### Decision Tree (Weight) \n",
    "(56%)"
   ]
  },
  {
   "cell_type": "code",
   "execution_count": 89,
   "metadata": {},
   "outputs": [
    {
     "name": "stdout",
     "output_type": "stream",
     "text": [
      "accuracy: \n",
      "0.5611940298507463\n",
      "===================\n",
      "                 precision    recall  f1-score   support\n",
      "\n",
      "    Agriculture       0.00      0.00      0.00        15\n",
      "   Construction       0.16      0.13      0.15        98\n",
      "     Government       0.00      0.00      0.00         1\n",
      "  Manufacturing       0.00      0.00      0.00         6\n",
      "    Real Estate       0.58      0.58      0.58       228\n",
      "   Retail Trade       0.27      0.18      0.22        39\n",
      "       Services       0.63      0.68      0.65       475\n",
      " Transportation       0.61      0.64      0.62       140\n",
      "Wholesale Trade       0.00      0.00      0.00         3\n",
      "\n",
      "    avg / total       0.54      0.56      0.55      1005\n",
      "\n"
     ]
    },
    {
     "name": "stderr",
     "output_type": "stream",
     "text": [
      "C:\\Users\\Paul\\Anaconda3\\lib\\site-packages\\sklearn\\metrics\\classification.py:1135: UndefinedMetricWarning:\n",
      "\n",
      "Precision and F-score are ill-defined and being set to 0.0 in labels with no predicted samples.\n",
      "\n"
     ]
    }
   ],
   "source": [
    "# fit a Decision Tree dt_model to the data\n",
    "dt_model = DecisionTreeClassifier(class_weight=None, criterion='gini', max_depth=None,\n",
    "            max_features=None, max_leaf_nodes=None,\n",
    "            min_impurity_decrease=0.0, min_impurity_split=None,\n",
    "            min_samples_leaf=1, min_samples_split=2,\n",
    "            min_weight_fraction_leaf=0.0, presort=False, random_state=42,\n",
    "            splitter='best')\n",
    "#print(dt_model)\n",
    "dt_model.fit(X_w_train, y_w_train)\n",
    "\n",
    "# make predictions\n",
    "clf1_expected = y_w_test\n",
    "clf1_predicted = dt_model.predict(X_w_test)\n",
    "\n",
    "#print(dt_model.score(X_test, y_test))\n",
    "\n",
    "# summarize the fit of the dt_model\n",
    "print(\"accuracy: \\n\" + str(metrics.accuracy_score(clf1_expected, clf1_predicted)))\n",
    "print('===================')\n",
    "print(metrics.classification_report(clf1_expected, clf1_predicted))"
   ]
  },
  {
   "cell_type": "markdown",
   "metadata": {},
   "source": [
    "### Logistic Regression (Count)\n",
    "(66%)"
   ]
  },
  {
   "cell_type": "code",
   "execution_count": 90,
   "metadata": {},
   "outputs": [
    {
     "name": "stdout",
     "output_type": "stream",
     "text": [
      "accuracy: \n",
      "0.6626865671641791\n",
      "===================\n",
      "                 precision    recall  f1-score   support\n",
      "\n",
      "    Agriculture       0.00      0.00      0.00        15\n",
      "   Construction       0.32      0.09      0.14        98\n",
      "     Government       0.00      0.00      0.00         1\n",
      "  Manufacturing       0.00      0.00      0.00         6\n",
      "    Real Estate       0.72      0.67      0.69       228\n",
      "   Retail Trade       0.40      0.10      0.16        39\n",
      "       Services       0.64      0.87      0.74       475\n",
      " Transportation       0.81      0.64      0.71       140\n",
      "Wholesale Trade       0.00      0.00      0.00         3\n",
      "\n",
      "    avg / total       0.62      0.66      0.62      1005\n",
      "\n"
     ]
    },
    {
     "name": "stderr",
     "output_type": "stream",
     "text": [
      "C:\\Users\\Paul\\Anaconda3\\lib\\site-packages\\sklearn\\metrics\\classification.py:1135: UndefinedMetricWarning:\n",
      "\n",
      "Precision and F-score are ill-defined and being set to 0.0 in labels with no predicted samples.\n",
      "\n"
     ]
    }
   ],
   "source": [
    "# fit a logistic regression lr_model to the data\n",
    "lr_model = LogisticRegression(C=1.0, class_weight=None, dual=False, fit_intercept=True,\n",
    "          intercept_scaling=1, max_iter=100, multi_class='ovr', n_jobs=1,\n",
    "          penalty='l2', random_state=42, solver='liblinear', tol=0.0001,\n",
    "          verbose=0, warm_start=False)\n",
    "#print(lr_model)\n",
    "lr_model.fit(X_train, y_train)\n",
    "\n",
    "# make predictions\n",
    "clf2_expected = y_test\n",
    "clf2_predicted = lr_model.predict(X_test)\n",
    "\n",
    "#print(lr_model.score(X_test, y_test))\n",
    "\n",
    "# summarize the fit of the lr_model\n",
    "print(\"accuracy: \\n\" + str(metrics.accuracy_score(clf2_expected, clf2_predicted)))\n",
    "print('===================')\n",
    "print(metrics.classification_report(clf2_expected, clf2_predicted))"
   ]
  },
  {
   "cell_type": "markdown",
   "metadata": {},
   "source": [
    "### Logistic Regression (Weight)\n",
    "(65%)"
   ]
  },
  {
   "cell_type": "code",
   "execution_count": 91,
   "metadata": {},
   "outputs": [
    {
     "name": "stdout",
     "output_type": "stream",
     "text": [
      "accuracy: \n",
      "0.6587064676616915\n",
      "===================\n",
      "                 precision    recall  f1-score   support\n",
      "\n",
      "    Agriculture       0.00      0.00      0.00        15\n",
      "   Construction       0.41      0.28      0.33        98\n",
      "     Government       0.00      0.00      0.00         1\n",
      "  Manufacturing       0.00      0.00      0.00         6\n",
      "    Real Estate       0.74      0.62      0.67       228\n",
      "   Retail Trade       0.56      0.13      0.21        39\n",
      "       Services       0.65      0.84      0.73       475\n",
      " Transportation       0.73      0.63      0.67       140\n",
      "Wholesale Trade       0.00      0.00      0.00         3\n",
      "\n",
      "    avg / total       0.64      0.66      0.63      1005\n",
      "\n"
     ]
    },
    {
     "name": "stderr",
     "output_type": "stream",
     "text": [
      "C:\\Users\\Paul\\Anaconda3\\lib\\site-packages\\sklearn\\metrics\\classification.py:1135: UndefinedMetricWarning:\n",
      "\n",
      "Precision and F-score are ill-defined and being set to 0.0 in labels with no predicted samples.\n",
      "\n"
     ]
    }
   ],
   "source": [
    "# fit a logistic regression lr_model to the data\n",
    "lr_model = LogisticRegression(C=1.0, class_weight=None, dual=False, fit_intercept=True,\n",
    "          intercept_scaling=1, max_iter=100, multi_class='ovr', n_jobs=1,\n",
    "          penalty='l2', random_state=42, solver='liblinear', tol=0.0001,\n",
    "          verbose=0, warm_start=False)\n",
    "#print(lr_model)\n",
    "lr_model.fit(X_w_train, y_w_train)\n",
    "\n",
    "# make predictions\n",
    "clf2_expected = y_w_test\n",
    "clf2_predicted = lr_model.predict(X_w_test)\n",
    "\n",
    "#print(lr_model.score(X_test, y_test))\n",
    "\n",
    "# summarize the fit of the lr_model\n",
    "print(\"accuracy: \\n\" + str(metrics.accuracy_score(clf2_expected, clf2_predicted)))\n",
    "print('===================')\n",
    "print(metrics.classification_report(clf2_expected, clf2_predicted))"
   ]
  },
  {
   "cell_type": "markdown",
   "metadata": {},
   "source": [
    "### Random Forest (Count)\n",
    "(62%)"
   ]
  },
  {
   "cell_type": "code",
   "execution_count": 92,
   "metadata": {},
   "outputs": [
    {
     "name": "stdout",
     "output_type": "stream",
     "text": [
      "accuracy: \n",
      "0.6238805970149254\n",
      "                 precision    recall  f1-score   support\n",
      "\n",
      "    Agriculture       0.00      0.00      0.00        15\n",
      "   Construction       0.17      0.08      0.11        98\n",
      "     Government       0.00      0.00      0.00         1\n",
      "  Manufacturing       0.00      0.00      0.00         6\n",
      "         Mining       0.00      0.00      0.00         0\n",
      "    Real Estate       0.67      0.61      0.64       228\n",
      "   Retail Trade       0.38      0.21      0.27        39\n",
      "       Services       0.63      0.81      0.71       475\n",
      " Transportation       0.72      0.62      0.67       140\n",
      "Wholesale Trade       0.00      0.00      0.00         3\n",
      "\n",
      "    avg / total       0.59      0.62      0.60      1005\n",
      "\n"
     ]
    },
    {
     "name": "stderr",
     "output_type": "stream",
     "text": [
      "C:\\Users\\Paul\\Anaconda3\\lib\\site-packages\\sklearn\\metrics\\classification.py:1135: UndefinedMetricWarning:\n",
      "\n",
      "Precision and F-score are ill-defined and being set to 0.0 in labels with no predicted samples.\n",
      "\n",
      "C:\\Users\\Paul\\Anaconda3\\lib\\site-packages\\sklearn\\metrics\\classification.py:1137: UndefinedMetricWarning:\n",
      "\n",
      "Recall and F-score are ill-defined and being set to 0.0 in labels with no true samples.\n",
      "\n"
     ]
    }
   ],
   "source": [
    "rf_model = RandomForestClassifier(bootstrap=True, class_weight=None, criterion='gini',\n",
    "            max_depth=None, max_features='auto', max_leaf_nodes=None,\n",
    "            min_impurity_decrease=0.0, min_impurity_split=None,\n",
    "            min_samples_leaf=1, min_samples_split=2,\n",
    "            min_weight_fraction_leaf=0.0, n_estimators=100, n_jobs=1,\n",
    "            oob_score=False, random_state=42, verbose=0, warm_start=False)\n",
    "\n",
    "#print(rf_model)\n",
    "\n",
    "rf_model.fit(X_train, y_train)\n",
    "\n",
    "clf4_expected = y_test\n",
    "clf4_predicted = rf_model.predict(X_test)\n",
    "\n",
    "#print(rf_model.score(X_test,y_test))\n",
    "\n",
    "# summarize the fit of the rf_model\n",
    "print(\"accuracy: \\n\" + str(metrics.accuracy_score(clf4_expected, clf4_predicted)))\n",
    "print(metrics.classification_report(clf4_expected, clf4_predicted))"
   ]
  },
  {
   "cell_type": "markdown",
   "metadata": {},
   "source": [
    "### Random Forest (Weight)\n",
    "(64%)"
   ]
  },
  {
   "cell_type": "code",
   "execution_count": 93,
   "metadata": {},
   "outputs": [
    {
     "name": "stdout",
     "output_type": "stream",
     "text": [
      "accuracy: \n",
      "0.6407960199004975\n",
      "                 precision    recall  f1-score   support\n",
      "\n",
      "    Agriculture       0.50      0.07      0.12        15\n",
      "   Construction       0.25      0.09      0.13        98\n",
      "     Government       0.00      0.00      0.00         1\n",
      "  Manufacturing       0.00      0.00      0.00         6\n",
      "         Mining       0.00      0.00      0.00         0\n",
      "    Real Estate       0.71      0.63      0.67       228\n",
      "   Retail Trade       0.44      0.18      0.25        39\n",
      "       Services       0.63      0.83      0.72       475\n",
      " Transportation       0.75      0.63      0.68       140\n",
      "Wholesale Trade       0.00      0.00      0.00         3\n",
      "\n",
      "    avg / total       0.61      0.64      0.61      1005\n",
      "\n"
     ]
    },
    {
     "name": "stderr",
     "output_type": "stream",
     "text": [
      "C:\\Users\\Paul\\Anaconda3\\lib\\site-packages\\sklearn\\metrics\\classification.py:1135: UndefinedMetricWarning:\n",
      "\n",
      "Precision and F-score are ill-defined and being set to 0.0 in labels with no predicted samples.\n",
      "\n",
      "C:\\Users\\Paul\\Anaconda3\\lib\\site-packages\\sklearn\\metrics\\classification.py:1137: UndefinedMetricWarning:\n",
      "\n",
      "Recall and F-score are ill-defined and being set to 0.0 in labels with no true samples.\n",
      "\n"
     ]
    }
   ],
   "source": [
    "rf_model = RandomForestClassifier(bootstrap=True, class_weight=None, criterion='gini',\n",
    "            max_depth=None, max_features='auto', max_leaf_nodes=None,\n",
    "            min_impurity_decrease=0.0, min_impurity_split=None,\n",
    "            min_samples_leaf=1, min_samples_split=2,\n",
    "            min_weight_fraction_leaf=0.0, n_estimators=100, n_jobs=1,\n",
    "            oob_score=False, random_state=42, verbose=0, warm_start=False)\n",
    "\n",
    "#print(rf_model)\n",
    "\n",
    "rf_model.fit(X_w_train, y_w_train)\n",
    "\n",
    "clf4_expected = y_w_test\n",
    "clf4_predicted = rf_model.predict(X_w_test)\n",
    "\n",
    "#print(rf_model.score(X_test,y_test))\n",
    "\n",
    "# summarize the fit of the rf_model\n",
    "print(\"accuracy: \\n\" + str(metrics.accuracy_score(clf4_expected, clf4_predicted)))\n",
    "print(metrics.classification_report(clf4_expected, clf4_predicted))"
   ]
  },
  {
   "cell_type": "markdown",
   "metadata": {},
   "source": [
    "With the removal of General from the training set all models preformed much better. This is due, more then likely, to the removal of the noise that the General classification created. Logistic regression was still the best model at 66%. DT and RF did show improvement when the weighted tokens were used. "
   ]
  },
  {
   "cell_type": "markdown",
   "metadata": {},
   "source": [
    "## ---------------------------------------------------------------------------------------------------------------------------------\n",
    "# [Round 3]\n",
    "## ---------------------------------------------------------------------------------------------------------------------------------"
   ]
  },
  {
   "cell_type": "markdown",
   "metadata": {},
   "source": [
    "### Changes:\n",
    "- Remove common policy types\n",
    "- Binary = True\n",
    "- Tonenizer(x.split(','))\n",
    "- 80/20 split"
   ]
  },
  {
   "cell_type": "markdown",
   "metadata": {},
   "source": [
    "* Tonenizer(x.split(','))\n",
    "#### This will isolate specific policy types by splitting each token between commas. This will help reduce the feature space to see if this helps provie lift"
   ]
  },
  {
   "cell_type": "markdown",
   "metadata": {},
   "source": [
    "### Count Vectorizer"
   ]
  },
  {
   "cell_type": "code",
   "execution_count": 94,
   "metadata": {},
   "outputs": [
    {
     "name": "stdout",
     "output_type": "stream",
     "text": [
      "(20081, 130)\n"
     ]
    }
   ],
   "source": [
    "cv = CountVectorizer(binary=True, lowercase=True, max_df=1.0, max_features=None, \n",
    "                     min_df=1, ngram_range=(1,1), tokenizer=lambda x: x.split(','))\n",
    "\n",
    "cv_dm = cv.fit_transform(df_drop_gen['CoverageTypes'].values.astype('U'))\n",
    "print(cv_dm.shape)\n",
    "names = cv.get_feature_names()   \n",
    "count = np.sum(cv_dm.toarray(), axis = 0) \n",
    "count2 = count.tolist() \n",
    "count_df = pd.DataFrame(count2, index = names, columns = ['count']) \n",
    "#count_df.sort_values(['count'], ascending = False)[0:100] "
   ]
  },
  {
   "cell_type": "code",
   "execution_count": 95,
   "metadata": {},
   "outputs": [],
   "source": [
    "#count_df.sort_values(['count'], ascending = False)[0:100]"
   ]
  },
  {
   "cell_type": "markdown",
   "metadata": {},
   "source": [
    "### Weights Vectorizer"
   ]
  },
  {
   "cell_type": "code",
   "execution_count": 96,
   "metadata": {},
   "outputs": [
    {
     "name": "stdout",
     "output_type": "stream",
     "text": [
      "(20081, 130)\n"
     ]
    }
   ],
   "source": [
    "wv = TfidfVectorizer(binary=True, lowercase=True, max_df=1.0, max_features=None, \n",
    "                     min_df=1, ngram_range=(1,1), tokenizer=lambda x: x.split(','))\n",
    "\n",
    "wv_dm = wv.fit_transform(df_drop_gen['CoverageTypes'].values.astype('U'))\n",
    "print(wv_dm.shape)\n",
    "names = wv.get_feature_names()   \n",
    "count = np.sum(wv_dm.toarray(), axis = 0) \n",
    "count2 = count.tolist() \n",
    "count_df = pd.DataFrame(count2, index = names, columns = ['count']) \n",
    "#count_df.sort_values(['count'], ascending = False)[0:100] "
   ]
  },
  {
   "cell_type": "markdown",
   "metadata": {},
   "source": [
    "### Test/Train Split (Counts) (80/20)"
   ]
  },
  {
   "cell_type": "code",
   "execution_count": 97,
   "metadata": {},
   "outputs": [
    {
     "name": "stdout",
     "output_type": "stream",
     "text": [
      "(20081, 130)\n",
      "(20081,)\n",
      "(19076, 130)\n",
      "(1005, 130)\n",
      "(19076,)\n",
      "(1005,)\n"
     ]
    }
   ],
   "source": [
    "X = cv_dm.toarray() \n",
    "#print(type(X), X[0:10])\n",
    "print(X.shape)\n",
    "\n",
    "y = df_drop_gen['ClientClassification'].values\n",
    "#print(type(y), y[0:10])\n",
    "print(y.shape)\n",
    "\n",
    "X_train, X_test, y_train, y_test = train_test_split(X, y, test_size=0.05, random_state=42)\n",
    "\n",
    "print(X_train.shape)\n",
    "print(X_test.shape)\n",
    "print(y_train.shape)\n",
    "print(y_test.shape)\n",
    "\n"
   ]
  },
  {
   "cell_type": "markdown",
   "metadata": {},
   "source": [
    "### Test/Train Split (Weights) (80/20)"
   ]
  },
  {
   "cell_type": "code",
   "execution_count": 98,
   "metadata": {},
   "outputs": [
    {
     "name": "stdout",
     "output_type": "stream",
     "text": [
      "(20081, 130)\n",
      "(20081,)\n",
      "(19076, 130)\n",
      "(1005, 130)\n",
      "(19076,)\n",
      "(1005,)\n"
     ]
    }
   ],
   "source": [
    "X_w = wv_dm.toarray()  #remember this is the output from the vectorizer and we are turning it into an array\n",
    "#print(type(X_w), X_w[0:10])\n",
    "print(X_w.shape)\n",
    "\n",
    "\n",
    "y_w = df_drop_gen['ClientClassification'].values #this is an array of labels\n",
    "#print(type(y_w), y[0:10])\n",
    "print(y_w.shape)\n",
    "\n",
    "\n",
    "# train and test on count\n",
    "X_w_train, X_w_test, y_w_train, y_w_test = train_test_split(X_w, y_w, test_size=0.05, random_state=42) #random_state is set seed\n",
    "\n",
    "# function creates 4 output structures - order matters\n",
    "print(X_w_train.shape)\n",
    "print(X_w_test.shape)\n",
    "print(y_w_train.shape)\n",
    "print(y_w_test.shape)"
   ]
  },
  {
   "cell_type": "markdown",
   "metadata": {},
   "source": [
    "### Decision Tree (Count) \n",
    "(55%)"
   ]
  },
  {
   "cell_type": "code",
   "execution_count": 99,
   "metadata": {},
   "outputs": [
    {
     "name": "stdout",
     "output_type": "stream",
     "text": [
      "accuracy: \n",
      "0.5492537313432836\n",
      "===================\n",
      "                 precision    recall  f1-score   support\n",
      "\n",
      "    Agriculture       0.00      0.00      0.00        15\n",
      "   Construction       0.16      0.16      0.16        98\n",
      "     Government       0.00      0.00      0.00         1\n",
      "  Manufacturing       0.00      0.00      0.00         6\n",
      "    Real Estate       0.57      0.60      0.59       228\n",
      "   Retail Trade       0.24      0.18      0.21        39\n",
      "       Services       0.64      0.65      0.65       475\n",
      " Transportation       0.60      0.58      0.59       140\n",
      "Wholesale Trade       0.00      0.00      0.00         3\n",
      "\n",
      "    avg / total       0.54      0.55      0.54      1005\n",
      "\n"
     ]
    },
    {
     "name": "stderr",
     "output_type": "stream",
     "text": [
      "C:\\Users\\Paul\\Anaconda3\\lib\\site-packages\\sklearn\\metrics\\classification.py:1135: UndefinedMetricWarning:\n",
      "\n",
      "Precision and F-score are ill-defined and being set to 0.0 in labels with no predicted samples.\n",
      "\n"
     ]
    }
   ],
   "source": [
    "# fit a Decision Tree dt_model to the data\n",
    "dt_model = DecisionTreeClassifier(class_weight=None, criterion='gini', max_depth=None,\n",
    "            max_features=None, max_leaf_nodes=None,\n",
    "            min_impurity_decrease=0.0, min_impurity_split=None,\n",
    "            min_samples_leaf=1, min_samples_split=2,\n",
    "            min_weight_fraction_leaf=0.0, presort=False, random_state=42,\n",
    "            splitter='best')\n",
    "#print(dt_model)\n",
    "dt_model.fit(X_train, y_train)\n",
    "\n",
    "# make predictions\n",
    "clf1_expected = y_test\n",
    "clf1_predicted = dt_model.predict(X_test)\n",
    "\n",
    "#print(dt_model.score(X_test, y_test))\n",
    "\n",
    "# summarize the fit of the dt_model\n",
    "print(\"accuracy: \\n\" + str(metrics.accuracy_score(clf1_expected, clf1_predicted)))\n",
    "print('===================')\n",
    "print(metrics.classification_report(clf1_expected, clf1_predicted))"
   ]
  },
  {
   "cell_type": "markdown",
   "metadata": {},
   "source": [
    "### Decision Tree (Weights) \n",
    "(55%)"
   ]
  },
  {
   "cell_type": "code",
   "execution_count": 100,
   "metadata": {},
   "outputs": [
    {
     "name": "stdout",
     "output_type": "stream",
     "text": [
      "accuracy: \n",
      "0.5830845771144278\n",
      "===================\n",
      "                 precision    recall  f1-score   support\n",
      "\n",
      "    Agriculture       0.00      0.00      0.00        15\n",
      "   Construction       0.21      0.17      0.19        98\n",
      "     Government       0.00      0.00      0.00         1\n",
      "  Manufacturing       0.00      0.00      0.00         6\n",
      "         Mining       0.00      0.00      0.00         0\n",
      "    Real Estate       0.62      0.64      0.63       228\n",
      "   Retail Trade       0.24      0.21      0.22        39\n",
      "       Services       0.65      0.70      0.67       475\n",
      " Transportation       0.65      0.59      0.62       140\n",
      "Wholesale Trade       0.00      0.00      0.00         3\n",
      "\n",
      "    avg / total       0.57      0.58      0.57      1005\n",
      "\n"
     ]
    },
    {
     "name": "stderr",
     "output_type": "stream",
     "text": [
      "C:\\Users\\Paul\\Anaconda3\\lib\\site-packages\\sklearn\\metrics\\classification.py:1137: UndefinedMetricWarning:\n",
      "\n",
      "Recall and F-score are ill-defined and being set to 0.0 in labels with no true samples.\n",
      "\n"
     ]
    }
   ],
   "source": [
    "# fit a Decision Tree dt_model to the data\n",
    "dt_model = DecisionTreeClassifier(class_weight=None, criterion='gini', max_depth=None,\n",
    "            max_features=None, max_leaf_nodes=None,\n",
    "            min_impurity_decrease=0.0, min_impurity_split=None,\n",
    "            min_samples_leaf=1, min_samples_split=2,\n",
    "            min_weight_fraction_leaf=0.0, presort=False, random_state=42,\n",
    "            splitter='best')\n",
    "#print(dt_model)\n",
    "dt_model.fit(X_w_train, y_w_train)\n",
    "\n",
    "# make predictions\n",
    "clf1_expected = y_w_test\n",
    "clf1_predicted = dt_model.predict(X_w_test)\n",
    "\n",
    "#print(dt_model.score(X_test, y_test))\n",
    "\n",
    "# summarize the fit of the dt_model\n",
    "print(\"accuracy: \\n\" + str(metrics.accuracy_score(clf1_expected, clf1_predicted)))\n",
    "print('===================')\n",
    "print(metrics.classification_report(clf1_expected, clf1_predicted))"
   ]
  },
  {
   "cell_type": "markdown",
   "metadata": {},
   "source": [
    "### Logistic Regression (Count) \n",
    "(66%)"
   ]
  },
  {
   "cell_type": "code",
   "execution_count": 101,
   "metadata": {},
   "outputs": [
    {
     "name": "stdout",
     "output_type": "stream",
     "text": [
      "accuracy: \n",
      "0.6666666666666666\n",
      "===================\n",
      "                 precision    recall  f1-score   support\n",
      "\n",
      "    Agriculture       0.00      0.00      0.00        15\n",
      "   Construction       0.32      0.09      0.14        98\n",
      "     Government       0.00      0.00      0.00         1\n",
      "  Manufacturing       0.00      0.00      0.00         6\n",
      "    Real Estate       0.73      0.67      0.70       228\n",
      "   Retail Trade       0.42      0.13      0.20        39\n",
      "       Services       0.64      0.87      0.74       475\n",
      " Transportation       0.81      0.63      0.71       140\n",
      "Wholesale Trade       0.00      0.00      0.00         3\n",
      "\n",
      "    avg / total       0.63      0.67      0.63      1005\n",
      "\n"
     ]
    },
    {
     "name": "stderr",
     "output_type": "stream",
     "text": [
      "C:\\Users\\Paul\\Anaconda3\\lib\\site-packages\\sklearn\\metrics\\classification.py:1135: UndefinedMetricWarning:\n",
      "\n",
      "Precision and F-score are ill-defined and being set to 0.0 in labels with no predicted samples.\n",
      "\n"
     ]
    }
   ],
   "source": [
    "# fit a logistic regression lr_model to the data\n",
    "lr_model = LogisticRegression(C=1.0, class_weight=None, dual=False, fit_intercept=True,\n",
    "          intercept_scaling=1, max_iter=100, multi_class='ovr', n_jobs=1,\n",
    "          penalty='l1', random_state=None, solver='liblinear', tol=0.0001,\n",
    "          verbose=0, warm_start=False)\n",
    "#print(lr_model)\n",
    "lr_model.fit(X_train, y_train)\n",
    "\n",
    "# make predictions\n",
    "clf2_expected = y_test\n",
    "clf2_predicted = lr_model.predict(X_test)\n",
    "\n",
    "#print(lr_model.score(X_test, y_test))\n",
    "\n",
    "# summarize the fit of the lr_model\n",
    "print(\"accuracy: \\n\" + str(metrics.accuracy_score(clf2_expected, clf2_predicted)))\n",
    "print('===================')\n",
    "print(metrics.classification_report(clf2_expected, clf2_predicted))"
   ]
  },
  {
   "cell_type": "markdown",
   "metadata": {},
   "source": [
    "#### Cross Validation"
   ]
  },
  {
   "cell_type": "code",
   "execution_count": 102,
   "metadata": {},
   "outputs": [
    {
     "name": "stdout",
     "output_type": "stream",
     "text": [
      "Cross Validation Score for each K [0.62955211 0.62756598 0.63689727 0.64807047 0.63785145 0.62903903\n",
      " 0.62819975 0.63853904]\n"
     ]
    },
    {
     "data": {
      "text/plain": [
       "0.6344643882401912"
      ]
     },
     "execution_count": 102,
     "metadata": {},
     "output_type": "execute_result"
    }
   ],
   "source": [
    "#verify DT with Cross Validation\n",
    "scores = cross_val_score(lr_model, X_train, y_train, cv=8)\n",
    "print(\"Cross Validation Score for each K\",scores)\n",
    "scores.mean() "
   ]
  },
  {
   "cell_type": "markdown",
   "metadata": {},
   "source": [
    "### Logistic Regression (Weights) \n",
    "(66%)"
   ]
  },
  {
   "cell_type": "code",
   "execution_count": 103,
   "metadata": {},
   "outputs": [
    {
     "name": "stdout",
     "output_type": "stream",
     "text": [
      "accuracy: \n",
      "0.6656716417910448\n",
      "===================\n",
      "                 precision    recall  f1-score   support\n",
      "\n",
      "    Agriculture       0.00      0.00      0.00        15\n",
      "   Construction       0.42      0.29      0.34        98\n",
      "     Government       0.00      0.00      0.00         1\n",
      "  Manufacturing       0.00      0.00      0.00         6\n",
      "    Real Estate       0.74      0.66      0.69       228\n",
      "   Retail Trade       0.50      0.13      0.20        39\n",
      "       Services       0.66      0.83      0.74       475\n",
      " Transportation       0.74      0.64      0.69       140\n",
      "Wholesale Trade       0.00      0.00      0.00         3\n",
      "\n",
      "    avg / total       0.64      0.67      0.64      1005\n",
      "\n"
     ]
    },
    {
     "name": "stderr",
     "output_type": "stream",
     "text": [
      "C:\\Users\\Paul\\Anaconda3\\lib\\site-packages\\sklearn\\metrics\\classification.py:1135: UndefinedMetricWarning:\n",
      "\n",
      "Precision and F-score are ill-defined and being set to 0.0 in labels with no predicted samples.\n",
      "\n"
     ]
    }
   ],
   "source": [
    "# fit a logistic regression lr_model to the data\n",
    "lr_model = LogisticRegression(C=1.0, class_weight=None, dual=False, fit_intercept=True,\n",
    "          intercept_scaling=1, max_iter=100, multi_class='ovr', n_jobs=1,\n",
    "          penalty='l1', random_state=42, solver='liblinear', tol=0.0001,\n",
    "          verbose=0, warm_start=False)\n",
    "#print(lr_model)\n",
    "lr_model.fit(X_w_train, y_w_train)\n",
    "\n",
    "# make predictions\n",
    "clf2_expected = y_w_test\n",
    "clf2_predicted = lr_model.predict(X_w_test)\n",
    "\n",
    "#print(lr_model.score(X_test, y_test))\n",
    "\n",
    "# summarize the fit of the lr_model\n",
    "print(\"accuracy: \\n\" + str(metrics.accuracy_score(clf2_expected, clf2_predicted)))\n",
    "print('===================')\n",
    "print(metrics.classification_report(clf2_expected, clf2_predicted))"
   ]
  },
  {
   "cell_type": "code",
   "execution_count": 104,
   "metadata": {},
   "outputs": [
    {
     "name": "stdout",
     "output_type": "stream",
     "text": [
      "Cross Validation Score for each K [0.62955211 0.62756598 0.63689727 0.64807047 0.63785145 0.62903903\n",
      " 0.62819975 0.63853904]\n"
     ]
    },
    {
     "data": {
      "text/plain": [
       "0.6344643882401912"
      ]
     },
     "execution_count": 104,
     "metadata": {},
     "output_type": "execute_result"
    }
   ],
   "source": [
    "scores = cross_val_score(lr_model, X_train, y_train, cv=8)\n",
    "print(\"Cross Validation Score for each K\",scores)\n",
    "scores.mean() "
   ]
  },
  {
   "cell_type": "markdown",
   "metadata": {},
   "source": [
    "### Random Forest (Count) \n",
    "(63%%)"
   ]
  },
  {
   "cell_type": "code",
   "execution_count": 105,
   "metadata": {},
   "outputs": [
    {
     "name": "stdout",
     "output_type": "stream",
     "text": [
      "accuracy: \n",
      "0.6328358208955224\n",
      "                 precision    recall  f1-score   support\n",
      "\n",
      "    Agriculture       0.00      0.00      0.00        15\n",
      "   Construction       0.18      0.08      0.11        98\n",
      "     Government       0.00      0.00      0.00         1\n",
      "  Manufacturing       0.50      0.17      0.25         6\n",
      "         Mining       0.00      0.00      0.00         0\n",
      "    Real Estate       0.70      0.62      0.66       228\n",
      "   Retail Trade       0.37      0.18      0.24        39\n",
      "       Services       0.64      0.82      0.72       475\n",
      " Transportation       0.74      0.64      0.68       140\n",
      "Wholesale Trade       0.00      0.00      0.00         3\n",
      "\n",
      "    avg / total       0.60      0.63      0.60      1005\n",
      "\n"
     ]
    },
    {
     "name": "stderr",
     "output_type": "stream",
     "text": [
      "C:\\Users\\Paul\\Anaconda3\\lib\\site-packages\\sklearn\\metrics\\classification.py:1135: UndefinedMetricWarning:\n",
      "\n",
      "Precision and F-score are ill-defined and being set to 0.0 in labels with no predicted samples.\n",
      "\n",
      "C:\\Users\\Paul\\Anaconda3\\lib\\site-packages\\sklearn\\metrics\\classification.py:1137: UndefinedMetricWarning:\n",
      "\n",
      "Recall and F-score are ill-defined and being set to 0.0 in labels with no true samples.\n",
      "\n"
     ]
    }
   ],
   "source": [
    "rf_model = RandomForestClassifier(bootstrap=True, class_weight= None, criterion='gini',\n",
    "            max_depth=None, max_features='auto', max_leaf_nodes=None,\n",
    "            min_impurity_decrease=0.0, min_impurity_split=None,\n",
    "            min_samples_leaf=1, min_samples_split=2,\n",
    "            min_weight_fraction_leaf=0.0, n_estimators=100, n_jobs=1,\n",
    "            oob_score=False, random_state=42, verbose=0, warm_start=False)\n",
    "\n",
    "#print(rf_model)\n",
    "\n",
    "rf_model.fit(X_train, y_train)\n",
    "\n",
    "clf4_expected = y_test\n",
    "clf4_predicted = rf_model.predict(X_test)\n",
    "\n",
    "#print(rf_model.score(X_test,y_test))\n",
    "\n",
    "# summarize the fit of the rf_model\n",
    "print(\"accuracy: \\n\" + str(metrics.accuracy_score(clf4_expected, clf4_predicted)))\n",
    "print(metrics.classification_report(clf4_expected, clf4_predicted))"
   ]
  },
  {
   "cell_type": "markdown",
   "metadata": {},
   "source": [
    "### Random Forest (Weights) \n",
    "(65%)"
   ]
  },
  {
   "cell_type": "code",
   "execution_count": 106,
   "metadata": {},
   "outputs": [
    {
     "name": "stderr",
     "output_type": "stream",
     "text": [
      "[Parallel(n_jobs=1)]: Done 100 out of 100 | elapsed:   13.9s finished\n"
     ]
    },
    {
     "name": "stdout",
     "output_type": "stream",
     "text": [
      "accuracy: \n",
      "0.6447761194029851\n",
      "                 precision    recall  f1-score   support\n",
      "\n",
      "    Agriculture       0.00      0.00      0.00        15\n",
      "   Construction       0.20      0.07      0.11        98\n",
      "     Government       0.00      0.00      0.00         1\n",
      "  Manufacturing       0.00      0.00      0.00         6\n",
      "    Real Estate       0.73      0.62      0.67       228\n",
      "   Retail Trade       0.47      0.18      0.26        39\n",
      "       Services       0.63      0.86      0.73       475\n",
      " Transportation       0.75      0.61      0.67       140\n",
      "Wholesale Trade       0.00      0.00      0.00         3\n",
      "\n",
      "    avg / total       0.61      0.64      0.61      1005\n",
      "\n"
     ]
    },
    {
     "name": "stderr",
     "output_type": "stream",
     "text": [
      "[Parallel(n_jobs=1)]: Done 100 out of 100 | elapsed:    0.0s finished\n",
      "C:\\Users\\Paul\\Anaconda3\\lib\\site-packages\\sklearn\\metrics\\classification.py:1135: UndefinedMetricWarning:\n",
      "\n",
      "Precision and F-score are ill-defined and being set to 0.0 in labels with no predicted samples.\n",
      "\n"
     ]
    }
   ],
   "source": [
    "rf_model = RandomForestClassifier(bootstrap=True, class_weight=None, criterion='entropy',\n",
    "            max_depth=None, max_features='auto', max_leaf_nodes=None,\n",
    "            min_impurity_decrease=0.0, min_impurity_split=None,\n",
    "            min_samples_leaf=1, min_samples_split=2,\n",
    "            min_weight_fraction_leaf=0.0, n_estimators=100, n_jobs=1,\n",
    "            oob_score=True, random_state=42, verbose=1, warm_start=False)\n",
    "\n",
    "#print(rf_model)\n",
    "\n",
    "rf_model.fit(X_w_train, y_w_train)\n",
    "\n",
    "clf4_expected = y_w_test\n",
    "clf4_predicted = rf_model.predict(X_w_test)\n",
    "\n",
    "#print(rf_model.score(X_test,y_test))\n",
    "\n",
    "# summarize the fit of the rf_model\n",
    "print(\"accuracy: \\n\" + str(metrics.accuracy_score(clf4_expected, clf4_predicted)))\n",
    "print(metrics.classification_report(clf4_expected, clf4_predicted))"
   ]
  },
  {
   "cell_type": "markdown",
   "metadata": {},
   "source": [
    "Changing the train/test split to 80/20 was done to make sure overfitting was not taking place. Additonally, cross validaiton was ran on Logistic Regression to check for overiftting. Results show that overfitting is mot likely not happening. Results were consistent with LR performing the best and quickest to run. "
   ]
  },
  {
   "cell_type": "markdown",
   "metadata": {},
   "source": [
    "## ---------------------------------------------------------------------------------------------------------------------------------\n",
    "# [Round 4]\n",
    "## ---------------------------------------------------------------------------------------------------------------------------------"
   ]
  },
  {
   "cell_type": "markdown",
   "metadata": {},
   "source": [
    "# Logistic Regression \n",
    "    using \"OVR\" (one versus rest)"
   ]
  },
  {
   "cell_type": "code",
   "execution_count": 107,
   "metadata": {},
   "outputs": [
    {
     "name": "stdout",
     "output_type": "stream",
     "text": [
      "accuracy: \n",
      "0.6656716417910448\n",
      "===================\n",
      "                 precision    recall  f1-score   support\n",
      "\n",
      "    Agriculture       0.00      0.00      0.00        15\n",
      "   Construction       0.32      0.09      0.14        98\n",
      "     Government       0.00      0.00      0.00         1\n",
      "  Manufacturing       0.00      0.00      0.00         6\n",
      "    Real Estate       0.73      0.67      0.70       228\n",
      "   Retail Trade       0.42      0.13      0.20        39\n",
      "       Services       0.64      0.87      0.74       475\n",
      " Transportation       0.80      0.63      0.70       140\n",
      "Wholesale Trade       0.00      0.00      0.00         3\n",
      "\n",
      "    avg / total       0.63      0.67      0.63      1005\n",
      "\n"
     ]
    },
    {
     "name": "stderr",
     "output_type": "stream",
     "text": [
      "C:\\Users\\Paul\\Anaconda3\\lib\\site-packages\\sklearn\\metrics\\classification.py:1135: UndefinedMetricWarning:\n",
      "\n",
      "Precision and F-score are ill-defined and being set to 0.0 in labels with no predicted samples.\n",
      "\n"
     ]
    }
   ],
   "source": [
    "# fit a logistic regression lr_model to the data\n",
    "lr_model = LogisticRegression(C=1.0, class_weight=None, dual=False, fit_intercept=True,\n",
    "          intercept_scaling=1, max_iter=100, multi_class='ovr', n_jobs=1,\n",
    "          penalty='l2', random_state=None, solver='liblinear', tol=0.0001,\n",
    "          verbose=0, warm_start=False)\n",
    "#print(lr_model)\n",
    "lr_model.fit(X_train, y_train)\n",
    "\n",
    "# make predictions\n",
    "clf2_expected = y_test\n",
    "clf2_predicted = lr_model.predict(X_test)\n",
    "\n",
    "#print(lr_model.score(X_test, y_test))\n",
    "\n",
    "# summarize the fit of the lr_model\n",
    "print(\"accuracy: \\n\" + str(metrics.accuracy_score(clf2_expected, clf2_predicted)))\n",
    "print('===================')\n",
    "print(metrics.classification_report(clf2_expected, clf2_predicted))"
   ]
  },
  {
   "cell_type": "markdown",
   "metadata": {},
   "source": [
    "# Logistic Regression \n",
    "    using \"Multinomial\" "
   ]
  },
  {
   "cell_type": "code",
   "execution_count": 108,
   "metadata": {},
   "outputs": [
    {
     "name": "stdout",
     "output_type": "stream",
     "text": [
      "accuracy: \n",
      "0.6567164179104478\n",
      "===================\n",
      "                 precision    recall  f1-score   support\n",
      "\n",
      "    Agriculture       0.00      0.00      0.00        15\n",
      "   Construction       0.34      0.11      0.17        98\n",
      "     Government       0.00      0.00      0.00         1\n",
      "  Manufacturing       0.00      0.00      0.00         6\n",
      "    Real Estate       0.71      0.64      0.67       228\n",
      "   Retail Trade       0.40      0.15      0.22        39\n",
      "       Services       0.64      0.86      0.73       475\n",
      " Transportation       0.79      0.64      0.70       140\n",
      "Wholesale Trade       0.00      0.00      0.00         3\n",
      "\n",
      "    avg / total       0.62      0.66      0.62      1005\n",
      "\n"
     ]
    },
    {
     "name": "stderr",
     "output_type": "stream",
     "text": [
      "C:\\Users\\Paul\\Anaconda3\\lib\\site-packages\\sklearn\\linear_model\\sag.py:326: ConvergenceWarning:\n",
      "\n",
      "The max_iter was reached which means the coef_ did not converge\n",
      "\n",
      "C:\\Users\\Paul\\Anaconda3\\lib\\site-packages\\sklearn\\metrics\\classification.py:1135: UndefinedMetricWarning:\n",
      "\n",
      "Precision and F-score are ill-defined and being set to 0.0 in labels with no predicted samples.\n",
      "\n"
     ]
    }
   ],
   "source": [
    "# fit a logistic regression lr_model to the data\n",
    "lr_model = LogisticRegression(C=1.0, class_weight=None, dual=False, fit_intercept=True,\n",
    "          intercept_scaling=1, max_iter=100, multi_class='multinomial', n_jobs=1,\n",
    "          penalty='l1', random_state=None, solver='saga', tol=0.0001,\n",
    "          verbose=0, warm_start=False)\n",
    "#print(lr_model)\n",
    "lr_model.fit(X_train, y_train)\n",
    "\n",
    "# make predictions\n",
    "clf2_expected = y_test\n",
    "clf2_predicted = lr_model.predict(X_test)\n",
    "\n",
    "#print(lr_model.score(X_test, y_test))\n",
    "\n",
    "# summarize the fit of the lr_model\n",
    "print(\"accuracy: \\n\" + str(metrics.accuracy_score(clf2_expected, clf2_predicted)))\n",
    "print('===================')\n",
    "print(metrics.classification_report(clf2_expected, clf2_predicted))"
   ]
  },
  {
   "cell_type": "markdown",
   "metadata": {},
   "source": [
    "# Looping Logistic Regression (running OVR and Multinomial with saga solver)\n",
    "  code borrowed from scikitlearn website"
   ]
  },
  {
   "cell_type": "code",
   "execution_count": 109,
   "metadata": {},
   "outputs": [
    {
     "name": "stdout",
     "output_type": "stream",
     "text": [
      "Automatically created module for IPython interactive environment\n",
      "Dataset 20newsgroup, train_samples=19076, n_features=130, n_classes=10\n",
      "[model=One versus Rest, solver=saga] Number of epochs: 1\n"
     ]
    },
    {
     "name": "stderr",
     "output_type": "stream",
     "text": [
      "C:\\Users\\Paul\\Anaconda3\\lib\\site-packages\\sklearn\\linear_model\\sag.py:326: ConvergenceWarning:\n",
      "\n",
      "The max_iter was reached which means the coef_ did not converge\n",
      "\n"
     ]
    },
    {
     "name": "stdout",
     "output_type": "stream",
     "text": [
      "[model=One versus Rest, solver=saga] Number of epochs: 3\n",
      "[model=One versus Rest, solver=saga] Number of epochs: 7\n",
      "Test accuracy for model ovr: 0.6667\n",
      "% non-zero coefficients for model ovr, per class:\n",
      " [63.07692308 83.07692308 33.84615385 44.61538462 50.         93.07692308\n",
      " 66.92307692 93.07692308 93.07692308 36.15384615]\n",
      "Run time (7 epochs) for model ovr:6.21\n",
      "[model=Multinomial, solver=saga] Number of epochs: 1\n",
      "[model=Multinomial, solver=saga] Number of epochs: 3\n",
      "[model=Multinomial, solver=saga] Number of epochs: 7\n",
      "Test accuracy for model multinomial: 0.6587\n",
      "% non-zero coefficients for model multinomial, per class:\n",
      " [58.46153846 81.53846154 21.53846154 34.61538462 40.         90.76923077\n",
      " 60.76923077 90.76923077 90.76923077 24.61538462]\n",
      "Run time (7 epochs) for model multinomial:3.95\n",
      "Example run in 16.759 s\n"
     ]
    },
    {
     "data": {
      "image/png": "[encoded data removed]",
      "text/plain": [
       "<matplotlib.figure.Figure at 0x22638e0b198>"
      ]
     },
     "metadata": {},
     "output_type": "display_data"
    }
   ],
   "source": [
    "import time\n",
    "\n",
    "import matplotlib.pyplot as plt\n",
    "import numpy as np\n",
    "\n",
    "from sklearn.datasets import fetch_20newsgroups_vectorized\n",
    "from sklearn.linear_model import LogisticRegression\n",
    "from sklearn.model_selection import train_test_split\n",
    "\n",
    "print(__doc__)\n",
    "# Author: Arthur Mensch\n",
    "\n",
    "t0 = time.clock()\n",
    "\n",
    "# We use SAGA solver\n",
    "solver = 'saga'\n",
    "\n",
    "# Turn down for faster run time\n",
    "n_samples = 10000\n",
    "\n",
    "# Memorized fetch_rcv1 for faster access\n",
    "#dataset = fetch_20newsgroups_vectorized('all')\n",
    "#X = dataset.data\n",
    "#y = dataset.target\n",
    "#X = X[:n_samples]\n",
    "#y = y[:n_samples]\n",
    "\n",
    "#X_train, X_test, y_train, y_test = train_test_split(X, y,\n",
    "                                                    #random_state=42,\n",
    "                                                    #stratify=y,\n",
    "                                                    #test_size=0.1)\n",
    "train_samples, n_features = X_train.shape\n",
    "n_classes = np.unique(y).shape[0]\n",
    "\n",
    "print('Dataset 20newsgroup, train_samples=%i, n_features=%i, n_classes=%i'\n",
    "      % (train_samples, n_features, n_classes))\n",
    "\n",
    "models = {'ovr': {'name': 'One versus Rest', 'iters': [1, 3, 7]},\n",
    "          'multinomial': {'name': 'Multinomial', 'iters': [1, 3, 7]}}\n",
    "\n",
    "for model in models:\n",
    "    # Add initial chance-level values for plotting purpose\n",
    "    accuracies = [1 / n_classes]\n",
    "    times = [0]\n",
    "    densities = [1]\n",
    "\n",
    "    model_params = models[model]\n",
    "\n",
    "    # Small number of epochs for fast runtime\n",
    "    for this_max_iter in model_params['iters']:\n",
    "        print('[model=%s, solver=%s] Number of epochs: %s' %\n",
    "              (model_params['name'], solver, this_max_iter))\n",
    "        lr = LogisticRegression(solver=solver,\n",
    "                                multi_class=model,\n",
    "                                C=1,\n",
    "                                penalty='l1',\n",
    "                                fit_intercept=True,\n",
    "                                max_iter=this_max_iter,\n",
    "                                random_state=42,\n",
    "                                )\n",
    "        t1 = time.clock()\n",
    "        lr.fit(X_train, y_train)\n",
    "        train_time = time.clock() - t1\n",
    "\n",
    "        y_pred = lr.predict(X_test)\n",
    "        accuracy = np.sum(y_pred == y_test) / y_test.shape[0]\n",
    "        density = np.mean(lr.coef_ != 0, axis=1) * 100\n",
    "        accuracies.append(accuracy)\n",
    "        densities.append(density)\n",
    "        times.append(train_time)\n",
    "    models[model]['times'] = times\n",
    "    models[model]['densities'] = densities\n",
    "    models[model]['accuracies'] = accuracies\n",
    "    print('Test accuracy for model %s: %.4f' % (model, accuracies[-1]))\n",
    "    print('%% non-zero coefficients for model %s, '\n",
    "          'per class:\\n %s' % (model, densities[-1]))\n",
    "    print('Run time (%i epochs) for model %s:'\n",
    "          '%.2f' % (model_params['iters'][-1], model, times[-1]))\n",
    "\n",
    "fig = plt.figure()\n",
    "ax = fig.add_subplot(111)\n",
    "\n",
    "for model in models:\n",
    "    name = models[model]['name']\n",
    "    times = models[model]['times']\n",
    "    accuracies = models[model]['accuracies']\n",
    "    ax.plot(times, accuracies, marker='o',\n",
    "            label='Model: %s' % name)\n",
    "    ax.set_xlabel('Train time (s)')\n",
    "    ax.set_ylabel('Test accuracy')\n",
    "ax.legend()\n",
    "fig.suptitle('Multinomial vs One-vs-Rest Logistic L1\\n'\n",
    "             'Dataset %s' % '20newsgroups')\n",
    "fig.tight_layout()\n",
    "fig.subplots_adjust(top=0.85)\n",
    "run_time = time.clock() - t0\n",
    "print('Example run in %.3f s' % run_time)\n",
    "plt.show()"
   ]
  },
  {
   "cell_type": "markdown",
   "metadata": {},
   "source": [
    "This was an experiment to see if LR would work better with different multiclass settings. OVR was still the better of the two types. \n",
    "\n",
    "Moving forward we will look to run policy types we scrape from client websites through the model we chose. Logistic Regression will more then likely be the model of choice because of the accuracy of the model the speed it complete the task. Random Forest would also be considered but accuracy would need to improve and consideration would need to be made when speed of completion is deemed important.  "
   ]
  }
 ],
 "metadata": {
  "kernelspec": {
   "display_name": "Python 3",
   "language": "python",
   "name": "python3"
  },
  "language_info": {
   "codemirror_mode": {
    "name": "ipython",
    "version": 3
   },
   "file_extension": ".py",
   "mimetype": "text/x-python",
   "name": "python",
   "nbconvert_exporter": "python",
   "pygments_lexer": "ipython3",
   "version": "3.6.4"
  }
 },
 "nbformat": 4,
 "nbformat_minor": 2
}
