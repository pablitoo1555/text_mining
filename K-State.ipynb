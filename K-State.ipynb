{
 "cells": [
  {
   "cell_type": "code",
   "execution_count": 44,
   "metadata": {},
   "outputs": [],
   "source": [
    "import datetime\n",
    "import xlsxwriter\n",
    "import sys\n",
    "\n",
    "#------------------------------------\n",
    "\n",
    "import pandas as pd\n",
    "from __future__ import division\n",
    "import numpy as np \n",
    "from nltk.corpus import stopwords\n",
    "import nltk\n",
    "from sklearn.feature_extraction.text import CountVectorizer\n",
    "import math"
   ]
  },
  {
   "cell_type": "code",
   "execution_count": 45,
   "metadata": {},
   "outputs": [],
   "source": [
    "\n",
    "# startDate = datetime.datetime(2018, 12, 7, 0, 0, 0)\n",
    "# #endDate =   datetime.datetime(2018, 12, 12, 0, 0, 0)\n",
    "# username= 'Kstate'\n",
    "# date = '1206'\n",
    "\n",
    "# results = []\n",
    "# tmpTweets = tweepy.Cursor(api.search, q='k-state-filter:retweets',start = '2018-12-05' , until = '2018-12-07').items(500)\n",
    "# for tweet in tmpTweets:\n",
    "#     results.append(tweet)\n",
    "# #    if tweet.created_at == startDate:\n",
    "# #        results.append(tweet)\n",
    "\n",
    "# #while (tmpTweets[-1].created_at > startDate):\n",
    "# #    print(\"Last Tweet @\", tmpTweets[-1].created_at, \" - fetching some more\")\n",
    "# #    tmpTweets = api.user_timeline(username, max_id = tmpTweets[-1].id)\n",
    "# #    for tweet in tmpTweets:\n",
    "# #        if tweet.created_at < endDate and tweet.created_at > startDate:\n",
    "# #            tweets.append(tweet)\n",
    "\n",
    "# workbook = xlsxwriter.Workbook(username + date + \".xlsx\")\n",
    "# worksheet = workbook.add_worksheet()\n",
    "# row = 0\n",
    "# for tweet in results:\n",
    "#     worksheet.write_string(row, 0, str(tweet.id))\n",
    "#     worksheet.write_string(row, 1, str(tweet.created_at))\n",
    "#     worksheet.write(row, 2, tweet.text)\n",
    "#     worksheet.write_string(row, 3, str(tweet.in_reply_to_status_id))\n",
    "#     row += 1\n",
    "\n",
    "# workbook.close()\n",
    "# print(\"Excel file ready\")\n",
    "    \n",
    "\n",
    "# print(len(results))"
   ]
  },
  {
   "cell_type": "code",
   "execution_count": 46,
   "metadata": {},
   "outputs": [
    {
     "name": "stdout",
     "output_type": "stream",
     "text": [
      "<class 'pandas.core.frame.DataFrame'>\n",
      "['ID ', 'DateTime', 'Date', 'Tweet']\n"
     ]
    }
   ],
   "source": [
    "df = pd.read_csv('C://Users//Paul//Desktop//K-State//Master.csv', encoding=\"ISO-8859-1\")\n",
    "print(type(df))\n",
    "print(list(df))"
   ]
  },
  {
   "cell_type": "code",
   "execution_count": 47,
   "metadata": {},
   "outputs": [
    {
     "data": {
      "text/html": [
       "<div>\n",
       "<style scoped>\n",
       "    .dataframe tbody tr th:only-of-type {\n",
       "        vertical-align: middle;\n",
       "    }\n",
       "\n",
       "    .dataframe tbody tr th {\n",
       "        vertical-align: top;\n",
       "    }\n",
       "\n",
       "    .dataframe thead th {\n",
       "        text-align: right;\n",
       "    }\n",
       "</style>\n",
       "<table border=\"1\" class=\"dataframe\">\n",
       "  <thead>\n",
       "    <tr style=\"text-align: right;\">\n",
       "      <th></th>\n",
       "      <th>ID</th>\n",
       "      <th>DateTime</th>\n",
       "      <th>Date</th>\n",
       "      <th>Tweet</th>\n",
       "    </tr>\n",
       "  </thead>\n",
       "  <tbody>\n",
       "    <tr>\n",
       "      <th>0</th>\n",
       "      <td>1070829950125645825</td>\n",
       "      <td>2018-12-06 23:58:49</td>\n",
       "      <td>2018-12-06</td>\n",
       "      <td>@LarryWilliamsTI I didnt think so either. Appears we should have the entire back next year which is great. Ive se",
       " https://t.co/0Fdg0UGoRA</td>\n",
       "    </tr>\n",
       "    <tr>\n",
       "      <th>1</th>\n",
       "      <td>1070829280563814401</td>\n",
       "      <td>2018-12-06 23:56:10</td>\n",
       "      <td>2018-12-06</td>\n",
       "      <td>@Drewclifton You obviously don't know anything about K-State before Snyder</td>\n",
       "    </tr>\n",
       "    <tr>\n",
       "      <th>2</th>\n",
       "      <td>1070828966817206272</td>\n",
       "      <td>2018-12-06 23:54:55</td>\n",
       "      <td>2018-12-06</td>\n",
       "      <td>@ElCraig31 Saban aint got NOTHIN on K-State crop judging. #EMAW</td>\n",
       "    </tr>\n",
       "    <tr>\n",
       "      <th>3</th>\n",
       "      <td>1070827065681821697</td>\n",
       "      <td>2018-12-06 23:47:22</td>\n",
       "      <td>2018-12-06</td>\n",
       "      <td>Congratulations to the K-State Crops team in winning the national championship!!! ?????? https://t.co/F0OBjxphJh</td>\n",
       "    </tr>\n",
       "    <tr>\n",
       "      <th>4</th>\n",
       "      <td>1070826903496478721</td>\n",
       "      <td>2018-12-06 23:46:43</td>\n",
       "      <td>2018-12-06</td>\n",
       "      <td>@Trevorstange How was K-State</td>\n",
       "    </tr>\n",
       "  </tbody>\n",
       "</table>\n",
       "</div>"
      ],
      "text/plain": [
       "                   ID              DateTime        Date  \\\n",
       "0  1070829950125645825  2018-12-06 23:58:49  2018-12-06   \n",
       "1  1070829280563814401  2018-12-06 23:56:10  2018-12-06   \n",
       "2  1070828966817206272  2018-12-06 23:54:55  2018-12-06   \n",
       "3  1070827065681821697  2018-12-06 23:47:22  2018-12-06   \n",
       "4  1070826903496478721  2018-12-06 23:46:43  2018-12-06   \n",
       "\n",
       "                                                                                                                                          Tweet  \n",
       "0  @LarryWilliamsTI I didnt think so either. Appears we should have the entire back next year which is great. Ive se\n",
       " https://t.co/0Fdg0UGoRA  \n",
       "1                                                                    @Drewclifton You obviously don't know anything about K-State before Snyder  \n",
       "2                                                                              @ElCraig31 Saban aint got NOTHIN on K-State crop judging. #EMAW  \n",
       "3                              Congratulations to the K-State Crops team in winning the national championship!!! ?????? https://t.co/F0OBjxphJh  \n",
       "4                                                                                                                 @Trevorstange How was K-State  "
      ]
     },
     "execution_count": 47,
     "metadata": {},
     "output_type": "execute_result"
    }
   ],
   "source": [
    "pd.set_option('display.max_colwidth', 200)\n",
    "\n",
    "df.head()"
   ]
  },
  {
   "cell_type": "code",
   "execution_count": 48,
   "metadata": {},
   "outputs": [
    {
     "name": "stdout",
     "output_type": "stream",
     "text": [
      "179\n",
      "185\n"
     ]
    }
   ],
   "source": [
    "nltk_stopwords = stopwords.words(\"english\")\n",
    "my_stopwords = nltk_stopwords + ['https', '00', '000', 'state', 'co', 'tulsa']\n",
    "print(len(nltk_stopwords))\n",
    "print(len(my_stopwords))"
   ]
  },
  {
   "cell_type": "code",
   "execution_count": 49,
   "metadata": {},
   "outputs": [
    {
     "name": "stdout",
     "output_type": "stream",
     "text": [
      "(2579, 25318)\n"
     ]
    },
    {
     "data": {
      "text/plain": [
       "['009',\n",
       " '009 fair',\n",
       " '05',\n",
       " '05 2nd',\n",
       " '05 austinmeekrg',\n",
       " '05aqn81pfq',\n",
       " '08',\n",
       " '08 left',\n",
       " '08 remaining',\n",
       " '09']"
      ]
     },
     "execution_count": 49,
     "metadata": {},
     "output_type": "execute_result"
    }
   ],
   "source": [
    "cv = CountVectorizer(binary = False, ngram_range= (1,2), stop_words= my_stopwords)\n",
    "cv_chat = cv.fit_transform(df['Tweet'])\n",
    "\n",
    "print(cv1_chat.shape)\n",
    "\n",
    "# features \n",
    "cv_features= cv.get_feature_names()\n",
    "cv_features[:10]"
   ]
  },
  {
   "cell_type": "code",
   "execution_count": 50,
   "metadata": {},
   "outputs": [
    {
     "name": "stdout",
     "output_type": "stream",
     "text": [
      "<class 'list'> 25063\n",
      "\n",
      "We started with 25063 and we ended with 25063\n",
      "\n",
      "                count\n",
      "coach             394\n",
      "klieman           377\n",
      "football          234\n",
      "chris             199\n",
      "fans              195\n",
      "chris klieman     188\n",
      "hire              157\n",
      "snyder            151\n",
      "new               147\n",
      "head              137\n",
      "like              137\n",
      "would             106\n",
      "team              105\n",
      "good              102\n",
      "think             100\n",
      "job               100\n",
      "bill              100\n",
      "one                97\n",
      "ndsu               93\n",
      "get                91\n",
      "head coach         91\n",
      "great              89\n",
      "littrell           88\n",
      "time               87\n",
      "bill snyder        87\n",
      "going              84\n",
      "fan                84\n",
      "game               80\n",
      "north              79\n",
      "kansas             77\n",
      "kstatefb           75\n",
      "big                75\n",
      "first              73\n",
      "win                72\n",
      "coaching           72\n",
      "today              68\n",
      "kstateadgt         67\n",
      "year               65\n",
      "want               63\n",
      "back               63\n",
      "basketball         63\n",
      "texas              63\n",
      "coachkli           62\n",
      "go                 61\n",
      "last               58\n",
      "football coach     58\n",
      "right              56\n",
      "12                 55\n",
      "amp                54\n",
      "seth               54\n"
     ]
    }
   ],
   "source": [
    "names = cv.get_feature_names()   #create list of feature names\n",
    "print(type(names), len(names))\n",
    "\n",
    "count = np.sum(cv_chat.toarray(), axis = 0) # convert list to array to add up feature counts \n",
    "count2 = count.tolist()  # convert numpy array to list\n",
    "\n",
    "print(\"\") #this is just to add a break in the output\n",
    "print(\"We started with\", len(names), \"and we ended with\",len(count2))\n",
    "print(\"\")\n",
    "\n",
    "count_df = pd.DataFrame(count2, index = names, columns = ['count']) # create a dataframe from the list\n",
    "sorted_count = count_df.sort_values(['count'], ascending = False)  #arrange by count instead\n",
    "print(sorted_count.head(50))"
   ]
  },
  {
   "cell_type": "code",
   "execution_count": 55,
   "metadata": {},
   "outputs": [],
   "source": [
    "def hl_sent(inputstring):\n",
    "\n",
    "    poscount = 0\n",
    "    negcount = 0\n",
    "    \n",
    "    for word in inputstring.split(): \n",
    "        if HLpos.count(word.rstrip('?:!.,;')):\n",
    "            poscount +=1\n",
    "        elif HLneg.count(word.rstrip('?:!.,;')):\n",
    "            negcount +=1\n",
    "     \n",
    "    \n",
    "    if poscount+negcount > 0:\n",
    "        t = float((poscount - negcount)/(poscount+negcount))    \n",
    "    else:\n",
    "        t = 0\n",
    "    \n",
    "    \n",
    "    if t > 0:\n",
    "        tone = \"Positive\"\n",
    "    elif t < 0:\n",
    "        tone = \"Negative\"\n",
    "    else:\n",
    "        tone = \"Neutral\"\n",
    "    \n",
    "    return tone"
   ]
  },
  {
   "cell_type": "code",
   "execution_count": 54,
   "metadata": {},
   "outputs": [
    {
     "ename": "NameError",
     "evalue": "name 'HLpos' is not defined",
     "output_type": "error",
     "traceback": [
      "\u001b[1;31m---------------------------------------------------------------------------\u001b[0m",
      "\u001b[1;31mNameError\u001b[0m                                 Traceback (most recent call last)",
      "\u001b[1;32m<ipython-input-54-d665657fd5a8>\u001b[0m in \u001b[0;36m<module>\u001b[1;34m()\u001b[0m\n\u001b[1;32m----> 1\u001b[1;33m \u001b[0mdf\u001b[0m\u001b[1;33m[\u001b[0m\u001b[1;34m'hlsent'\u001b[0m\u001b[1;33m]\u001b[0m \u001b[1;33m=\u001b[0m \u001b[0mdf\u001b[0m\u001b[1;33m[\u001b[0m\u001b[1;34m'Tweet'\u001b[0m\u001b[1;33m]\u001b[0m\u001b[1;33m.\u001b[0m\u001b[0mapply\u001b[0m\u001b[1;33m(\u001b[0m\u001b[1;32mlambda\u001b[0m \u001b[0mx\u001b[0m\u001b[1;33m:\u001b[0m \u001b[0mhl_sent\u001b[0m\u001b[1;33m(\u001b[0m\u001b[0mx\u001b[0m\u001b[1;33m)\u001b[0m\u001b[1;33m)\u001b[0m\u001b[1;33m\u001b[0m\u001b[0m\n\u001b[0m",
      "\u001b[1;32m~\\Anaconda3\\lib\\site-packages\\pandas\\core\\series.py\u001b[0m in \u001b[0;36mapply\u001b[1;34m(self, func, convert_dtype, args, **kwds)\u001b[0m\n\u001b[0;32m   2549\u001b[0m             \u001b[1;32melse\u001b[0m\u001b[1;33m:\u001b[0m\u001b[1;33m\u001b[0m\u001b[0m\n\u001b[0;32m   2550\u001b[0m                 \u001b[0mvalues\u001b[0m \u001b[1;33m=\u001b[0m \u001b[0mself\u001b[0m\u001b[1;33m.\u001b[0m\u001b[0masobject\u001b[0m\u001b[1;33m\u001b[0m\u001b[0m\n\u001b[1;32m-> 2551\u001b[1;33m                 \u001b[0mmapped\u001b[0m \u001b[1;33m=\u001b[0m \u001b[0mlib\u001b[0m\u001b[1;33m.\u001b[0m\u001b[0mmap_infer\u001b[0m\u001b[1;33m(\u001b[0m\u001b[0mvalues\u001b[0m\u001b[1;33m,\u001b[0m \u001b[0mf\u001b[0m\u001b[1;33m,\u001b[0m \u001b[0mconvert\u001b[0m\u001b[1;33m=\u001b[0m\u001b[0mconvert_dtype\u001b[0m\u001b[1;33m)\u001b[0m\u001b[1;33m\u001b[0m\u001b[0m\n\u001b[0m\u001b[0;32m   2552\u001b[0m \u001b[1;33m\u001b[0m\u001b[0m\n\u001b[0;32m   2553\u001b[0m         \u001b[1;32mif\u001b[0m \u001b[0mlen\u001b[0m\u001b[1;33m(\u001b[0m\u001b[0mmapped\u001b[0m\u001b[1;33m)\u001b[0m \u001b[1;32mand\u001b[0m \u001b[0misinstance\u001b[0m\u001b[1;33m(\u001b[0m\u001b[0mmapped\u001b[0m\u001b[1;33m[\u001b[0m\u001b[1;36m0\u001b[0m\u001b[1;33m]\u001b[0m\u001b[1;33m,\u001b[0m \u001b[0mSeries\u001b[0m\u001b[1;33m)\u001b[0m\u001b[1;33m:\u001b[0m\u001b[1;33m\u001b[0m\u001b[0m\n",
      "\u001b[1;32mpandas/_libs/src/inference.pyx\u001b[0m in \u001b[0;36mpandas._libs.lib.map_infer\u001b[1;34m()\u001b[0m\n",
      "\u001b[1;32m<ipython-input-54-d665657fd5a8>\u001b[0m in \u001b[0;36m<lambda>\u001b[1;34m(x)\u001b[0m\n\u001b[1;32m----> 1\u001b[1;33m \u001b[0mdf\u001b[0m\u001b[1;33m[\u001b[0m\u001b[1;34m'hlsent'\u001b[0m\u001b[1;33m]\u001b[0m \u001b[1;33m=\u001b[0m \u001b[0mdf\u001b[0m\u001b[1;33m[\u001b[0m\u001b[1;34m'Tweet'\u001b[0m\u001b[1;33m]\u001b[0m\u001b[1;33m.\u001b[0m\u001b[0mapply\u001b[0m\u001b[1;33m(\u001b[0m\u001b[1;32mlambda\u001b[0m \u001b[0mx\u001b[0m\u001b[1;33m:\u001b[0m \u001b[0mhl_sent\u001b[0m\u001b[1;33m(\u001b[0m\u001b[0mx\u001b[0m\u001b[1;33m)\u001b[0m\u001b[1;33m)\u001b[0m\u001b[1;33m\u001b[0m\u001b[0m\n\u001b[0m",
      "\u001b[1;32m<ipython-input-51-535b7e4a354c>\u001b[0m in \u001b[0;36mhl_sent\u001b[1;34m(inputstring)\u001b[0m\n\u001b[0;32m      5\u001b[0m \u001b[1;33m\u001b[0m\u001b[0m\n\u001b[0;32m      6\u001b[0m     \u001b[1;32mfor\u001b[0m \u001b[0mword\u001b[0m \u001b[1;32min\u001b[0m \u001b[0minputstring\u001b[0m\u001b[1;33m.\u001b[0m\u001b[0msplit\u001b[0m\u001b[1;33m(\u001b[0m\u001b[1;33m)\u001b[0m\u001b[1;33m:\u001b[0m\u001b[1;33m\u001b[0m\u001b[0m\n\u001b[1;32m----> 7\u001b[1;33m         \u001b[1;32mif\u001b[0m \u001b[0mHLpos\u001b[0m\u001b[1;33m.\u001b[0m\u001b[0mcount\u001b[0m\u001b[1;33m(\u001b[0m\u001b[0mword\u001b[0m\u001b[1;33m.\u001b[0m\u001b[0mrstrip\u001b[0m\u001b[1;33m(\u001b[0m\u001b[1;34m'?:!.,;'\u001b[0m\u001b[1;33m)\u001b[0m\u001b[1;33m)\u001b[0m\u001b[1;33m:\u001b[0m\u001b[1;33m\u001b[0m\u001b[0m\n\u001b[0m\u001b[0;32m      8\u001b[0m             \u001b[0mposcount\u001b[0m \u001b[1;33m+=\u001b[0m\u001b[1;36m1\u001b[0m\u001b[1;33m\u001b[0m\u001b[0m\n\u001b[0;32m      9\u001b[0m         \u001b[1;32melif\u001b[0m \u001b[0mHLneg\u001b[0m\u001b[1;33m.\u001b[0m\u001b[0mcount\u001b[0m\u001b[1;33m(\u001b[0m\u001b[0mword\u001b[0m\u001b[1;33m.\u001b[0m\u001b[0mrstrip\u001b[0m\u001b[1;33m(\u001b[0m\u001b[1;34m'?:!.,;'\u001b[0m\u001b[1;33m)\u001b[0m\u001b[1;33m)\u001b[0m\u001b[1;33m:\u001b[0m\u001b[1;33m\u001b[0m\u001b[0m\n",
      "\u001b[1;31mNameError\u001b[0m: name 'HLpos' is not defined"
     ]
    }
   ],
   "source": [
    "df['hlsent'] = df.Tweet.apply(lambda x: hl_sent(x))"
   ]
  },
  {
   "cell_type": "code",
   "execution_count": 60,
   "metadata": {},
   "outputs": [
    {
     "name": "stdout",
     "output_type": "stream",
     "text": [
      "<class 'dict'> 2477\n",
      "abandon => -2\n",
      "abandoned => -2\n",
      "abandons => -2\n",
      "abducted => -2\n",
      "abduction => -2\n",
      "abductions => -2\n",
      "abhor => -3\n",
      "abhorred => -3\n",
      "abhorrent => -3\n",
      "abhors => -3\n",
      "~~~~~~~~~~~~\n",
      "yeah => 1\n",
      "yearning => 1\n",
      "yeees => 2\n",
      "yes => 1\n",
      "youthful => 2\n",
      "yucky => -2\n",
      "yummy => 3\n",
      "zealot => -2\n",
      "zealots => -2\n",
      "zealous => 2\n"
     ]
    }
   ],
   "source": [
    "afinn = {}\n",
    "for line in open('C:\\\\Users\\\\Paul\\\\Desktop\\\\Rockhurst\\\\BIA 6304-Text Mining\\\\Week 4\\\\AFINN-111.txt'):\n",
    "    tt = line.split('\\t')\n",
    "    afinn.update({tt[0]:int(tt[1])})\n",
    "\n",
    "\n",
    "print(type(afinn), len(afinn))\n",
    "\n",
    "for key, value in sorted(afinn.items())[0:10]:\n",
    "    print(key + \" => \" + str(value))\n",
    "print(\"~~~~~~~~~~~~\")\n",
    "for key, value in sorted(afinn.items())[2467:]:\n",
    "    print(key + \" => \" + str(value))"
   ]
  },
  {
   "cell_type": "code",
   "execution_count": 61,
   "metadata": {},
   "outputs": [],
   "source": [
    "def afinn_sent(inputstring):\n",
    "    \n",
    "    sentcount =0\n",
    "    for word in inputstring.split():  \n",
    "        if word.rstrip('?:!.,;') in afinn:\n",
    "            sentcount = sentcount + afinn[word.rstrip('?:!.,;')]\n",
    "            \n",
    "    \n",
    "    if (sentcount < 0):\n",
    "        sentiment = 'Negative'\n",
    "    elif (sentcount >0):\n",
    "        sentiment = 'Positive'\n",
    "    else:\n",
    "        sentiment = 'Neutral'\n",
    "    \n",
    "    return sentiment\n",
    "    #return sentcount"
   ]
  },
  {
   "cell_type": "code",
   "execution_count": 62,
   "metadata": {},
   "outputs": [],
   "source": [
    "df['afinn'] = df.Tweet.apply(lambda x: afinn_sent(x))"
   ]
  },
  {
   "cell_type": "code",
   "execution_count": 63,
   "metadata": {},
   "outputs": [
    {
     "data": {
      "text/html": [
       "<div>\n",
       "<style scoped>\n",
       "    .dataframe tbody tr th:only-of-type {\n",
       "        vertical-align: middle;\n",
       "    }\n",
       "\n",
       "    .dataframe tbody tr th {\n",
       "        vertical-align: top;\n",
       "    }\n",
       "\n",
       "    .dataframe thead th {\n",
       "        text-align: right;\n",
       "    }\n",
       "</style>\n",
       "<table border=\"1\" class=\"dataframe\">\n",
       "  <thead>\n",
       "    <tr style=\"text-align: right;\">\n",
       "      <th></th>\n",
       "      <th>Tweet</th>\n",
       "      <th>afinn</th>\n",
       "    </tr>\n",
       "  </thead>\n",
       "  <tbody>\n",
       "    <tr>\n",
       "      <th>0</th>\n",
       "      <td>@LarryWilliamsTI I didnt think so either. Appears we should have the entire back next year which is great. Ive se",
       " https://t.co/0Fdg0UGoRA</td>\n",
       "      <td>Positive</td>\n",
       "    </tr>\n",
       "    <tr>\n",
       "      <th>1</th>\n",
       "      <td>@Drewclifton You obviously don't know anything about K-State before Snyder</td>\n",
       "      <td>Neutral</td>\n",
       "    </tr>\n",
       "    <tr>\n",
       "      <th>2</th>\n",
       "      <td>@ElCraig31 Saban aint got NOTHIN on K-State crop judging. #EMAW</td>\n",
       "      <td>Neutral</td>\n",
       "    </tr>\n",
       "    <tr>\n",
       "      <th>3</th>\n",
       "      <td>Congratulations to the K-State Crops team in winning the national championship!!! ?????? https://t.co/F0OBjxphJh</td>\n",
       "      <td>Positive</td>\n",
       "    </tr>\n",
       "    <tr>\n",
       "      <th>4</th>\n",
       "      <td>@Trevorstange How was K-State</td>\n",
       "      <td>Neutral</td>\n",
       "    </tr>\n",
       "  </tbody>\n",
       "</table>\n",
       "</div>"
      ],
      "text/plain": [
       "                                                                                                                                          Tweet  \\\n",
       "0  @LarryWilliamsTI I didnt think so either. Appears we should have the entire back next year which is great. Ive se\n",
       " https://t.co/0Fdg0UGoRA   \n",
       "1                                                                    @Drewclifton You obviously don't know anything about K-State before Snyder   \n",
       "2                                                                              @ElCraig31 Saban aint got NOTHIN on K-State crop judging. #EMAW   \n",
       "3                              Congratulations to the K-State Crops team in winning the national championship!!! ?????? https://t.co/F0OBjxphJh   \n",
       "4                                                                                                                 @Trevorstange How was K-State   \n",
       "\n",
       "      afinn  \n",
       "0  Positive  \n",
       "1   Neutral  \n",
       "2   Neutral  \n",
       "3  Positive  \n",
       "4   Neutral  "
      ]
     },
     "execution_count": 63,
     "metadata": {},
     "output_type": "execute_result"
    }
   ],
   "source": [
    "df.iloc[0:5][['Tweet','afinn']]"
   ]
  },
  {
   "cell_type": "code",
   "execution_count": 64,
   "metadata": {},
   "outputs": [
    {
     "data": {
      "text/plain": [
       "Neutral     1281\n",
       "Positive     949\n",
       "Negative     349\n",
       "Name: afinn, dtype: int64"
      ]
     },
     "execution_count": 64,
     "metadata": {},
     "output_type": "execute_result"
    }
   ],
   "source": [
    "df.afinn.value_counts()"
   ]
  },
  {
   "cell_type": "code",
   "execution_count": 68,
   "metadata": {},
   "outputs": [],
   "source": [
    "def afinn_score(inputstring):\n",
    "    \n",
    "    sentcount =0\n",
    "    for word in inputstring.split():  \n",
    "        if word.rstrip('?:!.,;') in afinn:\n",
    "            sentcount = sentcount + afinn[word.rstrip('?:!.,;')]\n",
    "            \n",
    "    return sentcount"
   ]
  },
  {
   "cell_type": "code",
   "execution_count": 69,
   "metadata": {},
   "outputs": [],
   "source": [
    "df['afinn_score'] = df.Tweet.apply(lambda x: afinn_score(x))"
   ]
  },
  {
   "cell_type": "code",
   "execution_count": 70,
   "metadata": {},
   "outputs": [
    {
     "data": {
      "text/html": [
       "<div>\n",
       "<style scoped>\n",
       "    .dataframe tbody tr th:only-of-type {\n",
       "        vertical-align: middle;\n",
       "    }\n",
       "\n",
       "    .dataframe tbody tr th {\n",
       "        vertical-align: top;\n",
       "    }\n",
       "\n",
       "    .dataframe thead th {\n",
       "        text-align: right;\n",
       "    }\n",
       "</style>\n",
       "<table border=\"1\" class=\"dataframe\">\n",
       "  <thead>\n",
       "    <tr style=\"text-align: right;\">\n",
       "      <th></th>\n",
       "      <th>Tweet</th>\n",
       "      <th>afinn</th>\n",
       "      <th>afinn_score</th>\n",
       "    </tr>\n",
       "  </thead>\n",
       "  <tbody>\n",
       "    <tr>\n",
       "      <th>0</th>\n",
       "      <td>@LarryWilliamsTI I didnt think so either. Appears we should have the entire back next year which is great. Ive se",
       " https://t.co/0Fdg0UGoRA</td>\n",
       "      <td>Positive</td>\n",
       "      <td>3</td>\n",
       "    </tr>\n",
       "    <tr>\n",
       "      <th>1</th>\n",
       "      <td>@Drewclifton You obviously don't know anything about K-State before Snyder</td>\n",
       "      <td>Neutral</td>\n",
       "      <td>0</td>\n",
       "    </tr>\n",
       "    <tr>\n",
       "      <th>2</th>\n",
       "      <td>@ElCraig31 Saban aint got NOTHIN on K-State crop judging. #EMAW</td>\n",
       "      <td>Neutral</td>\n",
       "      <td>0</td>\n",
       "    </tr>\n",
       "    <tr>\n",
       "      <th>3</th>\n",
       "      <td>Congratulations to the K-State Crops team in winning the national championship!!! ?????? https://t.co/F0OBjxphJh</td>\n",
       "      <td>Positive</td>\n",
       "      <td>4</td>\n",
       "    </tr>\n",
       "    <tr>\n",
       "      <th>4</th>\n",
       "      <td>@Trevorstange How was K-State</td>\n",
       "      <td>Neutral</td>\n",
       "      <td>0</td>\n",
       "    </tr>\n",
       "  </tbody>\n",
       "</table>\n",
       "</div>"
      ],
      "text/plain": [
       "                                                                                                                                          Tweet  \\\n",
       "0  @LarryWilliamsTI I didnt think so either. Appears we should have the entire back next year which is great. Ive se\n",
       " https://t.co/0Fdg0UGoRA   \n",
       "1                                                                    @Drewclifton You obviously don't know anything about K-State before Snyder   \n",
       "2                                                                              @ElCraig31 Saban aint got NOTHIN on K-State crop judging. #EMAW   \n",
       "3                              Congratulations to the K-State Crops team in winning the national championship!!! ?????? https://t.co/F0OBjxphJh   \n",
       "4                                                                                                                 @Trevorstange How was K-State   \n",
       "\n",
       "      afinn  afinn_score  \n",
       "0  Positive            3  \n",
       "1   Neutral            0  \n",
       "2   Neutral            0  \n",
       "3  Positive            4  \n",
       "4   Neutral            0  "
      ]
     },
     "execution_count": 70,
     "metadata": {},
     "output_type": "execute_result"
    }
   ],
   "source": [
    "df.iloc[0:5][['Tweet','afinn', 'afinn_score']]"
   ]
  },
  {
   "cell_type": "code",
   "execution_count": 71,
   "metadata": {},
   "outputs": [],
   "source": [
    "df.to_csv('Kstate_sent.csv', sep=',')"
   ]
  }
 ],
 "metadata": {
  "kernelspec": {
   "display_name": "Python 3",
   "language": "python",
   "name": "python3"
  },
  "language_info": {
   "codemirror_mode": {
    "name": "ipython",
    "version": 3
   },
   "file_extension": ".py",
   "mimetype": "text/x-python",
   "name": "python",
   "nbconvert_exporter": "python",
   "pygments_lexer": "ipython3",
   "version": "3.6.4"
  }
 },
 "nbformat": 4,
 "nbformat_minor": 2
}
