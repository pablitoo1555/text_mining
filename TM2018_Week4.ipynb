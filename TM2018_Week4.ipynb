{
 "cells": [
  {
   "cell_type": "markdown",
   "metadata": {},
   "source": [
    "# Session 4 - Word replacement, word analysis"
   ]
  },
  {
   "cell_type": "markdown",
   "metadata": {},
   "source": [
    "### Real world application of text mining\n",
    "Paper published by Dr. San Cannon: https://www.kansascityfed.org/~/media/files/publicat/econrev/econrevarchive/2015/4q15cannon.pdf\n",
    "\n",
    "\n",
    "### Other people do this stuff too\n",
    "\n",
    "#### Word counts:  https://www.federalreserve.gov/econres/notes/feds-notes/the-fomc-meeting-minutes-an-update-of-counting-words-20170803.htm\n",
    "\n",
    "\n",
    "### Stemmed word clouds:\n",
    "http://eprints.lse.ac.uk/60287/1/dp1276.pdf"
   ]
  },
  {
   "cell_type": "markdown",
   "metadata": {},
   "source": [
    "# Alright... let's get started"
   ]
  },
  {
   "cell_type": "code",
   "execution_count": 19,
   "metadata": {},
   "outputs": [],
   "source": [
    "#annoying bit about python: lack of native floating point division\n",
    "from __future__ import division"
   ]
  },
  {
   "cell_type": "code",
   "execution_count": 20,
   "metadata": {},
   "outputs": [],
   "source": [
    "# import module(s) into namespace\n",
    "import pandas as pd\n",
    "import numpy as np \n",
    "pathname = \"C:\\\\Users\\\\Paul\\\\Desktop\\\\Rockhurst\\\\BIA 6304-Text Mining\\\\Week 2\\\\\"\n",
    "pd.set_option('display.max_colwidth', 15000) #important for getting all the text\n"
   ]
  },
  {
   "cell_type": "markdown",
   "metadata": {},
   "source": [
    "### Recap: News example\n",
    "\n",
    "We're going to read in our news articles, instantiate a vectorizer, and look at the top features\n"
   ]
  },
  {
   "cell_type": "code",
   "execution_count": 21,
   "metadata": {},
   "outputs": [
    {
     "name": "stdout",
     "output_type": "stream",
     "text": [
      "(3848, 5)\n",
      "['date', 'description', 'headline', 'url', 'text']\n",
      "<class 'pandas.core.frame.DataFrame'>\n"
     ]
    }
   ],
   "source": [
    "newsdf = pd.read_csv(pathname + \"nytimes2013.csv\", index_col = 0) \n",
    "print(newsdf.shape)\n",
    "print(list(newsdf)) #equivalent of showing the headers of a data frame\n",
    "print(type(newsdf))"
   ]
  },
  {
   "cell_type": "code",
   "execution_count": 22,
   "metadata": {},
   "outputs": [
    {
     "data": {
      "text/html": [
       "<div>\n",
       "<style scoped>\n",
       "    .dataframe tbody tr th:only-of-type {\n",
       "        vertical-align: middle;\n",
       "    }\n",
       "\n",
       "    .dataframe tbody tr th {\n",
       "        vertical-align: top;\n",
       "    }\n",
       "\n",
       "    .dataframe thead th {\n",
       "        text-align: right;\n",
       "    }\n",
       "</style>\n",
       "<table border=\"1\" class=\"dataframe\">\n",
       "  <thead>\n",
       "    <tr style=\"text-align: right;\">\n",
       "      <th></th>\n",
       "      <th>date</th>\n",
       "      <th>description</th>\n",
       "      <th>headline</th>\n",
       "      <th>url</th>\n",
       "      <th>text</th>\n",
       "    </tr>\n",
       "  </thead>\n",
       "  <tbody>\n",
       "    <tr>\n",
       "      <th>0</th>\n",
       "      <td>2013-01-01</td>\n",
       "      <td>Ending a climactic showdown in the final hours of the 112th Congress, the House sent to President Obama legislation to avert big income tax increases on most Americans.</td>\n",
       "      <td>Divided House Passes Tax Deal in End to Latest Fiscal Standoff</td>\n",
       "      <td>http://www.nytimes.com/2013/01/02/us/politics/house-takes-on-fiscal-cliff.html</td>\n",
       "      <td>WASHINGTON — Ending a climactic fiscal showdown in the final hours of the 112th Congress, the House late Tuesday passed and sent to   legislation to avert big income tax increases on most Americans and prevent large cuts in spending for the Pentagon and other government programs.         The measure, brought to the House floor less than 24 hours after its passage in the Senate, was approved 257 to 167, with 85 Republicans joining 172 Democrats in voting to allow income taxes to rise for the first time in two decades, in this case for the highest-earning Americans. Voting no were 151 Republicans and 16 Democrats.         The bill was expected to be signed quickly by Mr. Obama, who won re-election on a promise to increase taxes on the wealthy.         Mr. Obama strode into the White House briefing room shortly after the vote, less to hail the end of the fiscal crisis than to lay out a marker for the next one. “The one thing that I think, hopefully, the new year will focus on,” he said, “is seeing if we can put a package like this together with a little bit less drama, a little less brinkmanship, and not scare the heck out of folks quite as much.”         In approving the measure after days of legislative intrigue, Congress concluded its final and most pitched fight over fiscal policy, the culmination of two years of battles over taxes, the federal debt, spending and what to do to slow the growth in popular social programs like  .         The decision by Republican leaders to allow the vote came despite widespread scorn among House Republicans for the bill, passed overwhelmingly by the Senate in the early hours of New Year’s Day. They were unhappy that it did not include significant spending cuts in health and other social programs, which they say are essential to any long-term solution to the nation’s debt.         Democrats, while hardly placated by the compromise, celebrated Mr. Obama’s nominal victory in his final showdown with House Republicans in the 112th Congress, who began their term emboldened by scores of new, conservative members whose reach to the right ultimately tipped them over.         “The American people are the real winners tonight,” Representative Bill Pascrell Jr., Democrat of New Jersey, said on the House floor, “not anyone who navigates these halls.”         Not a single leader among House Republicans came to the floor to speak in favor of the bill, though Speaker  , who rarely takes part in roll calls, voted in favor. Representative Eric Cantor of Virginia, the majority leader, and Representative Kevin McCarthy of California, the No. 3 Republican, voted no. Representative Paul D. Ryan, the budget chairman who was the Republican vice-presidential candidate, supported the bill.         Despite the party divisions, many Republicans in their remarks characterized the measure, which allows taxes to go up on household income over $400,000 for individuals and $450,000 for couples but makes permanent tax cuts for income below that level, as a victory of sorts, even as so many of them declined to vote for it.         “After more than a decade of criticizing these tax cuts,” said Representative Dave Camp of Michigan, “Democrats are finally joining Republicans in making them permanent. Republicans and the American people are getting something really important, permanent tax relief.”         The dynamic with the House was a near replay of a fight at the end of 2011 over a   break extension. In that showdown, Senate Democrats and Republicans passed legislation, and while House Republicans fulminated, they were eventually forced to swallow it.         On Tuesday, as they got a detailed look at the Senate’s fiscal legislation, House Republicans ranging from Midwest pragmatists to  -blessed conservatives voiced serious reservations about the measure, emerging from a lunchtime New Year’s Day meeting with their leaders, eyes flashing and faces grim, insisting they would not accept a bill without substantial savings from cuts.         The unrest reached to the highest levels as Mr. Cantor told members in a closed-door meeting in the basement of the Capitol that he could not support the legislation in its current form.         Mr. Boehner, who faces a re-election vote on his post on Thursday when the 113th Congress convenes, had grave concerns as well, but he had pledged to allow the House to consider any legislation that cleared the Senate. And he was not eager to have such a major piece of legislation pass with mainly opposition votes, and the outcome could be seen as undermining his authority.         Adding to the pressure on the House, the fiscal agreement was reached by Senator Mitch McConnell of Kentucky, the Senate Republican leader, and had deep Republican support in the Senate, isolating the House Republicans in their opposition. Some of the Senate Republicans who backed the bill are staunch conservatives, like Senators Patrick J. Toomey of Pennsylvania and Tom Coburn of Oklahoma, with deep credibility among House Republicans.</td>\n",
       "    </tr>\n",
       "    <tr>\n",
       "      <th>1</th>\n",
       "      <td>2013-01-01</td>\n",
       "      <td>A report on nearly three million people found that those whose body mass index ranked them as overweight had less risk of dying than people of normal weight.</td>\n",
       "      <td>Study Suggests Lower Mortality Risk for People Deemed to Be Overweight</td>\n",
       "      <td>http://www.nytimes.com/2013/01/02/health/study-suggests-lower-death-risk-for-the-overweight.html</td>\n",
       "      <td>A century ago, Elsie Scheel was the perfect woman. So said a 1912   in The New York Times about how Miss Scheel, 24, was chosen by the “medical examiner of the 400 ‘co-eds’ ” at Cornell University as a woman “whose very presence bespeaks perfect health.”         Miss Scheel, however, was hardly model-thin. At 5-foot-7 and 171 pounds, she would, by today’s medical standards, be clearly overweight. (Her body mass index was 27; 25 to 29.9 is overweight.)         But a   suggests that Miss Scheel may have been onto something. The report on nearly three million people found that those whose B.M.I. ranked them as overweight had less risk of dying than people of normal weight. And while obese people had a greater mortality risk over all, those at the lowest   level (B.M.I. of 30 to 34.9) were not more likely to die than normal-weight people.         The report, although not the first to suggest this relationship between B.M.I. and mortality, is by far the largest and most carefully done, analyzing nearly 100 studies, experts said.         But don’t scrap those New Year’s weight-loss resolutions and start gorging on fried Belgian waffles or triple cheeseburgers.         Experts not involved in the research said it suggested that overweight people need not panic unless they have other indicators of poor health and that depending on where fat is in the body, it might be protective or even nutritional for older or sicker people. But over all, piling on pounds and becoming more than slightly obese remains dangerous.         “We wouldn’t want people to think, ‘Well, I can take a pass and gain more weight,’ ” said Dr. George Blackburn, associate director of Harvard Medical School’s   division.         Rather, he and others said, the report, in The Journal of the American Medical Association, suggests that B.M.I., a ratio of height to weight, should not be the only indicator of healthy weight.         “Body mass index is an imperfect measure of the risk of mortality,” and factors like  ,   and blood sugar must be considered, said Dr. Samuel Klein, director of the Center for Human Nutrition at Washington University School of Medicine in St. Louis.         Dr. Steven Heymsfield, executive director of the Pennington Biomedical Research Center in Louisiana, who wrote an editorial accompanying the study, said that for overweight people, if indicators like cholesterol “are in the abnormal range, then that weight is affecting you,” but that if indicators are normal, there’s no reason to “go on a crash diet.”         Experts also said the data suggested that the definition of “normal” B.M.I., 18.5 to 24.9, should be revised, excluding its lowest weights, which might be too thin.         The study did show that the two highest obesity categories (B.M.I. of 35 and up) are at high risk. “Once you have higher obesity, the fat’s in the fire,” Dr. Blackburn said.         But experts also suggested that concepts of fat be refined.         “Fat per se is not as bad as we thought,” said Dr. Kamyar Kalantar-Zadeh, professor of medicine and public health at the University of California, Irvine.         “What is bad is a type of fat that is inside your belly,” he said. “Non-belly fat, underneath your skin in your thigh and your butt area — these are not necessarily bad.”         He added that, to a point, extra fat is accompanied by extra muscle, which can be healthy.         Still, it is possible that overweight or somewhat obese people are less likely to die because they, or their doctors, have identified other conditions associated with weight gain, like high cholesterol or  .         “You’re more likely to be in your doctor’s office and more likely to be treated,” said Dr. Robert Eckel, a past president of the American Heart Association and a professor at University of Colorado.         Some experts said fat could be protective in some cases, although that is unproven and debated. The study did find that people 65 and over had no greater mortality risk even at high obesity.         “There’s something about extra body fat when you’re older that is providing some reserve,” Dr. Eckel said.         And studies on specific illnesses, like heart and kidney disease, have found an “obesity paradox,” that heavier patients are less likely to die.         Still, death is not everything. Even if “being overweight doesn’t increase your risk of dying,” Dr. Klein said, it “does increase your risk of having diabetes” or other conditions.         Ultimately, said the study’s lead author, Katherine Flegal, a senior scientist at the Centers for Disease Control and Prevention, “the best weight might depend on the situation you’re in.”          , in whose “physical makeup there is not a single defect,” the Times article said.         This woman who “has never been ill and doesn’t know what fear is” loved sports and didn’t consume candy, coffee or tea. But she also ate only three meals every two days, and loved beefsteak.         Maybe such seeming contradictions made sense against the societal inconsistencies of that time. After all, her post-college plans involved tilling her father’s farm, but “if she were a man, she would study mechanical engineering.”</td>\n",
       "    </tr>\n",
       "    <tr>\n",
       "      <th>2</th>\n",
       "      <td>2013-01-01</td>\n",
       "      <td>As the United States prepares to withdraw from an unpopular war in Afghanistan, it faces challenges similar to what the country’s last occupier, the Soviet Union, had experienced.</td>\n",
       "      <td>With U.S. Set to Leave Afghanistan, Echoes of 1989</td>\n",
       "      <td>http://www.nytimes.com/2013/01/02/world/asia/us-war-in-afghanistan-has-echoes-of-soviet-experience.html</td>\n",
       "      <td>WASHINGTON — The young president who ascended to office as a change agent decides to end the costly and unpopular war in Afghanistan. He seeks an exit with honor by pledging long-term financial support to allies in Kabul, while urging reconciliation with the insurgency. But some senior advisers lobby for a deliberately slow withdrawal, and propose leaving thousands of troops behind to train and support Afghan security forces.         This is a nearly exact description of the endgame conundrum facing President Obama as he prepares for a critical visit by Hamid Karzai, the Afghan president, planned for early January.         But the account is actually drawn from declassified Soviet archives describing  ’s closed-door struggles with his Politburo and army chiefs to end the Kremlin’s intervention in Afghanistan — one that began with a commando raid, coup and modest goals during Christmas week of 1979 but became, after a decade, what Mr. Gorbachev derided as “a bleeding wound.”         What mostly is remembered about the withdrawal is the Soviet Union’s humiliation, and the ensuing factional bloodletting across Afghanistan that threw the country into a vicious civil war. It ended with Taliban control and the establishment of a safe haven for Al Qaeda before the terrorist attacks on Sept. 11, 2001.         But scholars who have studied the Soviet archives point out another lesson for the Obama administration as it manages the pullout of American and allied combat forces from Afghanistan by the end of 2014.         “The main thing the Soviets did right was that they continued large-scale military assistance to the regime they left behind after the final withdrawal in ’89,” said  , a professor at George Mason University and author of “Leaving Without Losing: The War on Terror After Iraq and Afghanistan” (Johns Hopkins University Press, 2012).         “As long as the Afghan regime received the money and the weapons, they did pretty well — and held on to power for three years,” Mr. Katz said. The combat effectiveness of Kabul’s security forces increased after the Soviet withdrawal, when the fight for survival become wholly their own.         But then the Soviet Union dissolved in December 1991, and the new Russian leader, Boris N. Yeltsin, heeded urgings of the United States and other Western powers to halt aid to the Communist leadership in Afghanistan, not just arms and money, but also food and fuel. The Kremlin-backed government in Kabul fell three months later.         To be sure, there are significant contrasts between the two interventions in Afghanistan. The Soviet invasion and occupation were condemned as illegal aggression, while the American one was embraced by the international community, including  , as a “just war,” one with limited goals of routing the Taliban and eliminating Al Qaeda. That war of necessity has since evolved into a war of choice, one the Obama administration is working to end as quickly as is feasible.         Despite the differences going in, both the Soviet Union and the United States soon learned that Afghanistan is a land where foreigners aspiring to create nations in their image must combat not just the Taliban but tribalism, orthodoxy, corruption and a medieval view of women. As well, Pakistan has had interests at odds with those of the neighboring government in Afghanistan, whether Kabul was an ally of Moscow or of Washington.         “The Soviet Union did not understand religious and ethnic factors sufficiently, and overestimated the capacity of Afghan society to move very fast toward a modern era, in this case socialism,” said Svetlana Savranskaya, director of Russian programs at the National Security Archive, an independent research center at George Washington University.         “Here I see similarities with the approach of the United States, especially with all the discussion about trying to leave behind an Afghanistan that is democratic and respects the rights of women, ideas that simply are not accepted across the broad society there,” said Ms. Savranskaya, who has written extensively on the Soviet archives.         If the Soviet experience offers any guidance to the current American withdrawal, she said, it would be to accelerate the departure of foreign combat forces — but to leave in their place a “sustained, multiyear international involvement in military training, education and civilian infrastructure projects, and maybe not focusing on building democracy as much as improving the lives of the common people.”</td>\n",
       "    </tr>\n",
       "    <tr>\n",
       "      <th>3</th>\n",
       "      <td>2013-01-01</td>\n",
       "      <td>The popularity of the drinks reflects success in convincing consumers that they provide an edge, but most of their ingredients have no or little benefit, research shows.</td>\n",
       "      <td>Energy Drinks Promise Edge, but Experts Say Proof Is Scant</td>\n",
       "      <td>http://www.nytimes.com/2013/01/02/health/scant-proof-is-found-to-back-up-claims-by-energy-drinks.html</td>\n",
       "      <td>Energy drinks are the fastest-growing part of the beverage industry, with sales in the United States reaching more than $10 billion in 2012 — more than Americans spent on iced tea or sports beverages like Gatorade.         Their rising popularity represents a generational shift in what people drink, and reflects a successful campaign to convince consumers, particularly teenagers, that the drinks provide a mental and physical edge.         The drinks are now   by the Food and Drug Administration after reports of deaths and serious injuries that may be linked to their high caffeine levels. But however that review ends, one thing is clear, interviews with researchers and a review of scientific studies show: the energy drink industry is based on a brew of ingredients that, apart from caffeine, have little, if any benefit for consumers.         “If you had a cup of coffee you are going to affect metabolism in the same way,” said Dr. Robert W. Pettitt, an associate professor at Minnesota State University in Mankato, who has studied the drinks.         Energy drink companies have promoted their products not as caffeine-fueled concoctions but as specially engineered blends that provide something more. For example, producers claim that “Red Bull gives you wings,” that Rockstar Energy is “scientifically formulated” and Monster Energy is a “killer energy brew.” Representative Edward J. Markey of Massachusetts, a Democrat, has asked the government to investigate the industry’s marketing claims.         Promoting a message beyond caffeine has enabled the beverage makers to charge premium prices. A 16-ounce energy drink that sells for $2.99 a can contains about the same amount of caffeine as a tablet of NoDoz that costs 30 cents. Even Starbucks coffee is cheap by comparison; a 12-ounce cup that costs $1.85 has even more caffeine.         As with earlier elixirs, a dearth of evidence underlies such claims. Only a few human studies of energy drinks or the ingredients in them have been performed and they point to a similar conclusion, researchers say — that the beverages           Caffeine is called the world’s most widely used drug. A stimulant, it increases alertness, awareness and, if taken at the right time, improves athletic performance, studies show. Energy drink users feel its kick faster because the beverages are typically swallowed quickly or are sold as concentrates.         “These are caffeine delivery systems,” said Dr. Roland Griffiths, a researcher at Johns Hopkins University who has studied energy drinks. “They don’t want to say this is equivalent to a NoDoz because that is not a very sexy sales message.”         A scientist at the University of Wisconsin became puzzled as he researched an ingredient used in energy drinks like Red Bull, 5-Hour Energy and Monster Energy. The researcher, Dr. Craig A. Goodman, could not find any trials in humans of the additive, a substance with the tongue-twisting name of glucuronolactone that is related to glucose, a sugar. But Dr. Goodman, who had studied other energy drink ingredients, eventually found two 40-year-old studies from Japan that had examined it.         In the experiments, scientists injected large doses of the substance into laboratory rats. Afterward, the rats swam better. “I have no idea what it does in energy drinks,” Dr. Goodman said.         Energy drink manufacturers say it is their proprietary formulas, rather than specific ingredients, that provide users with physical and mental benefits. But that has not prevented them from implying otherwise.         Consider the case of taurine, an additive used in most energy products.         On its Web site, the producer of Red Bull, for example, states that “  about taurine and its physiological effects,” including acting as a “detoxifying agent.” In addition, that company, Red Bull of Austria, points to a 2009 safety study by a European regulatory group that gave it a clean bill of health.         But Red Bull’s Web site does not mention reports by that same group, the European Food Safety Authority, which concluded that  . Based on those findings, the European Commission has   that taurine helps maintain mental function and heart health and reduces muscle fatigue.         Taurine, an amino acidlike substance that got its name because it was first found in the bile of bulls, does play a role in bodily functions, and recent research suggests it might help prevent heart attacks in women with high  . However, most people get more than adequate amounts from foods like meat, experts said. And researchers added that those with heart problems who may need supplements would find far better sources than energy drinks.</td>\n",
       "    </tr>\n",
       "    <tr>\n",
       "      <th>4</th>\n",
       "      <td>2013-01-01</td>\n",
       "      <td>New Hampshire, which again chose a woman to be governor, will also become the first state in history to have an all-female delegation in Washington.</td>\n",
       "      <td>From Congress to Halls of State, in New Hampshire, Women Rule</td>\n",
       "      <td>http://www.nytimes.com/2013/01/02/us/politics/from-congress-to-halls-of-state-in-new-hampshire-women-rule.html</td>\n",
       "      <td>Most states are red or blue. A few are purple. After the November election, New Hampshire turned pink.         Women won the state’s two Congressional seats. Women already held the state’s two Senate seats. When they are all sworn into office on Thursday, New Hampshire will become the first state in the nation’s history to send an all-female delegation to Washington.         And the matriarchy does not end there. New Hampshire’s new governor is a woman. So are the speaker of the State House and the chief justice of the State Supreme Court.         “Pink is the new power color in New Hampshire,” declared Ann McLane Kuster, one of the newly elected representatives, at a recent forum at the   at St. Anselm College in Manchester, where the women’s historic milestone was celebrated.         These women did not rise to the top together overnight. Nor was there an orchestrated movement to elect them. Each toiled in the political vineyards, climbed the ladder in her own time and campaigned hard for her job. But they have caught the state’s collective imagination, inspiring forums and media interest and prompting Jay B. Childs, a New Hampshire filmmaker, to make a documentary about them.         Senator  , 65, a Democrat and dean of the delegation, was the state’s first elected female governor and the first woman in United States history to be elected both governor and senator.         Senator  , 44, a Republican, was the state’s former attorney general.         Carol Shea-Porter, 60, a Democrat and former member of the House, lost her seat in 2010 and won it back in November.         Ms. Kuster, 56, a Democrat, is a lawyer and lobbyist who has not held office before but has long been active in the state and comes from a political family.         Maggie Hassan, 54, a Democrat and the new governor, was majority leader of the State Senate.         Women will make up 20 percent of the new Senate and 17.9 percent of the new House. These are records in Washington, but they fall far short of matching the 50.8 percent of the general population that is female.         While New Hampshire is doing more than its share of bolstering the number of women on Capitol Hill, six states — Alaska, Delaware, Iowa, Mississippi, North Dakota and Vermont — have never elected a woman to the House. And four of those — Delaware, Iowa, Mississippi and Vermont — have never sent a woman to the Senate.         The state after New Hampshire, with the next highest proportion of women in its Congressional delegation, is Hawaii, where both House members and one senator are women.         In only three other states, Maine, Missouri and Washington, do women make up at least half of the delegations. Sixteen states, including New Jersey, have no women in Congress.         Although the women in New Hampshire are serving all at once by happenstance, women have long held prominent positions in New Hampshire government.         One reason is the size of the State House, a typical pipeline for aspiring politicians. It has 400 members, making it the largest of the states and the fourth-largest governing body in the English-speaking world (after the United States Congress, the British Parliament and the Indian Parliament). With so many seats available, women have a better chance of being elected in New Hampshire than they have in many other states.         New Hampshire also has a long history of volunteerism, and serving in the General Court, as the legislature is known, amounts to an act of volunteerism because it pays just $100 a year, plus mileage. Every year since 1975, more than 100 women have served.         “There are lots of opportunities for women to pitch in, prove their competence and learn a lot about governing and the political process,” Ms. Hassan said in an interview. “We’ve had a very deep bench of women.”         Even if the legislature in New Hampshire is big, the state itself is small. That makes it easier for everyone to know everyone else, and most of the women in the Congressional delegation have intricate ties to one another.</td>\n",
       "    </tr>\n",
       "  </tbody>\n",
       "</table>\n",
       "</div>"
      ],
      "text/plain": [
       "         date  \\\n",
       "0  2013-01-01   \n",
       "1  2013-01-01   \n",
       "2  2013-01-01   \n",
       "3  2013-01-01   \n",
       "4  2013-01-01   \n",
       "\n",
       "                                                                                                                                                                           description  \\\n",
       "0             Ending a climactic showdown in the final hours of the 112th Congress, the House sent to President Obama legislation to avert big income tax increases on most Americans.   \n",
       "1                        A report on nearly three million people found that those whose body mass index ranked them as overweight had less risk of dying than people of normal weight.   \n",
       "2  As the United States prepares to withdraw from an unpopular war in Afghanistan, it faces challenges similar to what the country’s last occupier, the Soviet Union, had experienced.   \n",
       "3            The popularity of the drinks reflects success in convincing consumers that they provide an edge, but most of their ingredients have no or little benefit, research shows.   \n",
       "4                                 New Hampshire, which again chose a woman to be governor, will also become the first state in history to have an all-female delegation in Washington.   \n",
       "\n",
       "                                                                 headline  \\\n",
       "0          Divided House Passes Tax Deal in End to Latest Fiscal Standoff   \n",
       "1  Study Suggests Lower Mortality Risk for People Deemed to Be Overweight   \n",
       "2                      With U.S. Set to Leave Afghanistan, Echoes of 1989   \n",
       "3              Energy Drinks Promise Edge, but Experts Say Proof Is Scant   \n",
       "4           From Congress to Halls of State, in New Hampshire, Women Rule   \n",
       "\n",
       "                                                                                                              url  \\\n",
       "0                                  http://www.nytimes.com/2013/01/02/us/politics/house-takes-on-fiscal-cliff.html   \n",
       "1                http://www.nytimes.com/2013/01/02/health/study-suggests-lower-death-risk-for-the-overweight.html   \n",
       "2         http://www.nytimes.com/2013/01/02/world/asia/us-war-in-afghanistan-has-echoes-of-soviet-experience.html   \n",
       "3           http://www.nytimes.com/2013/01/02/health/scant-proof-is-found-to-back-up-claims-by-energy-drinks.html   \n",
       "4  http://www.nytimes.com/2013/01/02/us/politics/from-congress-to-halls-of-state-in-new-hampshire-women-rule.html   \n",
       "\n",
       "                                                                                                                                                                                                                                                                                                                                                                                                                                                                                                                                                                                                                                                                                                                                                                                                                                                                                                                                                                                                                                                                                                                                                                                                                                                                                                                                                                                                                                                                                                                                                                                                                                                                                                                                                                                                                                                                                                                                                                                                                                                                                                                                                                                                                                                                                                                                                                                                                                                                                                                                                                                                                                                                                                                                                                                                                                                                                                                                                                                                                                                                                                                                                                                                                                                                                                                                                                                                                                                                                                                                                                                                                                                                                                                                                                                                                                                                                                                                                                                                                                                                                                                                                                                                                                                                                                                                                                                                                                                                                                                                                                                                                                                                                                                                                                                                                                                                                                                                                                                                                                                                                                                                                                                                                                                                                                                                                                                                                        text  \n",
       "0                                                                                                                                                                           WASHINGTON — Ending a climactic fiscal showdown in the final hours of the 112th Congress, the House late Tuesday passed and sent to   legislation to avert big income tax increases on most Americans and prevent large cuts in spending for the Pentagon and other government programs.         The measure, brought to the House floor less than 24 hours after its passage in the Senate, was approved 257 to 167, with 85 Republicans joining 172 Democrats in voting to allow income taxes to rise for the first time in two decades, in this case for the highest-earning Americans. Voting no were 151 Republicans and 16 Democrats.         The bill was expected to be signed quickly by Mr. Obama, who won re-election on a promise to increase taxes on the wealthy.         Mr. Obama strode into the White House briefing room shortly after the vote, less to hail the end of the fiscal crisis than to lay out a marker for the next one. “The one thing that I think, hopefully, the new year will focus on,” he said, “is seeing if we can put a package like this together with a little bit less drama, a little less brinkmanship, and not scare the heck out of folks quite as much.”         In approving the measure after days of legislative intrigue, Congress concluded its final and most pitched fight over fiscal policy, the culmination of two years of battles over taxes, the federal debt, spending and what to do to slow the growth in popular social programs like  .         The decision by Republican leaders to allow the vote came despite widespread scorn among House Republicans for the bill, passed overwhelmingly by the Senate in the early hours of New Year’s Day. They were unhappy that it did not include significant spending cuts in health and other social programs, which they say are essential to any long-term solution to the nation’s debt.         Democrats, while hardly placated by the compromise, celebrated Mr. Obama’s nominal victory in his final showdown with House Republicans in the 112th Congress, who began their term emboldened by scores of new, conservative members whose reach to the right ultimately tipped them over.         “The American people are the real winners tonight,” Representative Bill Pascrell Jr., Democrat of New Jersey, said on the House floor, “not anyone who navigates these halls.”         Not a single leader among House Republicans came to the floor to speak in favor of the bill, though Speaker  , who rarely takes part in roll calls, voted in favor. Representative Eric Cantor of Virginia, the majority leader, and Representative Kevin McCarthy of California, the No. 3 Republican, voted no. Representative Paul D. Ryan, the budget chairman who was the Republican vice-presidential candidate, supported the bill.         Despite the party divisions, many Republicans in their remarks characterized the measure, which allows taxes to go up on household income over $400,000 for individuals and $450,000 for couples but makes permanent tax cuts for income below that level, as a victory of sorts, even as so many of them declined to vote for it.         “After more than a decade of criticizing these tax cuts,” said Representative Dave Camp of Michigan, “Democrats are finally joining Republicans in making them permanent. Republicans and the American people are getting something really important, permanent tax relief.”         The dynamic with the House was a near replay of a fight at the end of 2011 over a   break extension. In that showdown, Senate Democrats and Republicans passed legislation, and while House Republicans fulminated, they were eventually forced to swallow it.         On Tuesday, as they got a detailed look at the Senate’s fiscal legislation, House Republicans ranging from Midwest pragmatists to  -blessed conservatives voiced serious reservations about the measure, emerging from a lunchtime New Year’s Day meeting with their leaders, eyes flashing and faces grim, insisting they would not accept a bill without substantial savings from cuts.         The unrest reached to the highest levels as Mr. Cantor told members in a closed-door meeting in the basement of the Capitol that he could not support the legislation in its current form.         Mr. Boehner, who faces a re-election vote on his post on Thursday when the 113th Congress convenes, had grave concerns as well, but he had pledged to allow the House to consider any legislation that cleared the Senate. And he was not eager to have such a major piece of legislation pass with mainly opposition votes, and the outcome could be seen as undermining his authority.         Adding to the pressure on the House, the fiscal agreement was reached by Senator Mitch McConnell of Kentucky, the Senate Republican leader, and had deep Republican support in the Senate, isolating the House Republicans in their opposition. Some of the Senate Republicans who backed the bill are staunch conservatives, like Senators Patrick J. Toomey of Pennsylvania and Tom Coburn of Oklahoma, with deep credibility among House Republicans.          \n",
       "1  A century ago, Elsie Scheel was the perfect woman. So said a 1912   in The New York Times about how Miss Scheel, 24, was chosen by the “medical examiner of the 400 ‘co-eds’ ” at Cornell University as a woman “whose very presence bespeaks perfect health.”         Miss Scheel, however, was hardly model-thin. At 5-foot-7 and 171 pounds, she would, by today’s medical standards, be clearly overweight. (Her body mass index was 27; 25 to 29.9 is overweight.)         But a   suggests that Miss Scheel may have been onto something. The report on nearly three million people found that those whose B.M.I. ranked them as overweight had less risk of dying than people of normal weight. And while obese people had a greater mortality risk over all, those at the lowest   level (B.M.I. of 30 to 34.9) were not more likely to die than normal-weight people.         The report, although not the first to suggest this relationship between B.M.I. and mortality, is by far the largest and most carefully done, analyzing nearly 100 studies, experts said.         But don’t scrap those New Year’s weight-loss resolutions and start gorging on fried Belgian waffles or triple cheeseburgers.         Experts not involved in the research said it suggested that overweight people need not panic unless they have other indicators of poor health and that depending on where fat is in the body, it might be protective or even nutritional for older or sicker people. But over all, piling on pounds and becoming more than slightly obese remains dangerous.         “We wouldn’t want people to think, ‘Well, I can take a pass and gain more weight,’ ” said Dr. George Blackburn, associate director of Harvard Medical School’s   division.         Rather, he and others said, the report, in The Journal of the American Medical Association, suggests that B.M.I., a ratio of height to weight, should not be the only indicator of healthy weight.         “Body mass index is an imperfect measure of the risk of mortality,” and factors like  ,   and blood sugar must be considered, said Dr. Samuel Klein, director of the Center for Human Nutrition at Washington University School of Medicine in St. Louis.         Dr. Steven Heymsfield, executive director of the Pennington Biomedical Research Center in Louisiana, who wrote an editorial accompanying the study, said that for overweight people, if indicators like cholesterol “are in the abnormal range, then that weight is affecting you,” but that if indicators are normal, there’s no reason to “go on a crash diet.”         Experts also said the data suggested that the definition of “normal” B.M.I., 18.5 to 24.9, should be revised, excluding its lowest weights, which might be too thin.         The study did show that the two highest obesity categories (B.M.I. of 35 and up) are at high risk. “Once you have higher obesity, the fat’s in the fire,” Dr. Blackburn said.         But experts also suggested that concepts of fat be refined.         “Fat per se is not as bad as we thought,” said Dr. Kamyar Kalantar-Zadeh, professor of medicine and public health at the University of California, Irvine.         “What is bad is a type of fat that is inside your belly,” he said. “Non-belly fat, underneath your skin in your thigh and your butt area — these are not necessarily bad.”         He added that, to a point, extra fat is accompanied by extra muscle, which can be healthy.         Still, it is possible that overweight or somewhat obese people are less likely to die because they, or their doctors, have identified other conditions associated with weight gain, like high cholesterol or  .         “You’re more likely to be in your doctor’s office and more likely to be treated,” said Dr. Robert Eckel, a past president of the American Heart Association and a professor at University of Colorado.         Some experts said fat could be protective in some cases, although that is unproven and debated. The study did find that people 65 and over had no greater mortality risk even at high obesity.         “There’s something about extra body fat when you’re older that is providing some reserve,” Dr. Eckel said.         And studies on specific illnesses, like heart and kidney disease, have found an “obesity paradox,” that heavier patients are less likely to die.         Still, death is not everything. Even if “being overweight doesn’t increase your risk of dying,” Dr. Klein said, it “does increase your risk of having diabetes” or other conditions.         Ultimately, said the study’s lead author, Katherine Flegal, a senior scientist at the Centers for Disease Control and Prevention, “the best weight might depend on the situation you’re in.”          , in whose “physical makeup there is not a single defect,” the Times article said.         This woman who “has never been ill and doesn’t know what fear is” loved sports and didn’t consume candy, coffee or tea. But she also ate only three meals every two days, and loved beefsteak.         Maybe such seeming contradictions made sense against the societal inconsistencies of that time. After all, her post-college plans involved tilling her father’s farm, but “if she were a man, she would study mechanical engineering.”          \n",
       "2                                                                                                                                                                                                                                                                                                                                                                                                                                                                                                                                                                                                                                                                                               WASHINGTON — The young president who ascended to office as a change agent decides to end the costly and unpopular war in Afghanistan. He seeks an exit with honor by pledging long-term financial support to allies in Kabul, while urging reconciliation with the insurgency. But some senior advisers lobby for a deliberately slow withdrawal, and propose leaving thousands of troops behind to train and support Afghan security forces.         This is a nearly exact description of the endgame conundrum facing President Obama as he prepares for a critical visit by Hamid Karzai, the Afghan president, planned for early January.         But the account is actually drawn from declassified Soviet archives describing  ’s closed-door struggles with his Politburo and army chiefs to end the Kremlin’s intervention in Afghanistan — one that began with a commando raid, coup and modest goals during Christmas week of 1979 but became, after a decade, what Mr. Gorbachev derided as “a bleeding wound.”         What mostly is remembered about the withdrawal is the Soviet Union’s humiliation, and the ensuing factional bloodletting across Afghanistan that threw the country into a vicious civil war. It ended with Taliban control and the establishment of a safe haven for Al Qaeda before the terrorist attacks on Sept. 11, 2001.         But scholars who have studied the Soviet archives point out another lesson for the Obama administration as it manages the pullout of American and allied combat forces from Afghanistan by the end of 2014.         “The main thing the Soviets did right was that they continued large-scale military assistance to the regime they left behind after the final withdrawal in ’89,” said  , a professor at George Mason University and author of “Leaving Without Losing: The War on Terror After Iraq and Afghanistan” (Johns Hopkins University Press, 2012).         “As long as the Afghan regime received the money and the weapons, they did pretty well — and held on to power for three years,” Mr. Katz said. The combat effectiveness of Kabul’s security forces increased after the Soviet withdrawal, when the fight for survival become wholly their own.         But then the Soviet Union dissolved in December 1991, and the new Russian leader, Boris N. Yeltsin, heeded urgings of the United States and other Western powers to halt aid to the Communist leadership in Afghanistan, not just arms and money, but also food and fuel. The Kremlin-backed government in Kabul fell three months later.         To be sure, there are significant contrasts between the two interventions in Afghanistan. The Soviet invasion and occupation were condemned as illegal aggression, while the American one was embraced by the international community, including  , as a “just war,” one with limited goals of routing the Taliban and eliminating Al Qaeda. That war of necessity has since evolved into a war of choice, one the Obama administration is working to end as quickly as is feasible.         Despite the differences going in, both the Soviet Union and the United States soon learned that Afghanistan is a land where foreigners aspiring to create nations in their image must combat not just the Taliban but tribalism, orthodoxy, corruption and a medieval view of women. As well, Pakistan has had interests at odds with those of the neighboring government in Afghanistan, whether Kabul was an ally of Moscow or of Washington.         “The Soviet Union did not understand religious and ethnic factors sufficiently, and overestimated the capacity of Afghan society to move very fast toward a modern era, in this case socialism,” said Svetlana Savranskaya, director of Russian programs at the National Security Archive, an independent research center at George Washington University.         “Here I see similarities with the approach of the United States, especially with all the discussion about trying to leave behind an Afghanistan that is democratic and respects the rights of women, ideas that simply are not accepted across the broad society there,” said Ms. Savranskaya, who has written extensively on the Soviet archives.         If the Soviet experience offers any guidance to the current American withdrawal, she said, it would be to accelerate the departure of foreign combat forces — but to leave in their place a “sustained, multiyear international involvement in military training, education and civilian infrastructure projects, and maybe not focusing on building democracy as much as improving the lives of the common people.”          \n",
       "3                                                                                                                                                                                                                                                                                                                                                                                                                                                                                                                                Energy drinks are the fastest-growing part of the beverage industry, with sales in the United States reaching more than $10 billion in 2012 — more than Americans spent on iced tea or sports beverages like Gatorade.         Their rising popularity represents a generational shift in what people drink, and reflects a successful campaign to convince consumers, particularly teenagers, that the drinks provide a mental and physical edge.         The drinks are now   by the Food and Drug Administration after reports of deaths and serious injuries that may be linked to their high caffeine levels. But however that review ends, one thing is clear, interviews with researchers and a review of scientific studies show: the energy drink industry is based on a brew of ingredients that, apart from caffeine, have little, if any benefit for consumers.         “If you had a cup of coffee you are going to affect metabolism in the same way,” said Dr. Robert W. Pettitt, an associate professor at Minnesota State University in Mankato, who has studied the drinks.         Energy drink companies have promoted their products not as caffeine-fueled concoctions but as specially engineered blends that provide something more. For example, producers claim that “Red Bull gives you wings,” that Rockstar Energy is “scientifically formulated” and Monster Energy is a “killer energy brew.” Representative Edward J. Markey of Massachusetts, a Democrat, has asked the government to investigate the industry’s marketing claims.         Promoting a message beyond caffeine has enabled the beverage makers to charge premium prices. A 16-ounce energy drink that sells for $2.99 a can contains about the same amount of caffeine as a tablet of NoDoz that costs 30 cents. Even Starbucks coffee is cheap by comparison; a 12-ounce cup that costs $1.85 has even more caffeine.         As with earlier elixirs, a dearth of evidence underlies such claims. Only a few human studies of energy drinks or the ingredients in them have been performed and they point to a similar conclusion, researchers say — that the beverages           Caffeine is called the world’s most widely used drug. A stimulant, it increases alertness, awareness and, if taken at the right time, improves athletic performance, studies show. Energy drink users feel its kick faster because the beverages are typically swallowed quickly or are sold as concentrates.         “These are caffeine delivery systems,” said Dr. Roland Griffiths, a researcher at Johns Hopkins University who has studied energy drinks. “They don’t want to say this is equivalent to a NoDoz because that is not a very sexy sales message.”         A scientist at the University of Wisconsin became puzzled as he researched an ingredient used in energy drinks like Red Bull, 5-Hour Energy and Monster Energy. The researcher, Dr. Craig A. Goodman, could not find any trials in humans of the additive, a substance with the tongue-twisting name of glucuronolactone that is related to glucose, a sugar. But Dr. Goodman, who had studied other energy drink ingredients, eventually found two 40-year-old studies from Japan that had examined it.         In the experiments, scientists injected large doses of the substance into laboratory rats. Afterward, the rats swam better. “I have no idea what it does in energy drinks,” Dr. Goodman said.         Energy drink manufacturers say it is their proprietary formulas, rather than specific ingredients, that provide users with physical and mental benefits. But that has not prevented them from implying otherwise.         Consider the case of taurine, an additive used in most energy products.         On its Web site, the producer of Red Bull, for example, states that “  about taurine and its physiological effects,” including acting as a “detoxifying agent.” In addition, that company, Red Bull of Austria, points to a 2009 safety study by a European regulatory group that gave it a clean bill of health.         But Red Bull’s Web site does not mention reports by that same group, the European Food Safety Authority, which concluded that  . Based on those findings, the European Commission has   that taurine helps maintain mental function and heart health and reduces muscle fatigue.         Taurine, an amino acidlike substance that got its name because it was first found in the bile of bulls, does play a role in bodily functions, and recent research suggests it might help prevent heart attacks in women with high  . However, most people get more than adequate amounts from foods like meat, experts said. And researchers added that those with heart problems who may need supplements would find far better sources than energy drinks.          \n",
       "4                                                                                                                                                                                                                                                                                                                                                                                                                                                                                                                                                                                                                                                                                                                                                                                                                                                                                                                                                                                                                                                                                                                                                                            Most states are red or blue. A few are purple. After the November election, New Hampshire turned pink.         Women won the state’s two Congressional seats. Women already held the state’s two Senate seats. When they are all sworn into office on Thursday, New Hampshire will become the first state in the nation’s history to send an all-female delegation to Washington.         And the matriarchy does not end there. New Hampshire’s new governor is a woman. So are the speaker of the State House and the chief justice of the State Supreme Court.         “Pink is the new power color in New Hampshire,” declared Ann McLane Kuster, one of the newly elected representatives, at a recent forum at the   at St. Anselm College in Manchester, where the women’s historic milestone was celebrated.         These women did not rise to the top together overnight. Nor was there an orchestrated movement to elect them. Each toiled in the political vineyards, climbed the ladder in her own time and campaigned hard for her job. But they have caught the state’s collective imagination, inspiring forums and media interest and prompting Jay B. Childs, a New Hampshire filmmaker, to make a documentary about them.         Senator  , 65, a Democrat and dean of the delegation, was the state’s first elected female governor and the first woman in United States history to be elected both governor and senator.         Senator  , 44, a Republican, was the state’s former attorney general.         Carol Shea-Porter, 60, a Democrat and former member of the House, lost her seat in 2010 and won it back in November.         Ms. Kuster, 56, a Democrat, is a lawyer and lobbyist who has not held office before but has long been active in the state and comes from a political family.         Maggie Hassan, 54, a Democrat and the new governor, was majority leader of the State Senate.         Women will make up 20 percent of the new Senate and 17.9 percent of the new House. These are records in Washington, but they fall far short of matching the 50.8 percent of the general population that is female.         While New Hampshire is doing more than its share of bolstering the number of women on Capitol Hill, six states — Alaska, Delaware, Iowa, Mississippi, North Dakota and Vermont — have never elected a woman to the House. And four of those — Delaware, Iowa, Mississippi and Vermont — have never sent a woman to the Senate.         The state after New Hampshire, with the next highest proportion of women in its Congressional delegation, is Hawaii, where both House members and one senator are women.         In only three other states, Maine, Missouri and Washington, do women make up at least half of the delegations. Sixteen states, including New Jersey, have no women in Congress.         Although the women in New Hampshire are serving all at once by happenstance, women have long held prominent positions in New Hampshire government.         One reason is the size of the State House, a typical pipeline for aspiring politicians. It has 400 members, making it the largest of the states and the fourth-largest governing body in the English-speaking world (after the United States Congress, the British Parliament and the Indian Parliament). With so many seats available, women have a better chance of being elected in New Hampshire than they have in many other states.         New Hampshire also has a long history of volunteerism, and serving in the General Court, as the legislature is known, amounts to an act of volunteerism because it pays just $100 a year, plus mileage. Every year since 1975, more than 100 women have served.         “There are lots of opportunities for women to pitch in, prove their competence and learn a lot about governing and the political process,” Ms. Hassan said in an interview. “We’ve had a very deep bench of women.”         Even if the legislature in New Hampshire is big, the state itself is small. That makes it easier for everyone to know everyone else, and most of the women in the Congressional delegation have intricate ties to one another.          "
      ]
     },
     "execution_count": 22,
     "metadata": {},
     "output_type": "execute_result"
    }
   ],
   "source": [
    "newsdf.head()"
   ]
  },
  {
   "cell_type": "code",
   "execution_count": 23,
   "metadata": {},
   "outputs": [],
   "source": [
    "from nltk.corpus import stopwords\n",
    "\n",
    "#create an object storing the default nltk stopwords\n",
    "nltk_stopwords = stopwords.words(\"english\") \n",
    "\n",
    "#create a custom stop words list by adding a few terms to the nltk list\n",
    "my_stopwords = nltk_stopwords + [\"000\", \"mr\", \"said\", \"says\",\"say\", \"ms\"]"
   ]
  },
  {
   "cell_type": "code",
   "execution_count": 24,
   "metadata": {},
   "outputs": [
    {
     "name": "stdout",
     "output_type": "stream",
     "text": [
      "(3848, 495)\n"
     ]
    },
    {
     "data": {
      "text/html": [
       "<div>\n",
       "<style scoped>\n",
       "    .dataframe tbody tr th:only-of-type {\n",
       "        vertical-align: middle;\n",
       "    }\n",
       "\n",
       "    .dataframe tbody tr th {\n",
       "        vertical-align: top;\n",
       "    }\n",
       "\n",
       "    .dataframe thead th {\n",
       "        text-align: right;\n",
       "    }\n",
       "</style>\n",
       "<table border=\"1\" class=\"dataframe\">\n",
       "  <thead>\n",
       "    <tr style=\"text-align: right;\">\n",
       "      <th></th>\n",
       "      <th>count</th>\n",
       "    </tr>\n",
       "  </thead>\n",
       "  <tbody>\n",
       "    <tr>\n",
       "      <th>people</th>\n",
       "      <td>5547</td>\n",
       "    </tr>\n",
       "    <tr>\n",
       "      <th>could</th>\n",
       "      <td>4620</td>\n",
       "    </tr>\n",
       "    <tr>\n",
       "      <th>last</th>\n",
       "      <td>4247</td>\n",
       "    </tr>\n",
       "    <tr>\n",
       "      <th>many</th>\n",
       "      <td>4211</td>\n",
       "    </tr>\n",
       "    <tr>\n",
       "      <th>first</th>\n",
       "      <td>4057</td>\n",
       "    </tr>\n",
       "    <tr>\n",
       "      <th>even</th>\n",
       "      <td>4029</td>\n",
       "    </tr>\n",
       "    <tr>\n",
       "      <th>city</th>\n",
       "      <td>3514</td>\n",
       "    </tr>\n",
       "    <tr>\n",
       "      <th>states</th>\n",
       "      <td>3247</td>\n",
       "    </tr>\n",
       "    <tr>\n",
       "      <th>state</th>\n",
       "      <td>3139</td>\n",
       "    </tr>\n",
       "    <tr>\n",
       "      <th>president</th>\n",
       "      <td>2991</td>\n",
       "    </tr>\n",
       "    <tr>\n",
       "      <th>government</th>\n",
       "      <td>2959</td>\n",
       "    </tr>\n",
       "    <tr>\n",
       "      <th>house</th>\n",
       "      <td>2943</td>\n",
       "    </tr>\n",
       "    <tr>\n",
       "      <th>united</th>\n",
       "      <td>2833</td>\n",
       "    </tr>\n",
       "    <tr>\n",
       "      <th>much</th>\n",
       "      <td>2816</td>\n",
       "    </tr>\n",
       "    <tr>\n",
       "      <th>way</th>\n",
       "      <td>2777</td>\n",
       "    </tr>\n",
       "    <tr>\n",
       "      <th>american</th>\n",
       "      <td>2776</td>\n",
       "    </tr>\n",
       "    <tr>\n",
       "      <th>get</th>\n",
       "      <td>2763</td>\n",
       "    </tr>\n",
       "    <tr>\n",
       "      <th>make</th>\n",
       "      <td>2762</td>\n",
       "    </tr>\n",
       "    <tr>\n",
       "      <th>percent</th>\n",
       "      <td>2757</td>\n",
       "    </tr>\n",
       "  </tbody>\n",
       "</table>\n",
       "</div>"
      ],
      "text/plain": [
       "            count\n",
       "people       5547\n",
       "could        4620\n",
       "last         4247\n",
       "many         4211\n",
       "first        4057\n",
       "even         4029\n",
       "city         3514\n",
       "states       3247\n",
       "state        3139\n",
       "president    2991\n",
       "government   2959\n",
       "house        2943\n",
       "united       2833\n",
       "much         2816\n",
       "way          2777\n",
       "american     2776\n",
       "get          2763\n",
       "make         2762\n",
       "percent      2757"
      ]
     },
     "execution_count": 24,
     "metadata": {},
     "output_type": "execute_result"
    }
   ],
   "source": [
    "from sklearn.feature_extraction.text import CountVectorizer\n",
    "\n",
    "cv = CountVectorizer(binary=False, stop_words = my_stopwords, min_df=.10, max_df =.60) \n",
    "cv_dm = cv.fit_transform(newsdf['text'])\n",
    "print(cv_dm.shape)\n",
    "names = cv.get_feature_names()   #create list of feature names\n",
    "count = np.sum(cv_dm.toarray(), axis = 0) # add up feature counts \n",
    "count2 = count.tolist()  # convert numpy array to list\n",
    "count_df = pd.DataFrame(count2, index = names, columns = ['count']) # create a dataframe from the list\n",
    "count_df.sort_values(['count'], ascending = False)[0:19]  #arrange by count instead of alphabetical (top 20)"
   ]
  },
  {
   "cell_type": "code",
   "execution_count": 25,
   "metadata": {},
   "outputs": [],
   "source": [
    "#lets try some basic stemming - this will take a minute or ten\n",
    "\n",
    "from nltk.stem.porter import PorterStemmer\n",
    "ps = PorterStemmer() \n",
    "\n",
    "def stem_text(row):\n",
    "    text = str(row).split() #splits the text apart before stemming\n",
    "    stemtext = [ps.stem(word) for word in text] #tells it which stemmer to apply and how\n",
    "    stem2text = ' '.join(stemtext) #puts everything back together again\n",
    "    return stem2text\n",
    "\n",
    "newsdf['stemmed'] = newsdf[\"text\"].apply(lambda x: stem_text(x)) #apply the above function to our text\n",
    "#print( newsdf.text[0:1])\n",
    "#print(\"~~~~~~~~~~~~~~~~~~~\")\n",
    "#print(newsdf.stemmed[0:1])"
   ]
  },
  {
   "cell_type": "code",
   "execution_count": 26,
   "metadata": {},
   "outputs": [
    {
     "name": "stdout",
     "output_type": "stream",
     "text": [
      "(3848, 592)\n"
     ]
    },
    {
     "data": {
      "text/html": [
       "<div>\n",
       "<style scoped>\n",
       "    .dataframe tbody tr th:only-of-type {\n",
       "        vertical-align: middle;\n",
       "    }\n",
       "\n",
       "    .dataframe tbody tr th {\n",
       "        vertical-align: top;\n",
       "    }\n",
       "\n",
       "    .dataframe thead th {\n",
       "        text-align: right;\n",
       "    }\n",
       "</style>\n",
       "<table border=\"1\" class=\"dataframe\">\n",
       "  <thead>\n",
       "    <tr style=\"text-align: right;\">\n",
       "      <th></th>\n",
       "      <th>count</th>\n",
       "    </tr>\n",
       "  </thead>\n",
       "  <tbody>\n",
       "    <tr>\n",
       "      <th>state</th>\n",
       "      <td>5530</td>\n",
       "    </tr>\n",
       "    <tr>\n",
       "      <th>peopl</th>\n",
       "      <td>4698</td>\n",
       "    </tr>\n",
       "    <tr>\n",
       "      <th>could</th>\n",
       "      <td>4620</td>\n",
       "    </tr>\n",
       "    <tr>\n",
       "      <th>last</th>\n",
       "      <td>4384</td>\n",
       "    </tr>\n",
       "    <tr>\n",
       "      <th>mani</th>\n",
       "      <td>4141</td>\n",
       "    </tr>\n",
       "    <tr>\n",
       "      <th>work</th>\n",
       "      <td>4094</td>\n",
       "    </tr>\n",
       "    <tr>\n",
       "      <th>first</th>\n",
       "      <td>4057</td>\n",
       "    </tr>\n",
       "    <tr>\n",
       "      <th>use</th>\n",
       "      <td>3934</td>\n",
       "    </tr>\n",
       "    <tr>\n",
       "      <th>go</th>\n",
       "      <td>3909</td>\n",
       "    </tr>\n",
       "    <tr>\n",
       "      <th>get</th>\n",
       "      <td>3720</td>\n",
       "    </tr>\n",
       "    <tr>\n",
       "      <th>becaus</th>\n",
       "      <td>3560</td>\n",
       "    </tr>\n",
       "    <tr>\n",
       "      <th>american</th>\n",
       "      <td>3436</td>\n",
       "    </tr>\n",
       "    <tr>\n",
       "      <th>onli</th>\n",
       "      <td>3431</td>\n",
       "    </tr>\n",
       "    <tr>\n",
       "      <th>call</th>\n",
       "      <td>3405</td>\n",
       "    </tr>\n",
       "    <tr>\n",
       "      <th>day</th>\n",
       "      <td>3306</td>\n",
       "    </tr>\n",
       "    <tr>\n",
       "      <th>way</th>\n",
       "      <td>3121</td>\n",
       "    </tr>\n",
       "    <tr>\n",
       "      <th>unit</th>\n",
       "      <td>3112</td>\n",
       "    </tr>\n",
       "    <tr>\n",
       "      <th>includ</th>\n",
       "      <td>3075</td>\n",
       "    </tr>\n",
       "    <tr>\n",
       "      <th>offici</th>\n",
       "      <td>3062</td>\n",
       "    </tr>\n",
       "  </tbody>\n",
       "</table>\n",
       "</div>"
      ],
      "text/plain": [
       "          count\n",
       "state      5530\n",
       "peopl      4698\n",
       "could      4620\n",
       "last       4384\n",
       "mani       4141\n",
       "work       4094\n",
       "first      4057\n",
       "use        3934\n",
       "go         3909\n",
       "get        3720\n",
       "becaus     3560\n",
       "american   3436\n",
       "onli       3431\n",
       "call       3405\n",
       "day        3306\n",
       "way        3121\n",
       "unit       3112\n",
       "includ     3075\n",
       "offici     3062"
      ]
     },
     "execution_count": 26,
     "metadata": {},
     "output_type": "execute_result"
    }
   ],
   "source": [
    "#how does that affect the feature list\n",
    "\n",
    "cv_dm = cv.fit_transform(newsdf['stemmed'])\n",
    "print(cv_dm.shape)\n",
    "names = cv.get_feature_names()   \n",
    "count = np.sum(cv_dm.toarray(), axis = 0) \n",
    "count2 = count.tolist()  \n",
    "count_df = pd.DataFrame(count2, index = names, columns = ['count']) \n",
    "count_df.sort_values(['count'], ascending = False)[0:19]  "
   ]
  },
  {
   "cell_type": "markdown",
   "metadata": {},
   "source": [
    "#### Is this a \"better\" feature space?  Why?  Why not?  How is it different from the feature space of the un-stemmed text?  Why?"
   ]
  },
  {
   "cell_type": "markdown",
   "metadata": {},
   "source": [
    "## Custom Replacement\n",
    "\n",
    "#### What if stemming is too much change? What if you only want to do some replacements and not others?"
   ]
  },
  {
   "cell_type": "markdown",
   "metadata": {},
   "source": [
    "### How to create customized dictionaries for replacing terms"
   ]
  },
  {
   "cell_type": "code",
   "execution_count": 27,
   "metadata": {},
   "outputs": [
    {
     "name": "stdout",
     "output_type": "stream",
     "text": [
      "old word: cat\n",
      "new word: cbt\n"
     ]
    }
   ],
   "source": [
    "#simple string manipulation\n",
    "word = 'cat'\n",
    "print(\"old word: \" + word)\n",
    "word = word.replace('a','b')\n",
    "print(\"new word: \" + word)"
   ]
  },
  {
   "cell_type": "code",
   "execution_count": 28,
   "metadata": {},
   "outputs": [
    {
     "name": "stdout",
     "output_type": "stream",
     "text": [
      "Old sentence: Bank of America reported lower earnings in Q4\n",
      "New sentence: BofA reported lower earnings in Q4\n"
     ]
    }
   ],
   "source": [
    "# can be more than one character at a time\n",
    "sentence = \"Bank of America reported lower earnings in Q4\"\n",
    "print(\"Old sentence: \" + sentence)\n",
    "sentence = sentence.replace(\"Bank of America\",\"BofA\")\n",
    "print(\"New sentence: \" + sentence)"
   ]
  },
  {
   "cell_type": "code",
   "execution_count": 29,
   "metadata": {},
   "outputs": [
    {
     "name": "stdout",
     "output_type": "stream",
     "text": [
      "<class 'dict'>\n"
     ]
    }
   ],
   "source": [
    "# using dictionaries\n",
    "\n",
    "boat_dict = { 'ship':'boat', 'vessel':'boat'}\n",
    "print(type(boat_dict))"
   ]
  },
  {
   "cell_type": "code",
   "execution_count": 30,
   "metadata": {},
   "outputs": [
    {
     "name": "stdout",
     "output_type": "stream",
     "text": [
      "Original text: what is the name of this vessel?\n",
      "New text: what is the name of this boat?\n"
     ]
    }
   ],
   "source": [
    "sampletext = 'what is the name of this vessel?'\n",
    "print(\"Original text: \" + sampletext)\n",
    "\n",
    "for origword, newword in boat_dict.items():\n",
    "    sampletext = sampletext.replace(origword.lower(), newword)\n",
    "    \n",
    "print(\"New text: \" + sampletext)"
   ]
  },
  {
   "cell_type": "code",
   "execution_count": 31,
   "metadata": {},
   "outputs": [
    {
     "name": "stdout",
     "output_type": "stream",
     "text": [
      "Original text:['Can you ship this to Cleveland?', 'What is the name of this battleship?']\n",
      "New text: ['Can you boat this to Cleveland?', 'What is the name of this battleboat?']\n"
     ]
    }
   ],
   "source": [
    "#you can apply the change to an entire list\n",
    "\n",
    "sampletext = ['Can you ship this to Cleveland?', 'What is the name of this battleship?']\n",
    "newtext = []\n",
    "\n",
    "print(\"Original text:\" + str(sampletext))\n",
    "for item in sampletext:\n",
    "    for origword, newword in boat_dict.items():\n",
    "        item = item.replace(origword.lower(), newword)\n",
    "    newtext = newtext + [item]\n",
    "    \n",
    "print(\"New text: \" + str(newtext))"
   ]
  },
  {
   "cell_type": "code",
   "execution_count": 32,
   "metadata": {},
   "outputs": [
    {
     "name": "stdout",
     "output_type": "stream",
     "text": [
      "                               text\n",
      "0   Can you ship this to Cleveland?\n",
      "1  What is the name of this vessel?\n",
      "~~~~~\n",
      "                              text\n",
      "0  Can you boat this to Cleveland?\n",
      "1   What is the name of this boat?\n"
     ]
    }
   ],
   "source": [
    "#you can apply the change to a column of a data frame\n",
    "sampletext = {'text':['Can you ship this to Cleveland?', 'What is the name of this vessel?']}\n",
    "\n",
    "sample_df = pd.DataFrame(sampletext, columns = ['text']) #create data frame from dictionary\n",
    "print(sample_df)\n",
    "\n",
    "print(\"~~~~~\")\n",
    "\n",
    "for origword, newword in boat_dict.items():\n",
    "    sample_df.text = sample_df.text.str.replace(origword.lower(), newword)\n",
    "    \n",
    "print(sample_df)"
   ]
  },
  {
   "cell_type": "code",
   "execution_count": 33,
   "metadata": {},
   "outputs": [
    {
     "name": "stdout",
     "output_type": "stream",
     "text": [
      "123 N anywhere street\n"
     ]
    }
   ],
   "source": [
    "# more examples\n",
    "address = \"123 north anywhere street\"\n",
    "\n",
    "for word, initial in {\"NORTH\":\"N\", \"SOUTH\":\"S\" }.items():\n",
    "    address = address.replace(word.lower(), initial)\n",
    "print(address)"
   ]
  },
  {
   "cell_type": "markdown",
   "metadata": {
    "collapsed": true
   },
   "source": [
    "### Misspelling suggestions\n",
    "http://emnlp2014.org/papers/pdf/EMNLP2014171.pdf\n",
    "\n",
    "### Build a custom dictionary to use as we did here\n",
    "* Compare words in a corpus to a fairly comprehensive list of english words (such as Word Net: https://wordnet.princeton.edu/)"
   ]
  },
  {
   "cell_type": "code",
   "execution_count": 34,
   "metadata": {},
   "outputs": [],
   "source": [
    "# replace contractions\n",
    "# code borrowed from http://stackoverflow.com/questions/27845796/replacing-words-matching-regular-expressions-in-python\n",
    "import re\n",
    "\n",
    "replacement_patterns = [\n",
    "(r'won\\'t', 'will not'),\n",
    "(r'can\\'t', 'cannot'),\n",
    "(r'i\\'m', 'i am'),\n",
    "(r'ain\\'t', 'is not'),\n",
    "(r'(\\w+)\\'ll', '\\g<1> will'),\n",
    "(r'(\\w+)n\\'t', '\\g<1> not'),\n",
    "(r'(\\w+)\\'ve', '\\g<1> have'),\n",
    "(r'(\\w+)\\'s', '\\g<1> is'),\n",
    "(r'(\\w+)\\'re', '\\g<1> are'),\n",
    "(r'(\\w+)\\'d', '\\g<1> would')\n",
    "]\n",
    "\n",
    "class RegexpReplacer(object):\n",
    "    def __init__(self, patterns=replacement_patterns):\n",
    "        self.patterns = [(re.compile(regex), repl) for (regex, repl) in patterns]\n",
    "    def replace(self, text):\n",
    "        s = text\n",
    "        for (pattern, repl) in self.patterns:\n",
    "            (s, count) = re.subn(pattern, repl, s)\n",
    "        return s"
   ]
  },
  {
   "cell_type": "code",
   "execution_count": 41,
   "metadata": {},
   "outputs": [
    {
     "name": "stdout",
     "output_type": "stream",
     "text": [
      "                                       text\n",
      "0  I can't and won't ship this to Cleveland\n",
      "1           What's the name of this vessel?\n"
     ]
    }
   ],
   "source": [
    "sampletext = {'text':[\"I can't and won't ship this to Cleveland\", \"What's the name of this vessel?\"]}\n",
    "sample_df = pd.DataFrame(sampletext, columns = ['text'])\n",
    "print(sample_df)\n",
    "\n"
   ]
  },
  {
   "cell_type": "code",
   "execution_count": 42,
   "metadata": {},
   "outputs": [
    {
     "name": "stdout",
     "output_type": "stream",
     "text": [
      "                                           text\n",
      "0  I cannot and will not ship this to Cleveland\n",
      "1              What is the name of this vessel?\n"
     ]
    }
   ],
   "source": [
    "replacer = RegexpReplacer()\n",
    "sample_df['text'] = sample_df['text'].map(lambda x: replacer.replace(x))\n",
    "\n",
    "print(sample_df)"
   ]
  },
  {
   "cell_type": "markdown",
   "metadata": {},
   "source": [
    "### What changes might we want to make to our news stories?\n",
    "\n",
    "Some basic changes:\n",
    "* Plurals that we care about: year/years, yield/yields,  economic/economy, states/state, New York/NY\n",
    "* Anything else? \n",
    "\n",
    "There are MANY ways to do this.  If you Google \"dictionary replacement python\", you will see lots of different options and competing code strings in StackOverflow responses.  \n",
    "\n",
    "Here is one way to do it.  You should feel free to investigate others - especially if you have a large dictionary or a lot of text. "
   ]
  },
  {
   "cell_type": "code",
   "execution_count": 43,
   "metadata": {},
   "outputs": [],
   "source": [
    "# using dictionaries\n",
    "\n",
    "news_dict = {'united states':'us', 'years':'year', 'states':'state', 'new york':'ny', 'mr. obama':'obama'}\n",
    "\n",
    "\n",
    "def multiple_replace(dict, text): \n",
    "\n",
    "  \"\"\" Replace in 'text' all occurences of any key in the given\n",
    "  dictionary by its corresponding value.  Returns the new tring.\"\"\" \n",
    "  text = str(text).lower()\n",
    "\n",
    "  # Create a regular expression  from the dictionary keys\n",
    "  regex = re.compile(\"(%s)\" % \"|\".join(map(re.escape, dict.keys())))\n",
    "\n",
    "  # For each match, look-up corresponding value in dictionary\n",
    "  return regex.sub(lambda mo: dict[mo.string[mo.start():mo.end()]], text)\n",
    "\n"
   ]
  },
  {
   "cell_type": "code",
   "execution_count": 44,
   "metadata": {},
   "outputs": [
    {
     "data": {
      "text/html": [
       "<div>\n",
       "<style scoped>\n",
       "    .dataframe tbody tr th:only-of-type {\n",
       "        vertical-align: middle;\n",
       "    }\n",
       "\n",
       "    .dataframe tbody tr th {\n",
       "        vertical-align: top;\n",
       "    }\n",
       "\n",
       "    .dataframe thead th {\n",
       "        text-align: right;\n",
       "    }\n",
       "</style>\n",
       "<table border=\"1\" class=\"dataframe\">\n",
       "  <thead>\n",
       "    <tr style=\"text-align: right;\">\n",
       "      <th></th>\n",
       "      <th>date</th>\n",
       "      <th>description</th>\n",
       "      <th>headline</th>\n",
       "      <th>url</th>\n",
       "      <th>text</th>\n",
       "      <th>stemmed</th>\n",
       "      <th>cleantext</th>\n",
       "    </tr>\n",
       "  </thead>\n",
       "  <tbody>\n",
       "    <tr>\n",
       "      <th>0</th>\n",
       "      <td>2013-01-01</td>\n",
       "      <td>Ending a climactic showdown in the final hours of the 112th Congress, the House sent to President Obama legislation to avert big income tax increases on most Americans.</td>\n",
       "      <td>Divided House Passes Tax Deal in End to Latest Fiscal Standoff</td>\n",
       "      <td>http://www.nytimes.com/2013/01/02/us/politics/house-takes-on-fiscal-cliff.html</td>\n",
       "      <td>WASHINGTON — Ending a climactic fiscal showdown in the final hours of the 112th Congress, the House late Tuesday passed and sent to   legislation to avert big income tax increases on most Americans and prevent large cuts in spending for the Pentagon and other government programs.         The measure, brought to the House floor less than 24 hours after its passage in the Senate, was approved 257 to 167, with 85 Republicans joining 172 Democrats in voting to allow income taxes to rise for the first time in two decades, in this case for the highest-earning Americans. Voting no were 151 Republicans and 16 Democrats.         The bill was expected to be signed quickly by Mr. Obama, who won re-election on a promise to increase taxes on the wealthy.         Mr. Obama strode into the White House briefing room shortly after the vote, less to hail the end of the fiscal crisis than to lay out a marker for the next one. “The one thing that I think, hopefully, the new year will focus on,” he said, “is seeing if we can put a package like this together with a little bit less drama, a little less brinkmanship, and not scare the heck out of folks quite as much.”         In approving the measure after days of legislative intrigue, Congress concluded its final and most pitched fight over fiscal policy, the culmination of two years of battles over taxes, the federal debt, spending and what to do to slow the growth in popular social programs like  .         The decision by Republican leaders to allow the vote came despite widespread scorn among House Republicans for the bill, passed overwhelmingly by the Senate in the early hours of New Year’s Day. They were unhappy that it did not include significant spending cuts in health and other social programs, which they say are essential to any long-term solution to the nation’s debt.         Democrats, while hardly placated by the compromise, celebrated Mr. Obama’s nominal victory in his final showdown with House Republicans in the 112th Congress, who began their term emboldened by scores of new, conservative members whose reach to the right ultimately tipped them over.         “The American people are the real winners tonight,” Representative Bill Pascrell Jr., Democrat of New Jersey, said on the House floor, “not anyone who navigates these halls.”         Not a single leader among House Republicans came to the floor to speak in favor of the bill, though Speaker  , who rarely takes part in roll calls, voted in favor. Representative Eric Cantor of Virginia, the majority leader, and Representative Kevin McCarthy of California, the No. 3 Republican, voted no. Representative Paul D. Ryan, the budget chairman who was the Republican vice-presidential candidate, supported the bill.         Despite the party divisions, many Republicans in their remarks characterized the measure, which allows taxes to go up on household income over $400,000 for individuals and $450,000 for couples but makes permanent tax cuts for income below that level, as a victory of sorts, even as so many of them declined to vote for it.         “After more than a decade of criticizing these tax cuts,” said Representative Dave Camp of Michigan, “Democrats are finally joining Republicans in making them permanent. Republicans and the American people are getting something really important, permanent tax relief.”         The dynamic with the House was a near replay of a fight at the end of 2011 over a   break extension. In that showdown, Senate Democrats and Republicans passed legislation, and while House Republicans fulminated, they were eventually forced to swallow it.         On Tuesday, as they got a detailed look at the Senate’s fiscal legislation, House Republicans ranging from Midwest pragmatists to  -blessed conservatives voiced serious reservations about the measure, emerging from a lunchtime New Year’s Day meeting with their leaders, eyes flashing and faces grim, insisting they would not accept a bill without substantial savings from cuts.         The unrest reached to the highest levels as Mr. Cantor told members in a closed-door meeting in the basement of the Capitol that he could not support the legislation in its current form.         Mr. Boehner, who faces a re-election vote on his post on Thursday when the 113th Congress convenes, had grave concerns as well, but he had pledged to allow the House to consider any legislation that cleared the Senate. And he was not eager to have such a major piece of legislation pass with mainly opposition votes, and the outcome could be seen as undermining his authority.         Adding to the pressure on the House, the fiscal agreement was reached by Senator Mitch McConnell of Kentucky, the Senate Republican leader, and had deep Republican support in the Senate, isolating the House Republicans in their opposition. Some of the Senate Republicans who backed the bill are staunch conservatives, like Senators Patrick J. Toomey of Pennsylvania and Tom Coburn of Oklahoma, with deep credibility among House Republicans.</td>\n",
       "      <td>washington — end a climact fiscal showdown in the final hour of the 112th congress, the hous late tuesday pass and sent to legisl to avert big incom tax increas on most american and prevent larg cut in spend for the pentagon and other govern programs. the measure, brought to the hous floor less than 24 hour after it passag in the senate, wa approv 257 to 167, with 85 republican join 172 democrat in vote to allow incom tax to rise for the first time in two decades, in thi case for the highest-earn americans. vote no were 151 republican and 16 democrats. the bill wa expect to be sign quickli by mr. obama, who won re-elect on a promis to increas tax on the wealthy. mr. obama strode into the white hous brief room shortli after the vote, less to hail the end of the fiscal crisi than to lay out a marker for the next one. “the one thing that I think, hopefully, the new year will focu on,” he said, “i see if we can put a packag like thi togeth with a littl bit less drama, a littl less brinkmanship, and not scare the heck out of folk quit as much.” In approv the measur after day of legisl intrigue, congress conclud it final and most pitch fight over fiscal policy, the culmin of two year of battl over taxes, the feder debt, spend and what to do to slow the growth in popular social program like . the decis by republican leader to allow the vote came despit widespread scorn among hous republican for the bill, pass overwhelmingli by the senat in the earli hour of new year’ day. they were unhappi that it did not includ signific spend cut in health and other social programs, which they say are essenti to ani long-term solut to the nation’ debt. democrats, while hardli placat by the compromise, celebr mr. obama’ nomin victori in hi final showdown with hous republican in the 112th congress, who began their term embolden by score of new, conserv member whose reach to the right ultim tip them over. “the american peopl are the real winner tonight,” repres bill pascrel jr., democrat of new jersey, said on the hous floor, “not anyon who navig these halls.” not a singl leader among hous republican came to the floor to speak in favor of the bill, though speaker , who rare take part in roll calls, vote in favor. repres eric cantor of virginia, the major leader, and repres kevin mccarthi of california, the no. 3 republican, vote no. repres paul D. ryan, the budget chairman who wa the republican vice-presidenti candidate, support the bill. despit the parti divisions, mani republican in their remark character the measure, which allow tax to go up on household incom over $400,000 for individu and $450,000 for coupl but make perman tax cut for incom below that level, as a victori of sorts, even as so mani of them declin to vote for it. “after more than a decad of critic these tax cuts,” said repres dave camp of michigan, “democrat are final join republican in make them permanent. republican and the american peopl are get someth realli important, perman tax relief.” the dynam with the hous wa a near replay of a fight at the end of 2011 over a break extension. In that showdown, senat democrat and republican pass legislation, and while hous republican fulminated, they were eventu forc to swallow it. On tuesday, as they got a detail look at the senate’ fiscal legislation, hous republican rang from midwest pragmatist to -bless conserv voic seriou reserv about the measure, emerg from a lunchtim new year’ day meet with their leaders, eye flash and face grim, insist they would not accept a bill without substanti save from cuts. the unrest reach to the highest level as mr. cantor told member in a closed-door meet in the basement of the capitol that he could not support the legisl in it current form. mr. boehner, who face a re-elect vote on hi post on thursday when the 113th congress convenes, had grave concern as well, but he had pledg to allow the hous to consid ani legisl that clear the senate. and he wa not eager to have such a major piec of legisl pass with mainli opposit votes, and the outcom could be seen as undermin hi authority. ad to the pressur on the house, the fiscal agreement wa reach by senat mitch mcconnel of kentucky, the senat republican leader, and had deep republican support in the senate, isol the hous republican in their opposition. some of the senat republican who back the bill are staunch conservatives, like senat patrick J. toomey of pennsylvania and tom coburn of oklahoma, with deep credibl among hous republicans.</td>\n",
       "      <td>washington — ending a climactic fiscal showdown in the final hours of the 112th congress, the house late tuesday passed and sent to   legislation to avert big income tax increases on most americans and prevent large cuts in spending for the pentagon and other government programs.         the measure, brought to the house floor less than 24 hours after its passage in the senate, was approved 257 to 167, with 85 republicans joining 172 democrats in voting to allow income taxes to rise for the first time in two decades, in this case for the highest-earning americans. voting no were 151 republicans and 16 democrats.         the bill was expected to be signed quickly by obama, who won re-election on a promise to increase taxes on the wealthy.         obama strode into the white house briefing room shortly after the vote, less to hail the end of the fiscal crisis than to lay out a marker for the next one. “the one thing that i think, hopefully, the new year will focus on,” he said, “is seeing if we can put a package like this together with a little bit less drama, a little less brinkmanship, and not scare the heck out of folks quite as much.”         in approving the measure after days of legislative intrigue, congress concluded its final and most pitched fight over fiscal policy, the culmination of two year of battles over taxes, the federal debt, spending and what to do to slow the growth in popular social programs like  .         the decision by republican leaders to allow the vote came despite widespread scorn among house republicans for the bill, passed overwhelmingly by the senate in the early hours of new year’s day. they were unhappy that it did not include significant spending cuts in health and other social programs, which they say are essential to any long-term solution to the nation’s debt.         democrats, while hardly placated by the compromise, celebrated obama’s nominal victory in his final showdown with house republicans in the 112th congress, who began their term emboldened by scores of new, conservative members whose reach to the right ultimately tipped them over.         “the american people are the real winners tonight,” representative bill pascrell jr., democrat of new jersey, said on the house floor, “not anyone who navigates these halls.”         not a single leader among house republicans came to the floor to speak in favor of the bill, though speaker  , who rarely takes part in roll calls, voted in favor. representative eric cantor of virginia, the majority leader, and representative kevin mccarthy of california, the no. 3 republican, voted no. representative paul d. ryan, the budget chairman who was the republican vice-presidential candidate, supported the bill.         despite the party divisions, many republicans in their remarks characterized the measure, which allows taxes to go up on household income over $400,000 for individuals and $450,000 for couples but makes permanent tax cuts for income below that level, as a victory of sorts, even as so many of them declined to vote for it.         “after more than a decade of criticizing these tax cuts,” said representative dave camp of michigan, “democrats are finally joining republicans in making them permanent. republicans and the american people are getting something really important, permanent tax relief.”         the dynamic with the house was a near replay of a fight at the end of 2011 over a   break extension. in that showdown, senate democrats and republicans passed legislation, and while house republicans fulminated, they were eventually forced to swallow it.         on tuesday, as they got a detailed look at the senate’s fiscal legislation, house republicans ranging from midwest pragmatists to  -blessed conservatives voiced serious reservations about the measure, emerging from a lunchtime new year’s day meeting with their leaders, eyes flashing and faces grim, insisting they would not accept a bill without substantial savings from cuts.         the unrest reached to the highest levels as mr. cantor told members in a closed-door meeting in the basement of the capitol that he could not support the legislation in its current form.         mr. boehner, who faces a re-election vote on his post on thursday when the 113th congress convenes, had grave concerns as well, but he had pledged to allow the house to consider any legislation that cleared the senate. and he was not eager to have such a major piece of legislation pass with mainly opposition votes, and the outcome could be seen as undermining his authority.         adding to the pressure on the house, the fiscal agreement was reached by senator mitch mcconnell of kentucky, the senate republican leader, and had deep republican support in the senate, isolating the house republicans in their opposition. some of the senate republicans who backed the bill are staunch conservatives, like senators patrick j. toomey of pennsylvania and tom coburn of oklahoma, with deep credibility among house republicans.</td>\n",
       "    </tr>\n",
       "  </tbody>\n",
       "</table>\n",
       "</div>"
      ],
      "text/plain": [
       "         date  \\\n",
       "0  2013-01-01   \n",
       "\n",
       "                                                                                                                                                                description  \\\n",
       "0  Ending a climactic showdown in the final hours of the 112th Congress, the House sent to President Obama legislation to avert big income tax increases on most Americans.   \n",
       "\n",
       "                                                         headline  \\\n",
       "0  Divided House Passes Tax Deal in End to Latest Fiscal Standoff   \n",
       "\n",
       "                                                                              url  \\\n",
       "0  http://www.nytimes.com/2013/01/02/us/politics/house-takes-on-fiscal-cliff.html   \n",
       "\n",
       "                                                                                                                                                                                                                                                                                                                                                                                                                                                                                                                                                                                                                                                                                                                                                                                                                                                                                                                                                                                                                                                                                                                                                                                                                                                                                                                                                                                                                                                                                                                                                                                                                                                                                                                                                                                                                                                                                                                                                                                                                                                                                                                                                                                                                                                                                                                                                                                                                                                                                                                                                                                                                                                                                                                                                                                                                                                                                                                                                                                                                                                                                                                                                                                                                                                                                                                                                                                                                                                                                                                                                                                                                                                                                                                                                                                                                                                                                                                                                                                                                                                                                                                                                                                                                                                                                                                                                                                                                                                                                                                                                                                                                                                                                                                                                                                                                                                                                                                                                                                                                                                                                                                                                                                                                                               text  \\\n",
       "0  WASHINGTON — Ending a climactic fiscal showdown in the final hours of the 112th Congress, the House late Tuesday passed and sent to   legislation to avert big income tax increases on most Americans and prevent large cuts in spending for the Pentagon and other government programs.         The measure, brought to the House floor less than 24 hours after its passage in the Senate, was approved 257 to 167, with 85 Republicans joining 172 Democrats in voting to allow income taxes to rise for the first time in two decades, in this case for the highest-earning Americans. Voting no were 151 Republicans and 16 Democrats.         The bill was expected to be signed quickly by Mr. Obama, who won re-election on a promise to increase taxes on the wealthy.         Mr. Obama strode into the White House briefing room shortly after the vote, less to hail the end of the fiscal crisis than to lay out a marker for the next one. “The one thing that I think, hopefully, the new year will focus on,” he said, “is seeing if we can put a package like this together with a little bit less drama, a little less brinkmanship, and not scare the heck out of folks quite as much.”         In approving the measure after days of legislative intrigue, Congress concluded its final and most pitched fight over fiscal policy, the culmination of two years of battles over taxes, the federal debt, spending and what to do to slow the growth in popular social programs like  .         The decision by Republican leaders to allow the vote came despite widespread scorn among House Republicans for the bill, passed overwhelmingly by the Senate in the early hours of New Year’s Day. They were unhappy that it did not include significant spending cuts in health and other social programs, which they say are essential to any long-term solution to the nation’s debt.         Democrats, while hardly placated by the compromise, celebrated Mr. Obama’s nominal victory in his final showdown with House Republicans in the 112th Congress, who began their term emboldened by scores of new, conservative members whose reach to the right ultimately tipped them over.         “The American people are the real winners tonight,” Representative Bill Pascrell Jr., Democrat of New Jersey, said on the House floor, “not anyone who navigates these halls.”         Not a single leader among House Republicans came to the floor to speak in favor of the bill, though Speaker  , who rarely takes part in roll calls, voted in favor. Representative Eric Cantor of Virginia, the majority leader, and Representative Kevin McCarthy of California, the No. 3 Republican, voted no. Representative Paul D. Ryan, the budget chairman who was the Republican vice-presidential candidate, supported the bill.         Despite the party divisions, many Republicans in their remarks characterized the measure, which allows taxes to go up on household income over $400,000 for individuals and $450,000 for couples but makes permanent tax cuts for income below that level, as a victory of sorts, even as so many of them declined to vote for it.         “After more than a decade of criticizing these tax cuts,” said Representative Dave Camp of Michigan, “Democrats are finally joining Republicans in making them permanent. Republicans and the American people are getting something really important, permanent tax relief.”         The dynamic with the House was a near replay of a fight at the end of 2011 over a   break extension. In that showdown, Senate Democrats and Republicans passed legislation, and while House Republicans fulminated, they were eventually forced to swallow it.         On Tuesday, as they got a detailed look at the Senate’s fiscal legislation, House Republicans ranging from Midwest pragmatists to  -blessed conservatives voiced serious reservations about the measure, emerging from a lunchtime New Year’s Day meeting with their leaders, eyes flashing and faces grim, insisting they would not accept a bill without substantial savings from cuts.         The unrest reached to the highest levels as Mr. Cantor told members in a closed-door meeting in the basement of the Capitol that he could not support the legislation in its current form.         Mr. Boehner, who faces a re-election vote on his post on Thursday when the 113th Congress convenes, had grave concerns as well, but he had pledged to allow the House to consider any legislation that cleared the Senate. And he was not eager to have such a major piece of legislation pass with mainly opposition votes, and the outcome could be seen as undermining his authority.         Adding to the pressure on the House, the fiscal agreement was reached by Senator Mitch McConnell of Kentucky, the Senate Republican leader, and had deep Republican support in the Senate, isolating the House Republicans in their opposition. Some of the Senate Republicans who backed the bill are staunch conservatives, like Senators Patrick J. Toomey of Pennsylvania and Tom Coburn of Oklahoma, with deep credibility among House Republicans.           \n",
       "\n",
       "                                                                                                                                                                                                                                                                                                                                                                                                                                                                                                                                                                                                                                                                                                                                                                                                                                                                                                                                                                                                                                                                                                                                                                                                                                                                                                                                                                                                                                                                                                                                                                                                                                                                                                                                                                                                                                                                                                                                                                                                                                                                                                                                                                                                                                                                                                                                                                                                                                                                                                                                                                                                                                                                                                                                                                                                                                                                                                                                                                                                                                                                                                                                                                                                                                                                                                                                                                                                                                                                                                                                                                                                                                                                                                                                                                                                                                                                                                                                                                                                                                                                                                                                                                                                                                                                                                                                                                                                                                                                                                                                                                                                                                                               stemmed  \\\n",
       "0  washington — end a climact fiscal showdown in the final hour of the 112th congress, the hous late tuesday pass and sent to legisl to avert big incom tax increas on most american and prevent larg cut in spend for the pentagon and other govern programs. the measure, brought to the hous floor less than 24 hour after it passag in the senate, wa approv 257 to 167, with 85 republican join 172 democrat in vote to allow incom tax to rise for the first time in two decades, in thi case for the highest-earn americans. vote no were 151 republican and 16 democrats. the bill wa expect to be sign quickli by mr. obama, who won re-elect on a promis to increas tax on the wealthy. mr. obama strode into the white hous brief room shortli after the vote, less to hail the end of the fiscal crisi than to lay out a marker for the next one. “the one thing that I think, hopefully, the new year will focu on,” he said, “i see if we can put a packag like thi togeth with a littl bit less drama, a littl less brinkmanship, and not scare the heck out of folk quit as much.” In approv the measur after day of legisl intrigue, congress conclud it final and most pitch fight over fiscal policy, the culmin of two year of battl over taxes, the feder debt, spend and what to do to slow the growth in popular social program like . the decis by republican leader to allow the vote came despit widespread scorn among hous republican for the bill, pass overwhelmingli by the senat in the earli hour of new year’ day. they were unhappi that it did not includ signific spend cut in health and other social programs, which they say are essenti to ani long-term solut to the nation’ debt. democrats, while hardli placat by the compromise, celebr mr. obama’ nomin victori in hi final showdown with hous republican in the 112th congress, who began their term embolden by score of new, conserv member whose reach to the right ultim tip them over. “the american peopl are the real winner tonight,” repres bill pascrel jr., democrat of new jersey, said on the hous floor, “not anyon who navig these halls.” not a singl leader among hous republican came to the floor to speak in favor of the bill, though speaker , who rare take part in roll calls, vote in favor. repres eric cantor of virginia, the major leader, and repres kevin mccarthi of california, the no. 3 republican, vote no. repres paul D. ryan, the budget chairman who wa the republican vice-presidenti candidate, support the bill. despit the parti divisions, mani republican in their remark character the measure, which allow tax to go up on household incom over $400,000 for individu and $450,000 for coupl but make perman tax cut for incom below that level, as a victori of sorts, even as so mani of them declin to vote for it. “after more than a decad of critic these tax cuts,” said repres dave camp of michigan, “democrat are final join republican in make them permanent. republican and the american peopl are get someth realli important, perman tax relief.” the dynam with the hous wa a near replay of a fight at the end of 2011 over a break extension. In that showdown, senat democrat and republican pass legislation, and while hous republican fulminated, they were eventu forc to swallow it. On tuesday, as they got a detail look at the senate’ fiscal legislation, hous republican rang from midwest pragmatist to -bless conserv voic seriou reserv about the measure, emerg from a lunchtim new year’ day meet with their leaders, eye flash and face grim, insist they would not accept a bill without substanti save from cuts. the unrest reach to the highest level as mr. cantor told member in a closed-door meet in the basement of the capitol that he could not support the legisl in it current form. mr. boehner, who face a re-elect vote on hi post on thursday when the 113th congress convenes, had grave concern as well, but he had pledg to allow the hous to consid ani legisl that clear the senate. and he wa not eager to have such a major piec of legisl pass with mainli opposit votes, and the outcom could be seen as undermin hi authority. ad to the pressur on the house, the fiscal agreement wa reach by senat mitch mcconnel of kentucky, the senat republican leader, and had deep republican support in the senate, isol the hous republican in their opposition. some of the senat republican who back the bill are staunch conservatives, like senat patrick J. toomey of pennsylvania and tom coburn of oklahoma, with deep credibl among hous republicans.   \n",
       "\n",
       "                                                                                                                                                                                                                                                                                                                                                                                                                                                                                                                                                                                                                                                                                                                                                                                                                                                                                                                                                                                                                                                                                                                                                                                                                                                                                                                                                                                                                                                                                                                                                                                                                                                                                                                                                                                                                                                                                                                                                                                                                                                                                                                                                                                                                                                                                                                                                                                                                                                                                                                                                                                                                                                                                                                                                                                                                                                                                                                                                                                                                                                                                                                                                                                                                                                                                                                                                                                                                                                                                                                                                                                                                                                                                                                                                                                                                                                                                                                                                                                                                                                                                                                                                                                                                                                                                                                                                                                                                                                                                                                                                                                                                                                                                                                                                                                                                                                                                                                                                                                                                                                                                                                                                                                                                             cleantext  \n",
       "0  washington — ending a climactic fiscal showdown in the final hours of the 112th congress, the house late tuesday passed and sent to   legislation to avert big income tax increases on most americans and prevent large cuts in spending for the pentagon and other government programs.         the measure, brought to the house floor less than 24 hours after its passage in the senate, was approved 257 to 167, with 85 republicans joining 172 democrats in voting to allow income taxes to rise for the first time in two decades, in this case for the highest-earning americans. voting no were 151 republicans and 16 democrats.         the bill was expected to be signed quickly by obama, who won re-election on a promise to increase taxes on the wealthy.         obama strode into the white house briefing room shortly after the vote, less to hail the end of the fiscal crisis than to lay out a marker for the next one. “the one thing that i think, hopefully, the new year will focus on,” he said, “is seeing if we can put a package like this together with a little bit less drama, a little less brinkmanship, and not scare the heck out of folks quite as much.”         in approving the measure after days of legislative intrigue, congress concluded its final and most pitched fight over fiscal policy, the culmination of two year of battles over taxes, the federal debt, spending and what to do to slow the growth in popular social programs like  .         the decision by republican leaders to allow the vote came despite widespread scorn among house republicans for the bill, passed overwhelmingly by the senate in the early hours of new year’s day. they were unhappy that it did not include significant spending cuts in health and other social programs, which they say are essential to any long-term solution to the nation’s debt.         democrats, while hardly placated by the compromise, celebrated obama’s nominal victory in his final showdown with house republicans in the 112th congress, who began their term emboldened by scores of new, conservative members whose reach to the right ultimately tipped them over.         “the american people are the real winners tonight,” representative bill pascrell jr., democrat of new jersey, said on the house floor, “not anyone who navigates these halls.”         not a single leader among house republicans came to the floor to speak in favor of the bill, though speaker  , who rarely takes part in roll calls, voted in favor. representative eric cantor of virginia, the majority leader, and representative kevin mccarthy of california, the no. 3 republican, voted no. representative paul d. ryan, the budget chairman who was the republican vice-presidential candidate, supported the bill.         despite the party divisions, many republicans in their remarks characterized the measure, which allows taxes to go up on household income over $400,000 for individuals and $450,000 for couples but makes permanent tax cuts for income below that level, as a victory of sorts, even as so many of them declined to vote for it.         “after more than a decade of criticizing these tax cuts,” said representative dave camp of michigan, “democrats are finally joining republicans in making them permanent. republicans and the american people are getting something really important, permanent tax relief.”         the dynamic with the house was a near replay of a fight at the end of 2011 over a   break extension. in that showdown, senate democrats and republicans passed legislation, and while house republicans fulminated, they were eventually forced to swallow it.         on tuesday, as they got a detailed look at the senate’s fiscal legislation, house republicans ranging from midwest pragmatists to  -blessed conservatives voiced serious reservations about the measure, emerging from a lunchtime new year’s day meeting with their leaders, eyes flashing and faces grim, insisting they would not accept a bill without substantial savings from cuts.         the unrest reached to the highest levels as mr. cantor told members in a closed-door meeting in the basement of the capitol that he could not support the legislation in its current form.         mr. boehner, who faces a re-election vote on his post on thursday when the 113th congress convenes, had grave concerns as well, but he had pledged to allow the house to consider any legislation that cleared the senate. and he was not eager to have such a major piece of legislation pass with mainly opposition votes, and the outcome could be seen as undermining his authority.         adding to the pressure on the house, the fiscal agreement was reached by senator mitch mcconnell of kentucky, the senate republican leader, and had deep republican support in the senate, isolating the house republicans in their opposition. some of the senate republicans who backed the bill are staunch conservatives, like senators patrick j. toomey of pennsylvania and tom coburn of oklahoma, with deep credibility among house republicans.          "
      ]
     },
     "execution_count": 44,
     "metadata": {},
     "output_type": "execute_result"
    }
   ],
   "source": [
    "newsdf['cleantext'] = newsdf.text.apply(lambda x: multiple_replace(news_dict, x))\n",
    "newsdf[0:1] "
   ]
  },
  {
   "cell_type": "code",
   "execution_count": 45,
   "metadata": {
    "scrolled": true
   },
   "outputs": [
    {
     "name": "stdout",
     "output_type": "stream",
     "text": [
      "(3848, 494)\n"
     ]
    },
    {
     "data": {
      "text/html": [
       "<div>\n",
       "<style scoped>\n",
       "    .dataframe tbody tr th:only-of-type {\n",
       "        vertical-align: middle;\n",
       "    }\n",
       "\n",
       "    .dataframe tbody tr th {\n",
       "        vertical-align: top;\n",
       "    }\n",
       "\n",
       "    .dataframe thead th {\n",
       "        text-align: right;\n",
       "    }\n",
       "</style>\n",
       "<table border=\"1\" class=\"dataframe\">\n",
       "  <thead>\n",
       "    <tr style=\"text-align: right;\">\n",
       "      <th></th>\n",
       "      <th>count</th>\n",
       "    </tr>\n",
       "  </thead>\n",
       "  <tbody>\n",
       "    <tr>\n",
       "      <th>people</th>\n",
       "      <td>5547</td>\n",
       "    </tr>\n",
       "    <tr>\n",
       "      <th>new</th>\n",
       "      <td>5022</td>\n",
       "    </tr>\n",
       "    <tr>\n",
       "      <th>could</th>\n",
       "      <td>4620</td>\n",
       "    </tr>\n",
       "    <tr>\n",
       "      <th>last</th>\n",
       "      <td>4247</td>\n",
       "    </tr>\n",
       "    <tr>\n",
       "      <th>many</th>\n",
       "      <td>4211</td>\n",
       "    </tr>\n",
       "    <tr>\n",
       "      <th>first</th>\n",
       "      <td>4057</td>\n",
       "    </tr>\n",
       "    <tr>\n",
       "      <th>even</th>\n",
       "      <td>4029</td>\n",
       "    </tr>\n",
       "    <tr>\n",
       "      <th>state</th>\n",
       "      <td>3986</td>\n",
       "    </tr>\n",
       "    <tr>\n",
       "      <th>us</th>\n",
       "      <td>3869</td>\n",
       "    </tr>\n",
       "    <tr>\n",
       "      <th>city</th>\n",
       "      <td>3514</td>\n",
       "    </tr>\n",
       "    <tr>\n",
       "      <th>president</th>\n",
       "      <td>2991</td>\n",
       "    </tr>\n",
       "    <tr>\n",
       "      <th>government</th>\n",
       "      <td>2959</td>\n",
       "    </tr>\n",
       "    <tr>\n",
       "      <th>house</th>\n",
       "      <td>2943</td>\n",
       "    </tr>\n",
       "    <tr>\n",
       "      <th>much</th>\n",
       "      <td>2816</td>\n",
       "    </tr>\n",
       "    <tr>\n",
       "      <th>way</th>\n",
       "      <td>2777</td>\n",
       "    </tr>\n",
       "    <tr>\n",
       "      <th>american</th>\n",
       "      <td>2776</td>\n",
       "    </tr>\n",
       "    <tr>\n",
       "      <th>get</th>\n",
       "      <td>2763</td>\n",
       "    </tr>\n",
       "    <tr>\n",
       "      <th>make</th>\n",
       "      <td>2762</td>\n",
       "    </tr>\n",
       "    <tr>\n",
       "      <th>percent</th>\n",
       "      <td>2757</td>\n",
       "    </tr>\n",
       "    <tr>\n",
       "      <th>back</th>\n",
       "      <td>2750</td>\n",
       "    </tr>\n",
       "    <tr>\n",
       "      <th>made</th>\n",
       "      <td>2748</td>\n",
       "    </tr>\n",
       "    <tr>\n",
       "      <th>ny</th>\n",
       "      <td>2707</td>\n",
       "    </tr>\n",
       "    <tr>\n",
       "      <th>still</th>\n",
       "      <td>2651</td>\n",
       "    </tr>\n",
       "    <tr>\n",
       "      <th>long</th>\n",
       "      <td>2604</td>\n",
       "    </tr>\n",
       "    <tr>\n",
       "      <th>officials</th>\n",
       "      <td>2591</td>\n",
       "    </tr>\n",
       "    <tr>\n",
       "      <th>three</th>\n",
       "      <td>2533</td>\n",
       "    </tr>\n",
       "    <tr>\n",
       "      <th>obama</th>\n",
       "      <td>2407</td>\n",
       "    </tr>\n",
       "    <tr>\n",
       "      <th>world</th>\n",
       "      <td>2384</td>\n",
       "    </tr>\n",
       "    <tr>\n",
       "      <th>day</th>\n",
       "      <td>2368</td>\n",
       "    </tr>\n",
       "  </tbody>\n",
       "</table>\n",
       "</div>"
      ],
      "text/plain": [
       "            count\n",
       "people       5547\n",
       "new          5022\n",
       "could        4620\n",
       "last         4247\n",
       "many         4211\n",
       "first        4057\n",
       "even         4029\n",
       "state        3986\n",
       "us           3869\n",
       "city         3514\n",
       "president    2991\n",
       "government   2959\n",
       "house        2943\n",
       "much         2816\n",
       "way          2777\n",
       "american     2776\n",
       "get          2763\n",
       "make         2762\n",
       "percent      2757\n",
       "back         2750\n",
       "made         2748\n",
       "ny           2707\n",
       "still        2651\n",
       "long         2604\n",
       "officials    2591\n",
       "three        2533\n",
       "obama        2407\n",
       "world        2384\n",
       "day          2368"
      ]
     },
     "execution_count": 45,
     "metadata": {},
     "output_type": "execute_result"
    }
   ],
   "source": [
    "# how does this preprocessing change the feature space?\n",
    "cv_dm = cv.fit_transform(newsdf['cleantext'])\n",
    "print(cv_dm.shape)\n",
    "names = cv.get_feature_names()   \n",
    "count = np.sum(cv_dm.toarray(), axis = 0)\n",
    "count2 = count.tolist() \n",
    "count_df = pd.DataFrame(count2, index = names, columns = ['count']) \n",
    "count_df.sort_values(['count'], ascending = False)[0:29]  "
   ]
  },
  {
   "cell_type": "markdown",
   "metadata": {},
   "source": [
    "### Word analysis - comparing individual words to build classifications\n",
    "Note:\n",
    "##### Word used != topic\n",
    "#### Remember: word choice is expression, topic is content\n",
    "\n",
    "### Example:  \n",
    "What is the topic for these words?\n",
    "* base, run, out, homer\n",
    "\n",
    "What is the topic for these words?\n",
    "* bat, catch, home, fly\n",
    "\n",
    "But words are important for classification:  assigning topic (two weeks) and assigning sentiment (this week)"
   ]
  },
  {
   "cell_type": "markdown",
   "metadata": {},
   "source": [
    "## Sentiment dictionaries\n",
    "\n",
    "Some packages do it for you:\n",
    "http://text-processing.com/demo/sentiment/\n",
    "\n",
    "Like other instances, how you do it depends on what you want to do.\n",
    "\n",
    "Some options: \n",
    "* PL:\n",
    " * http://www.cs.cornell.edu/people/pabo/movie-review-data/\n",
    "* AFINN: \n",
    " * example - https://finnaarupnielsen.wordpress.com/2011/06/20/simplest-sentiment-analysis-in-python-with-af/\n",
    " * dictionary files: http://www2.imm.dtu.dk/pubdb/views/publication_details.php?id=6010\n",
    "* HL: \n",
    " * documentation: https://www.cs.uic.edu/~liub/FBS/sentiment-analysis.html\n",
    "* Moby sentiment thesaurus:\n",
    " * http://papers.ssrn.com/sol3/papers.cfm?abstract_id=2191937\n",
    "* Loughran and McDonald finance dictionaries:\n",
    " * http://www3.nd.edu/~mcdonald/Word_Lists.html\n",
    "* General Inquirer - multi purpose and multidimensional\n",
    "  * http://www.wjh.harvard.edu/~inquirer/homecat.htm"
   ]
  },
  {
   "cell_type": "code",
   "execution_count": 48,
   "metadata": {
    "scrolled": true
   },
   "outputs": [
    {
     "name": "stdout",
     "output_type": "stream",
     "text": [
      "<class 'dict'> 2477\n",
      "abandon => -2\n",
      "abandoned => -2\n",
      "abandons => -2\n",
      "abducted => -2\n",
      "abduction => -2\n",
      "abductions => -2\n",
      "abhor => -3\n",
      "abhorred => -3\n",
      "abhorrent => -3\n",
      "abhors => -3\n",
      "~~~~~~~~~~~~\n",
      "yeah => 1\n",
      "yearning => 1\n",
      "yeees => 2\n",
      "yes => 1\n",
      "youthful => 2\n",
      "yucky => -2\n",
      "yummy => 3\n",
      "zealot => -2\n",
      "zealots => -2\n",
      "zealous => 2\n"
     ]
    }
   ],
   "source": [
    "#some dictionaries assign a value \n",
    "afinn = {}\n",
    "for line in open('C:\\\\Users\\\\Paul\\\\Desktop\\\\Rockhurst\\\\BIA 6304-Text Mining\\\\Week 4\\\\AFINN-111.txt'):\n",
    "    tt = line.split('\\t')\n",
    "    afinn.update({tt[0]:int(tt[1])})\n",
    "\n",
    "\n",
    "print(type(afinn), len(afinn))\n",
    "\n",
    "for key, value in sorted(afinn.items())[0:10]:\n",
    "    print(key + \" => \" + str(value))\n",
    "print(\"~~~~~~~~~~~~\")\n",
    "for key, value in sorted(afinn.items())[2467:]:\n",
    "    print(key + \" => \" + str(value))"
   ]
  },
  {
   "cell_type": "code",
   "execution_count": 50,
   "metadata": {},
   "outputs": [
    {
     "name": "stdout",
     "output_type": "stream",
     "text": [
      "HL pos  size: 2006\n",
      "['a+', 'abound', 'abounds', 'abundance', 'abundant', 'accessable', 'accessible', 'acclaim', 'acclaimed', 'acclamation']\n",
      "HL neg  size: 4783\n",
      "['2-faced', '2-faces', 'abnormal', 'abolish', 'abominable', 'abominably', 'abominate', 'abomination', 'abort', 'aborted']\n"
     ]
    }
   ],
   "source": [
    "#some sort into buckets\n",
    "\n",
    "  \n",
    "print(\"HL pos  size: \" + str(len(HLpos)))\n",
    "print(HLpos[0:10])\n",
    "print(\"HL neg  size: \" + str(len(HLneg)))\n",
    "print(HLneg[0:10])"
   ]
  },
  {
   "cell_type": "markdown",
   "metadata": {},
   "source": [
    "### How can you use this? Need to construct a measure\n",
    "\n",
    "Sum of words with values?\n",
    "\n",
    "Count of positive over negative?\n"
   ]
  },
  {
   "cell_type": "code",
   "execution_count": 51,
   "metadata": {},
   "outputs": [],
   "source": [
    "# here we are going for strictly the sum:  add up the positives and \"subtract\" the negatives\n",
    "# you can return a number or a label\n",
    "\n",
    "def afinn_sent(inputstring):\n",
    "    \n",
    "    sentcount =0\n",
    "    for word in inputstring.split():  \n",
    "        if word.rstrip('?:!.,;') in afinn:\n",
    "            sentcount = sentcount + afinn[word.rstrip('?:!.,;')]\n",
    "            \n",
    "    \n",
    "    if (sentcount < 0):\n",
    "        sentiment = 'Negative'\n",
    "    elif (sentcount >0):\n",
    "        sentiment = 'Positive'\n",
    "    else:\n",
    "        sentiment = 'Neutral'\n",
    "    \n",
    "    return sentiment\n",
    "    #return sentcount\n"
   ]
  },
  {
   "cell_type": "code",
   "execution_count": 52,
   "metadata": {},
   "outputs": [
    {
     "name": "stdout",
     "output_type": "stream",
     "text": [
      "5 years ago, I was shot in an attempt to stop me from speaking out for girls' education. Today, I attend my first lectures at Oxford.\n"
     ]
    },
    {
     "data": {
      "text/plain": [
       "'Negative'"
      ]
     },
     "execution_count": 52,
     "metadata": {},
     "output_type": "execute_result"
    }
   ],
   "source": [
    "import string\n",
    "test_string = \"5 years ago, I was shot in an attempt to stop me from speaking out for girls' education. Today, I attend my first lectures at Oxford.\"\n",
    "\n",
    "print(test_string)\n",
    "afinn_sent(test_string)\n"
   ]
  },
  {
   "cell_type": "code",
   "execution_count": 53,
   "metadata": {},
   "outputs": [
    {
     "name": "stdout",
     "output_type": "stream",
     "text": [
      "<class 'pandas.core.series.Series'>\n"
     ]
    }
   ],
   "source": [
    "newsdf['afinn'] = newsdf.text.apply(lambda x: afinn_sent(x))\n",
    "print(type(newsdf.text))"
   ]
  },
  {
   "cell_type": "code",
   "execution_count": 54,
   "metadata": {},
   "outputs": [
    {
     "data": {
      "text/html": [
       "<div>\n",
       "<style scoped>\n",
       "    .dataframe tbody tr th:only-of-type {\n",
       "        vertical-align: middle;\n",
       "    }\n",
       "\n",
       "    .dataframe tbody tr th {\n",
       "        vertical-align: top;\n",
       "    }\n",
       "\n",
       "    .dataframe thead th {\n",
       "        text-align: right;\n",
       "    }\n",
       "</style>\n",
       "<table border=\"1\" class=\"dataframe\">\n",
       "  <thead>\n",
       "    <tr style=\"text-align: right;\">\n",
       "      <th></th>\n",
       "      <th>text</th>\n",
       "      <th>afinn</th>\n",
       "    </tr>\n",
       "  </thead>\n",
       "  <tbody>\n",
       "    <tr>\n",
       "      <th>0</th>\n",
       "      <td>WASHINGTON — Ending a climactic fiscal showdown in the final hours of the 112th Congress, the House late Tuesday passed and sent to   legislation to avert big income tax increases on most Americans and prevent large cuts in spending for the Pentagon and other government programs.         The measure, brought to the House floor less than 24 hours after its passage in the Senate, was approved 257 to 167, with 85 Republicans joining 172 Democrats in voting to allow income taxes to rise for the first time in two decades, in this case for the highest-earning Americans. Voting no were 151 Republicans and 16 Democrats.         The bill was expected to be signed quickly by Mr. Obama, who won re-election on a promise to increase taxes on the wealthy.         Mr. Obama strode into the White House briefing room shortly after the vote, less to hail the end of the fiscal crisis than to lay out a marker for the next one. “The one thing that I think, hopefully, the new year will focus on,” he said, “is seeing if we can put a package like this together with a little bit less drama, a little less brinkmanship, and not scare the heck out of folks quite as much.”         In approving the measure after days of legislative intrigue, Congress concluded its final and most pitched fight over fiscal policy, the culmination of two years of battles over taxes, the federal debt, spending and what to do to slow the growth in popular social programs like  .         The decision by Republican leaders to allow the vote came despite widespread scorn among House Republicans for the bill, passed overwhelmingly by the Senate in the early hours of New Year’s Day. They were unhappy that it did not include significant spending cuts in health and other social programs, which they say are essential to any long-term solution to the nation’s debt.         Democrats, while hardly placated by the compromise, celebrated Mr. Obama’s nominal victory in his final showdown with House Republicans in the 112th Congress, who began their term emboldened by scores of new, conservative members whose reach to the right ultimately tipped them over.         “The American people are the real winners tonight,” Representative Bill Pascrell Jr., Democrat of New Jersey, said on the House floor, “not anyone who navigates these halls.”         Not a single leader among House Republicans came to the floor to speak in favor of the bill, though Speaker  , who rarely takes part in roll calls, voted in favor. Representative Eric Cantor of Virginia, the majority leader, and Representative Kevin McCarthy of California, the No. 3 Republican, voted no. Representative Paul D. Ryan, the budget chairman who was the Republican vice-presidential candidate, supported the bill.         Despite the party divisions, many Republicans in their remarks characterized the measure, which allows taxes to go up on household income over $400,000 for individuals and $450,000 for couples but makes permanent tax cuts for income below that level, as a victory of sorts, even as so many of them declined to vote for it.         “After more than a decade of criticizing these tax cuts,” said Representative Dave Camp of Michigan, “Democrats are finally joining Republicans in making them permanent. Republicans and the American people are getting something really important, permanent tax relief.”         The dynamic with the House was a near replay of a fight at the end of 2011 over a   break extension. In that showdown, Senate Democrats and Republicans passed legislation, and while House Republicans fulminated, they were eventually forced to swallow it.         On Tuesday, as they got a detailed look at the Senate’s fiscal legislation, House Republicans ranging from Midwest pragmatists to  -blessed conservatives voiced serious reservations about the measure, emerging from a lunchtime New Year’s Day meeting with their leaders, eyes flashing and faces grim, insisting they would not accept a bill without substantial savings from cuts.         The unrest reached to the highest levels as Mr. Cantor told members in a closed-door meeting in the basement of the Capitol that he could not support the legislation in its current form.         Mr. Boehner, who faces a re-election vote on his post on Thursday when the 113th Congress convenes, had grave concerns as well, but he had pledged to allow the House to consider any legislation that cleared the Senate. And he was not eager to have such a major piece of legislation pass with mainly opposition votes, and the outcome could be seen as undermining his authority.         Adding to the pressure on the House, the fiscal agreement was reached by Senator Mitch McConnell of Kentucky, the Senate Republican leader, and had deep Republican support in the Senate, isolating the House Republicans in their opposition. Some of the Senate Republicans who backed the bill are staunch conservatives, like Senators Patrick J. Toomey of Pennsylvania and Tom Coburn of Oklahoma, with deep credibility among House Republicans.</td>\n",
       "      <td>Positive</td>\n",
       "    </tr>\n",
       "    <tr>\n",
       "      <th>1</th>\n",
       "      <td>A century ago, Elsie Scheel was the perfect woman. So said a 1912   in The New York Times about how Miss Scheel, 24, was chosen by the “medical examiner of the 400 ‘co-eds’ ” at Cornell University as a woman “whose very presence bespeaks perfect health.”         Miss Scheel, however, was hardly model-thin. At 5-foot-7 and 171 pounds, she would, by today’s medical standards, be clearly overweight. (Her body mass index was 27; 25 to 29.9 is overweight.)         But a   suggests that Miss Scheel may have been onto something. The report on nearly three million people found that those whose B.M.I. ranked them as overweight had less risk of dying than people of normal weight. And while obese people had a greater mortality risk over all, those at the lowest   level (B.M.I. of 30 to 34.9) were not more likely to die than normal-weight people.         The report, although not the first to suggest this relationship between B.M.I. and mortality, is by far the largest and most carefully done, analyzing nearly 100 studies, experts said.         But don’t scrap those New Year’s weight-loss resolutions and start gorging on fried Belgian waffles or triple cheeseburgers.         Experts not involved in the research said it suggested that overweight people need not panic unless they have other indicators of poor health and that depending on where fat is in the body, it might be protective or even nutritional for older or sicker people. But over all, piling on pounds and becoming more than slightly obese remains dangerous.         “We wouldn’t want people to think, ‘Well, I can take a pass and gain more weight,’ ” said Dr. George Blackburn, associate director of Harvard Medical School’s   division.         Rather, he and others said, the report, in The Journal of the American Medical Association, suggests that B.M.I., a ratio of height to weight, should not be the only indicator of healthy weight.         “Body mass index is an imperfect measure of the risk of mortality,” and factors like  ,   and blood sugar must be considered, said Dr. Samuel Klein, director of the Center for Human Nutrition at Washington University School of Medicine in St. Louis.         Dr. Steven Heymsfield, executive director of the Pennington Biomedical Research Center in Louisiana, who wrote an editorial accompanying the study, said that for overweight people, if indicators like cholesterol “are in the abnormal range, then that weight is affecting you,” but that if indicators are normal, there’s no reason to “go on a crash diet.”         Experts also said the data suggested that the definition of “normal” B.M.I., 18.5 to 24.9, should be revised, excluding its lowest weights, which might be too thin.         The study did show that the two highest obesity categories (B.M.I. of 35 and up) are at high risk. “Once you have higher obesity, the fat’s in the fire,” Dr. Blackburn said.         But experts also suggested that concepts of fat be refined.         “Fat per se is not as bad as we thought,” said Dr. Kamyar Kalantar-Zadeh, professor of medicine and public health at the University of California, Irvine.         “What is bad is a type of fat that is inside your belly,” he said. “Non-belly fat, underneath your skin in your thigh and your butt area — these are not necessarily bad.”         He added that, to a point, extra fat is accompanied by extra muscle, which can be healthy.         Still, it is possible that overweight or somewhat obese people are less likely to die because they, or their doctors, have identified other conditions associated with weight gain, like high cholesterol or  .         “You’re more likely to be in your doctor’s office and more likely to be treated,” said Dr. Robert Eckel, a past president of the American Heart Association and a professor at University of Colorado.         Some experts said fat could be protective in some cases, although that is unproven and debated. The study did find that people 65 and over had no greater mortality risk even at high obesity.         “There’s something about extra body fat when you’re older that is providing some reserve,” Dr. Eckel said.         And studies on specific illnesses, like heart and kidney disease, have found an “obesity paradox,” that heavier patients are less likely to die.         Still, death is not everything. Even if “being overweight doesn’t increase your risk of dying,” Dr. Klein said, it “does increase your risk of having diabetes” or other conditions.         Ultimately, said the study’s lead author, Katherine Flegal, a senior scientist at the Centers for Disease Control and Prevention, “the best weight might depend on the situation you’re in.”          , in whose “physical makeup there is not a single defect,” the Times article said.         This woman who “has never been ill and doesn’t know what fear is” loved sports and didn’t consume candy, coffee or tea. But she also ate only three meals every two days, and loved beefsteak.         Maybe such seeming contradictions made sense against the societal inconsistencies of that time. After all, her post-college plans involved tilling her father’s farm, but “if she were a man, she would study mechanical engineering.”</td>\n",
       "      <td>Negative</td>\n",
       "    </tr>\n",
       "    <tr>\n",
       "      <th>2</th>\n",
       "      <td>WASHINGTON — The young president who ascended to office as a change agent decides to end the costly and unpopular war in Afghanistan. He seeks an exit with honor by pledging long-term financial support to allies in Kabul, while urging reconciliation with the insurgency. But some senior advisers lobby for a deliberately slow withdrawal, and propose leaving thousands of troops behind to train and support Afghan security forces.         This is a nearly exact description of the endgame conundrum facing President Obama as he prepares for a critical visit by Hamid Karzai, the Afghan president, planned for early January.         But the account is actually drawn from declassified Soviet archives describing  ’s closed-door struggles with his Politburo and army chiefs to end the Kremlin’s intervention in Afghanistan — one that began with a commando raid, coup and modest goals during Christmas week of 1979 but became, after a decade, what Mr. Gorbachev derided as “a bleeding wound.”         What mostly is remembered about the withdrawal is the Soviet Union’s humiliation, and the ensuing factional bloodletting across Afghanistan that threw the country into a vicious civil war. It ended with Taliban control and the establishment of a safe haven for Al Qaeda before the terrorist attacks on Sept. 11, 2001.         But scholars who have studied the Soviet archives point out another lesson for the Obama administration as it manages the pullout of American and allied combat forces from Afghanistan by the end of 2014.         “The main thing the Soviets did right was that they continued large-scale military assistance to the regime they left behind after the final withdrawal in ’89,” said  , a professor at George Mason University and author of “Leaving Without Losing: The War on Terror After Iraq and Afghanistan” (Johns Hopkins University Press, 2012).         “As long as the Afghan regime received the money and the weapons, they did pretty well — and held on to power for three years,” Mr. Katz said. The combat effectiveness of Kabul’s security forces increased after the Soviet withdrawal, when the fight for survival become wholly their own.         But then the Soviet Union dissolved in December 1991, and the new Russian leader, Boris N. Yeltsin, heeded urgings of the United States and other Western powers to halt aid to the Communist leadership in Afghanistan, not just arms and money, but also food and fuel. The Kremlin-backed government in Kabul fell three months later.         To be sure, there are significant contrasts between the two interventions in Afghanistan. The Soviet invasion and occupation were condemned as illegal aggression, while the American one was embraced by the international community, including  , as a “just war,” one with limited goals of routing the Taliban and eliminating Al Qaeda. That war of necessity has since evolved into a war of choice, one the Obama administration is working to end as quickly as is feasible.         Despite the differences going in, both the Soviet Union and the United States soon learned that Afghanistan is a land where foreigners aspiring to create nations in their image must combat not just the Taliban but tribalism, orthodoxy, corruption and a medieval view of women. As well, Pakistan has had interests at odds with those of the neighboring government in Afghanistan, whether Kabul was an ally of Moscow or of Washington.         “The Soviet Union did not understand religious and ethnic factors sufficiently, and overestimated the capacity of Afghan society to move very fast toward a modern era, in this case socialism,” said Svetlana Savranskaya, director of Russian programs at the National Security Archive, an independent research center at George Washington University.         “Here I see similarities with the approach of the United States, especially with all the discussion about trying to leave behind an Afghanistan that is democratic and respects the rights of women, ideas that simply are not accepted across the broad society there,” said Ms. Savranskaya, who has written extensively on the Soviet archives.         If the Soviet experience offers any guidance to the current American withdrawal, she said, it would be to accelerate the departure of foreign combat forces — but to leave in their place a “sustained, multiyear international involvement in military training, education and civilian infrastructure projects, and maybe not focusing on building democracy as much as improving the lives of the common people.”</td>\n",
       "      <td>Negative</td>\n",
       "    </tr>\n",
       "    <tr>\n",
       "      <th>3</th>\n",
       "      <td>Energy drinks are the fastest-growing part of the beverage industry, with sales in the United States reaching more than $10 billion in 2012 — more than Americans spent on iced tea or sports beverages like Gatorade.         Their rising popularity represents a generational shift in what people drink, and reflects a successful campaign to convince consumers, particularly teenagers, that the drinks provide a mental and physical edge.         The drinks are now   by the Food and Drug Administration after reports of deaths and serious injuries that may be linked to their high caffeine levels. But however that review ends, one thing is clear, interviews with researchers and a review of scientific studies show: the energy drink industry is based on a brew of ingredients that, apart from caffeine, have little, if any benefit for consumers.         “If you had a cup of coffee you are going to affect metabolism in the same way,” said Dr. Robert W. Pettitt, an associate professor at Minnesota State University in Mankato, who has studied the drinks.         Energy drink companies have promoted their products not as caffeine-fueled concoctions but as specially engineered blends that provide something more. For example, producers claim that “Red Bull gives you wings,” that Rockstar Energy is “scientifically formulated” and Monster Energy is a “killer energy brew.” Representative Edward J. Markey of Massachusetts, a Democrat, has asked the government to investigate the industry’s marketing claims.         Promoting a message beyond caffeine has enabled the beverage makers to charge premium prices. A 16-ounce energy drink that sells for $2.99 a can contains about the same amount of caffeine as a tablet of NoDoz that costs 30 cents. Even Starbucks coffee is cheap by comparison; a 12-ounce cup that costs $1.85 has even more caffeine.         As with earlier elixirs, a dearth of evidence underlies such claims. Only a few human studies of energy drinks or the ingredients in them have been performed and they point to a similar conclusion, researchers say — that the beverages           Caffeine is called the world’s most widely used drug. A stimulant, it increases alertness, awareness and, if taken at the right time, improves athletic performance, studies show. Energy drink users feel its kick faster because the beverages are typically swallowed quickly or are sold as concentrates.         “These are caffeine delivery systems,” said Dr. Roland Griffiths, a researcher at Johns Hopkins University who has studied energy drinks. “They don’t want to say this is equivalent to a NoDoz because that is not a very sexy sales message.”         A scientist at the University of Wisconsin became puzzled as he researched an ingredient used in energy drinks like Red Bull, 5-Hour Energy and Monster Energy. The researcher, Dr. Craig A. Goodman, could not find any trials in humans of the additive, a substance with the tongue-twisting name of glucuronolactone that is related to glucose, a sugar. But Dr. Goodman, who had studied other energy drink ingredients, eventually found two 40-year-old studies from Japan that had examined it.         In the experiments, scientists injected large doses of the substance into laboratory rats. Afterward, the rats swam better. “I have no idea what it does in energy drinks,” Dr. Goodman said.         Energy drink manufacturers say it is their proprietary formulas, rather than specific ingredients, that provide users with physical and mental benefits. But that has not prevented them from implying otherwise.         Consider the case of taurine, an additive used in most energy products.         On its Web site, the producer of Red Bull, for example, states that “  about taurine and its physiological effects,” including acting as a “detoxifying agent.” In addition, that company, Red Bull of Austria, points to a 2009 safety study by a European regulatory group that gave it a clean bill of health.         But Red Bull’s Web site does not mention reports by that same group, the European Food Safety Authority, which concluded that  . Based on those findings, the European Commission has   that taurine helps maintain mental function and heart health and reduces muscle fatigue.         Taurine, an amino acidlike substance that got its name because it was first found in the bile of bulls, does play a role in bodily functions, and recent research suggests it might help prevent heart attacks in women with high  . However, most people get more than adequate amounts from foods like meat, experts said. And researchers added that those with heart problems who may need supplements would find far better sources than energy drinks.</td>\n",
       "      <td>Positive</td>\n",
       "    </tr>\n",
       "    <tr>\n",
       "      <th>4</th>\n",
       "      <td>Most states are red or blue. A few are purple. After the November election, New Hampshire turned pink.         Women won the state’s two Congressional seats. Women already held the state’s two Senate seats. When they are all sworn into office on Thursday, New Hampshire will become the first state in the nation’s history to send an all-female delegation to Washington.         And the matriarchy does not end there. New Hampshire’s new governor is a woman. So are the speaker of the State House and the chief justice of the State Supreme Court.         “Pink is the new power color in New Hampshire,” declared Ann McLane Kuster, one of the newly elected representatives, at a recent forum at the   at St. Anselm College in Manchester, where the women’s historic milestone was celebrated.         These women did not rise to the top together overnight. Nor was there an orchestrated movement to elect them. Each toiled in the political vineyards, climbed the ladder in her own time and campaigned hard for her job. But they have caught the state’s collective imagination, inspiring forums and media interest and prompting Jay B. Childs, a New Hampshire filmmaker, to make a documentary about them.         Senator  , 65, a Democrat and dean of the delegation, was the state’s first elected female governor and the first woman in United States history to be elected both governor and senator.         Senator  , 44, a Republican, was the state’s former attorney general.         Carol Shea-Porter, 60, a Democrat and former member of the House, lost her seat in 2010 and won it back in November.         Ms. Kuster, 56, a Democrat, is a lawyer and lobbyist who has not held office before but has long been active in the state and comes from a political family.         Maggie Hassan, 54, a Democrat and the new governor, was majority leader of the State Senate.         Women will make up 20 percent of the new Senate and 17.9 percent of the new House. These are records in Washington, but they fall far short of matching the 50.8 percent of the general population that is female.         While New Hampshire is doing more than its share of bolstering the number of women on Capitol Hill, six states — Alaska, Delaware, Iowa, Mississippi, North Dakota and Vermont — have never elected a woman to the House. And four of those — Delaware, Iowa, Mississippi and Vermont — have never sent a woman to the Senate.         The state after New Hampshire, with the next highest proportion of women in its Congressional delegation, is Hawaii, where both House members and one senator are women.         In only three other states, Maine, Missouri and Washington, do women make up at least half of the delegations. Sixteen states, including New Jersey, have no women in Congress.         Although the women in New Hampshire are serving all at once by happenstance, women have long held prominent positions in New Hampshire government.         One reason is the size of the State House, a typical pipeline for aspiring politicians. It has 400 members, making it the largest of the states and the fourth-largest governing body in the English-speaking world (after the United States Congress, the British Parliament and the Indian Parliament). With so many seats available, women have a better chance of being elected in New Hampshire than they have in many other states.         New Hampshire also has a long history of volunteerism, and serving in the General Court, as the legislature is known, amounts to an act of volunteerism because it pays just $100 a year, plus mileage. Every year since 1975, more than 100 women have served.         “There are lots of opportunities for women to pitch in, prove their competence and learn a lot about governing and the political process,” Ms. Hassan said in an interview. “We’ve had a very deep bench of women.”         Even if the legislature in New Hampshire is big, the state itself is small. That makes it easier for everyone to know everyone else, and most of the women in the Congressional delegation have intricate ties to one another.</td>\n",
       "      <td>Positive</td>\n",
       "    </tr>\n",
       "  </tbody>\n",
       "</table>\n",
       "</div>"
      ],
      "text/plain": [
       "                                                                                                                                                                                                                                                                                                                                                                                                                                                                                                                                                                                                                                                                                                                                                                                                                                                                                                                                                                                                                                                                                                                                                                                                                                                                                                                                                                                                                                                                                                                                                                                                                                                                                                                                                                                                                                                                                                                                                                                                                                                                                                                                                                                                                                                                                                                                                                                                                                                                                                                                                                                                                                                                                                                                                                                                                                                                                                                                                                                                                                                                                                                                                                                                                                                                                                                                                                                                                                                                                                                                                                                                                                                                                                                                                                                                                                                                                                                                                                                                                                                                                                                                                                                                                                                                                                                                                                                                                                                                                                                                                                                                                                                                                                                                                                                                                                                                                                                                                                                                                                                                                                                                                                                                                                                                                                                                                                                                                        text  \\\n",
       "0                                                                                                                                                                           WASHINGTON — Ending a climactic fiscal showdown in the final hours of the 112th Congress, the House late Tuesday passed and sent to   legislation to avert big income tax increases on most Americans and prevent large cuts in spending for the Pentagon and other government programs.         The measure, brought to the House floor less than 24 hours after its passage in the Senate, was approved 257 to 167, with 85 Republicans joining 172 Democrats in voting to allow income taxes to rise for the first time in two decades, in this case for the highest-earning Americans. Voting no were 151 Republicans and 16 Democrats.         The bill was expected to be signed quickly by Mr. Obama, who won re-election on a promise to increase taxes on the wealthy.         Mr. Obama strode into the White House briefing room shortly after the vote, less to hail the end of the fiscal crisis than to lay out a marker for the next one. “The one thing that I think, hopefully, the new year will focus on,” he said, “is seeing if we can put a package like this together with a little bit less drama, a little less brinkmanship, and not scare the heck out of folks quite as much.”         In approving the measure after days of legislative intrigue, Congress concluded its final and most pitched fight over fiscal policy, the culmination of two years of battles over taxes, the federal debt, spending and what to do to slow the growth in popular social programs like  .         The decision by Republican leaders to allow the vote came despite widespread scorn among House Republicans for the bill, passed overwhelmingly by the Senate in the early hours of New Year’s Day. They were unhappy that it did not include significant spending cuts in health and other social programs, which they say are essential to any long-term solution to the nation’s debt.         Democrats, while hardly placated by the compromise, celebrated Mr. Obama’s nominal victory in his final showdown with House Republicans in the 112th Congress, who began their term emboldened by scores of new, conservative members whose reach to the right ultimately tipped them over.         “The American people are the real winners tonight,” Representative Bill Pascrell Jr., Democrat of New Jersey, said on the House floor, “not anyone who navigates these halls.”         Not a single leader among House Republicans came to the floor to speak in favor of the bill, though Speaker  , who rarely takes part in roll calls, voted in favor. Representative Eric Cantor of Virginia, the majority leader, and Representative Kevin McCarthy of California, the No. 3 Republican, voted no. Representative Paul D. Ryan, the budget chairman who was the Republican vice-presidential candidate, supported the bill.         Despite the party divisions, many Republicans in their remarks characterized the measure, which allows taxes to go up on household income over $400,000 for individuals and $450,000 for couples but makes permanent tax cuts for income below that level, as a victory of sorts, even as so many of them declined to vote for it.         “After more than a decade of criticizing these tax cuts,” said Representative Dave Camp of Michigan, “Democrats are finally joining Republicans in making them permanent. Republicans and the American people are getting something really important, permanent tax relief.”         The dynamic with the House was a near replay of a fight at the end of 2011 over a   break extension. In that showdown, Senate Democrats and Republicans passed legislation, and while House Republicans fulminated, they were eventually forced to swallow it.         On Tuesday, as they got a detailed look at the Senate’s fiscal legislation, House Republicans ranging from Midwest pragmatists to  -blessed conservatives voiced serious reservations about the measure, emerging from a lunchtime New Year’s Day meeting with their leaders, eyes flashing and faces grim, insisting they would not accept a bill without substantial savings from cuts.         The unrest reached to the highest levels as Mr. Cantor told members in a closed-door meeting in the basement of the Capitol that he could not support the legislation in its current form.         Mr. Boehner, who faces a re-election vote on his post on Thursday when the 113th Congress convenes, had grave concerns as well, but he had pledged to allow the House to consider any legislation that cleared the Senate. And he was not eager to have such a major piece of legislation pass with mainly opposition votes, and the outcome could be seen as undermining his authority.         Adding to the pressure on the House, the fiscal agreement was reached by Senator Mitch McConnell of Kentucky, the Senate Republican leader, and had deep Republican support in the Senate, isolating the House Republicans in their opposition. Some of the Senate Republicans who backed the bill are staunch conservatives, like Senators Patrick J. Toomey of Pennsylvania and Tom Coburn of Oklahoma, with deep credibility among House Republicans.           \n",
       "1  A century ago, Elsie Scheel was the perfect woman. So said a 1912   in The New York Times about how Miss Scheel, 24, was chosen by the “medical examiner of the 400 ‘co-eds’ ” at Cornell University as a woman “whose very presence bespeaks perfect health.”         Miss Scheel, however, was hardly model-thin. At 5-foot-7 and 171 pounds, she would, by today’s medical standards, be clearly overweight. (Her body mass index was 27; 25 to 29.9 is overweight.)         But a   suggests that Miss Scheel may have been onto something. The report on nearly three million people found that those whose B.M.I. ranked them as overweight had less risk of dying than people of normal weight. And while obese people had a greater mortality risk over all, those at the lowest   level (B.M.I. of 30 to 34.9) were not more likely to die than normal-weight people.         The report, although not the first to suggest this relationship between B.M.I. and mortality, is by far the largest and most carefully done, analyzing nearly 100 studies, experts said.         But don’t scrap those New Year’s weight-loss resolutions and start gorging on fried Belgian waffles or triple cheeseburgers.         Experts not involved in the research said it suggested that overweight people need not panic unless they have other indicators of poor health and that depending on where fat is in the body, it might be protective or even nutritional for older or sicker people. But over all, piling on pounds and becoming more than slightly obese remains dangerous.         “We wouldn’t want people to think, ‘Well, I can take a pass and gain more weight,’ ” said Dr. George Blackburn, associate director of Harvard Medical School’s   division.         Rather, he and others said, the report, in The Journal of the American Medical Association, suggests that B.M.I., a ratio of height to weight, should not be the only indicator of healthy weight.         “Body mass index is an imperfect measure of the risk of mortality,” and factors like  ,   and blood sugar must be considered, said Dr. Samuel Klein, director of the Center for Human Nutrition at Washington University School of Medicine in St. Louis.         Dr. Steven Heymsfield, executive director of the Pennington Biomedical Research Center in Louisiana, who wrote an editorial accompanying the study, said that for overweight people, if indicators like cholesterol “are in the abnormal range, then that weight is affecting you,” but that if indicators are normal, there’s no reason to “go on a crash diet.”         Experts also said the data suggested that the definition of “normal” B.M.I., 18.5 to 24.9, should be revised, excluding its lowest weights, which might be too thin.         The study did show that the two highest obesity categories (B.M.I. of 35 and up) are at high risk. “Once you have higher obesity, the fat’s in the fire,” Dr. Blackburn said.         But experts also suggested that concepts of fat be refined.         “Fat per se is not as bad as we thought,” said Dr. Kamyar Kalantar-Zadeh, professor of medicine and public health at the University of California, Irvine.         “What is bad is a type of fat that is inside your belly,” he said. “Non-belly fat, underneath your skin in your thigh and your butt area — these are not necessarily bad.”         He added that, to a point, extra fat is accompanied by extra muscle, which can be healthy.         Still, it is possible that overweight or somewhat obese people are less likely to die because they, or their doctors, have identified other conditions associated with weight gain, like high cholesterol or  .         “You’re more likely to be in your doctor’s office and more likely to be treated,” said Dr. Robert Eckel, a past president of the American Heart Association and a professor at University of Colorado.         Some experts said fat could be protective in some cases, although that is unproven and debated. The study did find that people 65 and over had no greater mortality risk even at high obesity.         “There’s something about extra body fat when you’re older that is providing some reserve,” Dr. Eckel said.         And studies on specific illnesses, like heart and kidney disease, have found an “obesity paradox,” that heavier patients are less likely to die.         Still, death is not everything. Even if “being overweight doesn’t increase your risk of dying,” Dr. Klein said, it “does increase your risk of having diabetes” or other conditions.         Ultimately, said the study’s lead author, Katherine Flegal, a senior scientist at the Centers for Disease Control and Prevention, “the best weight might depend on the situation you’re in.”          , in whose “physical makeup there is not a single defect,” the Times article said.         This woman who “has never been ill and doesn’t know what fear is” loved sports and didn’t consume candy, coffee or tea. But she also ate only three meals every two days, and loved beefsteak.         Maybe such seeming contradictions made sense against the societal inconsistencies of that time. After all, her post-college plans involved tilling her father’s farm, but “if she were a man, she would study mechanical engineering.”           \n",
       "2                                                                                                                                                                                                                                                                                                                                                                                                                                                                                                                                                                                                                                                                                               WASHINGTON — The young president who ascended to office as a change agent decides to end the costly and unpopular war in Afghanistan. He seeks an exit with honor by pledging long-term financial support to allies in Kabul, while urging reconciliation with the insurgency. But some senior advisers lobby for a deliberately slow withdrawal, and propose leaving thousands of troops behind to train and support Afghan security forces.         This is a nearly exact description of the endgame conundrum facing President Obama as he prepares for a critical visit by Hamid Karzai, the Afghan president, planned for early January.         But the account is actually drawn from declassified Soviet archives describing  ’s closed-door struggles with his Politburo and army chiefs to end the Kremlin’s intervention in Afghanistan — one that began with a commando raid, coup and modest goals during Christmas week of 1979 but became, after a decade, what Mr. Gorbachev derided as “a bleeding wound.”         What mostly is remembered about the withdrawal is the Soviet Union’s humiliation, and the ensuing factional bloodletting across Afghanistan that threw the country into a vicious civil war. It ended with Taliban control and the establishment of a safe haven for Al Qaeda before the terrorist attacks on Sept. 11, 2001.         But scholars who have studied the Soviet archives point out another lesson for the Obama administration as it manages the pullout of American and allied combat forces from Afghanistan by the end of 2014.         “The main thing the Soviets did right was that they continued large-scale military assistance to the regime they left behind after the final withdrawal in ’89,” said  , a professor at George Mason University and author of “Leaving Without Losing: The War on Terror After Iraq and Afghanistan” (Johns Hopkins University Press, 2012).         “As long as the Afghan regime received the money and the weapons, they did pretty well — and held on to power for three years,” Mr. Katz said. The combat effectiveness of Kabul’s security forces increased after the Soviet withdrawal, when the fight for survival become wholly their own.         But then the Soviet Union dissolved in December 1991, and the new Russian leader, Boris N. Yeltsin, heeded urgings of the United States and other Western powers to halt aid to the Communist leadership in Afghanistan, not just arms and money, but also food and fuel. The Kremlin-backed government in Kabul fell three months later.         To be sure, there are significant contrasts between the two interventions in Afghanistan. The Soviet invasion and occupation were condemned as illegal aggression, while the American one was embraced by the international community, including  , as a “just war,” one with limited goals of routing the Taliban and eliminating Al Qaeda. That war of necessity has since evolved into a war of choice, one the Obama administration is working to end as quickly as is feasible.         Despite the differences going in, both the Soviet Union and the United States soon learned that Afghanistan is a land where foreigners aspiring to create nations in their image must combat not just the Taliban but tribalism, orthodoxy, corruption and a medieval view of women. As well, Pakistan has had interests at odds with those of the neighboring government in Afghanistan, whether Kabul was an ally of Moscow or of Washington.         “The Soviet Union did not understand religious and ethnic factors sufficiently, and overestimated the capacity of Afghan society to move very fast toward a modern era, in this case socialism,” said Svetlana Savranskaya, director of Russian programs at the National Security Archive, an independent research center at George Washington University.         “Here I see similarities with the approach of the United States, especially with all the discussion about trying to leave behind an Afghanistan that is democratic and respects the rights of women, ideas that simply are not accepted across the broad society there,” said Ms. Savranskaya, who has written extensively on the Soviet archives.         If the Soviet experience offers any guidance to the current American withdrawal, she said, it would be to accelerate the departure of foreign combat forces — but to leave in their place a “sustained, multiyear international involvement in military training, education and civilian infrastructure projects, and maybe not focusing on building democracy as much as improving the lives of the common people.”           \n",
       "3                                                                                                                                                                                                                                                                                                                                                                                                                                                                                                                                Energy drinks are the fastest-growing part of the beverage industry, with sales in the United States reaching more than $10 billion in 2012 — more than Americans spent on iced tea or sports beverages like Gatorade.         Their rising popularity represents a generational shift in what people drink, and reflects a successful campaign to convince consumers, particularly teenagers, that the drinks provide a mental and physical edge.         The drinks are now   by the Food and Drug Administration after reports of deaths and serious injuries that may be linked to their high caffeine levels. But however that review ends, one thing is clear, interviews with researchers and a review of scientific studies show: the energy drink industry is based on a brew of ingredients that, apart from caffeine, have little, if any benefit for consumers.         “If you had a cup of coffee you are going to affect metabolism in the same way,” said Dr. Robert W. Pettitt, an associate professor at Minnesota State University in Mankato, who has studied the drinks.         Energy drink companies have promoted their products not as caffeine-fueled concoctions but as specially engineered blends that provide something more. For example, producers claim that “Red Bull gives you wings,” that Rockstar Energy is “scientifically formulated” and Monster Energy is a “killer energy brew.” Representative Edward J. Markey of Massachusetts, a Democrat, has asked the government to investigate the industry’s marketing claims.         Promoting a message beyond caffeine has enabled the beverage makers to charge premium prices. A 16-ounce energy drink that sells for $2.99 a can contains about the same amount of caffeine as a tablet of NoDoz that costs 30 cents. Even Starbucks coffee is cheap by comparison; a 12-ounce cup that costs $1.85 has even more caffeine.         As with earlier elixirs, a dearth of evidence underlies such claims. Only a few human studies of energy drinks or the ingredients in them have been performed and they point to a similar conclusion, researchers say — that the beverages           Caffeine is called the world’s most widely used drug. A stimulant, it increases alertness, awareness and, if taken at the right time, improves athletic performance, studies show. Energy drink users feel its kick faster because the beverages are typically swallowed quickly or are sold as concentrates.         “These are caffeine delivery systems,” said Dr. Roland Griffiths, a researcher at Johns Hopkins University who has studied energy drinks. “They don’t want to say this is equivalent to a NoDoz because that is not a very sexy sales message.”         A scientist at the University of Wisconsin became puzzled as he researched an ingredient used in energy drinks like Red Bull, 5-Hour Energy and Monster Energy. The researcher, Dr. Craig A. Goodman, could not find any trials in humans of the additive, a substance with the tongue-twisting name of glucuronolactone that is related to glucose, a sugar. But Dr. Goodman, who had studied other energy drink ingredients, eventually found two 40-year-old studies from Japan that had examined it.         In the experiments, scientists injected large doses of the substance into laboratory rats. Afterward, the rats swam better. “I have no idea what it does in energy drinks,” Dr. Goodman said.         Energy drink manufacturers say it is their proprietary formulas, rather than specific ingredients, that provide users with physical and mental benefits. But that has not prevented them from implying otherwise.         Consider the case of taurine, an additive used in most energy products.         On its Web site, the producer of Red Bull, for example, states that “  about taurine and its physiological effects,” including acting as a “detoxifying agent.” In addition, that company, Red Bull of Austria, points to a 2009 safety study by a European regulatory group that gave it a clean bill of health.         But Red Bull’s Web site does not mention reports by that same group, the European Food Safety Authority, which concluded that  . Based on those findings, the European Commission has   that taurine helps maintain mental function and heart health and reduces muscle fatigue.         Taurine, an amino acidlike substance that got its name because it was first found in the bile of bulls, does play a role in bodily functions, and recent research suggests it might help prevent heart attacks in women with high  . However, most people get more than adequate amounts from foods like meat, experts said. And researchers added that those with heart problems who may need supplements would find far better sources than energy drinks.           \n",
       "4                                                                                                                                                                                                                                                                                                                                                                                                                                                                                                                                                                                                                                                                                                                                                                                                                                                                                                                                                                                                                                                                                                                                                                            Most states are red or blue. A few are purple. After the November election, New Hampshire turned pink.         Women won the state’s two Congressional seats. Women already held the state’s two Senate seats. When they are all sworn into office on Thursday, New Hampshire will become the first state in the nation’s history to send an all-female delegation to Washington.         And the matriarchy does not end there. New Hampshire’s new governor is a woman. So are the speaker of the State House and the chief justice of the State Supreme Court.         “Pink is the new power color in New Hampshire,” declared Ann McLane Kuster, one of the newly elected representatives, at a recent forum at the   at St. Anselm College in Manchester, where the women’s historic milestone was celebrated.         These women did not rise to the top together overnight. Nor was there an orchestrated movement to elect them. Each toiled in the political vineyards, climbed the ladder in her own time and campaigned hard for her job. But they have caught the state’s collective imagination, inspiring forums and media interest and prompting Jay B. Childs, a New Hampshire filmmaker, to make a documentary about them.         Senator  , 65, a Democrat and dean of the delegation, was the state’s first elected female governor and the first woman in United States history to be elected both governor and senator.         Senator  , 44, a Republican, was the state’s former attorney general.         Carol Shea-Porter, 60, a Democrat and former member of the House, lost her seat in 2010 and won it back in November.         Ms. Kuster, 56, a Democrat, is a lawyer and lobbyist who has not held office before but has long been active in the state and comes from a political family.         Maggie Hassan, 54, a Democrat and the new governor, was majority leader of the State Senate.         Women will make up 20 percent of the new Senate and 17.9 percent of the new House. These are records in Washington, but they fall far short of matching the 50.8 percent of the general population that is female.         While New Hampshire is doing more than its share of bolstering the number of women on Capitol Hill, six states — Alaska, Delaware, Iowa, Mississippi, North Dakota and Vermont — have never elected a woman to the House. And four of those — Delaware, Iowa, Mississippi and Vermont — have never sent a woman to the Senate.         The state after New Hampshire, with the next highest proportion of women in its Congressional delegation, is Hawaii, where both House members and one senator are women.         In only three other states, Maine, Missouri and Washington, do women make up at least half of the delegations. Sixteen states, including New Jersey, have no women in Congress.         Although the women in New Hampshire are serving all at once by happenstance, women have long held prominent positions in New Hampshire government.         One reason is the size of the State House, a typical pipeline for aspiring politicians. It has 400 members, making it the largest of the states and the fourth-largest governing body in the English-speaking world (after the United States Congress, the British Parliament and the Indian Parliament). With so many seats available, women have a better chance of being elected in New Hampshire than they have in many other states.         New Hampshire also has a long history of volunteerism, and serving in the General Court, as the legislature is known, amounts to an act of volunteerism because it pays just $100 a year, plus mileage. Every year since 1975, more than 100 women have served.         “There are lots of opportunities for women to pitch in, prove their competence and learn a lot about governing and the political process,” Ms. Hassan said in an interview. “We’ve had a very deep bench of women.”         Even if the legislature in New Hampshire is big, the state itself is small. That makes it easier for everyone to know everyone else, and most of the women in the Congressional delegation have intricate ties to one another.           \n",
       "\n",
       "      afinn  \n",
       "0  Positive  \n",
       "1  Negative  \n",
       "2  Negative  \n",
       "3  Positive  \n",
       "4  Positive  "
      ]
     },
     "execution_count": 54,
     "metadata": {},
     "output_type": "execute_result"
    }
   ],
   "source": [
    "newsdf.iloc[0:5][['text','afinn']]"
   ]
  },
  {
   "cell_type": "code",
   "execution_count": 55,
   "metadata": {},
   "outputs": [
    {
     "data": {
      "text/html": [
       "<div>\n",
       "<style scoped>\n",
       "    .dataframe tbody tr th:only-of-type {\n",
       "        vertical-align: middle;\n",
       "    }\n",
       "\n",
       "    .dataframe tbody tr th {\n",
       "        vertical-align: top;\n",
       "    }\n",
       "\n",
       "    .dataframe thead th {\n",
       "        text-align: right;\n",
       "    }\n",
       "</style>\n",
       "<table border=\"1\" class=\"dataframe\">\n",
       "  <thead>\n",
       "    <tr style=\"text-align: right;\">\n",
       "      <th></th>\n",
       "      <th>text</th>\n",
       "      <th>afinn</th>\n",
       "    </tr>\n",
       "  </thead>\n",
       "  <tbody>\n",
       "    <tr>\n",
       "      <th>3439</th>\n",
       "      <td>The political party of the former cricket star Imran Khan on Wednesday identified a man it described as the C.I.A.'s top spy in Pakistan, in an escalation of Mr. Khan’s campaign to end American drone strikes in the country.         In a letter to the Pakistani police, Mr. Khan’s information secretary, Shireen Mazari, accused the C.I.A. director, John O. Brennan, along with a man identified as the agency’s Islamabad station chief, of “committing murder and waging war against Pakistan.”         In Washington, a C.I.A. spokesman declined to comment on the case.         Ms. Mazari demanded that the authorities prevent the station chief, whose identity has not yet been confirmed, from leaving the country so that he could face prosecution in a Pakistani court.         That seems unlikely, but the move is expected to infuriate American officials, who had to recall a previous C.I.A. station chief in 2010 after he was identified in the local news media, also in relation to a legal suit brought by anti-drone campaigners.         But while blame for that outing was placed on smoldering tensions between the C.I.A. and Pakistan’s Inter-Services Intelligence spy agency, this time it appears to be driven more by Mr. Khan’s increasingly confrontational stance against drone strikes.         In an appearance on a television talk show on Wednesday evening, Mr. Khan said he had named the station chief essentially to punish the C.I.A. for a deadly drone strike this month in the province his Pakistan Tehreek-e-Insaf party controls, Khyber-Pakhtunkhwa. Now, he said, it was up to the government of Prime Minister Nawaz Sharif to take the next step against the American spy agency.         He has vowed to block NATO supply lines into Afghanistan in retaliation for the Nov. 1 drone strike that  , Hakimullah Mehsud. On Saturday, his supporters moved to deliver on that promise by searching trucks and roughing up drivers as they passed through Khyber-Pakhtunkhwa on the way to Afghanistan.         In her letter on Wednesday, Ms. Mazari claimed that the station chief did not enjoy diplomatic immunity, and suggested that if interrogated by the police he might divulge the names of the pilots who fly the drones.         The high-profile attempt to obstruct C.I.A. operations in Pakistan was said to be a response to the Nov. 21 drone strike that   linked to the Haqqani network, a Taliban-affiliated militant group at the center of American security concerns in Afghanistan. The strike, which killed the Haqqanis’ spiritual leader and five others, occurred in the Hangu district of Khyber-Pakhtunkhwa, in a rare drone strike outside Pakistan’s tribal areas.         Mr. Khan has been a leading advocate of ceasing military action against the Pakistani Taliban, even though Khyber-Pakhtunkhwa has been the region hardest hit by Islamist violence this year, with hundreds killed in attacks. The Taliban also broke out many prisoners in an embarrassing and well-organized jailbreak in July.         Mr. Khan has used the drone issue to leverage his popularity against Mr. Sharif, who is his main electoral competitor in Punjab Province, and indeed has largely succeeded in framing the political debate on drones in recent years.         Some Sharif supporters criticized Mr. Khan for trying to score political points by outing the station chief. “This a thoughtless move,” said Siddiqul Farooq, a central leader of the governing Pakistan Muslim League party. “It is selfish and compromises the national interest.”         Since the escalation of the C.I.A.'s drone war in Pakistan in 2008, the Islamabad station has grown to become one of the spy agency’s largest outposts in the world. The agency’s expansion in Pakistan has been an irritant to America’s relations with Pakistan.         The influence of the C.I.A.'s Islamabad station chief has sometimes eclipsed even that of the American ambassador in Pakistan. A previous station chief clashed repeatedly in 2011 with Cameron Munter, the ambassador at the time, over the intensity of the drone campaign. The Obama administration ended up siding with the C.I.A., and Mr. Munter — citing personal reasons, not his disageements with the agency — left the country in 2012.</td>\n",
       "      <td>Negative</td>\n",
       "    </tr>\n",
       "  </tbody>\n",
       "</table>\n",
       "</div>"
      ],
      "text/plain": [
       "                                                                                                                                                                                                                                                                                                                                                                                                                                                                                                                                                                                                                                                                                                                                                                                                                                                                                                                                                                                                                                                                                                                                                                                                                                                                                                                                                                                                                                                                                                                                                                                                                                                                                                                                                                                                                                                                                                                                                                                                                                                                                                                                                                                                                                                                                                                                                                                                                                                                                                                                                                                                                                                                                                                                                                                                                                                                                                                                                                                                                                                                                                                                                                                                                                                                                                                                                                                                                                                                                                                                                                                                                                                                                                                                                                                                                                                                                                                                                                                                                                                                                                                                                                                                                                                                                                                                                                                                          text  \\\n",
       "3439  The political party of the former cricket star Imran Khan on Wednesday identified a man it described as the C.I.A.'s top spy in Pakistan, in an escalation of Mr. Khan’s campaign to end American drone strikes in the country.         In a letter to the Pakistani police, Mr. Khan’s information secretary, Shireen Mazari, accused the C.I.A. director, John O. Brennan, along with a man identified as the agency’s Islamabad station chief, of “committing murder and waging war against Pakistan.”         In Washington, a C.I.A. spokesman declined to comment on the case.         Ms. Mazari demanded that the authorities prevent the station chief, whose identity has not yet been confirmed, from leaving the country so that he could face prosecution in a Pakistani court.         That seems unlikely, but the move is expected to infuriate American officials, who had to recall a previous C.I.A. station chief in 2010 after he was identified in the local news media, also in relation to a legal suit brought by anti-drone campaigners.         But while blame for that outing was placed on smoldering tensions between the C.I.A. and Pakistan’s Inter-Services Intelligence spy agency, this time it appears to be driven more by Mr. Khan’s increasingly confrontational stance against drone strikes.         In an appearance on a television talk show on Wednesday evening, Mr. Khan said he had named the station chief essentially to punish the C.I.A. for a deadly drone strike this month in the province his Pakistan Tehreek-e-Insaf party controls, Khyber-Pakhtunkhwa. Now, he said, it was up to the government of Prime Minister Nawaz Sharif to take the next step against the American spy agency.         He has vowed to block NATO supply lines into Afghanistan in retaliation for the Nov. 1 drone strike that  , Hakimullah Mehsud. On Saturday, his supporters moved to deliver on that promise by searching trucks and roughing up drivers as they passed through Khyber-Pakhtunkhwa on the way to Afghanistan.         In her letter on Wednesday, Ms. Mazari claimed that the station chief did not enjoy diplomatic immunity, and suggested that if interrogated by the police he might divulge the names of the pilots who fly the drones.         The high-profile attempt to obstruct C.I.A. operations in Pakistan was said to be a response to the Nov. 21 drone strike that   linked to the Haqqani network, a Taliban-affiliated militant group at the center of American security concerns in Afghanistan. The strike, which killed the Haqqanis’ spiritual leader and five others, occurred in the Hangu district of Khyber-Pakhtunkhwa, in a rare drone strike outside Pakistan’s tribal areas.         Mr. Khan has been a leading advocate of ceasing military action against the Pakistani Taliban, even though Khyber-Pakhtunkhwa has been the region hardest hit by Islamist violence this year, with hundreds killed in attacks. The Taliban also broke out many prisoners in an embarrassing and well-organized jailbreak in July.         Mr. Khan has used the drone issue to leverage his popularity against Mr. Sharif, who is his main electoral competitor in Punjab Province, and indeed has largely succeeded in framing the political debate on drones in recent years.         Some Sharif supporters criticized Mr. Khan for trying to score political points by outing the station chief. “This a thoughtless move,” said Siddiqul Farooq, a central leader of the governing Pakistan Muslim League party. “It is selfish and compromises the national interest.”         Since the escalation of the C.I.A.'s drone war in Pakistan in 2008, the Islamabad station has grown to become one of the spy agency’s largest outposts in the world. The agency’s expansion in Pakistan has been an irritant to America’s relations with Pakistan.         The influence of the C.I.A.'s Islamabad station chief has sometimes eclipsed even that of the American ambassador in Pakistan. A previous station chief clashed repeatedly in 2011 with Cameron Munter, the ambassador at the time, over the intensity of the drone campaign. The Obama administration ended up siding with the C.I.A., and Mr. Munter — citing personal reasons, not his disageements with the agency — left the country in 2012.           \n",
       "\n",
       "         afinn  \n",
       "3439  Negative  "
      ]
     },
     "execution_count": 55,
     "metadata": {},
     "output_type": "execute_result"
    }
   ],
   "source": [
    "newsdf.iloc[3439:3440][['text','afinn']]"
   ]
  },
  {
   "cell_type": "code",
   "execution_count": 56,
   "metadata": {},
   "outputs": [],
   "source": [
    "# different dictionary\n",
    "# different measure\n",
    "\n",
    "def hl_sent(inputstring):\n",
    "\n",
    "    poscount = 0\n",
    "    negcount = 0\n",
    "    \n",
    "    for word in inputstring.split(): \n",
    "        if HLpos.count(word.rstrip('?:!.,;')):\n",
    "            poscount +=1\n",
    "        elif HLneg.count(word.rstrip('?:!.,;')):\n",
    "            negcount +=1\n",
    "     \n",
    "    \n",
    "    if poscount+negcount > 0:\n",
    "        t = float((poscount - negcount)/(poscount+negcount))    \n",
    "    else:\n",
    "        t = 0\n",
    "    \n",
    "    \n",
    "    if t > 0:\n",
    "        tone = \"Positive\"\n",
    "    elif t < 0:\n",
    "        tone = \"Negative\"\n",
    "    else:\n",
    "        tone = \"Neutral\"\n",
    "    \n",
    "    return tone"
   ]
  },
  {
   "cell_type": "code",
   "execution_count": 57,
   "metadata": {},
   "outputs": [
    {
     "name": "stdout",
     "output_type": "stream",
     "text": [
      "5 years ago, I was shot in an attempt to stop me from speaking out for girls' education. Today, I attend my first lectures at Oxford.\n"
     ]
    },
    {
     "data": {
      "text/plain": [
       "'Neutral'"
      ]
     },
     "execution_count": 57,
     "metadata": {},
     "output_type": "execute_result"
    }
   ],
   "source": [
    "print(test_string)\n",
    "hl_sent(test_string)\n"
   ]
  },
  {
   "cell_type": "code",
   "execution_count": 58,
   "metadata": {},
   "outputs": [],
   "source": [
    "#takes a little longer - needs to check multiple lists\n",
    "newsdf['hlsent'] = newsdf.text.apply(lambda x: hl_sent(x))"
   ]
  },
  {
   "cell_type": "code",
   "execution_count": 59,
   "metadata": {
    "scrolled": false
   },
   "outputs": [
    {
     "data": {
      "text/html": [
       "<div>\n",
       "<style scoped>\n",
       "    .dataframe tbody tr th:only-of-type {\n",
       "        vertical-align: middle;\n",
       "    }\n",
       "\n",
       "    .dataframe tbody tr th {\n",
       "        vertical-align: top;\n",
       "    }\n",
       "\n",
       "    .dataframe thead th {\n",
       "        text-align: right;\n",
       "    }\n",
       "</style>\n",
       "<table border=\"1\" class=\"dataframe\">\n",
       "  <thead>\n",
       "    <tr style=\"text-align: right;\">\n",
       "      <th></th>\n",
       "      <th>text</th>\n",
       "      <th>afinn</th>\n",
       "      <th>hlsent</th>\n",
       "    </tr>\n",
       "  </thead>\n",
       "  <tbody>\n",
       "    <tr>\n",
       "      <th>0</th>\n",
       "      <td>WASHINGTON — Ending a climactic fiscal showdown in the final hours of the 112th Congress, the House late Tuesday passed and sent to   legislation to avert big income tax increases on most Americans and prevent large cuts in spending for the Pentagon and other government programs.         The measure, brought to the House floor less than 24 hours after its passage in the Senate, was approved 257 to 167, with 85 Republicans joining 172 Democrats in voting to allow income taxes to rise for the first time in two decades, in this case for the highest-earning Americans. Voting no were 151 Republicans and 16 Democrats.         The bill was expected to be signed quickly by Mr. Obama, who won re-election on a promise to increase taxes on the wealthy.         Mr. Obama strode into the White House briefing room shortly after the vote, less to hail the end of the fiscal crisis than to lay out a marker for the next one. “The one thing that I think, hopefully, the new year will focus on,” he said, “is seeing if we can put a package like this together with a little bit less drama, a little less brinkmanship, and not scare the heck out of folks quite as much.”         In approving the measure after days of legislative intrigue, Congress concluded its final and most pitched fight over fiscal policy, the culmination of two years of battles over taxes, the federal debt, spending and what to do to slow the growth in popular social programs like  .         The decision by Republican leaders to allow the vote came despite widespread scorn among House Republicans for the bill, passed overwhelmingly by the Senate in the early hours of New Year’s Day. They were unhappy that it did not include significant spending cuts in health and other social programs, which they say are essential to any long-term solution to the nation’s debt.         Democrats, while hardly placated by the compromise, celebrated Mr. Obama’s nominal victory in his final showdown with House Republicans in the 112th Congress, who began their term emboldened by scores of new, conservative members whose reach to the right ultimately tipped them over.         “The American people are the real winners tonight,” Representative Bill Pascrell Jr., Democrat of New Jersey, said on the House floor, “not anyone who navigates these halls.”         Not a single leader among House Republicans came to the floor to speak in favor of the bill, though Speaker  , who rarely takes part in roll calls, voted in favor. Representative Eric Cantor of Virginia, the majority leader, and Representative Kevin McCarthy of California, the No. 3 Republican, voted no. Representative Paul D. Ryan, the budget chairman who was the Republican vice-presidential candidate, supported the bill.         Despite the party divisions, many Republicans in their remarks characterized the measure, which allows taxes to go up on household income over $400,000 for individuals and $450,000 for couples but makes permanent tax cuts for income below that level, as a victory of sorts, even as so many of them declined to vote for it.         “After more than a decade of criticizing these tax cuts,” said Representative Dave Camp of Michigan, “Democrats are finally joining Republicans in making them permanent. Republicans and the American people are getting something really important, permanent tax relief.”         The dynamic with the House was a near replay of a fight at the end of 2011 over a   break extension. In that showdown, Senate Democrats and Republicans passed legislation, and while House Republicans fulminated, they were eventually forced to swallow it.         On Tuesday, as they got a detailed look at the Senate’s fiscal legislation, House Republicans ranging from Midwest pragmatists to  -blessed conservatives voiced serious reservations about the measure, emerging from a lunchtime New Year’s Day meeting with their leaders, eyes flashing and faces grim, insisting they would not accept a bill without substantial savings from cuts.         The unrest reached to the highest levels as Mr. Cantor told members in a closed-door meeting in the basement of the Capitol that he could not support the legislation in its current form.         Mr. Boehner, who faces a re-election vote on his post on Thursday when the 113th Congress convenes, had grave concerns as well, but he had pledged to allow the House to consider any legislation that cleared the Senate. And he was not eager to have such a major piece of legislation pass with mainly opposition votes, and the outcome could be seen as undermining his authority.         Adding to the pressure on the House, the fiscal agreement was reached by Senator Mitch McConnell of Kentucky, the Senate Republican leader, and had deep Republican support in the Senate, isolating the House Republicans in their opposition. Some of the Senate Republicans who backed the bill are staunch conservatives, like Senators Patrick J. Toomey of Pennsylvania and Tom Coburn of Oklahoma, with deep credibility among House Republicans.</td>\n",
       "      <td>Positive</td>\n",
       "      <td>Positive</td>\n",
       "    </tr>\n",
       "    <tr>\n",
       "      <th>1</th>\n",
       "      <td>A century ago, Elsie Scheel was the perfect woman. So said a 1912   in The New York Times about how Miss Scheel, 24, was chosen by the “medical examiner of the 400 ‘co-eds’ ” at Cornell University as a woman “whose very presence bespeaks perfect health.”         Miss Scheel, however, was hardly model-thin. At 5-foot-7 and 171 pounds, she would, by today’s medical standards, be clearly overweight. (Her body mass index was 27; 25 to 29.9 is overweight.)         But a   suggests that Miss Scheel may have been onto something. The report on nearly three million people found that those whose B.M.I. ranked them as overweight had less risk of dying than people of normal weight. And while obese people had a greater mortality risk over all, those at the lowest   level (B.M.I. of 30 to 34.9) were not more likely to die than normal-weight people.         The report, although not the first to suggest this relationship between B.M.I. and mortality, is by far the largest and most carefully done, analyzing nearly 100 studies, experts said.         But don’t scrap those New Year’s weight-loss resolutions and start gorging on fried Belgian waffles or triple cheeseburgers.         Experts not involved in the research said it suggested that overweight people need not panic unless they have other indicators of poor health and that depending on where fat is in the body, it might be protective or even nutritional for older or sicker people. But over all, piling on pounds and becoming more than slightly obese remains dangerous.         “We wouldn’t want people to think, ‘Well, I can take a pass and gain more weight,’ ” said Dr. George Blackburn, associate director of Harvard Medical School’s   division.         Rather, he and others said, the report, in The Journal of the American Medical Association, suggests that B.M.I., a ratio of height to weight, should not be the only indicator of healthy weight.         “Body mass index is an imperfect measure of the risk of mortality,” and factors like  ,   and blood sugar must be considered, said Dr. Samuel Klein, director of the Center for Human Nutrition at Washington University School of Medicine in St. Louis.         Dr. Steven Heymsfield, executive director of the Pennington Biomedical Research Center in Louisiana, who wrote an editorial accompanying the study, said that for overweight people, if indicators like cholesterol “are in the abnormal range, then that weight is affecting you,” but that if indicators are normal, there’s no reason to “go on a crash diet.”         Experts also said the data suggested that the definition of “normal” B.M.I., 18.5 to 24.9, should be revised, excluding its lowest weights, which might be too thin.         The study did show that the two highest obesity categories (B.M.I. of 35 and up) are at high risk. “Once you have higher obesity, the fat’s in the fire,” Dr. Blackburn said.         But experts also suggested that concepts of fat be refined.         “Fat per se is not as bad as we thought,” said Dr. Kamyar Kalantar-Zadeh, professor of medicine and public health at the University of California, Irvine.         “What is bad is a type of fat that is inside your belly,” he said. “Non-belly fat, underneath your skin in your thigh and your butt area — these are not necessarily bad.”         He added that, to a point, extra fat is accompanied by extra muscle, which can be healthy.         Still, it is possible that overweight or somewhat obese people are less likely to die because they, or their doctors, have identified other conditions associated with weight gain, like high cholesterol or  .         “You’re more likely to be in your doctor’s office and more likely to be treated,” said Dr. Robert Eckel, a past president of the American Heart Association and a professor at University of Colorado.         Some experts said fat could be protective in some cases, although that is unproven and debated. The study did find that people 65 and over had no greater mortality risk even at high obesity.         “There’s something about extra body fat when you’re older that is providing some reserve,” Dr. Eckel said.         And studies on specific illnesses, like heart and kidney disease, have found an “obesity paradox,” that heavier patients are less likely to die.         Still, death is not everything. Even if “being overweight doesn’t increase your risk of dying,” Dr. Klein said, it “does increase your risk of having diabetes” or other conditions.         Ultimately, said the study’s lead author, Katherine Flegal, a senior scientist at the Centers for Disease Control and Prevention, “the best weight might depend on the situation you’re in.”          , in whose “physical makeup there is not a single defect,” the Times article said.         This woman who “has never been ill and doesn’t know what fear is” loved sports and didn’t consume candy, coffee or tea. But she also ate only three meals every two days, and loved beefsteak.         Maybe such seeming contradictions made sense against the societal inconsistencies of that time. After all, her post-college plans involved tilling her father’s farm, but “if she were a man, she would study mechanical engineering.”</td>\n",
       "      <td>Negative</td>\n",
       "      <td>Negative</td>\n",
       "    </tr>\n",
       "    <tr>\n",
       "      <th>2</th>\n",
       "      <td>WASHINGTON — The young president who ascended to office as a change agent decides to end the costly and unpopular war in Afghanistan. He seeks an exit with honor by pledging long-term financial support to allies in Kabul, while urging reconciliation with the insurgency. But some senior advisers lobby for a deliberately slow withdrawal, and propose leaving thousands of troops behind to train and support Afghan security forces.         This is a nearly exact description of the endgame conundrum facing President Obama as he prepares for a critical visit by Hamid Karzai, the Afghan president, planned for early January.         But the account is actually drawn from declassified Soviet archives describing  ’s closed-door struggles with his Politburo and army chiefs to end the Kremlin’s intervention in Afghanistan — one that began with a commando raid, coup and modest goals during Christmas week of 1979 but became, after a decade, what Mr. Gorbachev derided as “a bleeding wound.”         What mostly is remembered about the withdrawal is the Soviet Union’s humiliation, and the ensuing factional bloodletting across Afghanistan that threw the country into a vicious civil war. It ended with Taliban control and the establishment of a safe haven for Al Qaeda before the terrorist attacks on Sept. 11, 2001.         But scholars who have studied the Soviet archives point out another lesson for the Obama administration as it manages the pullout of American and allied combat forces from Afghanistan by the end of 2014.         “The main thing the Soviets did right was that they continued large-scale military assistance to the regime they left behind after the final withdrawal in ’89,” said  , a professor at George Mason University and author of “Leaving Without Losing: The War on Terror After Iraq and Afghanistan” (Johns Hopkins University Press, 2012).         “As long as the Afghan regime received the money and the weapons, they did pretty well — and held on to power for three years,” Mr. Katz said. The combat effectiveness of Kabul’s security forces increased after the Soviet withdrawal, when the fight for survival become wholly their own.         But then the Soviet Union dissolved in December 1991, and the new Russian leader, Boris N. Yeltsin, heeded urgings of the United States and other Western powers to halt aid to the Communist leadership in Afghanistan, not just arms and money, but also food and fuel. The Kremlin-backed government in Kabul fell three months later.         To be sure, there are significant contrasts between the two interventions in Afghanistan. The Soviet invasion and occupation were condemned as illegal aggression, while the American one was embraced by the international community, including  , as a “just war,” one with limited goals of routing the Taliban and eliminating Al Qaeda. That war of necessity has since evolved into a war of choice, one the Obama administration is working to end as quickly as is feasible.         Despite the differences going in, both the Soviet Union and the United States soon learned that Afghanistan is a land where foreigners aspiring to create nations in their image must combat not just the Taliban but tribalism, orthodoxy, corruption and a medieval view of women. As well, Pakistan has had interests at odds with those of the neighboring government in Afghanistan, whether Kabul was an ally of Moscow or of Washington.         “The Soviet Union did not understand religious and ethnic factors sufficiently, and overestimated the capacity of Afghan society to move very fast toward a modern era, in this case socialism,” said Svetlana Savranskaya, director of Russian programs at the National Security Archive, an independent research center at George Washington University.         “Here I see similarities with the approach of the United States, especially with all the discussion about trying to leave behind an Afghanistan that is democratic and respects the rights of women, ideas that simply are not accepted across the broad society there,” said Ms. Savranskaya, who has written extensively on the Soviet archives.         If the Soviet experience offers any guidance to the current American withdrawal, she said, it would be to accelerate the departure of foreign combat forces — but to leave in their place a “sustained, multiyear international involvement in military training, education and civilian infrastructure projects, and maybe not focusing on building democracy as much as improving the lives of the common people.”</td>\n",
       "      <td>Negative</td>\n",
       "      <td>Positive</td>\n",
       "    </tr>\n",
       "    <tr>\n",
       "      <th>3</th>\n",
       "      <td>Energy drinks are the fastest-growing part of the beverage industry, with sales in the United States reaching more than $10 billion in 2012 — more than Americans spent on iced tea or sports beverages like Gatorade.         Their rising popularity represents a generational shift in what people drink, and reflects a successful campaign to convince consumers, particularly teenagers, that the drinks provide a mental and physical edge.         The drinks are now   by the Food and Drug Administration after reports of deaths and serious injuries that may be linked to their high caffeine levels. But however that review ends, one thing is clear, interviews with researchers and a review of scientific studies show: the energy drink industry is based on a brew of ingredients that, apart from caffeine, have little, if any benefit for consumers.         “If you had a cup of coffee you are going to affect metabolism in the same way,” said Dr. Robert W. Pettitt, an associate professor at Minnesota State University in Mankato, who has studied the drinks.         Energy drink companies have promoted their products not as caffeine-fueled concoctions but as specially engineered blends that provide something more. For example, producers claim that “Red Bull gives you wings,” that Rockstar Energy is “scientifically formulated” and Monster Energy is a “killer energy brew.” Representative Edward J. Markey of Massachusetts, a Democrat, has asked the government to investigate the industry’s marketing claims.         Promoting a message beyond caffeine has enabled the beverage makers to charge premium prices. A 16-ounce energy drink that sells for $2.99 a can contains about the same amount of caffeine as a tablet of NoDoz that costs 30 cents. Even Starbucks coffee is cheap by comparison; a 12-ounce cup that costs $1.85 has even more caffeine.         As with earlier elixirs, a dearth of evidence underlies such claims. Only a few human studies of energy drinks or the ingredients in them have been performed and they point to a similar conclusion, researchers say — that the beverages           Caffeine is called the world’s most widely used drug. A stimulant, it increases alertness, awareness and, if taken at the right time, improves athletic performance, studies show. Energy drink users feel its kick faster because the beverages are typically swallowed quickly or are sold as concentrates.         “These are caffeine delivery systems,” said Dr. Roland Griffiths, a researcher at Johns Hopkins University who has studied energy drinks. “They don’t want to say this is equivalent to a NoDoz because that is not a very sexy sales message.”         A scientist at the University of Wisconsin became puzzled as he researched an ingredient used in energy drinks like Red Bull, 5-Hour Energy and Monster Energy. The researcher, Dr. Craig A. Goodman, could not find any trials in humans of the additive, a substance with the tongue-twisting name of glucuronolactone that is related to glucose, a sugar. But Dr. Goodman, who had studied other energy drink ingredients, eventually found two 40-year-old studies from Japan that had examined it.         In the experiments, scientists injected large doses of the substance into laboratory rats. Afterward, the rats swam better. “I have no idea what it does in energy drinks,” Dr. Goodman said.         Energy drink manufacturers say it is their proprietary formulas, rather than specific ingredients, that provide users with physical and mental benefits. But that has not prevented them from implying otherwise.         Consider the case of taurine, an additive used in most energy products.         On its Web site, the producer of Red Bull, for example, states that “  about taurine and its physiological effects,” including acting as a “detoxifying agent.” In addition, that company, Red Bull of Austria, points to a 2009 safety study by a European regulatory group that gave it a clean bill of health.         But Red Bull’s Web site does not mention reports by that same group, the European Food Safety Authority, which concluded that  . Based on those findings, the European Commission has   that taurine helps maintain mental function and heart health and reduces muscle fatigue.         Taurine, an amino acidlike substance that got its name because it was first found in the bile of bulls, does play a role in bodily functions, and recent research suggests it might help prevent heart attacks in women with high  . However, most people get more than adequate amounts from foods like meat, experts said. And researchers added that those with heart problems who may need supplements would find far better sources than energy drinks.</td>\n",
       "      <td>Positive</td>\n",
       "      <td>Positive</td>\n",
       "    </tr>\n",
       "    <tr>\n",
       "      <th>4</th>\n",
       "      <td>Most states are red or blue. A few are purple. After the November election, New Hampshire turned pink.         Women won the state’s two Congressional seats. Women already held the state’s two Senate seats. When they are all sworn into office on Thursday, New Hampshire will become the first state in the nation’s history to send an all-female delegation to Washington.         And the matriarchy does not end there. New Hampshire’s new governor is a woman. So are the speaker of the State House and the chief justice of the State Supreme Court.         “Pink is the new power color in New Hampshire,” declared Ann McLane Kuster, one of the newly elected representatives, at a recent forum at the   at St. Anselm College in Manchester, where the women’s historic milestone was celebrated.         These women did not rise to the top together overnight. Nor was there an orchestrated movement to elect them. Each toiled in the political vineyards, climbed the ladder in her own time and campaigned hard for her job. But they have caught the state’s collective imagination, inspiring forums and media interest and prompting Jay B. Childs, a New Hampshire filmmaker, to make a documentary about them.         Senator  , 65, a Democrat and dean of the delegation, was the state’s first elected female governor and the first woman in United States history to be elected both governor and senator.         Senator  , 44, a Republican, was the state’s former attorney general.         Carol Shea-Porter, 60, a Democrat and former member of the House, lost her seat in 2010 and won it back in November.         Ms. Kuster, 56, a Democrat, is a lawyer and lobbyist who has not held office before but has long been active in the state and comes from a political family.         Maggie Hassan, 54, a Democrat and the new governor, was majority leader of the State Senate.         Women will make up 20 percent of the new Senate and 17.9 percent of the new House. These are records in Washington, but they fall far short of matching the 50.8 percent of the general population that is female.         While New Hampshire is doing more than its share of bolstering the number of women on Capitol Hill, six states — Alaska, Delaware, Iowa, Mississippi, North Dakota and Vermont — have never elected a woman to the House. And four of those — Delaware, Iowa, Mississippi and Vermont — have never sent a woman to the Senate.         The state after New Hampshire, with the next highest proportion of women in its Congressional delegation, is Hawaii, where both House members and one senator are women.         In only three other states, Maine, Missouri and Washington, do women make up at least half of the delegations. Sixteen states, including New Jersey, have no women in Congress.         Although the women in New Hampshire are serving all at once by happenstance, women have long held prominent positions in New Hampshire government.         One reason is the size of the State House, a typical pipeline for aspiring politicians. It has 400 members, making it the largest of the states and the fourth-largest governing body in the English-speaking world (after the United States Congress, the British Parliament and the Indian Parliament). With so many seats available, women have a better chance of being elected in New Hampshire than they have in many other states.         New Hampshire also has a long history of volunteerism, and serving in the General Court, as the legislature is known, amounts to an act of volunteerism because it pays just $100 a year, plus mileage. Every year since 1975, more than 100 women have served.         “There are lots of opportunities for women to pitch in, prove their competence and learn a lot about governing and the political process,” Ms. Hassan said in an interview. “We’ve had a very deep bench of women.”         Even if the legislature in New Hampshire is big, the state itself is small. That makes it easier for everyone to know everyone else, and most of the women in the Congressional delegation have intricate ties to one another.</td>\n",
       "      <td>Positive</td>\n",
       "      <td>Positive</td>\n",
       "    </tr>\n",
       "    <tr>\n",
       "      <th>5</th>\n",
       "      <td>I got an advertisement in the mail the other day for a fancy marble mausoleum being built in Jersey.         “You’ve worked hard your whole life,” it read. “Now, don’t you want to reward yourself with the very best?”         This set off many thoughts: I should wait till I’m dead to reward myself? If I believed in that consciousness after death stuff what would I want with the mausoleum? I would just stay in my apartment and keep cable. And if the mausoleum is to impress the living who are going to come visit, that’s unlikely. New Yorkers don’t even leave their neighborhood to go to a movie.         I also wondered why I was getting my first burial pitch now, although I figured that out pretty quickly. I was about to turn 65. I had already gotten piles of Medicare related insurance material. How to be disposed of when the medical intervention failed was probably the logical next step, though not one I was especially focused on.         Also, in the home I grew up in, the view of the afterlife was vague.         “You live on in the minds of the people who love you,” my mother said.         Even as a kid, this didn’t sound so hot.         “Fine for them,” I remember thinking, “but what’s that going to do for me?”         None of the burial options I knew as an adult seemed quite right to me either. There is a sweet little hillside cemetery in Fleischmanns, N.Y., where the members of my family are planted and Gertrude Berg is the sole celebrity, but I spent so much effort getting out of the Catskills that I don’t want to go back. (Yeah, I know, none of you know who Gertrude Berg was. Believe me, the people in the Fleischmanns cemetery know.)         My friend Sybil Sage, who makes personalized mosaic cremation urns, has done one for herself and her husband, a comfy shared space. It’s decorated with their pictures and pictures of their son and a picture of their dog. Their son has said he would be happy to take it once they’ve moved in, but I have no children and it seems a lot to ask of a nephew or a niece. For one thing, their taste in art and color may be different than mine and if they don’t like it or the seashell collection gets too big, I could end up in the closet, mentioned only in passing as a reference point:         “Have you seen the mop?”         “It’s in the hall closet, next to Joyce.”         I could choose a cemetery near New York City already inhabited by one or two people I know. I have a good friend who died a few years ago; she, her husband, a close friend I shall call Herb and I used to spend New Year’s Eve together for years. Every once in a while I tell Herb maybe we should buy plots in that cemetery, so we can all hang out.         “There won’t be any hanging out,” he says. “You’ll be dead.”         “I know that rationally,” I say, “It’s just a nice thought.”         The thing is, when it comes to dead, I am not sure anyone is rational.         Consider my mother, whose wise and mild familial remonstrations are known to readers of this column. My father had died and a member of the family was involved in a romantic relationship about which my mother had some concerns. For the sake of discretion I shall call the amorous fellow Loverboy Wadler, the Catskills Swordsman, Also Known To Roam, When There’s No Ice On The Roads, Into Western Massachusetts.         Anyway, Ma was pretty worked up.         “I’ll tell you one thing right now,” she said. “If Loverboy goes ahead and formalizes this idiocy I am going to end it, just end it. I am going to leave this world and lay down next to your father. Because I will be the only one who can comfort him.”         This was a definite theological turnaround from living on in the memories of the people who loved you.         “My mother’s views of the afterlife seem to have changed,” I told Herb. “She seems to think of the Fleischmanns cemetery as a big living room, where she can lay on a couch under the dirt and talk to dad. I hope she remembers that his mother, who she didn’t talk to for the last 30 years of her life, is laying about 10 feet away from him.”         And what of the time, accompanied by Herb, I decided I should try to find the tombstone of the grandfather I was named for, Jacob Wadler. His remains have since been moved up to Fleischmanns, but at the time he was buried in one of those cemeteries out on Long Island you pass on the way to the airport. My cousins had given me a map and we needed it — the place, with its narrow winding roads, was enormous. It was a hot summer day, Herb and I were in a little red convertible with the top down and we drove around and around, scanning stones that were cut with names that were all too familiar: Adler, Aronowitz, Rosenthal, Fishman. What with the red car and us being the only ones upright, it was impossible not to feel conspicuous.         “You know what’s weird,\" I told Herb. “I have the feeling they’re all watching us and telling each other how pathetic we are, like: ‘Boy, there’s some  . Look at them, driving around, they can’t even find a stone.”         “I was thinking that, too,” said Herb, who doesn't believe in an afterlife.         Because when it comes to death, no one is rational.</td>\n",
       "      <td>Positive</td>\n",
       "      <td>Positive</td>\n",
       "    </tr>\n",
       "    <tr>\n",
       "      <th>6</th>\n",
       "      <td>GENEVA — More than 60,000 people have died in  ’s 22-month-old civil war, the  ’ human rights chief, Navi Pillay, said on Wednesday, expressing dismay at the findings of an analysis that far exceeds previous estimates of casualties.         “The number of casualties is much higher than we expected, and is truly shocking,” Ms. Pillay, the United Nations high commissioner for human rights, said in a statement that condemned the government of President   for the scale of the carnage and sharply admonished the   for failing to act.         \"The failure of the international community, in particular the Security Council, to take concrete actions to stop the bloodletting, shames us all,” she said.           of casualties in   documented 59,648 killings between mid-March 2011 and the end of November, Ms. Pillay reported. “Given there has been no letup in the conflict since the end of November, we can assume that more than 60,000 people have been killed by the beginning of 2013,” she added.         Ms. Pillay’s comments coincided with reports that an airstrike on a gas station in Damascus, the Syrian capital, on Wednesday may have killed dozens and injured many more, while heavy fighting around the northern city of Aleppo had forced closure of its international airport.         The analysis of deaths in Syria, described by Ms. Pillay as the most detailed and wide ranging to date, was based on a study of seven data sets, including one from the Syrian government, conducted on behalf of the United Nations human rights office by  , a nonprofit technology company whose three earlier analyses of Syrian casualties used fewer data sets.         The analysis, which took five months to complete, drew from a combined list of 147,349 reported killings. Duplicate listings were excluded, as was any report that did not include at least the first and last name of the victim and the date and location of the death. In the end, the analysts came up with a unique record of 59,648 conflict-related deaths as of Nov. 30, 2012. Given that the total excluded reports with insufficient detail, the true toll could easily be higher.         The Syrian Observatory for Human Rights, a rebel group that tracks the war and is based in Britain, reported two days earlier that more than 45,000 people, mostly civilians, had been killed. The United Nations said its data could not distinguish between civilians and combatants, but, like the observatory, it concluded that the rate of killings had accelerated. The death toll had climbed from around 1,000 a month in the summer of 2011 to more than 5,000 a month since July, the report for the United Nations said.         “This massive loss of life could have been avoided if the Syrian government had chosen to take a different path than one of ruthless suppression of what were initially peaceful and legitimate protests by unarmed civilians,” Ms. Pillay said.         Most of the killings occurred in Homs (12,560), Damascus and its environs (10,862) and Idlib (7,686), with those three areas accounting for about half the total, followed by Aleppo, Dara’a and Hama. Around three-quarters of those killed were male, the analysis found.         “Unless there is a quick resolution to the conflict, I fear thousands more will die or suffer terrible injuries as a result of those who harbor the obstinate belief that something can be achieved by more bloodshed, more torture and more mindless destruction,” Ms. Pillay said.         Her comments echoed warnings in the past week by  , the United Nations and Arab League mediator for Syria, that Syria must achieve a political solution or face “hell,” with the danger that 100,000 people could die in 2013 if the conflict was not halted.         Mr. Brahimi spoke after visits to Moscow and Damascus at the end of last month in his latest push to kick-start stalled negotiations on a transitional government based on the formula agreed to in Geneva in June 2012, but his efforts have attracted scant support from Syrian opposition groups.</td>\n",
       "      <td>Negative</td>\n",
       "      <td>Negative</td>\n",
       "    </tr>\n",
       "    <tr>\n",
       "      <th>7</th>\n",
       "      <td>WASHINGTON — Northeastern Republicans, long outnumbered and overshadowed in their own party nationally, erupted in fury on Wednesday after the Republican-controlled House of Representatives blocked a measure that sought to provide billions of dollars in aid to New York, New Jersey, Connecticut and other states pummeled by  .         The depth of the anger was extraordinary and exceedingly personal, with one Republican after another venting their outrage at one man in particular, Speaker  , Republican of Ohio, who quietly moved to keep the bill from coming to the floor early Wednesday morning after a raucous marathon session on fiscal issues.         Representative  , a Republican whose Staten Island district was among the hardest hit, threatened not to vote for Mr. Boehner in the election for speaker this week. Representative  , a Long Island Republican whose constituents also suffered huge losses in the storm, urged New York’s well-heeled donor community not to contribute to Mr. Boehner’s Republican majority.         The anger that surfaced seemed to come as a bit of a shock to Mr. Boehner, who quickly sought to contain any political fallout. After meeting with Republican lawmakers from the storm-tossed region, he pledged to bring a $9 billion relief package to the floor on Friday and a $51 billion package on Jan 15.         “Getting critical aid to the victims of Hurricane Sandy should be the first priority in the new Congress,” Mr. Boehner said in a statement that he released with Representative Eric Cantor of Virginia, the Republican majority leader in the House. “That was reaffirmed today with members of the New York and New Jersey delegations.”         But it was unclear whether Mr. Boehner could undo the damage he had done.         Gov.   of New Jersey, a potential Republican presidential contender in 2016, said Mr. Boehner had refused to take his calls on Tuesday night. He accused the House leadership of duplicity and selfishness, saying the inaction “is why the American people hate Congress.”         After finally getting through to Mr. Boehner on Wednesday morning, Mr. Christie expressed doubt in the speaker’s word in his characteristically blunt way.         “I’m not going to get into the specifics of what I discussed with John Boehner today,” he told reporters in New Jersey. “But what I will tell you is there is no reason at the moment for me to believe anything they tell me. Because they have been telling me stuff for weeks, and they didn’t deliver.”         Representative King later struck a more conciliatory note. “This procedure that is laid out is fully acceptable” he said, reacting to the schedule presented by Mr. Boehner. “Fact is, we are getting what New York and New Jersey needs, and that is what counts.”         Representative Grimm also seemed mollified, saying he would support the speaker after all.         As much as the outcry spoke of the extraordinary dissension within the Republican ranks, it also underscored another political reality: the relative lack of clout that Northeastern states like New York have in the House, a chamber dominated by conservatives from the South and Midwest.         In many respects, lawmakers from the region must frequently contend with the perception, whether fair or not, that the region they represent is a liberal bastion that is politically and culturally out of touch with the rest of the country.         The region’s political standing in the House is such that leading New York politicians turned to prominent New York City businessmen with close ties to the   in their efforts to persuade House leaders to pass a disaster relief package.         The businessmen, all major political donors, included titans like Kenneth Langone, the venture capitalist and co-founder of Home Depot; Lloyd Blankfein, the chairman of Goldman Sachs; Jerry I. Speyer, chairman and co-chief executive of the Tishman Speyer real estate empire; and Terry J. Lundgren, chairman and chief executive of Macy’s, according to people familiar with the lobbying effort.         Last week, a $60.4 billion aid package was passed in the Democratic-led Senate, far friendlier political terrain for the region, where Charles E. Schumer, New York’s senior senator, is part of the leadership and helped push the package through. Top House Republicans had indicated that they were moving toward a vote on the package Tuesday night.         But Mr. Boehner had angered many leading conservatives in his caucus by bringing to the floor a Senate-approved tax bill that they say did not contain sufficient spending cuts to bring the nation’s deficit under control. After that bill passed in the House, with significant Democratic support, he appeared to be in no mood to further alienate conservatives in his caucus by forcing them to vote on a disaster aid bill that would add to the deficit on the very eve of a vote on whether to continue his speakership, according to lawmakers and Congressional officials.</td>\n",
       "      <td>Negative</td>\n",
       "      <td>Negative</td>\n",
       "    </tr>\n",
       "    <tr>\n",
       "      <th>8</th>\n",
       "      <td>Zosia Mamet was in upstate New York shooting a movie in 2010 when she received a call: the producers of “Girls,” a new TV series on HBO, created by some up-and-coming writer-director type, were eager to have her read for a part on the show. The series was going to be about three 20-something women — a lost and awkward aspiring writer named Hannah (who would be played by the show’s creator, Lena Dunham); her strait-laced, perfectionist roommate Marnie; and her saucy, libertine friend Jessa — all trying to make it in New York.         Mamet had never heard of Dunham, but her agent also sent her Dunham’s breakout film, “Tiny Furniture,” and after watching it, Mamet decided, “I have to work with this person.” Her agent told Mamet that the show’s producers wanted her to read for a secondary character: Shoshanna, Jessa’s cousin. So in an old barn, fighting off a cold that was blossoming into full-blown pneumonia, Mamet recorded an audition tape. “I did my tape in one of my father’s oversize sweaters and no makeup and dirty hair,” she says. “When I get really, really sick, underneath my eyes gets red, my nose gets red. I kind of look like a junkie.”         Jennifer Euston, the show’s casting director, had, by then, auditioned more than 100 actresses for various parts on the show. “We were reading every girl on the planet,” she says. “We had hired people in L.A., Chicago, Vancouver, Toronto and New York.” Jenni Konner, one of the executive producers of “Girls,” liked Mamet after seeing her on “Mad Men,” and Euston, who had seen her on “United States of Tara,” agreed. Euston considered Mamet to be one of those actresses that she and her casting friends like to call a transformer: someone who can “naturally transform into this different character.”         When she saw Mamet’s tape, Euston was dazzled. “She was funny. She brought the character to life. Everything from the quality of her voice to the cadence and rhythm of how she read her lines. We had only told her that she was going to be Jessa’s cousin. She didn’t really have a lot to go on.” Euston sent the tape to Dunham and Konner, who shared her assessment. Mamet was offered the part.         Then she was summoned to New York for a table read. She slept on a friend’s couch the night before the read, still sick, and taking doses of cough medicine and NyQuil so she would be fresh for the reading. It didn’t work. She was a wreck. She says now that she doesn’t remember a single moment of it — “Those cold meds are nothing to mess with, let me tell you” — except when Judd Apatow, another of the show’s executive producers, came over and introduced himself.         She left the reading despondent. “I called my agent and said, ‘I think I may have lost this job, I’m so sorry.’ ”         Her performance had done just the opposite. The part of Shoshanna, Jessa’s virginal, quirky, “Sex and the City”-obsessed cousin, was supposed to be a secondary role that could well disappear after the pilot. “She definitely shifted my original conception of the character, which was a much more tangential girl, whose main job was to illuminate how un-‘ ’ this world was,” Dunham wrote to me in an e-mail. “But Zosia’s read — her odd intonations, her roiling insecurity — gave me the sense that Shoshanna could be something much larger.”         A few days later, Mamet’s agent called to tell her that she still had the job. And there was one other bit of good news: HBO wanted to revise her contract to make her a series regular. Just like that, “Girls,” the show about three girls trying to make it in New York, became a show about four girls instead.           that phone call, and just two months before the January 13 premiere of the second season of “Girls,” Mamet met me in the lobby of the Bowery Hotel in Manhattan, where she was staying while in town (she recently moved from L.A. to New York, but her new apartment wasn’t furnished yet) to participate in a charity event called the 24 Hour Plays.         She was wearing striped pants and a loose sweater, and her long hair was parted in the middle. As we spoke, she occasionally seemed to retreat behind that long, straight hair. Her most striking feature is her eyebrows, which are epic and untouched. She wears a lot of rings and has a few small tattoos on her hands. Her first tattoo, on her ankle, came a year and a half ago at the hands of her co-star Jemima Kirke. She has since added a few more, including a small one of an anchor on her hand because she loves the water and dreams of one day living on a boat.         “I have a ship’s bed,” she said, “which totally plays to my obsession of, if I were not an actress, I would be a pirate.”</td>\n",
       "      <td>Negative</td>\n",
       "      <td>Negative</td>\n",
       "    </tr>\n",
       "    <tr>\n",
       "      <th>9</th>\n",
       "      <td>THE women of “Girls” are hardly the first ones for whom the outfits they wear are an essential part of their characters’ makeup. Here are three memorable characters from past television shows in which clothes very much helped to make the woman.                    For Mary Tyler Moore, the look of Mary Richards was modeled largely on her own style, especially as the character evolved from a Midwestern girl newly moved to the big city (that beret!) to a successful newsroom producer earning a decent salary. Over the years, Ms. Moore would go to the showroom of the designer Norman Todd and pick out many of the outfits she would later wear on the show. “As I’m supposed to be an office worker, I very much wear the same outfit more than once,” she told a newspaper in 1974. “The clothes are the property of the studio, but when they’ve ‘had it,’ I’m allowed to take them home. I try to stick to tailored styles for dresses and neat, chic fashions for pantsuits. Off screen those are the styles I go for, too.”                   For Ally McBeal, the Boston lawyer portrayed by  , no skirt seemed to be too short, despite the protestations of other characters. (“No real lawyer wears a short skirt like that!” one prospective client exclaimed early in the show’s run. “I want pants.”) A judge once even ruled her in contempt of court for not dressing more modestly. Though her look proved something of a flash point among viewers, including some women who thought she was undermining her credibility as a lawyer with her miniskirts, others defended her fashion choices. “We can all look at Ally McBeal and see her as some kind of icon,” Jane Pratt said in 1998, when she was the editor in chief of Jane magazine. “Women find themselves emulating her, feeling O.K. wearing shorter skirts to the office because of her. She’s freeing women up.”                   Whether it was an Azzedine Alaïa jacket paired with Prada capri pants, or her cherished Fendi baguette, or that John Galliano newspaper-print dress, or floor-sweeping gowns from Oscar de la Renta or Versace, or even some pieces from her own short-lived Halston Heritage collection,   made sure her character, Carrie Bradshaw, was always fashion-forward. And if anyone wondered how she managed to afford all of those designer duds and Manolo Blahnik shoes on a freelance-writer’s salary, Carrie had a ready answer. “I like my money right where I can see it,” she said in one episode. “Right in my closet.”</td>\n",
       "      <td>Positive</td>\n",
       "      <td>Positive</td>\n",
       "    </tr>\n",
       "  </tbody>\n",
       "</table>\n",
       "</div>"
      ],
      "text/plain": [
       "                                                                                                                                                                                                                                                                                                                                                                                                                                                                                                                                                                                                                                                                                                                                                                                                                                                                                                                                                                                                                                                                                                                                                                                                                                                                                                                                                                                                                                                                                                                                                                                                                                                                                                                                                                                                                                                                                                                                                                                                                                                                                                                                                                                                                                                                                                                                                                                                                                                                                                                                                                                                                                                                                                                                                                                                                                                                                                                                                                                                                                                                                                                                                                                                                                                                                                                                                                                                                                                                                                                                                                                                                                                                                                                                                                                                                                                                                                                                                                                                                                                                                                                                                                                                                                                                                                                                                                                                                                                                                                                                                                                                                                                                                                                                                                                                                                                                                                                                                                                                                                                                                                                                                                                                                                                                                                                                                                                                                                                    text  \\\n",
       "0                                                                                                                                                                                                       WASHINGTON — Ending a climactic fiscal showdown in the final hours of the 112th Congress, the House late Tuesday passed and sent to   legislation to avert big income tax increases on most Americans and prevent large cuts in spending for the Pentagon and other government programs.         The measure, brought to the House floor less than 24 hours after its passage in the Senate, was approved 257 to 167, with 85 Republicans joining 172 Democrats in voting to allow income taxes to rise for the first time in two decades, in this case for the highest-earning Americans. Voting no were 151 Republicans and 16 Democrats.         The bill was expected to be signed quickly by Mr. Obama, who won re-election on a promise to increase taxes on the wealthy.         Mr. Obama strode into the White House briefing room shortly after the vote, less to hail the end of the fiscal crisis than to lay out a marker for the next one. “The one thing that I think, hopefully, the new year will focus on,” he said, “is seeing if we can put a package like this together with a little bit less drama, a little less brinkmanship, and not scare the heck out of folks quite as much.”         In approving the measure after days of legislative intrigue, Congress concluded its final and most pitched fight over fiscal policy, the culmination of two years of battles over taxes, the federal debt, spending and what to do to slow the growth in popular social programs like  .         The decision by Republican leaders to allow the vote came despite widespread scorn among House Republicans for the bill, passed overwhelmingly by the Senate in the early hours of New Year’s Day. They were unhappy that it did not include significant spending cuts in health and other social programs, which they say are essential to any long-term solution to the nation’s debt.         Democrats, while hardly placated by the compromise, celebrated Mr. Obama’s nominal victory in his final showdown with House Republicans in the 112th Congress, who began their term emboldened by scores of new, conservative members whose reach to the right ultimately tipped them over.         “The American people are the real winners tonight,” Representative Bill Pascrell Jr., Democrat of New Jersey, said on the House floor, “not anyone who navigates these halls.”         Not a single leader among House Republicans came to the floor to speak in favor of the bill, though Speaker  , who rarely takes part in roll calls, voted in favor. Representative Eric Cantor of Virginia, the majority leader, and Representative Kevin McCarthy of California, the No. 3 Republican, voted no. Representative Paul D. Ryan, the budget chairman who was the Republican vice-presidential candidate, supported the bill.         Despite the party divisions, many Republicans in their remarks characterized the measure, which allows taxes to go up on household income over $400,000 for individuals and $450,000 for couples but makes permanent tax cuts for income below that level, as a victory of sorts, even as so many of them declined to vote for it.         “After more than a decade of criticizing these tax cuts,” said Representative Dave Camp of Michigan, “Democrats are finally joining Republicans in making them permanent. Republicans and the American people are getting something really important, permanent tax relief.”         The dynamic with the House was a near replay of a fight at the end of 2011 over a   break extension. In that showdown, Senate Democrats and Republicans passed legislation, and while House Republicans fulminated, they were eventually forced to swallow it.         On Tuesday, as they got a detailed look at the Senate’s fiscal legislation, House Republicans ranging from Midwest pragmatists to  -blessed conservatives voiced serious reservations about the measure, emerging from a lunchtime New Year’s Day meeting with their leaders, eyes flashing and faces grim, insisting they would not accept a bill without substantial savings from cuts.         The unrest reached to the highest levels as Mr. Cantor told members in a closed-door meeting in the basement of the Capitol that he could not support the legislation in its current form.         Mr. Boehner, who faces a re-election vote on his post on Thursday when the 113th Congress convenes, had grave concerns as well, but he had pledged to allow the House to consider any legislation that cleared the Senate. And he was not eager to have such a major piece of legislation pass with mainly opposition votes, and the outcome could be seen as undermining his authority.         Adding to the pressure on the House, the fiscal agreement was reached by Senator Mitch McConnell of Kentucky, the Senate Republican leader, and had deep Republican support in the Senate, isolating the House Republicans in their opposition. Some of the Senate Republicans who backed the bill are staunch conservatives, like Senators Patrick J. Toomey of Pennsylvania and Tom Coburn of Oklahoma, with deep credibility among House Republicans.           \n",
       "1                              A century ago, Elsie Scheel was the perfect woman. So said a 1912   in The New York Times about how Miss Scheel, 24, was chosen by the “medical examiner of the 400 ‘co-eds’ ” at Cornell University as a woman “whose very presence bespeaks perfect health.”         Miss Scheel, however, was hardly model-thin. At 5-foot-7 and 171 pounds, she would, by today’s medical standards, be clearly overweight. (Her body mass index was 27; 25 to 29.9 is overweight.)         But a   suggests that Miss Scheel may have been onto something. The report on nearly three million people found that those whose B.M.I. ranked them as overweight had less risk of dying than people of normal weight. And while obese people had a greater mortality risk over all, those at the lowest   level (B.M.I. of 30 to 34.9) were not more likely to die than normal-weight people.         The report, although not the first to suggest this relationship between B.M.I. and mortality, is by far the largest and most carefully done, analyzing nearly 100 studies, experts said.         But don’t scrap those New Year’s weight-loss resolutions and start gorging on fried Belgian waffles or triple cheeseburgers.         Experts not involved in the research said it suggested that overweight people need not panic unless they have other indicators of poor health and that depending on where fat is in the body, it might be protective or even nutritional for older or sicker people. But over all, piling on pounds and becoming more than slightly obese remains dangerous.         “We wouldn’t want people to think, ‘Well, I can take a pass and gain more weight,’ ” said Dr. George Blackburn, associate director of Harvard Medical School’s   division.         Rather, he and others said, the report, in The Journal of the American Medical Association, suggests that B.M.I., a ratio of height to weight, should not be the only indicator of healthy weight.         “Body mass index is an imperfect measure of the risk of mortality,” and factors like  ,   and blood sugar must be considered, said Dr. Samuel Klein, director of the Center for Human Nutrition at Washington University School of Medicine in St. Louis.         Dr. Steven Heymsfield, executive director of the Pennington Biomedical Research Center in Louisiana, who wrote an editorial accompanying the study, said that for overweight people, if indicators like cholesterol “are in the abnormal range, then that weight is affecting you,” but that if indicators are normal, there’s no reason to “go on a crash diet.”         Experts also said the data suggested that the definition of “normal” B.M.I., 18.5 to 24.9, should be revised, excluding its lowest weights, which might be too thin.         The study did show that the two highest obesity categories (B.M.I. of 35 and up) are at high risk. “Once you have higher obesity, the fat’s in the fire,” Dr. Blackburn said.         But experts also suggested that concepts of fat be refined.         “Fat per se is not as bad as we thought,” said Dr. Kamyar Kalantar-Zadeh, professor of medicine and public health at the University of California, Irvine.         “What is bad is a type of fat that is inside your belly,” he said. “Non-belly fat, underneath your skin in your thigh and your butt area — these are not necessarily bad.”         He added that, to a point, extra fat is accompanied by extra muscle, which can be healthy.         Still, it is possible that overweight or somewhat obese people are less likely to die because they, or their doctors, have identified other conditions associated with weight gain, like high cholesterol or  .         “You’re more likely to be in your doctor’s office and more likely to be treated,” said Dr. Robert Eckel, a past president of the American Heart Association and a professor at University of Colorado.         Some experts said fat could be protective in some cases, although that is unproven and debated. The study did find that people 65 and over had no greater mortality risk even at high obesity.         “There’s something about extra body fat when you’re older that is providing some reserve,” Dr. Eckel said.         And studies on specific illnesses, like heart and kidney disease, have found an “obesity paradox,” that heavier patients are less likely to die.         Still, death is not everything. Even if “being overweight doesn’t increase your risk of dying,” Dr. Klein said, it “does increase your risk of having diabetes” or other conditions.         Ultimately, said the study’s lead author, Katherine Flegal, a senior scientist at the Centers for Disease Control and Prevention, “the best weight might depend on the situation you’re in.”          , in whose “physical makeup there is not a single defect,” the Times article said.         This woman who “has never been ill and doesn’t know what fear is” loved sports and didn’t consume candy, coffee or tea. But she also ate only three meals every two days, and loved beefsteak.         Maybe such seeming contradictions made sense against the societal inconsistencies of that time. After all, her post-college plans involved tilling her father’s farm, but “if she were a man, she would study mechanical engineering.”           \n",
       "2                                                                                                                                                                                                                                                                                                                                                                                                                                                                                                                                                                                                                                                                                                                           WASHINGTON — The young president who ascended to office as a change agent decides to end the costly and unpopular war in Afghanistan. He seeks an exit with honor by pledging long-term financial support to allies in Kabul, while urging reconciliation with the insurgency. But some senior advisers lobby for a deliberately slow withdrawal, and propose leaving thousands of troops behind to train and support Afghan security forces.         This is a nearly exact description of the endgame conundrum facing President Obama as he prepares for a critical visit by Hamid Karzai, the Afghan president, planned for early January.         But the account is actually drawn from declassified Soviet archives describing  ’s closed-door struggles with his Politburo and army chiefs to end the Kremlin’s intervention in Afghanistan — one that began with a commando raid, coup and modest goals during Christmas week of 1979 but became, after a decade, what Mr. Gorbachev derided as “a bleeding wound.”         What mostly is remembered about the withdrawal is the Soviet Union’s humiliation, and the ensuing factional bloodletting across Afghanistan that threw the country into a vicious civil war. It ended with Taliban control and the establishment of a safe haven for Al Qaeda before the terrorist attacks on Sept. 11, 2001.         But scholars who have studied the Soviet archives point out another lesson for the Obama administration as it manages the pullout of American and allied combat forces from Afghanistan by the end of 2014.         “The main thing the Soviets did right was that they continued large-scale military assistance to the regime they left behind after the final withdrawal in ’89,” said  , a professor at George Mason University and author of “Leaving Without Losing: The War on Terror After Iraq and Afghanistan” (Johns Hopkins University Press, 2012).         “As long as the Afghan regime received the money and the weapons, they did pretty well — and held on to power for three years,” Mr. Katz said. The combat effectiveness of Kabul’s security forces increased after the Soviet withdrawal, when the fight for survival become wholly their own.         But then the Soviet Union dissolved in December 1991, and the new Russian leader, Boris N. Yeltsin, heeded urgings of the United States and other Western powers to halt aid to the Communist leadership in Afghanistan, not just arms and money, but also food and fuel. The Kremlin-backed government in Kabul fell three months later.         To be sure, there are significant contrasts between the two interventions in Afghanistan. The Soviet invasion and occupation were condemned as illegal aggression, while the American one was embraced by the international community, including  , as a “just war,” one with limited goals of routing the Taliban and eliminating Al Qaeda. That war of necessity has since evolved into a war of choice, one the Obama administration is working to end as quickly as is feasible.         Despite the differences going in, both the Soviet Union and the United States soon learned that Afghanistan is a land where foreigners aspiring to create nations in their image must combat not just the Taliban but tribalism, orthodoxy, corruption and a medieval view of women. As well, Pakistan has had interests at odds with those of the neighboring government in Afghanistan, whether Kabul was an ally of Moscow or of Washington.         “The Soviet Union did not understand religious and ethnic factors sufficiently, and overestimated the capacity of Afghan society to move very fast toward a modern era, in this case socialism,” said Svetlana Savranskaya, director of Russian programs at the National Security Archive, an independent research center at George Washington University.         “Here I see similarities with the approach of the United States, especially with all the discussion about trying to leave behind an Afghanistan that is democratic and respects the rights of women, ideas that simply are not accepted across the broad society there,” said Ms. Savranskaya, who has written extensively on the Soviet archives.         If the Soviet experience offers any guidance to the current American withdrawal, she said, it would be to accelerate the departure of foreign combat forces — but to leave in their place a “sustained, multiyear international involvement in military training, education and civilian infrastructure projects, and maybe not focusing on building democracy as much as improving the lives of the common people.”           \n",
       "3                                                                                                                                                                                                                                                                                                                                                                                                                                                                                                                                                            Energy drinks are the fastest-growing part of the beverage industry, with sales in the United States reaching more than $10 billion in 2012 — more than Americans spent on iced tea or sports beverages like Gatorade.         Their rising popularity represents a generational shift in what people drink, and reflects a successful campaign to convince consumers, particularly teenagers, that the drinks provide a mental and physical edge.         The drinks are now   by the Food and Drug Administration after reports of deaths and serious injuries that may be linked to their high caffeine levels. But however that review ends, one thing is clear, interviews with researchers and a review of scientific studies show: the energy drink industry is based on a brew of ingredients that, apart from caffeine, have little, if any benefit for consumers.         “If you had a cup of coffee you are going to affect metabolism in the same way,” said Dr. Robert W. Pettitt, an associate professor at Minnesota State University in Mankato, who has studied the drinks.         Energy drink companies have promoted their products not as caffeine-fueled concoctions but as specially engineered blends that provide something more. For example, producers claim that “Red Bull gives you wings,” that Rockstar Energy is “scientifically formulated” and Monster Energy is a “killer energy brew.” Representative Edward J. Markey of Massachusetts, a Democrat, has asked the government to investigate the industry’s marketing claims.         Promoting a message beyond caffeine has enabled the beverage makers to charge premium prices. A 16-ounce energy drink that sells for $2.99 a can contains about the same amount of caffeine as a tablet of NoDoz that costs 30 cents. Even Starbucks coffee is cheap by comparison; a 12-ounce cup that costs $1.85 has even more caffeine.         As with earlier elixirs, a dearth of evidence underlies such claims. Only a few human studies of energy drinks or the ingredients in them have been performed and they point to a similar conclusion, researchers say — that the beverages           Caffeine is called the world’s most widely used drug. A stimulant, it increases alertness, awareness and, if taken at the right time, improves athletic performance, studies show. Energy drink users feel its kick faster because the beverages are typically swallowed quickly or are sold as concentrates.         “These are caffeine delivery systems,” said Dr. Roland Griffiths, a researcher at Johns Hopkins University who has studied energy drinks. “They don’t want to say this is equivalent to a NoDoz because that is not a very sexy sales message.”         A scientist at the University of Wisconsin became puzzled as he researched an ingredient used in energy drinks like Red Bull, 5-Hour Energy and Monster Energy. The researcher, Dr. Craig A. Goodman, could not find any trials in humans of the additive, a substance with the tongue-twisting name of glucuronolactone that is related to glucose, a sugar. But Dr. Goodman, who had studied other energy drink ingredients, eventually found two 40-year-old studies from Japan that had examined it.         In the experiments, scientists injected large doses of the substance into laboratory rats. Afterward, the rats swam better. “I have no idea what it does in energy drinks,” Dr. Goodman said.         Energy drink manufacturers say it is their proprietary formulas, rather than specific ingredients, that provide users with physical and mental benefits. But that has not prevented them from implying otherwise.         Consider the case of taurine, an additive used in most energy products.         On its Web site, the producer of Red Bull, for example, states that “  about taurine and its physiological effects,” including acting as a “detoxifying agent.” In addition, that company, Red Bull of Austria, points to a 2009 safety study by a European regulatory group that gave it a clean bill of health.         But Red Bull’s Web site does not mention reports by that same group, the European Food Safety Authority, which concluded that  . Based on those findings, the European Commission has   that taurine helps maintain mental function and heart health and reduces muscle fatigue.         Taurine, an amino acidlike substance that got its name because it was first found in the bile of bulls, does play a role in bodily functions, and recent research suggests it might help prevent heart attacks in women with high  . However, most people get more than adequate amounts from foods like meat, experts said. And researchers added that those with heart problems who may need supplements would find far better sources than energy drinks.           \n",
       "4                                                                                                                                                                                                                                                                                                                                                                                                                                                                                                                                                                                                                                                                                                                                                                                                                                                                                                                                                                                                                                                                                                                                                                                                        Most states are red or blue. A few are purple. After the November election, New Hampshire turned pink.         Women won the state’s two Congressional seats. Women already held the state’s two Senate seats. When they are all sworn into office on Thursday, New Hampshire will become the first state in the nation’s history to send an all-female delegation to Washington.         And the matriarchy does not end there. New Hampshire’s new governor is a woman. So are the speaker of the State House and the chief justice of the State Supreme Court.         “Pink is the new power color in New Hampshire,” declared Ann McLane Kuster, one of the newly elected representatives, at a recent forum at the   at St. Anselm College in Manchester, where the women’s historic milestone was celebrated.         These women did not rise to the top together overnight. Nor was there an orchestrated movement to elect them. Each toiled in the political vineyards, climbed the ladder in her own time and campaigned hard for her job. But they have caught the state’s collective imagination, inspiring forums and media interest and prompting Jay B. Childs, a New Hampshire filmmaker, to make a documentary about them.         Senator  , 65, a Democrat and dean of the delegation, was the state’s first elected female governor and the first woman in United States history to be elected both governor and senator.         Senator  , 44, a Republican, was the state’s former attorney general.         Carol Shea-Porter, 60, a Democrat and former member of the House, lost her seat in 2010 and won it back in November.         Ms. Kuster, 56, a Democrat, is a lawyer and lobbyist who has not held office before but has long been active in the state and comes from a political family.         Maggie Hassan, 54, a Democrat and the new governor, was majority leader of the State Senate.         Women will make up 20 percent of the new Senate and 17.9 percent of the new House. These are records in Washington, but they fall far short of matching the 50.8 percent of the general population that is female.         While New Hampshire is doing more than its share of bolstering the number of women on Capitol Hill, six states — Alaska, Delaware, Iowa, Mississippi, North Dakota and Vermont — have never elected a woman to the House. And four of those — Delaware, Iowa, Mississippi and Vermont — have never sent a woman to the Senate.         The state after New Hampshire, with the next highest proportion of women in its Congressional delegation, is Hawaii, where both House members and one senator are women.         In only three other states, Maine, Missouri and Washington, do women make up at least half of the delegations. Sixteen states, including New Jersey, have no women in Congress.         Although the women in New Hampshire are serving all at once by happenstance, women have long held prominent positions in New Hampshire government.         One reason is the size of the State House, a typical pipeline for aspiring politicians. It has 400 members, making it the largest of the states and the fourth-largest governing body in the English-speaking world (after the United States Congress, the British Parliament and the Indian Parliament). With so many seats available, women have a better chance of being elected in New Hampshire than they have in many other states.         New Hampshire also has a long history of volunteerism, and serving in the General Court, as the legislature is known, amounts to an act of volunteerism because it pays just $100 a year, plus mileage. Every year since 1975, more than 100 women have served.         “There are lots of opportunities for women to pitch in, prove their competence and learn a lot about governing and the political process,” Ms. Hassan said in an interview. “We’ve had a very deep bench of women.”         Even if the legislature in New Hampshire is big, the state itself is small. That makes it easier for everyone to know everyone else, and most of the women in the Congressional delegation have intricate ties to one another.           \n",
       "5            I got an advertisement in the mail the other day for a fancy marble mausoleum being built in Jersey.         “You’ve worked hard your whole life,” it read. “Now, don’t you want to reward yourself with the very best?”         This set off many thoughts: I should wait till I’m dead to reward myself? If I believed in that consciousness after death stuff what would I want with the mausoleum? I would just stay in my apartment and keep cable. And if the mausoleum is to impress the living who are going to come visit, that’s unlikely. New Yorkers don’t even leave their neighborhood to go to a movie.         I also wondered why I was getting my first burial pitch now, although I figured that out pretty quickly. I was about to turn 65. I had already gotten piles of Medicare related insurance material. How to be disposed of when the medical intervention failed was probably the logical next step, though not one I was especially focused on.         Also, in the home I grew up in, the view of the afterlife was vague.         “You live on in the minds of the people who love you,” my mother said.         Even as a kid, this didn’t sound so hot.         “Fine for them,” I remember thinking, “but what’s that going to do for me?”         None of the burial options I knew as an adult seemed quite right to me either. There is a sweet little hillside cemetery in Fleischmanns, N.Y., where the members of my family are planted and Gertrude Berg is the sole celebrity, but I spent so much effort getting out of the Catskills that I don’t want to go back. (Yeah, I know, none of you know who Gertrude Berg was. Believe me, the people in the Fleischmanns cemetery know.)         My friend Sybil Sage, who makes personalized mosaic cremation urns, has done one for herself and her husband, a comfy shared space. It’s decorated with their pictures and pictures of their son and a picture of their dog. Their son has said he would be happy to take it once they’ve moved in, but I have no children and it seems a lot to ask of a nephew or a niece. For one thing, their taste in art and color may be different than mine and if they don’t like it or the seashell collection gets too big, I could end up in the closet, mentioned only in passing as a reference point:         “Have you seen the mop?”         “It’s in the hall closet, next to Joyce.”         I could choose a cemetery near New York City already inhabited by one or two people I know. I have a good friend who died a few years ago; she, her husband, a close friend I shall call Herb and I used to spend New Year’s Eve together for years. Every once in a while I tell Herb maybe we should buy plots in that cemetery, so we can all hang out.         “There won’t be any hanging out,” he says. “You’ll be dead.”         “I know that rationally,” I say, “It’s just a nice thought.”         The thing is, when it comes to dead, I am not sure anyone is rational.         Consider my mother, whose wise and mild familial remonstrations are known to readers of this column. My father had died and a member of the family was involved in a romantic relationship about which my mother had some concerns. For the sake of discretion I shall call the amorous fellow Loverboy Wadler, the Catskills Swordsman, Also Known To Roam, When There’s No Ice On The Roads, Into Western Massachusetts.         Anyway, Ma was pretty worked up.         “I’ll tell you one thing right now,” she said. “If Loverboy goes ahead and formalizes this idiocy I am going to end it, just end it. I am going to leave this world and lay down next to your father. Because I will be the only one who can comfort him.”         This was a definite theological turnaround from living on in the memories of the people who loved you.         “My mother’s views of the afterlife seem to have changed,” I told Herb. “She seems to think of the Fleischmanns cemetery as a big living room, where she can lay on a couch under the dirt and talk to dad. I hope she remembers that his mother, who she didn’t talk to for the last 30 years of her life, is laying about 10 feet away from him.”         And what of the time, accompanied by Herb, I decided I should try to find the tombstone of the grandfather I was named for, Jacob Wadler. His remains have since been moved up to Fleischmanns, but at the time he was buried in one of those cemeteries out on Long Island you pass on the way to the airport. My cousins had given me a map and we needed it — the place, with its narrow winding roads, was enormous. It was a hot summer day, Herb and I were in a little red convertible with the top down and we drove around and around, scanning stones that were cut with names that were all too familiar: Adler, Aronowitz, Rosenthal, Fishman. What with the red car and us being the only ones upright, it was impossible not to feel conspicuous.         “You know what’s weird,\" I told Herb. “I have the feeling they’re all watching us and telling each other how pathetic we are, like: ‘Boy, there’s some  . Look at them, driving around, they can’t even find a stone.”         “I was thinking that, too,” said Herb, who doesn't believe in an afterlife.         Because when it comes to death, no one is rational.                               \n",
       "6                                                                                                                                                                                                                                                                                                                                                                                                                                                                                                                                                                                                                                                                                                                                                                                                                                                                                                                                                                                                                                                                                                                                                                                                                                                 GENEVA — More than 60,000 people have died in  ’s 22-month-old civil war, the  ’ human rights chief, Navi Pillay, said on Wednesday, expressing dismay at the findings of an analysis that far exceeds previous estimates of casualties.         “The number of casualties is much higher than we expected, and is truly shocking,” Ms. Pillay, the United Nations high commissioner for human rights, said in a statement that condemned the government of President   for the scale of the carnage and sharply admonished the   for failing to act.         \"The failure of the international community, in particular the Security Council, to take concrete actions to stop the bloodletting, shames us all,” she said.           of casualties in   documented 59,648 killings between mid-March 2011 and the end of November, Ms. Pillay reported. “Given there has been no letup in the conflict since the end of November, we can assume that more than 60,000 people have been killed by the beginning of 2013,” she added.         Ms. Pillay’s comments coincided with reports that an airstrike on a gas station in Damascus, the Syrian capital, on Wednesday may have killed dozens and injured many more, while heavy fighting around the northern city of Aleppo had forced closure of its international airport.         The analysis of deaths in Syria, described by Ms. Pillay as the most detailed and wide ranging to date, was based on a study of seven data sets, including one from the Syrian government, conducted on behalf of the United Nations human rights office by  , a nonprofit technology company whose three earlier analyses of Syrian casualties used fewer data sets.         The analysis, which took five months to complete, drew from a combined list of 147,349 reported killings. Duplicate listings were excluded, as was any report that did not include at least the first and last name of the victim and the date and location of the death. In the end, the analysts came up with a unique record of 59,648 conflict-related deaths as of Nov. 30, 2012. Given that the total excluded reports with insufficient detail, the true toll could easily be higher.         The Syrian Observatory for Human Rights, a rebel group that tracks the war and is based in Britain, reported two days earlier that more than 45,000 people, mostly civilians, had been killed. The United Nations said its data could not distinguish between civilians and combatants, but, like the observatory, it concluded that the rate of killings had accelerated. The death toll had climbed from around 1,000 a month in the summer of 2011 to more than 5,000 a month since July, the report for the United Nations said.         “This massive loss of life could have been avoided if the Syrian government had chosen to take a different path than one of ruthless suppression of what were initially peaceful and legitimate protests by unarmed civilians,” Ms. Pillay said.         Most of the killings occurred in Homs (12,560), Damascus and its environs (10,862) and Idlib (7,686), with those three areas accounting for about half the total, followed by Aleppo, Dara’a and Hama. Around three-quarters of those killed were male, the analysis found.         “Unless there is a quick resolution to the conflict, I fear thousands more will die or suffer terrible injuries as a result of those who harbor the obstinate belief that something can be achieved by more bloodshed, more torture and more mindless destruction,” Ms. Pillay said.         Her comments echoed warnings in the past week by  , the United Nations and Arab League mediator for Syria, that Syria must achieve a political solution or face “hell,” with the danger that 100,000 people could die in 2013 if the conflict was not halted.         Mr. Brahimi spoke after visits to Moscow and Damascus at the end of last month in his latest push to kick-start stalled negotiations on a transitional government based on the formula agreed to in Geneva in June 2012, but his efforts have attracted scant support from Syrian opposition groups.           \n",
       "7                                                                                                                                                                                                                                                WASHINGTON — Northeastern Republicans, long outnumbered and overshadowed in their own party nationally, erupted in fury on Wednesday after the Republican-controlled House of Representatives blocked a measure that sought to provide billions of dollars in aid to New York, New Jersey, Connecticut and other states pummeled by  .         The depth of the anger was extraordinary and exceedingly personal, with one Republican after another venting their outrage at one man in particular, Speaker  , Republican of Ohio, who quietly moved to keep the bill from coming to the floor early Wednesday morning after a raucous marathon session on fiscal issues.         Representative  , a Republican whose Staten Island district was among the hardest hit, threatened not to vote for Mr. Boehner in the election for speaker this week. Representative  , a Long Island Republican whose constituents also suffered huge losses in the storm, urged New York’s well-heeled donor community not to contribute to Mr. Boehner’s Republican majority.         The anger that surfaced seemed to come as a bit of a shock to Mr. Boehner, who quickly sought to contain any political fallout. After meeting with Republican lawmakers from the storm-tossed region, he pledged to bring a $9 billion relief package to the floor on Friday and a $51 billion package on Jan 15.         “Getting critical aid to the victims of Hurricane Sandy should be the first priority in the new Congress,” Mr. Boehner said in a statement that he released with Representative Eric Cantor of Virginia, the Republican majority leader in the House. “That was reaffirmed today with members of the New York and New Jersey delegations.”         But it was unclear whether Mr. Boehner could undo the damage he had done.         Gov.   of New Jersey, a potential Republican presidential contender in 2016, said Mr. Boehner had refused to take his calls on Tuesday night. He accused the House leadership of duplicity and selfishness, saying the inaction “is why the American people hate Congress.”         After finally getting through to Mr. Boehner on Wednesday morning, Mr. Christie expressed doubt in the speaker’s word in his characteristically blunt way.         “I’m not going to get into the specifics of what I discussed with John Boehner today,” he told reporters in New Jersey. “But what I will tell you is there is no reason at the moment for me to believe anything they tell me. Because they have been telling me stuff for weeks, and they didn’t deliver.”         Representative King later struck a more conciliatory note. “This procedure that is laid out is fully acceptable” he said, reacting to the schedule presented by Mr. Boehner. “Fact is, we are getting what New York and New Jersey needs, and that is what counts.”         Representative Grimm also seemed mollified, saying he would support the speaker after all.         As much as the outcry spoke of the extraordinary dissension within the Republican ranks, it also underscored another political reality: the relative lack of clout that Northeastern states like New York have in the House, a chamber dominated by conservatives from the South and Midwest.         In many respects, lawmakers from the region must frequently contend with the perception, whether fair or not, that the region they represent is a liberal bastion that is politically and culturally out of touch with the rest of the country.         The region’s political standing in the House is such that leading New York politicians turned to prominent New York City businessmen with close ties to the   in their efforts to persuade House leaders to pass a disaster relief package.         The businessmen, all major political donors, included titans like Kenneth Langone, the venture capitalist and co-founder of Home Depot; Lloyd Blankfein, the chairman of Goldman Sachs; Jerry I. Speyer, chairman and co-chief executive of the Tishman Speyer real estate empire; and Terry J. Lundgren, chairman and chief executive of Macy’s, according to people familiar with the lobbying effort.         Last week, a $60.4 billion aid package was passed in the Democratic-led Senate, far friendlier political terrain for the region, where Charles E. Schumer, New York’s senior senator, is part of the leadership and helped push the package through. Top House Republicans had indicated that they were moving toward a vote on the package Tuesday night.         But Mr. Boehner had angered many leading conservatives in his caucus by bringing to the floor a Senate-approved tax bill that they say did not contain sufficient spending cuts to bring the nation’s deficit under control. After that bill passed in the House, with significant Democratic support, he appeared to be in no mood to further alienate conservatives in his caucus by forcing them to vote on a disaster aid bill that would add to the deficit on the very eve of a vote on whether to continue his speakership, according to lawmakers and Congressional officials.           \n",
       "8                                                                                                                                                                                                                                                                                                                                                                                                                                                                                                                                                                    Zosia Mamet was in upstate New York shooting a movie in 2010 when she received a call: the producers of “Girls,” a new TV series on HBO, created by some up-and-coming writer-director type, were eager to have her read for a part on the show. The series was going to be about three 20-something women — a lost and awkward aspiring writer named Hannah (who would be played by the show’s creator, Lena Dunham); her strait-laced, perfectionist roommate Marnie; and her saucy, libertine friend Jessa — all trying to make it in New York.         Mamet had never heard of Dunham, but her agent also sent her Dunham’s breakout film, “Tiny Furniture,” and after watching it, Mamet decided, “I have to work with this person.” Her agent told Mamet that the show’s producers wanted her to read for a secondary character: Shoshanna, Jessa’s cousin. So in an old barn, fighting off a cold that was blossoming into full-blown pneumonia, Mamet recorded an audition tape. “I did my tape in one of my father’s oversize sweaters and no makeup and dirty hair,” she says. “When I get really, really sick, underneath my eyes gets red, my nose gets red. I kind of look like a junkie.”         Jennifer Euston, the show’s casting director, had, by then, auditioned more than 100 actresses for various parts on the show. “We were reading every girl on the planet,” she says. “We had hired people in L.A., Chicago, Vancouver, Toronto and New York.” Jenni Konner, one of the executive producers of “Girls,” liked Mamet after seeing her on “Mad Men,” and Euston, who had seen her on “United States of Tara,” agreed. Euston considered Mamet to be one of those actresses that she and her casting friends like to call a transformer: someone who can “naturally transform into this different character.”         When she saw Mamet’s tape, Euston was dazzled. “She was funny. She brought the character to life. Everything from the quality of her voice to the cadence and rhythm of how she read her lines. We had only told her that she was going to be Jessa’s cousin. She didn’t really have a lot to go on.” Euston sent the tape to Dunham and Konner, who shared her assessment. Mamet was offered the part.         Then she was summoned to New York for a table read. She slept on a friend’s couch the night before the read, still sick, and taking doses of cough medicine and NyQuil so she would be fresh for the reading. It didn’t work. She was a wreck. She says now that she doesn’t remember a single moment of it — “Those cold meds are nothing to mess with, let me tell you” — except when Judd Apatow, another of the show’s executive producers, came over and introduced himself.         She left the reading despondent. “I called my agent and said, ‘I think I may have lost this job, I’m so sorry.’ ”         Her performance had done just the opposite. The part of Shoshanna, Jessa’s virginal, quirky, “Sex and the City”-obsessed cousin, was supposed to be a secondary role that could well disappear after the pilot. “She definitely shifted my original conception of the character, which was a much more tangential girl, whose main job was to illuminate how un-‘ ’ this world was,” Dunham wrote to me in an e-mail. “But Zosia’s read — her odd intonations, her roiling insecurity — gave me the sense that Shoshanna could be something much larger.”         A few days later, Mamet’s agent called to tell her that she still had the job. And there was one other bit of good news: HBO wanted to revise her contract to make her a series regular. Just like that, “Girls,” the show about three girls trying to make it in New York, became a show about four girls instead.           that phone call, and just two months before the January 13 premiere of the second season of “Girls,” Mamet met me in the lobby of the Bowery Hotel in Manhattan, where she was staying while in town (she recently moved from L.A. to New York, but her new apartment wasn’t furnished yet) to participate in a charity event called the 24 Hour Plays.         She was wearing striped pants and a loose sweater, and her long hair was parted in the middle. As we spoke, she occasionally seemed to retreat behind that long, straight hair. Her most striking feature is her eyebrows, which are epic and untouched. She wears a lot of rings and has a few small tattoos on her hands. Her first tattoo, on her ankle, came a year and a half ago at the hands of her co-star Jemima Kirke. She has since added a few more, including a small one of an anchor on her hand because she loves the water and dreams of one day living on a boat.         “I have a ship’s bed,” she said, “which totally plays to my obsession of, if I were not an actress, I would be a pirate.”           \n",
       "9                                                                                                                                                                                                                                                                                                                                                                                                                                                                                                                                                                                                                                                                                                                                                                                                                                                                                                                                                                                                                                                                                                                                                                                                                                                                                                                                                                                                                                                                                                                                                                                                                                                                                                                                                                                                                                                                                                                                                                                                                                                                                                                                                                                                                                                                                                                                                                                                                                                                                                                                                                                                                                                                                                                                                                                                                                                                              THE women of “Girls” are hardly the first ones for whom the outfits they wear are an essential part of their characters’ makeup. Here are three memorable characters from past television shows in which clothes very much helped to make the woman.                    For Mary Tyler Moore, the look of Mary Richards was modeled largely on her own style, especially as the character evolved from a Midwestern girl newly moved to the big city (that beret!) to a successful newsroom producer earning a decent salary. Over the years, Ms. Moore would go to the showroom of the designer Norman Todd and pick out many of the outfits she would later wear on the show. “As I’m supposed to be an office worker, I very much wear the same outfit more than once,” she told a newspaper in 1974. “The clothes are the property of the studio, but when they’ve ‘had it,’ I’m allowed to take them home. I try to stick to tailored styles for dresses and neat, chic fashions for pantsuits. Off screen those are the styles I go for, too.”                   For Ally McBeal, the Boston lawyer portrayed by  , no skirt seemed to be too short, despite the protestations of other characters. (“No real lawyer wears a short skirt like that!” one prospective client exclaimed early in the show’s run. “I want pants.”) A judge once even ruled her in contempt of court for not dressing more modestly. Though her look proved something of a flash point among viewers, including some women who thought she was undermining her credibility as a lawyer with her miniskirts, others defended her fashion choices. “We can all look at Ally McBeal and see her as some kind of icon,” Jane Pratt said in 1998, when she was the editor in chief of Jane magazine. “Women find themselves emulating her, feeling O.K. wearing shorter skirts to the office because of her. She’s freeing women up.”                   Whether it was an Azzedine Alaïa jacket paired with Prada capri pants, or her cherished Fendi baguette, or that John Galliano newspaper-print dress, or floor-sweeping gowns from Oscar de la Renta or Versace, or even some pieces from her own short-lived Halston Heritage collection,   made sure her character, Carrie Bradshaw, was always fashion-forward. And if anyone wondered how she managed to afford all of those designer duds and Manolo Blahnik shoes on a freelance-writer’s salary, Carrie had a ready answer. “I like my money right where I can see it,” she said in one episode. “Right in my closet.”           \n",
       "\n",
       "      afinn    hlsent  \n",
       "0  Positive  Positive  \n",
       "1  Negative  Negative  \n",
       "2  Negative  Positive  \n",
       "3  Positive  Positive  \n",
       "4  Positive  Positive  \n",
       "5  Positive  Positive  \n",
       "6  Negative  Negative  \n",
       "7  Negative  Negative  \n",
       "8  Negative  Negative  \n",
       "9  Positive  Positive  "
      ]
     },
     "execution_count": 59,
     "metadata": {},
     "output_type": "execute_result"
    }
   ],
   "source": [
    "newsdf.iloc[0:10][['text','afinn', 'hlsent']]"
   ]
  },
  {
   "cell_type": "markdown",
   "metadata": {},
   "source": [
    "### One more dictionary: The General Inquirer dictionary\n",
    "This one is interesting because it captures multiple dimensions and multiple definitions"
   ]
  },
  {
   "cell_type": "code",
   "execution_count": null,
   "metadata": {},
   "outputs": [],
   "source": [
    "#new GI dictionary\n",
    "import re\n",
    "\n",
    "GI_frame = pd.read_csv(pathname +'inquirerbasic.csv',\n",
    "                        usecols=[0,1,2,3,8,10,184,185], na_values = [\" \"])\n",
    "\n",
    "GI_frame.fillna('', inplace=True)\n",
    "print(GI_frame.shape)\n",
    "\n",
    "# get rid of multiple counts\n",
    "GI_frame['NewEntry'] = GI_frame['Entry'].str.extract('([A-Z]\\w{0,})', expand = False)\n",
    "\n"
   ]
  },
  {
   "cell_type": "code",
   "execution_count": null,
   "metadata": {},
   "outputs": [],
   "source": [
    "#what did we just do and what do we have now?\n",
    "GI_frame.head(30)\n"
   ]
  },
  {
   "cell_type": "code",
   "execution_count": null,
   "metadata": {},
   "outputs": [],
   "source": [
    "#let's create lists: pos, neg, strong, weak\n",
    "\n",
    "GIlist = GI_frame['NewEntry'].tolist()\n",
    "GIlist = list(map(lambda x: str(x).lower(), GIlist))\n",
    "GIset = set(GIlist)\n",
    "print(\"GI dictionary size: \" + str(len(GIlist)) + \" words of which \" +str(len(GIset))+ \" are unique.\")\n",
    "\n",
    "\n",
    "GIpos = GI_frame['NewEntry'][GI_frame['Positiv'].str.contains('Positiv')].tolist()\n",
    "GIneg = GI_frame['NewEntry'][GI_frame['Negativ'].str.contains('Negativ')].tolist()\n",
    "GIstrong = GI_frame['NewEntry'][GI_frame['Strong'].str.contains('Strong')].tolist()\n",
    "GIweak = GI_frame['NewEntry'][GI_frame['Weak'].str.contains('Weak')].tolist()\n",
    "GIpos = list(map(lambda x: str(x).lower(), GIpos))\n",
    "GIneg = list(map(lambda x: str(x).lower(), GIneg))\n",
    "GIstrong = list(map(lambda x: str(x).lower(), GIstrong))\n",
    "GIweak = list(map(lambda x: str(x).lower(), GIweak))\n",
    "\n",
    "print(\"Positive words: \" + str(len(GIpos)))\n",
    "print(\"Negative words: \" + str(len(GIneg)))\n",
    "print(\"Strong words: \"+ str(len(GIstrong)))\n",
    "print(\"Weak words: \" + str(len(GIweak)))\n",
    "\n"
   ]
  },
  {
   "cell_type": "code",
   "execution_count": null,
   "metadata": {},
   "outputs": [],
   "source": [
    "#what do we have? some overlap based on usage \n",
    "# Decisions will need to be made on how to deal with these\n",
    "\n",
    "print(set(GIpos).intersection(set(GIneg)))\n",
    "print(\"~~~~~~\")\n",
    "print (set(GIstrong).intersection(set(GIweak)))"
   ]
  },
  {
   "cell_type": "code",
   "execution_count": null,
   "metadata": {},
   "outputs": [],
   "source": [
    "#Let's take the most common use based on info in the \"defined\" column\n",
    "# We could also use the POS here\n",
    "\n",
    "#define function to pull out percent\n",
    "def get_digits(text):\n",
    "    temp_num = ''.join(list(filter(str.isdigit, text)))\n",
    "    if temp_num == '':\n",
    "        temp_num = 100\n",
    "    return temp_num\n",
    "\n",
    "#create new column for digits - not strictly necessary since it's not relevant for all entries but fastest way\n",
    "GI_frame['Percent'] = GI_frame['Defined'].map(lambda x: get_digits(x))\n",
    "\n",
    "print(GI_frame.shape)"
   ]
  },
  {
   "cell_type": "code",
   "execution_count": null,
   "metadata": {},
   "outputs": [],
   "source": [
    "print(GI_frame.head(30))"
   ]
  },
  {
   "cell_type": "code",
   "execution_count": null,
   "metadata": {},
   "outputs": [],
   "source": [
    "#pull out only the versions of terms used more than 50% of the time\n",
    "GI_frame.Percent.astype(int) > 50\n",
    "GI_frame = GI_frame[GI_frame.Percent.astype(int) > 50]\n",
    "print(GI_frame.shape)"
   ]
  },
  {
   "cell_type": "code",
   "execution_count": null,
   "metadata": {},
   "outputs": [],
   "source": [
    "GIlist = GI_frame['NewEntry'].tolist()\n",
    "GIlist = list(map(lambda x: str(x).lower(), GIlist))\n",
    "GIset = set(GIlist)\n",
    "print(\"GI dictionary size: \" + str(len(GIlist)) + \" words of which \" +str(len(GIset))+ \" are unique.\")\n",
    "\n",
    "\n",
    "GIpos = GI_frame['NewEntry'][GI_frame['Positiv'].str.contains('Positiv')].tolist()\n",
    "GIneg = GI_frame['NewEntry'][GI_frame['Negativ'].str.contains('Negativ')].tolist()\n",
    "GIstrong = GI_frame['NewEntry'][GI_frame['Strong'].str.contains('Strong')].tolist()\n",
    "GIweak = GI_frame['NewEntry'][GI_frame['Weak'].str.contains('Weak')].tolist()\n",
    "GIpos = list(map(lambda x: str(x).lower(), GIpos))\n",
    "GIneg = list(map(lambda x: str(x).lower(), GIneg))\n",
    "GIstrong = list(map(lambda x: str(x).lower(), GIstrong))\n",
    "GIweak = list(map(lambda x: str(x).lower(), GIweak))\n",
    "\n",
    "print(\"Positive words: \" + str(len(GIpos)))\n",
    "print(\"Negative words: \" + str(len(GIneg)))\n",
    "print(\"Strong words: \"+ str(len(GIstrong)))\n",
    "print(\"Weak words: \" + str(len(GIweak)))\n",
    "\n"
   ]
  },
  {
   "cell_type": "code",
   "execution_count": null,
   "metadata": {},
   "outputs": [],
   "source": [
    "# We fixed the orientation duplication but didn't deal with the strength clashes.  \n",
    "\n",
    "print(set(GIpos).intersection(set(GIneg)))\n",
    "print(\"~~~~~~\")\n",
    "print (set(GIstrong).intersection(set(GIweak)))"
   ]
  },
  {
   "cell_type": "code",
   "execution_count": null,
   "metadata": {
    "collapsed": true
   },
   "outputs": [],
   "source": [
    "#let's create index\n",
    "\n",
    "\n",
    "def gi_sent(inputstring, show = None):\n",
    "\n",
    "    poscount = 0\n",
    "    negcount = 0\n",
    "    i = 0\n",
    "\n",
    "\n",
    "    for word in inputstring.split():\n",
    "        if i > 0:\n",
    "            prev = inputstring.split().pop(i-1)\n",
    "        else:\n",
    "            prev =\"\"\n",
    "\n",
    "        #create scalar for strong and weak words.  Strong words double, weak words add half\n",
    "        if GIstrong.count(word):\n",
    "            scale = 2\n",
    "            if show != None:\n",
    "                print(\"Strong: \" + word) \n",
    "        elif GIweak.count(word):\n",
    "            if show != None: \n",
    "                print(\"Weak: \" + word)\n",
    "            scale = 0.5\n",
    "        else:\n",
    "            scale = 1\n",
    "            \n",
    "        if GIpos.count(word):\n",
    "            if show != None:\n",
    "                print(\"Postive: \" + word ) \n",
    "            poscount +=1*scale\n",
    "        elif GIneg.count(word):\n",
    "            if show != None:\n",
    "                print(\"Negative: \" + word )\n",
    "            negcount +=1*scale\n",
    "            \n",
    "        i+=1\n",
    "    \n",
    "    if poscount+negcount > 0:\n",
    "        t = float((poscount - negcount)/(poscount+negcount))\n",
    "        \n",
    "    else:\n",
    "        t = 0\n",
    "    \n",
    "    \n",
    "    if t > 0:\n",
    "        tone = \"Positive\"\n",
    "    elif t < 0:\n",
    "        tone = \"Negative\"\n",
    "    else:\n",
    "        tone = \"Neutral\"\n",
    "    \n",
    "    return tone"
   ]
  },
  {
   "cell_type": "code",
   "execution_count": null,
   "metadata": {},
   "outputs": [],
   "source": [
    "print(test_string)\n",
    "gi_sent(test_string)\n"
   ]
  },
  {
   "cell_type": "code",
   "execution_count": null,
   "metadata": {
    "collapsed": true
   },
   "outputs": [],
   "source": [
    "#takes a little longer - needs to check even more lists\n",
    "newsdf['gisent'] = newsdf.text.apply(lambda x: gi_sent(x))"
   ]
  },
  {
   "cell_type": "code",
   "execution_count": null,
   "metadata": {},
   "outputs": [],
   "source": [
    "newsdf.iloc[0:10][['text','afinn', 'hlsent', 'gisent']]"
   ]
  },
  {
   "cell_type": "markdown",
   "metadata": {
    "collapsed": true
   },
   "source": [
    "### How do you think stemming affects the analysis? \n",
    "http://sentiment.christopherpotts.net/stemming.html"
   ]
  },
  {
   "cell_type": "markdown",
   "metadata": {
    "collapsed": true
   },
   "source": [
    "### A different application/definition of \"tone\"\n",
    "\n",
    "http://www.fastcompany.com/3048761/tech-forecast/watch-your-tone-now-ibms-watson-can-detect-attitude-in-your-writing"
   ]
  },
  {
   "cell_type": "markdown",
   "metadata": {
    "collapsed": true
   },
   "source": [
    "### Classification isn't just by \"sentiment\"\n",
    "\n",
    "https://www.nytimes.com/2017/01/16/upshot/job-disconnect-male-applicants-feminine-language.html?_r=0\n",
    "\n",
    "http://www.dailymail.co.uk/sciencetech/article-3463607/The-simple-trick-reveal-conservative-liberal-Study-discovers-words-away-political-beliefs.html\n"
   ]
  },
  {
   "cell_type": "markdown",
   "metadata": {},
   "source": [
    "## In practice, sentiment analyzers will create a model from a vast corpus and then apply that to a new set of text instead of scoring each new document directly\n",
    "\n",
    "http://streamhacker.com/2010/05/10/text-classification-sentiment-analysis-naive-bayes-classifier/\n",
    "\n",
    "http://www.laurentluce.com/posts/twitter-sentiment-analysis-using-python-and-nltk/\n",
    "\n",
    "https://marcobonzanini.com/2015/01/19/sentiment-analysis-with-python-and-scikit-learn/ This one cheats IMHO because the dataset is already tagged..."
   ]
  },
  {
   "cell_type": "code",
   "execution_count": null,
   "metadata": {
    "collapsed": true
   },
   "outputs": [],
   "source": [
    "#more complicated sentiment calculations\n",
    "#create all the dictionaries just once\n",
    "\n",
    "#amplification and negation words from qdap\n",
    "negate = [\"aint\", \"arent\",\"cant\", \"couldnt\" , \"didnt\" , \"doesnt\" ,\"dont\" ,\"hasnt\" , \"isnt\" ,\"mightnt\" , \"mustnt\" ,\"neither\" ,\"never\", \"no\" ,\"nobody\" , \"nor\", \"not\" , \"shant\", \"shouldnt\", \"wasnt\" , \"werent\" ,\"wont\", \"wouldnt\"]\n",
    "amplify = [\"acute\" ,\"acutely\", \"certain\", \"certainly\" ,\"colossal\", \"colossally\",\"deep\" , \"deeply\" , \"definite\",\"definitely\" ,\"enormous\",\"enormously\" , \"extreme\", \"extremely\" ,\"great\",\"greatly\" ,\"heavily\", \"heavy\", \"high\",\"highly\" ,\"huge\",\"hugely\" , \"immense\", \"immensely\" ,\"incalculable\" ,\"incalculably\",\"massive\", \"massively\", \"more\",\"particular\" ,\"particularly\",\"purpose\", \"purposely\", \"quite\" ,\"real\" ,\"really\",\"serious\", \"seriously\", \"severe\",\"severely\" ,\"significant\" ,\"significantly\",\"sure\",\"surely\" , \"true\" ,\"truly\" ,\"vast\" , \"vastly\" , \"very\"]\n",
    "\n",
    "\n"
   ]
  },
  {
   "cell_type": "code",
   "execution_count": null,
   "metadata": {
    "collapsed": true
   },
   "outputs": [],
   "source": [
    "def afinn_sent2(inputstring):\n",
    "    \n",
    "    sentcount =0\n",
    "    i=0\n",
    "    \n",
    "\n",
    "    for word in inputstring.split():\n",
    "        prev = inputstring.split().pop(i-1)\n",
    "\n",
    "        if word in afinn:\n",
    "            if (prev == 'no'):\n",
    "                sentcount = sentcount - afinn[word] - afinn[prev]\n",
    "            elif (prev == 'not'):\n",
    "                sentcount = sentcount - afinn[word]\n",
    "            else:\n",
    "                sentcount = sentcount + afinn[word]\n",
    "            i+=1\n",
    "    \n",
    "    if (sentcount < 0):\n",
    "        sentiment = 'Negative'\n",
    "    elif (sentcount >0):\n",
    "        sentiment = 'Positive'\n",
    "    else:\n",
    "        sentiment = 'Neutral'\n",
    "    \n",
    "    \n",
    "    return sentiment\n",
    "\n",
    "def hl_sent2(inputstring):\n",
    "\n",
    "    poscount = 0\n",
    "    negcount = 0\n",
    "    i = 0\n",
    "\n",
    "\n",
    "    for word in inputstring.split():\n",
    "        if i > 0:\n",
    "            prev = inputstring.split().pop(i-1)\n",
    "        else:\n",
    "            prev =\"\"\n",
    "\n",
    "        if HLpos.count(word):\n",
    "            if negate.count(prev):\n",
    "                negcount += 1\n",
    "            elif amplify.count(prev):\n",
    "                poscount +=2\n",
    "            else: \n",
    "                poscount +=1\n",
    "        elif HLneg.count(word):\n",
    "            if negate.count(prev):\n",
    "                poscount += 1\n",
    "            elif amplify.count(prev):\n",
    "                negcount +=2\n",
    "            else:\n",
    "                negcount +=1\n",
    "        i+=1\n",
    "    \n",
    "    if poscount+negcount > 0:\n",
    "        t = float((poscount - negcount)/(poscount+negcount))\n",
    "        \n",
    "    else:\n",
    "        t = 0\n",
    "    \n",
    "    \n",
    "    if t > 0:\n",
    "        tone = \"Positive\"\n",
    "    elif t < 0:\n",
    "        tone = \"Negative\"\n",
    "    else:\n",
    "        tone = \"Neutral\"\n",
    "    \n",
    "    return tone\n",
    "\n",
    "#let's create lists: pos, neg, strong, weak\n",
    "\n",
    "\n",
    "def gi_sent2(inputstring):\n",
    "\n",
    "    poscount = 0\n",
    "    negcount = 0\n",
    "    i = 0\n",
    "\n",
    "\n",
    "    for word in inputstring.split():\n",
    "        if i > 0:\n",
    "            prev = inputstring.split().pop(i-1)\n",
    "        else:\n",
    "            prev =\"\"\n",
    "\n",
    "        #create scalar for strong and weak words.  Strong words double, weak words add half\n",
    "        if GIstrong.count(word):\n",
    "            scale = 2\n",
    "        elif GIweak.count(word):\n",
    "            scale = 0.5\n",
    "        else:\n",
    "            scale = 1\n",
    "            \n",
    "        if GIpos.count(word):\n",
    "            if negate.count(prev):\n",
    "                negcount += 1*scale\n",
    "            elif amplify.count(prev):\n",
    "                poscount +=2*scale\n",
    "            else: \n",
    "                poscount +=1*scale\n",
    "        elif GIneg.count(word):\n",
    "            if negate.count(prev):\n",
    "                poscount += 1*scale\n",
    "            elif amplify.count(prev):\n",
    "                negcount +=2*scale\n",
    "            else:\n",
    "                negcount +=1*scale\n",
    "            \n",
    "        i+=1\n",
    "    \n",
    "    if poscount+negcount > 0:\n",
    "        t = float((poscount - negcount)/(poscount+negcount))\n",
    "        \n",
    "    else:\n",
    "        t = 0\n",
    "    \n",
    "    \n",
    "    if t > 0:\n",
    "        tone = \"Positive\"\n",
    "    elif t < 0:\n",
    "        tone = \"Negative\"\n",
    "    else:\n",
    "        tone = \"Neutral\"\n",
    "    \n",
    "\n",
    "    #return (negcount, poscount)\n",
    "    #return tone\n",
    "    return tone"
   ]
  },
  {
   "cell_type": "markdown",
   "metadata": {},
   "source": [
    "### Does this affect our labels?"
   ]
  },
  {
   "cell_type": "code",
   "execution_count": null,
   "metadata": {
    "collapsed": true
   },
   "outputs": [],
   "source": [
    "test_string = \"This class not stinks.  I really not hate it.  Just kidding.  it's the great, the best even.\""
   ]
  },
  {
   "cell_type": "code",
   "execution_count": null,
   "metadata": {},
   "outputs": [],
   "source": [
    "print(test_string)\n",
    "afinn_sent2(test_string)"
   ]
  },
  {
   "cell_type": "code",
   "execution_count": null,
   "metadata": {},
   "outputs": [],
   "source": [
    "hl_sent2(test_string)"
   ]
  },
  {
   "cell_type": "code",
   "execution_count": null,
   "metadata": {},
   "outputs": [],
   "source": [
    "gi_sent2(test_string)"
   ]
  },
  {
   "cell_type": "code",
   "execution_count": null,
   "metadata": {
    "collapsed": true
   },
   "outputs": [],
   "source": [
    "newsdf['afinn2'] = newsdf.text.apply(lambda x: afinn_sent2(x))"
   ]
  },
  {
   "cell_type": "code",
   "execution_count": null,
   "metadata": {},
   "outputs": [],
   "source": [
    "newsdf.iloc[269:270][['text','afinn',  'afinn2', 'hlsent','gisent']]"
   ]
  },
  {
   "cell_type": "markdown",
   "metadata": {},
   "source": [
    "### So does this make a big difference?  How many places does this change things?"
   ]
  },
  {
   "cell_type": "code",
   "execution_count": null,
   "metadata": {
    "collapsed": true
   },
   "outputs": [],
   "source": [
    "diff = np.where((newsdf['afinn'] != newsdf['afinn2']))"
   ]
  },
  {
   "cell_type": "code",
   "execution_count": null,
   "metadata": {},
   "outputs": [],
   "source": [
    "print(type(diff))\n",
    "print(diff)"
   ]
  },
  {
   "cell_type": "code",
   "execution_count": null,
   "metadata": {},
   "outputs": [],
   "source": [
    "# So how many articles flipped labels?\n",
    "print(len(diff[0]))\n"
   ]
  },
  {
   "cell_type": "markdown",
   "metadata": {
    "collapsed": true
   },
   "source": [
    "### Main take aways:\n",
    "* Sets and lists are handy tools for object manipulation but make sure you understand how to use each of them\n",
    "* Custom replacement dictionaries are very useful for being more selective in your treatment of words and are especially helpful where business-specific language needs to be considered\n",
    "* Sentiment analysis requires some determination of semantic orientation for words which may be context dependent.  \n",
    "* What dictionary to use and how to calculate your index are more choices that the data scientist needs to make (on top of stop word lists, stemming/lemmatization, vectorizer options, parameter settings, etc.)"
   ]
  },
  {
   "cell_type": "code",
   "execution_count": null,
   "metadata": {
    "collapsed": true
   },
   "outputs": [],
   "source": []
  }
 ],
 "metadata": {
  "anaconda-cloud": {},
  "kernelspec": {
   "display_name": "Python 3",
   "language": "python",
   "name": "python3"
  },
  "language_info": {
   "codemirror_mode": {
    "name": "ipython",
    "version": 3
   },
   "file_extension": ".py",
   "mimetype": "text/x-python",
   "name": "python",
   "nbconvert_exporter": "python",
   "pygments_lexer": "ipython3",
   "version": "3.6.4"
  }
 },
 "nbformat": 4,
 "nbformat_minor": 1
}
