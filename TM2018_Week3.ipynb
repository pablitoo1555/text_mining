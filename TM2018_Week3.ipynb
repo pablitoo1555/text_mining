{
 "cells": [
  {
   "cell_type": "markdown",
   "metadata": {},
   "source": [
    "## Session 3 - Changing the feature space: stopwords, stemming,  POS, n-grams."
   ]
  },
  {
   "cell_type": "markdown",
   "metadata": {},
   "source": [
    "### More notes on tweets versus news:\n",
    "* News outlets have APIs as well.  Here's a list: https://newsapi.org/\n",
    "* Not all Twitter feeds are real people: https://krebsonsecurity.com/2017/08/twitter-bots-use-likes-rts-for-intimidation/"
   ]
  },
  {
   "cell_type": "markdown",
   "metadata": {},
   "source": [
    "### Full disclosure:  lots of what we did last week using scikitlearn, you can do other ways.\n",
    "\n",
    "Another very heavily used package:  NLTK (http://www.nltk.org/)\n",
    "\n",
    "We will use bits of it. If you haven't installed it yet, please do so now.\n"
   ]
  },
  {
   "cell_type": "code",
   "execution_count": 27,
   "metadata": {},
   "outputs": [],
   "source": [
    "# import module(s) into namespace\n",
    "import pandas as pd\n",
    "import numpy as np\n",
    "import requests\n",
    "pd.set_option('display.max_colwidth', 15000) #important for getting all the text\n"
   ]
  },
  {
   "cell_type": "markdown",
   "metadata": {},
   "source": [
    "### What's the optimal feature space?\n",
    "\n",
    "There's no such thing!  It depends on the context of your problem/application.  You will continue to hear \"It depends\"!\n",
    "\n",
    "---there is no absolute optimal. It depends on the task at hand"
   ]
  },
  {
   "cell_type": "markdown",
   "metadata": {},
   "source": [
    "## Let's see what else we need to consider when creating our vector representation\n",
    "\n",
    "In case you want more examples of interesting text:\n",
    "http://avalon.law.yale.edu/"
   ]
  },
  {
   "cell_type": "code",
   "execution_count": 28,
   "metadata": {},
   "outputs": [
    {
     "name": "stdout",
     "output_type": "stream",
     "text": [
      "<class 'bs4.element.Tag'>\n",
      "<class 'bs4.element.ResultSet'>\n"
     ]
    }
   ],
   "source": [
    "from bs4 import BeautifulSoup\n",
    "import requests\n",
    "\n",
    "page = requests.get('http://avalon.law.yale.edu/20th_century/mlk01.asp')\n",
    "\n",
    "soup = BeautifulSoup(page.text, 'lxml')\n",
    "#soup = BeautifulSoup(page.text, 'html5lib') # one of these should work.... \n",
    "\n",
    "\n",
    "thing = soup.p #extract text based on htlm tag and store in an object called \"thing\"\n",
    "print(type(thing))\n",
    "all = thing.find_next_siblings('p')\n",
    "print(type(all))\n"
   ]
  },
  {
   "cell_type": "code",
   "execution_count": 29,
   "metadata": {},
   "outputs": [
    {
     "name": "stdout",
     "output_type": "stream",
     "text": [
      "28\n",
      "<p>This will be the day when all of God's children will be able to sing with a new meaning, \"My country, 'tis of thee, sweet land of liberty, of thee I sing. Land where my fathers died, land of the pilgrim's pride, from every mountainside, let freedom ring.\" </p>\n"
     ]
    }
   ],
   "source": [
    "print(len(all))\n",
    "print(all[20])"
   ]
  },
  {
   "cell_type": "code",
   "execution_count": 30,
   "metadata": {},
   "outputs": [],
   "source": [
    "# ResultSet looks like a list but doesn't have the same properties \n",
    "# Let's change it to something easier\n",
    "\n",
    "\n",
    "speechtext = []\n",
    "for row in all: #row is merely the name of the iterator - it doesn't mean anything.\n",
    "    text = ''.join(row.findAll(text=True)) #picks out all the text and sticks it together with spaces\n",
    "    data = [str(text.strip())] #gets rid of leading and trailing characters\n",
    "    speechtext = speechtext + data #add new item to list"
   ]
  },
  {
   "cell_type": "code",
   "execution_count": 31,
   "metadata": {},
   "outputs": [
    {
     "name": "stdout",
     "output_type": "stream",
     "text": [
      "<class 'list'>\n",
      "28\n",
      "<class 'str'> This will be the day when all of God's children will be able to sing with a new meaning, \"My country, 'tis of thee, sweet land of liberty, of thee I sing. Land where my fathers died, land of the pilgrim's pride, from every mountainside, let freedom ring.\"\n"
     ]
    }
   ],
   "source": [
    "print(type(speechtext))\n",
    "print(len(speechtext))\n",
    "print(type(speechtext[20]), speechtext[20])"
   ]
  },
  {
   "cell_type": "markdown",
   "metadata": {},
   "source": [
    "### Now let's look at a few ways to change our feature space, starting with Stopwords"
   ]
  },
  {
   "cell_type": "code",
   "execution_count": 32,
   "metadata": {},
   "outputs": [
    {
     "name": "stdout",
     "output_type": "stream",
     "text": [
      "<class 'list'>\n",
      "179\n",
      "['i', 'me', 'my', 'myself', 'we', 'our', 'ours', 'ourselves', 'you', \"you're\", \"you've\", \"you'll\", \"you'd\", 'your', 'yours', 'yourself', 'yourselves', 'he', 'him', 'his', 'himself', 'she', \"she's\", 'her', 'hers', 'herself', 'it', \"it's\", 'its', 'itself', 'they', 'them', 'their', 'theirs', 'themselves', 'what', 'which', 'who', 'whom', 'this', 'that', \"that'll\", 'these', 'those', 'am', 'is', 'are', 'was', 'were', 'be', 'been', 'being', 'have', 'has', 'had', 'having', 'do', 'does', 'did', 'doing', 'a', 'an', 'the', 'and', 'but', 'if', 'or', 'because', 'as', 'until', 'while', 'of', 'at', 'by', 'for', 'with', 'about', 'against', 'between', 'into', 'through', 'during', 'before', 'after', 'above', 'below', 'to', 'from', 'up', 'down', 'in', 'out', 'on', 'off', 'over', 'under', 'again', 'further', 'then', 'once', 'here', 'there', 'when', 'where', 'why', 'how', 'all', 'any', 'both', 'each', 'few', 'more', 'most', 'other', 'some', 'such', 'no', 'nor', 'not', 'only', 'own', 'same', 'so', 'than', 'too', 'very', 's', 't', 'can', 'will', 'just', 'don', \"don't\", 'should', \"should've\", 'now', 'd', 'll', 'm', 'o', 're', 've', 'y', 'ain', 'aren', \"aren't\", 'couldn', \"couldn't\", 'didn', \"didn't\", 'doesn', \"doesn't\", 'hadn', \"hadn't\", 'hasn', \"hasn't\", 'haven', \"haven't\", 'isn', \"isn't\", 'ma', 'mightn', \"mightn't\", 'mustn', \"mustn't\", 'needn', \"needn't\", 'shan', \"shan't\", 'shouldn', \"shouldn't\", 'wasn', \"wasn't\", 'weren', \"weren't\", 'won', \"won't\", 'wouldn', \"wouldn't\"]\n"
     ]
    }
   ],
   "source": [
    "#There are many different sets of stopwords\n",
    "# Let's see what's in NLTK\n",
    "\n",
    "from nltk.corpus import stopwords #import the package\n",
    "\n",
    "nltk_stopwords = stopwords.words(\"english\") #pull out the words within the default nltk stopwords list\n",
    "\n",
    "print(type(nltk_stopwords))\n",
    "print(len(nltk_stopwords))\n",
    "print(nltk_stopwords)"
   ]
  },
  {
   "cell_type": "code",
   "execution_count": 33,
   "metadata": {},
   "outputs": [
    {
     "name": "stdout",
     "output_type": "stream",
     "text": [
      "<class 'frozenset'>\n",
      "318\n",
      "frozenset({'amount', 'one', 'among', 'been', 'do', 'himself', 'couldnt', 'per', 'eight', 'someone', 'interest', 'not', 'wherein', 'off', 'its', 'while', 'an', 'across', 'give', 'hasnt', 'i', 'latterly', 'are', 'afterwards', 'thereafter', 'when', 'whenever', 'itself', 'ever', 'nor', 'am', 'down', 'put', 'about', 'become', 'her', 'my', 'nevertheless', 'several', 'due', 'themselves', 'to', 'where', 'beforehand', 'perhaps', 'four', 'becoming', 'thence', 'onto', 'co', 'bill', 'anyway', 'has', 'go', 'now', 'who', 'could', 'found', 'serious', 'system', 'yet', 'only', 'as', 'everyone', 'either', 'it', 'but', 'back', 'third', 'made', 'towards', 'although', 'each', 'bottom', 'that', 'also', 'three', 'full', 'show', 'something', 'thereupon', 'in', 'beyond', 'nothing', 'moreover', 'below', 'herself', 'for', 'mine', 'over', 'whereas', 'besides', 'last', 'ourselves', 'six', 'get', 'might', 'then', 'via', 'can', 'hereby', 'still', 'others', 'is', 'together', 'too', 'very', 'cannot', 'wherever', 'within', 'else', 'less', 'most', 'became', 'into', 'therefore', 'however', 'up', 'first', 'he', 'sometimes', 'beside', 'there', 'almost', 'inc', 'along', 'here', 'hers', 'con', 'further', 'thereby', 'hereafter', 'yours', 'have', 'amoungst', 'ie', 'such', 'whoever', 'thru', 'former', 'his', 'already', 'least', 'were', 'eleven', 'since', 'anyone', 'mostly', 'must', 'none', 'except', 'once', 'whose', 'with', 'was', 'otherwise', 'during', 'before', 'much', 'same', 'even', 'another', 'both', 'indeed', 'any', 'herein', 'no', 'them', 'behind', 'she', 'ltd', 'enough', 'ours', 'or', 'therein', 'well', 'keep', 'please', 'namely', 'yourself', 'sixty', 'thick', 'next', 'take', 'everything', 'at', 'some', 'how', 'find', 'between', 'they', 'me', 'yourselves', 'more', 'why', 'should', 'again', 'every', 'fifteen', 'a', 'fill', 'had', 're', 'seems', 'top', 'out', 'somehow', 'forty', 'the', 'thus', 'many', 'of', 'their', 'upon', 'done', 'through', 'call', 'from', 'nobody', 'sincere', 'alone', 'anything', 'formerly', 'often', 'all', 'part', 'anyhow', 'five', 'ten', 'thin', 'we', 'cant', 'will', 'whom', 'de', 'everywhere', 'would', 'somewhere', 'though', 'may', 'without', 'him', 'few', 'against', 'latter', 'never', 'mill', 'eg', 'us', 'nowhere', 'until', 'nine', 'seemed', 'you', 'own', 'being', 'myself', 'throughout', 'if', 'fifty', 'hereupon', 'hundred', 'rather', 'etc', 'so', 'whence', 'other', 'those', 'under', 'front', 'which', 'empty', 'these', 'your', 'always', 'whether', 'name', 'noone', 'what', 'sometime', 'our', 'whither', 'after', 'whole', 'describe', 'than', 'around', 'be', 'becomes', 'on', 'move', 'above', 'seem', 'seeming', 'cry', 'this', 'un', 'whatever', 'neither', 'anywhere', 'elsewhere', 'two', 'meanwhile', 'see', 'fire', 'side', 'whereafter', 'by', 'detail', 'amongst', 'hence', 'toward', 'twenty', 'whereby', 'twelve', 'because', 'whereupon', 'and'})\n"
     ]
    }
   ],
   "source": [
    "from sklearn.feature_extraction import text #import package\n",
    "\n",
    "skl_stopwords = text.ENGLISH_STOP_WORDS #pull out words in sklearn stopwords list.  Note the different syntax\n",
    "print(type(skl_stopwords))\n",
    "print(len(skl_stopwords))\n",
    "print(skl_stopwords)"
   ]
  },
  {
   "cell_type": "markdown",
   "metadata": {},
   "source": [
    "### Slight aside: data manipulation - lists, sets, and frozensets\n",
    "\n",
    "* **Lists** are just that: lists of comma-separated values (items) between square brackets. Items in a list do *not* need to be the same type.\n",
    "* **Sets** are similar to lists but they cannot have multiple occurances of the same item and they can only contain immutable objects (stuff that doesn't change like strings or numbers). A set is mutable but the contents are not. \n",
    "* **Frozensets** are like sets except that they cannot be changed, i.e. they are immutable.\n",
    "\n",
    "http://www.python-course.eu/python3_sets_frozensets.php - good reference for all the set math we're going to walk through"
   ]
  },
  {
   "cell_type": "code",
   "execution_count": 34,
   "metadata": {},
   "outputs": [
    {
     "name": "stdout",
     "output_type": "stream",
     "text": [
      "['thing', 'blah', 'thing', 12]\n",
      "{'thing', 'blah', 12}\n"
     ]
    }
   ],
   "source": [
    "wordlist = ['thing','blah','thing',12]\n",
    "print(wordlist)\n",
    "wordset = set(wordlist)\n",
    "print(wordset)"
   ]
  },
  {
   "cell_type": "code",
   "execution_count": 35,
   "metadata": {},
   "outputs": [
    {
     "name": "stdout",
     "output_type": "stream",
     "text": [
      "['thing', 'blah', 'thing', 12, ['a', 'b']]\n"
     ]
    },
    {
     "ename": "TypeError",
     "evalue": "unhashable type: 'list'",
     "output_type": "error",
     "traceback": [
      "\u001b[1;31m---------------------------------------------------------------------------\u001b[0m",
      "\u001b[1;31mTypeError\u001b[0m                                 Traceback (most recent call last)",
      "\u001b[1;32m<ipython-input-35-83132dcf301c>\u001b[0m in \u001b[0;36m<module>\u001b[1;34m()\u001b[0m\n\u001b[0;32m      1\u001b[0m \u001b[0mwordlist2\u001b[0m \u001b[1;33m=\u001b[0m \u001b[1;33m[\u001b[0m\u001b[1;34m'thing'\u001b[0m\u001b[1;33m,\u001b[0m\u001b[1;34m'blah'\u001b[0m\u001b[1;33m,\u001b[0m\u001b[1;34m'thing'\u001b[0m\u001b[1;33m,\u001b[0m\u001b[1;36m12\u001b[0m\u001b[1;33m,\u001b[0m \u001b[1;33m[\u001b[0m\u001b[1;34m'a'\u001b[0m\u001b[1;33m,\u001b[0m\u001b[1;34m'b'\u001b[0m\u001b[1;33m]\u001b[0m\u001b[1;33m]\u001b[0m\u001b[1;33m\u001b[0m\u001b[0m\n\u001b[0;32m      2\u001b[0m \u001b[0mprint\u001b[0m\u001b[1;33m(\u001b[0m\u001b[0mwordlist2\u001b[0m\u001b[1;33m)\u001b[0m\u001b[1;33m\u001b[0m\u001b[0m\n\u001b[1;32m----> 3\u001b[1;33m \u001b[0mwordset\u001b[0m \u001b[1;33m=\u001b[0m \u001b[0mset\u001b[0m\u001b[1;33m(\u001b[0m\u001b[0mwordlist2\u001b[0m\u001b[1;33m)\u001b[0m\u001b[1;33m\u001b[0m\u001b[0m\n\u001b[0m\u001b[0;32m      4\u001b[0m \u001b[0mprint\u001b[0m\u001b[1;33m(\u001b[0m\u001b[0mwordset2\u001b[0m\u001b[1;33m)\u001b[0m \u001b[1;31m#yes, throws an error because you included a list as an element\u001b[0m\u001b[1;33m\u001b[0m\u001b[0m\n",
      "\u001b[1;31mTypeError\u001b[0m: unhashable type: 'list'"
     ]
    }
   ],
   "source": [
    "wordlist2 = ['thing','blah','thing',12, ['a','b']]\n",
    "print(wordlist2)\n",
    "wordset = set(wordlist2)\n",
    "print(wordset2) #yes, throws an error because you included a list as an element"
   ]
  },
  {
   "cell_type": "markdown",
   "metadata": {},
   "source": [
    "#### So what?  Well, we might want to be able to manipulate collections of text objects in ways that aren't easy to do in a data frame.\n",
    "\n",
    "For example, what happens if you want to change the stopword list?"
   ]
  },
  {
   "cell_type": "code",
   "execution_count": 36,
   "metadata": {},
   "outputs": [
    {
     "name": "stdout",
     "output_type": "stream",
     "text": [
      "179\n",
      "177\n"
     ]
    }
   ],
   "source": [
    "print(len(nltk_stopwords)) #remember nltk_stopwords is a list\n",
    "nltk_stopwords.remove('before') #we can remove items\n",
    "nltk_stopwords.remove('after')\n",
    "print(len(nltk_stopwords))\n"
   ]
  },
  {
   "cell_type": "code",
   "execution_count": 37,
   "metadata": {},
   "outputs": [
    {
     "ename": "ValueError",
     "evalue": "list.remove(x): x not in list",
     "output_type": "error",
     "traceback": [
      "\u001b[1;31m---------------------------------------------------------------------------\u001b[0m",
      "\u001b[1;31mValueError\u001b[0m                                Traceback (most recent call last)",
      "\u001b[1;32m<ipython-input-37-7fdf7d3ad9a8>\u001b[0m in \u001b[0;36m<module>\u001b[1;34m()\u001b[0m\n\u001b[1;32m----> 1\u001b[1;33m \u001b[0mnltk_stopwords\u001b[0m\u001b[1;33m.\u001b[0m\u001b[0mremove\u001b[0m\u001b[1;33m(\u001b[0m\u001b[1;34m'blue'\u001b[0m\u001b[1;33m)\u001b[0m \u001b[1;31m#but only if they are there.  Lists don't handle these errors well\u001b[0m\u001b[1;33m\u001b[0m\u001b[0m\n\u001b[0m",
      "\u001b[1;31mValueError\u001b[0m: list.remove(x): x not in list"
     ]
    }
   ],
   "source": [
    "nltk_stopwords.remove('blue') #but only if they are there.  Lists don't handle these errors well"
   ]
  },
  {
   "cell_type": "code",
   "execution_count": 38,
   "metadata": {},
   "outputs": [
    {
     "name": "stdout",
     "output_type": "stream",
     "text": [
      "179\n",
      "177\n"
     ]
    }
   ],
   "source": [
    "# sets have methods that are more forgiving\n",
    "\n",
    "# sets can be more forgiving than lists\n",
    "nltk_stopwords = stopwords.words(\"english\")\n",
    "nltk_stopwords_set = set(nltk_stopwords) #convert the list into a set\n",
    "\n",
    "print(len(nltk_stopwords_set))\n",
    "keepwords = set(['before', 'after','blue'])\n",
    "my_stopwords = nltk_stopwords_set.difference(keepwords) #only retains common words across both objects\n",
    "print(len(my_stopwords))\n",
    "\n",
    "\n",
    "\n"
   ]
  },
  {
   "cell_type": "code",
   "execution_count": 39,
   "metadata": {},
   "outputs": [
    {
     "name": "stdout",
     "output_type": "stream",
     "text": [
      "179\n",
      "177\n"
     ]
    }
   ],
   "source": [
    "# you can use \"subtraction\" to do the same thing\n",
    "\n",
    "print(len(nltk_stopwords_set))\n",
    "keepwords = set(['before', 'after','blue'])\n",
    "my_stopwords = nltk_stopwords_set - keepwords\n",
    "print(len(my_stopwords))"
   ]
  },
  {
   "cell_type": "code",
   "execution_count": 40,
   "metadata": {},
   "outputs": [
    {
     "name": "stdout",
     "output_type": "stream",
     "text": [
      "<class 'set'> 179\n",
      "<class 'set'> 318\n"
     ]
    }
   ],
   "source": [
    "#We can use sets to do intersections and unions\n",
    "#Create two sets to work with\n",
    "\n",
    "set_a = set(nltk_stopwords) # create a set object from a list\n",
    "print(type(set_a), len(set_a))\n",
    "\n",
    "\n",
    "set_b = set(skl_stopwords) # create a set object from a list\n",
    "print(type(set_b), len(set_b))"
   ]
  },
  {
   "cell_type": "code",
   "execution_count": 41,
   "metadata": {},
   "outputs": [
    {
     "name": "stdout",
     "output_type": "stream",
     "text": [
      "<class 'set'> 119\n",
      "{'been', 'do', 'himself', 'not', 'off', 'its', 'while', 'i', 'an', 'when', 'are', 'itself', 'nor', 'which', 'am', 'down', 'about', 'her', 'my', 'to', 'themselves', 'where', 'has', 'now', 'who', 'only', 'as', 'it', 'but', 'each', 'that', 'in', 'below', 'herself', 'for', 'over', 'ourselves', 'then', 'can', 'is', 'too', 'very', 'most', 'into', 'up', 'he', 'there', 'here', 'hers', 'further', 'have', 'such', 'were', 'his', 'once', 'was', 'during', 'before', 'same', 'both', 'any', 'no', 'them', 'she', 'ours', 'or', 'yourself', 'some', 'at', 'how', 'they', 'between', 'me', 'yourselves', 'more', 'why', 'should', 'again', 'had', 'a', 're', 'out', 'the', 'yours', 'with', 'their', 'of', 'through', 'from', 'will', 'all', 'we', 'whom', 'him', 'few', 'against', 'you', 'until', 'own', 'myself', 'being', 'if', 'so', 'those', 'other', 'under', 'these', 'your', 'what', 'our', 'after', 'than', 'be', 'on', 'above', 'this', 'by', 'because', 'and'}\n"
     ]
    }
   ],
   "source": [
    "#Find the intersection of our two sets and show the results\n",
    "set_c = set(set_a).intersection(set_b)\n",
    "print(type(set_c), len(set_c))\n",
    "print(set_c)"
   ]
  },
  {
   "cell_type": "code",
   "execution_count": 42,
   "metadata": {},
   "outputs": [
    {
     "name": "stdout",
     "output_type": "stream",
     "text": [
      "60 {'aren', 'won', 'm', 'having', \"wouldn't\", 'shouldn', \"mustn't\", \"hasn't\", \"shouldn't\", \"haven't\", \"that'll\", \"shan't\", \"it's\", 'don', 'just', \"hadn't\", \"weren't\", 'y', 't', 'wasn', \"aren't\", 'isn', 'didn', 'd', \"you'd\", 'doesn', 'needn', 'mustn', \"wasn't\", 's', 'did', 'shan', \"didn't\", 'weren', 'o', 'll', 'ain', \"she's\", 'wouldn', \"mightn't\", \"you'll\", \"won't\", \"couldn't\", 'couldn', \"don't\", \"needn't\", 'haven', \"you've\", 'theirs', \"should've\", 've', \"doesn't\", 'mightn', 'hadn', 'ma', 'hasn', 'doing', \"you're\", 'does', \"isn't\"}\n"
     ]
    }
   ],
   "source": [
    "#maybe you want to see which words are coming from each set\n",
    "#you can start with your original set and then subtract the terms common in both sets\n",
    "only_nltk = set_a - set_c\n",
    "print(len(only_nltk), only_nltk)"
   ]
  },
  {
   "cell_type": "code",
   "execution_count": 43,
   "metadata": {},
   "outputs": [
    {
     "name": "stdout",
     "output_type": "stream",
     "text": [
      "199 {'amount', 'one', 'among', 'per', 'someone', 'couldnt', 'eight', 'interest', 'wherein', 'across', 'give', 'thereafter', 'hasnt', 'latterly', 'whenever', 'afterwards', 'ever', 'put', 'several', 'become', 'nevertheless', 'due', 'beforehand', 'perhaps', 'four', 'becoming', 'thence', 'onto', 'co', 'bill', 'anyway', 'go', 'could', 'found', 'serious', 'system', 'yet', 'everyone', 'either', 'third', 'back', 'towards', 'made', 'although', 'bottom', 'three', 'also', 'show', 'something', 'thereupon', 'beyond', 'nothing', 'moreover', 'mine', 'besides', 'last', 'six', 'get', 'might', 'via', 'hereby', 'still', 'others', 'within', 'together', 'wherever', 'cannot', 'less', 'else', 'became', 'therefore', 'however', 'first', 'sometimes', 'beside', 'almost', 'inc', 'along', 'con', 'thereby', 'hereafter', 'amoungst', 'ie', 'whoever', 'thru', 'former', 'least', 'already', 'eleven', 'since', 'whose', 'anyone', 'mostly', 'none', 'except', 'must', 'otherwise', 'much', 'even', 'another', 'indeed', 'herein', 'behind', 'ltd', 'enough', 'therein', 'well', 'keep', 'please', 'namely', 'sixty', 'thick', 'next', 'take', 'everything', 'find', 'every', 'us', 'fifteen', 'whereas', 'fill', 'seems', 'top', 'somehow', 'thus', 'forty', 'upon', 'many', 'done', 'call', 'nobody', 'sincere', 'alone', 'part', 'ten', 'often', 'anything', 'formerly', 'anyhow', 'five', 'thin', 'cant', 'de', 'everywhere', 'would', 'somewhere', 'though', 'without', 'may', 'latter', 'never', 'mill', 'eg', 'nowhere', 'nine', 'seemed', 'throughout', 'rather', 'fifty', 'hereupon', 'hundred', 'etc', 'whence', 'front', 'empty', 'always', 'whether', 'name', 'noone', 'sometime', 'whither', 'whole', 'describe', 'around', 'becomes', 'move', 'seeming', 'seem', 'cry', 'un', 'whatever', 'neither', 'elsewhere', 'two', 'anywhere', 'see', 'meanwhile', 'side', 'fire', 'whereafter', 'twenty', 'amongst', 'detail', 'hence', 'whereby', 'toward', 'twelve', 'full', 'whereupon'}\n"
     ]
    }
   ],
   "source": [
    "only_skl = set_b - set_c\n",
    "print(len(only_skl), only_skl)"
   ]
  },
  {
   "cell_type": "code",
   "execution_count": 44,
   "metadata": {},
   "outputs": [
    {
     "name": "stdout",
     "output_type": "stream",
     "text": [
      "177\n",
      "179\n"
     ]
    }
   ],
   "source": [
    "#combining sets\n",
    "print(len(my_stopwords))\n",
    "another_set = set(['tis','thee'])\n",
    "my_stopwords.update(another_set) #adds another_set to existing my_stopwords object\n",
    "print(len(my_stopwords))\n",
    "\n",
    "#there is no parallel \"+\" construct in Python 3 "
   ]
  },
  {
   "cell_type": "markdown",
   "metadata": {},
   "source": [
    "## Alright, enough set math...\n",
    "It's important to understand how you can manipulate some of the objects you'll be working with\n",
    "As always, the defaults represent a good starting point, but rarely give you the results you're looking for"
   ]
  },
  {
   "cell_type": "markdown",
   "metadata": {},
   "source": [
    "### Let's go back to our vectorizors and see how different stopword lists affect  the shape of our feature space"
   ]
  },
  {
   "cell_type": "code",
   "execution_count": 45,
   "metadata": {},
   "outputs": [
    {
     "name": "stdout",
     "output_type": "stream",
     "text": [
      "(28, 412)\n"
     ]
    }
   ],
   "source": [
    "#first, let's use the default english stopwords list\n",
    "from sklearn.feature_extraction.text import TfidfVectorizer\n",
    "\n",
    "tf_none = TfidfVectorizer(binary=False, stop_words = \"english\") #define the method\n",
    "none_dm = tf_none.fit_transform(speechtext) #apply the method\n",
    "\n",
    "print(none_dm.shape)\n"
   ]
  },
  {
   "cell_type": "code",
   "execution_count": 46,
   "metadata": {},
   "outputs": [
    {
     "name": "stdout",
     "output_type": "stream",
     "text": [
      "['able', 'ago', 'ahead', 'alabama', 'alleghenies', 'allow', 'almighty', 'america', 'american', 'appalling', 'architects', 'areas', 'asking', 'autumn', 'awakening', 'bad', 'bank', 'bankrupt', 'basic', 'battered', 'beacon', 'beautiful', 'beginning', 'believe', 'believes', 'bitterness', 'black', 'blow', 'bodies', 'bound', 'boys', 'bright', 'brotherhood', 'brothers', 'brutality', 'business', 'california', 'came', 'capital', 'captivity', 'cash', 'catholics', 'cells', 'chains', 'changed', 'character', 'check', 'children', 'cities', 'citizens', 'citizenship', 'city', 'civil', 'color', 'colorado', 'come', 'community', 'concerned', 'condition', 'conduct', 'constitution', 'content', 'continue', 'cooling', 'corners', 'country', 'created', 'creative', 'creed', 'crippled', 'crooked', 'cup', 'curvaceous', 'dark', 'day', 'daybreak', 'declaration', 'decree', 'deeds', 'deeply', 'defaulted', 'degenerate', 'demand', 'desert', 'desolate', 'despair', 'destiny', 'determination', 'devotees', 'died', 'difficulties', 'dignity', 'discipline', 'discontent', 'discords', 'discrimination', 'distrust', 'doors', 'dramatize', 'dream', 'drinking', 'dripping', 'drug', 'emancipation', 'emerges', 'end', 'engage', 'engulfed', 'equal', 'equality', 'evidenced', 'evident', 'exalted', 'exile', 'face', 'fact', 'faith', 'fall', 'fatal', 'fathers', 'fatigue', 'fierce', 'finds', 'flames', 'flesh', 'force', 'forever', 'foundations', 'free', 'freedom', 'fresh', 'friends', 'frustrations', 'funds', 'gain', 'gaining', 'gentiles', 'georgia', 'ghetto', 'ghettos', 'girls', 'given', 'glory', 'god', 'governor', 'gradualism', 'granted', 'great', 'guaranteed', 'guilty', 'hallowed', 'hamlet', 'hampshire', 'hands', 'happiness', 'hatred', 'heat', 'heavy', 'heightening', 'heights', 'heir', 'hew', 'high', 'highways', 'hill', 'hills', 'hilltops', 'hold', 'honoring', 'hope', 'hotels', 'inalienable', 'independence', 'inextricably', 'injustice', 'insofar', 'instead', 'insufficient', 'interposition', 'invigorating', 'island', 'jail', 'jangling', 'jews', 'join', 'joyous', 'judged', 'justice', 'knowing', 'land', 'languishing', 'larger', 'later', 'lead', 'leads', 'left', 'legitimate', 'let', 'liberty', 'life', 'lift', 'light', 'like', 'lips', 'little', 'live', 'lives', 'lodging', 'lonely', 'long', 'lookout', 'lord', 'louisiana', 'low', 'luxury', 'magnificent', 'majestic', 'make', 'manacles', 'march', 'marked', 'marvelous', 'material', 'meaning', 'meeting', 'men', 'midst', 'mighty', 'militancy', 'millions', 'mississippi', 'mobility', 'molehill', 'moment', 'momentous', 'motels', 'mountain', 'mountains', 'mountainside', 'narrow', 'nation', 'needed', 'negro', 'new', 'night', 'nineteen', 'northern', 'note', 'nullification', 'oasis', 'obligation', 'obvious', 'ocean', 'old', 'open', 'opportunity', 'oppression', 'overlook', 'palace', 'pass', 'path', 'peaks', 'pennsylvania', 'people', 'persecution', 'physical', 'pilgrim', 'place', 'places', 'plain', 'plane', 'pledge', 'police', 'poverty', 'pray', 'presence', 'presently', 'pride', 'process', 'proclamation', 'prodigious', 'promise', 'promissory', 'prosperity', 'protest', 'protestants', 'pursuit', 'quest', 'quicksands', 'racial', 'realize', 'red', 'redemptive', 'refuse', 'remind', 'republic', 'rest', 'return', 'returns', 'revealed', 'revolt', 'riches', 'righteousness', 'rightful', 'rights', 'ring', 'rise', 'rock', 'rockies', 'rolls', 'rooted', 'rough', 'rude', 'sacred', 'sadly', 'satisfied', 'satisfy', 'say', 'score', 'seared', 'security', 'seek', 'segregation', 'self', 'sense', 'shadow', 'shake', 'shall', 'signed', 'signing', 'sing', 'sisters', 'sit', 'situation', 'skin', 'slaveowners', 'slaves', 'slums', 'smaller', 'snowcapped', 'society', 'solid', 'sons', 'soul', 'south', 'speed', 'spiritual', 'spite', 'spot', 'staggered', 'stand', 'state', 'steam', 'stone', 'storms', 'straight', 'stream', 'struggle', 'suffering', 'summer', 'sunlit', 'sweet', 'sweltering', 'symbolic', 'symphony', 'table', 'tennessee', 'thank', 'thee', 'thirst', 'threshold', 'tied', 'time', 'tis', 'today', 'tragic', 'tranquility', 'tranquilizing', 'transform', 'transformed', 'travel', 'trials', 'tribulations', 'true', 'truths', 'turn', 'underestimate', 'unearned', 'unmindful', 'urgency', 'usual', 'valley', 'vast', 'vaults', 'veterans', 'village', 'violence', 'vote', 'walk', 'wallow', 'warm', 'waters', 'whirlwinds', 'white', 'winds', 'withering', 'words', 'work', 'wrongful', 'wrote', 'years', 'york']\n"
     ]
    }
   ],
   "source": [
    "print(tf_none.get_feature_names())"
   ]
  },
  {
   "cell_type": "code",
   "execution_count": 47,
   "metadata": {},
   "outputs": [
    {
     "name": "stdout",
     "output_type": "stream",
     "text": [
      "(28, 443)\n"
     ]
    }
   ],
   "source": [
    "#next, let's use our custom stopwords list.\n",
    "tf_none = TfidfVectorizer(binary=False, stop_words = my_stopwords) #define the method\n",
    "none_dm = tf_none.fit_transform(speechtext) #apply the method\n",
    "print(none_dm.shape)\n",
    "\n",
    "#remember, my_stopwords started as nltk stopwords and then we removed before & after and added tis & thee"
   ]
  },
  {
   "cell_type": "code",
   "execution_count": 48,
   "metadata": {},
   "outputs": [
    {
     "name": "stdout",
     "output_type": "stream",
     "text": [
      "['able', 'ago', 'ahead', 'alabama', 'alleghenies', 'allow', 'almighty', 'alone', 'also', 'america', 'american', 'appalling', 'architects', 'areas', 'asking', 'autumn', 'awakening', 'back', 'bad', 'bank', 'bankrupt', 'basic', 'battered', 'beacon', 'beautiful', 'become', 'beginning', 'believe', 'believes', 'bitterness', 'black', 'blow', 'bodies', 'bound', 'boys', 'bright', 'brotherhood', 'brothers', 'brutality', 'business', 'california', 'came', 'cannot', 'capital', 'captivity', 'cash', 'catholics', 'cells', 'chains', 'changed', 'character', 'check', 'children', 'cities', 'citizens', 'citizenship', 'city', 'civil', 'color', 'colorado', 'come', 'community', 'concerned', 'condition', 'conduct', 'constitution', 'content', 'continue', 'cooling', 'corners', 'country', 'created', 'creative', 'creed', 'crippled', 'crooked', 'cup', 'curvaceous', 'dark', 'day', 'daybreak', 'declaration', 'decree', 'deeds', 'deeply', 'defaulted', 'degenerate', 'demand', 'desert', 'desolate', 'despair', 'destiny', 'determination', 'devotees', 'died', 'difficulties', 'dignity', 'discipline', 'discontent', 'discords', 'discrimination', 'distrust', 'doors', 'dramatize', 'dream', 'drinking', 'dripping', 'drug', 'emancipation', 'emerges', 'end', 'engage', 'engulfed', 'equal', 'equality', 'even', 'every', 'evidenced', 'evident', 'exalted', 'exile', 'face', 'fact', 'faith', 'fall', 'fatal', 'fathers', 'fatigue', 'fierce', 'finds', 'five', 'flames', 'flesh', 'force', 'forever', 'former', 'foundations', 'four', 'free', 'freedom', 'fresh', 'friends', 'frustrations', 'funds', 'gain', 'gaining', 'gentiles', 'georgia', 'ghetto', 'ghettos', 'girls', 'give', 'given', 'glory', 'go', 'god', 'governor', 'gradualism', 'granted', 'great', 'guaranteed', 'guilty', 'hallowed', 'hamlet', 'hampshire', 'hands', 'happiness', 'hatred', 'heat', 'heavy', 'heightening', 'heights', 'heir', 'hew', 'high', 'highways', 'hill', 'hills', 'hilltops', 'hold', 'honoring', 'hope', 'hotels', 'hundred', 'inalienable', 'independence', 'inextricably', 'injustice', 'insofar', 'instead', 'insufficient', 'interposition', 'invigorating', 'island', 'jail', 'jangling', 'jews', 'join', 'joyous', 'judged', 'justice', 'knowing', 'land', 'languishing', 'larger', 'last', 'later', 'lead', 'leads', 'left', 'legitimate', 'let', 'liberty', 'life', 'lift', 'light', 'like', 'lips', 'little', 'live', 'lives', 'lodging', 'lonely', 'long', 'lookout', 'lord', 'louisiana', 'low', 'luxury', 'made', 'magnificent', 'majestic', 'make', 'manacles', 'many', 'march', 'marked', 'marvelous', 'material', 'meaning', 'meeting', 'men', 'midst', 'mighty', 'militancy', 'millions', 'mississippi', 'mobility', 'molehill', 'moment', 'momentous', 'motels', 'mountain', 'mountains', 'mountainside', 'must', 'narrow', 'nation', 'needed', 'negro', 'neither', 'never', 'new', 'night', 'nineteen', 'northern', 'note', 'nothing', 'nullification', 'oasis', 'obligation', 'obvious', 'ocean', 'old', 'one', 'open', 'opportunity', 'oppression', 'overlook', 'palace', 'pass', 'path', 'peaks', 'pennsylvania', 'people', 'persecution', 'physical', 'pilgrim', 'place', 'places', 'plain', 'plane', 'pledge', 'police', 'poverty', 'pray', 'presence', 'presently', 'pride', 'process', 'proclamation', 'prodigious', 'promise', 'promissory', 'prosperity', 'protest', 'protestants', 'pursuit', 'quest', 'quicksands', 'racial', 'realize', 'red', 'redemptive', 'refuse', 'remind', 'republic', 'rest', 'return', 'returns', 'revealed', 'revolt', 'riches', 'righteousness', 'rightful', 'rights', 'ring', 'rise', 'rock', 'rockies', 'rolls', 'rooted', 'rough', 'rude', 'sacred', 'sadly', 'satisfied', 'satisfy', 'say', 'score', 'seared', 'security', 'see', 'seek', 'segregation', 'self', 'sense', 'shadow', 'shake', 'shall', 'signed', 'signing', 'sing', 'sisters', 'sit', 'situation', 'sixty', 'skin', 'slaveowners', 'slaves', 'slums', 'smaller', 'snowcapped', 'society', 'solid', 'somehow', 'something', 'sons', 'soul', 'south', 'speed', 'spiritual', 'spite', 'spot', 'staggered', 'stand', 'state', 'steam', 'still', 'stone', 'storms', 'straight', 'stream', 'struggle', 'suffering', 'summer', 'sunlit', 'sweet', 'sweltering', 'symbolic', 'symphony', 'table', 'take', 'tennessee', 'thank', 'thirst', 'three', 'threshold', 'tied', 'time', 'today', 'together', 'tragic', 'tranquility', 'tranquilizing', 'transform', 'transformed', 'travel', 'trials', 'tribulations', 'true', 'truths', 'turn', 'underestimate', 'unearned', 'unmindful', 'upon', 'urgency', 'us', 'usual', 'valley', 'vast', 'vaults', 'veterans', 'village', 'violence', 'vote', 'walk', 'wallow', 'warm', 'waters', 'whirlwinds', 'white', 'whose', 'winds', 'withering', 'words', 'work', 'would', 'wrongful', 'wrote', 'years', 'york']\n"
     ]
    }
   ],
   "source": [
    "print(tf_none.get_feature_names())\n"
   ]
  },
  {
   "cell_type": "code",
   "execution_count": 49,
   "metadata": {},
   "outputs": [
    {
     "name": "stdout",
     "output_type": "stream",
     "text": [
      "174\n"
     ]
    }
   ],
   "source": [
    "# you can define stopword lists directly (or as a set)\n",
    "# maybe you like the stopwords in R\n",
    "r_stopwords = ['i', 'me', 'my', 'myself', 'we', 'our', 'ours', 'ourselves', 'you', 'your', 'yours', 'yourself', \n",
    "               'yourselves', 'he', 'him', 'his', 'himself', 'she', 'her', 'hers', 'herself', 'it', 'its', 'itself', \n",
    "               'they', 'them', 'their', 'theirs', 'themselves', 'what', 'which', 'who', 'whom', 'this', 'that', \n",
    "               'these', 'those', 'am', 'is', 'are', 'was', 'were', 'be', 'been', 'being', 'have', 'has', 'had', \n",
    "               'having', 'do', 'does', 'did', 'doing', 'would', 'should', 'could', 'ought', \"i'm\", \"you're\", \"he's\",\n",
    "               \"she's\", \"it's\", \"we're\", \"they're\", \"i've\", \"you've\", \"we've\", \"they've\", \"i'd\", \"you'd\", \"he'd\", \n",
    "               \"she'd\", \"we'd\", \"they'd\", \"i'll\", \"you'll\", \"he'll\", \"she'll\", \"we'll\", \"they'll\", \"isn't\", \"aren't\", \n",
    "               \"wasn't\", \"weren't\", \"hasn't\", \"haven't\", \"hadn't\", \"doesn't\", \"don't\", \"didn't\", \"won't\", \"wouldn't\", \n",
    "               \"shan't\", \"shouldn't\", \"can't\", 'cannot', \"couldn't\", \"mustn't\", \"let's\", \"that's\", \"who's\", \"what's\", \n",
    "               \"here's\", \"there's\", \"when's\", \"where's\", \"why's\", \"how's\", 'a', 'an', 'the', 'and', 'but', 'if', 'or', \n",
    "               'because', 'as', 'until', 'while', 'of', 'at', 'by', 'for', 'with', 'about', 'against', 'between', \n",
    "               'into', 'through', 'during', 'before', 'after', 'above', 'below', 'to', 'from', 'up', 'down', 'in', \n",
    "               'out', 'on', 'off', 'over', 'under', 'again', 'further', 'then', 'once', 'here', 'there', 'when', 'where', \n",
    "               'why', 'how', 'all', 'any', 'both', 'each', 'few', 'more', 'most', 'other', 'some', 'such', 'no', 'nor', \n",
    "               'not', 'only', 'own', 'same', 'so', 'than', 'too', 'very']\n",
    "print(len(r_stopwords))"
   ]
  },
  {
   "cell_type": "code",
   "execution_count": 50,
   "metadata": {},
   "outputs": [
    {
     "name": "stdout",
     "output_type": "stream",
     "text": [
      "<class 'list'> 319\n"
     ]
    }
   ],
   "source": [
    "# or maybe you want to add to an existing stopword list\n",
    "my_stopwords = list(skl_stopwords) + [\"RT\"]\n",
    "print(type(my_stopwords), len(my_stopwords))"
   ]
  },
  {
   "cell_type": "markdown",
   "metadata": {},
   "source": [
    "### Let's look at a few more examples of how stopwords affect our feature space"
   ]
  },
  {
   "cell_type": "code",
   "execution_count": 51,
   "metadata": {},
   "outputs": [
    {
     "name": "stdout",
     "output_type": "stream",
     "text": [
      "(28, 512)\n"
     ]
    }
   ],
   "source": [
    "#Create a base line feature space\n",
    "from sklearn.feature_extraction.text import TfidfVectorizer\n",
    "\n",
    "tf_none = TfidfVectorizer(binary=False, min_df = .01, max_df = .95) #define the method\n",
    "none_dm = tf_none.fit_transform(speechtext) #apply the method\n",
    "\n",
    "print(none_dm.shape)"
   ]
  },
  {
   "cell_type": "code",
   "execution_count": 52,
   "metadata": {},
   "outputs": [
    {
     "name": "stdout",
     "output_type": "stream",
     "text": [
      "(28, 412)\n"
     ]
    }
   ],
   "source": [
    "#Remove deafult sklearn stopwords \n",
    "tf_skl = TfidfVectorizer(binary=False, stop_words='english', min_df = .01, max_df = .95) \n",
    "skl_dm = tf_skl.fit_transform(speechtext)\n",
    "\n",
    "print(skl_dm.shape)\n",
    "skl_features = tf_skl.get_feature_names()"
   ]
  },
  {
   "cell_type": "code",
   "execution_count": 53,
   "metadata": {},
   "outputs": [
    {
     "name": "stdout",
     "output_type": "stream",
     "text": [
      "(28, 445)\n"
     ]
    }
   ],
   "source": [
    "#remove the default nltk stopwrods\n",
    "#remember, nltk_stopwords is an object we created\n",
    "tf_nltk = TfidfVectorizer(binary=False, stop_words=nltk_stopwords, min_df = .01, max_df = .95) \n",
    "nltk_dm = tf_nltk.fit_transform(speechtext)\n",
    "\n",
    "print(nltk_dm.shape)\n"
   ]
  },
  {
   "cell_type": "code",
   "execution_count": 54,
   "metadata": {},
   "outputs": [
    {
     "name": "stdout",
     "output_type": "stream",
     "text": [
      "(28, 412)\n"
     ]
    }
   ],
   "source": [
    "#remove our custom stopwords\n",
    "#remember, we switched my_stopwods to be basaed on sklearn's list when we added \"RT\"\n",
    "tf_my = TfidfVectorizer(binary=False, stop_words=my_stopwords, min_df = .01, max_df = .95) \n",
    "my_dm = tf_my.fit_transform(speechtext)\n",
    "\n",
    "print(my_dm.shape)\n"
   ]
  },
  {
   "cell_type": "code",
   "execution_count": 55,
   "metadata": {},
   "outputs": [
    {
     "data": {
      "text/plain": [
       "set()"
      ]
     },
     "execution_count": 55,
     "metadata": {},
     "output_type": "execute_result"
    }
   ],
   "source": [
    "#Spot checking 412 features is no fun, but set math can tell us the features are the same\n",
    "tf_set = set(tf_my.get_feature_names())\n",
    "my_set = set(tf_skl.get_feature_names())\n",
    "\n",
    "difference = tf_set - my_set\n",
    "difference"
   ]
  },
  {
   "cell_type": "markdown",
   "metadata": {},
   "source": [
    "# ______\n",
    "### Time for some hands on (10-15 minutes)\n",
    "Break up into pairs and practice modifying stopwords lists.\n",
    "\n",
    "1) Choose one of the default stop words lists and inspect its contents\n",
    "\n",
    "2) Compare it against the stopwords you see in the speech text\n",
    "\n",
    "3) Based on the comparison, select 3 terms to add & 3 terms to remove to customize your stopwords list\n",
    "\n",
    "4) Insert your custom list into the vectorizer above so we can compare it against our baseline\n",
    "\n",
    "# ______"
   ]
  },
  {
   "cell_type": "code",
   "execution_count": 74,
   "metadata": {},
   "outputs": [
    {
     "name": "stdout",
     "output_type": "stream",
     "text": [
      "<class 'frozenset'>\n",
      "318\n",
      "frozenset({'amount', 'one', 'among', 'been', 'do', 'himself', 'couldnt', 'per', 'eight', 'someone', 'interest', 'not', 'wherein', 'off', 'its', 'while', 'an', 'across', 'give', 'hasnt', 'i', 'latterly', 'are', 'afterwards', 'thereafter', 'when', 'whenever', 'itself', 'ever', 'nor', 'am', 'down', 'put', 'about', 'become', 'her', 'my', 'nevertheless', 'several', 'due', 'themselves', 'to', 'where', 'beforehand', 'perhaps', 'four', 'becoming', 'thence', 'onto', 'co', 'bill', 'anyway', 'has', 'go', 'now', 'who', 'could', 'found', 'serious', 'system', 'yet', 'only', 'as', 'everyone', 'either', 'it', 'but', 'back', 'third', 'made', 'towards', 'although', 'each', 'bottom', 'that', 'also', 'three', 'full', 'show', 'something', 'thereupon', 'in', 'beyond', 'nothing', 'moreover', 'below', 'herself', 'for', 'mine', 'over', 'whereas', 'besides', 'last', 'ourselves', 'six', 'get', 'might', 'then', 'via', 'can', 'hereby', 'still', 'others', 'is', 'together', 'too', 'very', 'cannot', 'wherever', 'within', 'else', 'less', 'most', 'became', 'into', 'therefore', 'however', 'up', 'first', 'he', 'sometimes', 'beside', 'there', 'almost', 'inc', 'along', 'here', 'hers', 'con', 'further', 'thereby', 'hereafter', 'yours', 'have', 'amoungst', 'ie', 'such', 'whoever', 'thru', 'former', 'his', 'already', 'least', 'were', 'eleven', 'since', 'anyone', 'mostly', 'must', 'none', 'except', 'once', 'whose', 'with', 'was', 'otherwise', 'during', 'before', 'much', 'same', 'even', 'another', 'both', 'indeed', 'any', 'herein', 'no', 'them', 'behind', 'she', 'ltd', 'enough', 'ours', 'or', 'therein', 'well', 'keep', 'please', 'namely', 'yourself', 'sixty', 'thick', 'next', 'take', 'everything', 'at', 'some', 'how', 'find', 'between', 'they', 'me', 'yourselves', 'more', 'why', 'should', 'again', 'every', 'fifteen', 'a', 'fill', 'had', 're', 'seems', 'top', 'out', 'somehow', 'forty', 'the', 'thus', 'many', 'of', 'their', 'upon', 'done', 'through', 'call', 'from', 'nobody', 'sincere', 'alone', 'anything', 'formerly', 'often', 'all', 'part', 'anyhow', 'five', 'ten', 'thin', 'we', 'cant', 'will', 'whom', 'de', 'everywhere', 'would', 'somewhere', 'though', 'may', 'without', 'him', 'few', 'against', 'latter', 'never', 'mill', 'eg', 'us', 'nowhere', 'until', 'nine', 'seemed', 'you', 'own', 'being', 'myself', 'throughout', 'if', 'fifty', 'hereupon', 'hundred', 'rather', 'etc', 'so', 'whence', 'other', 'those', 'under', 'front', 'which', 'empty', 'these', 'your', 'always', 'whether', 'name', 'noone', 'what', 'sometime', 'our', 'whither', 'after', 'whole', 'describe', 'than', 'around', 'be', 'becomes', 'on', 'move', 'above', 'seem', 'seeming', 'cry', 'this', 'un', 'whatever', 'neither', 'anywhere', 'elsewhere', 'two', 'meanwhile', 'see', 'fire', 'side', 'whereafter', 'by', 'detail', 'amongst', 'hence', 'toward', 'twenty', 'whereby', 'twelve', 'because', 'whereupon', 'and'})\n",
      "\n",
      "<p>This will be the day when all of God's children will be able to sing with a new meaning, \"My country, 'tis of thee, sweet land of liberty, of thee I sing. Land where my fathers died, land of the pilgrim's pride, from every mountainside, let freedom ring.\" </p>\n",
      "skl_stopwords = 318\n",
      "add 3 words, stop list count is now 321\n",
      "removed 1, stop list count is now 320\n",
      "removed 1, stop list count is now 319\n",
      "removed 1, stop list count is now 318\n"
     ]
    }
   ],
   "source": [
    "skl_stopwords = text.ENGLISH_STOP_WORDS #pull out words in sklearn stopwords list.  Note the different syntax\n",
    "print(type(skl_stopwords))\n",
    "print(len(skl_stopwords))\n",
    "print(skl_stopwords)\n",
    "\n",
    "print()\n",
    "print(all[20])\n",
    "\n",
    "print('skl_stopwords =' ,len(text.ENGLISH_STOP_WORDS))\n",
    "my_stopwords = list(text.ENGLISH_STOP_WORDS) + [\"tis\", \"thee\", \"let\"]\n",
    "print('add 3 words, stop list count is now' , len(my_stopwords))\n",
    "\n",
    "my_stopwords.remove(\"bill\")\n",
    "print('removed 1, stop list count is now' , len(my_stopwords))\n",
    "my_stopwords.remove(\"ltd\")\n",
    "print('removed 1, stop list count is now' , len(my_stopwords))\n",
    "my_stopwords.remove(\"ie\")\n",
    "print('removed 1, stop list count is now' , len(my_stopwords))"
   ]
  },
  {
   "cell_type": "markdown",
   "metadata": {},
   "source": [
    "## Shifting gears... Let's talk about another way to manipulate your feature space\n",
    "### Stemming"
   ]
  },
  {
   "cell_type": "markdown",
   "metadata": {},
   "source": [
    "Lemmatization (and stemming) can sometimes be helpful. By reducing words to their root form or counting only the headword, vector space models that account for frequency will result in fewer dimensions and greater element wise values.\n",
    "\n",
    "See http://nlp.stanford.edu/IR-book/html/htmledition/stemming-and-lemmatization-1.html\n",
    "\n",
    "http://textminingonline.com/dive-into-nltk-part-iv-stemming-and-lemmatization\n",
    "\n",
    "Online: http://text-processing.com/demo/stem/"
   ]
  },
  {
   "cell_type": "code",
   "execution_count": 76,
   "metadata": {},
   "outputs": [
    {
     "name": "stdout",
     "output_type": "stream",
     "text": [
      "['maximum', 'presumably', 'multiply', 'provision', 'churches', 'owed', 'ear', 'saying', 'crying', 'string', 'meant', 'cement', 'is', 'are', 'aardwolves']\n"
     ]
    }
   ],
   "source": [
    "testlist = [\"maximum\",\"presumably\", \"multiply\",\"provision\", \"churches\",\"owed\", \"ear\", \"saying\", \"crying\", \"string\", \"meant\", \"cement\", \"is\", \"are\", \"aardwolves\"]\n",
    "\n",
    "print(testlist)"
   ]
  },
  {
   "cell_type": "markdown",
   "metadata": {},
   "source": [
    "### Porter Stemmer\n",
    "\n",
    "* \"Gentle Stemmer\"\n",
    "* Algorithm dates from 1980\n",
    "* Still the default “go-to” stemmer\n",
    "* Excellent trade-off between speed, readability, and accuracy\n",
    "* Stems using a set of rules, or transformations,applied in a succession of steps\n",
    "* About 60 rules in 6 steps\n",
    "* No recursion\n",
    "\n",
    "#### Porter Stemmer Steps\n",
    "* Step 1: Gets rid of plurals and -ed or -ing suffixes\n",
    "* Step 2: Turns terminal y to i when there is another vowel in the stem\n",
    "* Step 3: Maps double suffixes to single ones:-ization, -ational, etc.\n",
    "* Step 4: Deals with suffixes, -full, -ness etc.\n",
    "* Step 5: Takes off -ant, -ence, etc.\n",
    "* Step 6: Removes a final -e \n",
    "\n",
    "\n",
    "Original article by Mr. Porter: http://tartarus.org/martin/PorterStemmer/def.txt"
   ]
  },
  {
   "cell_type": "code",
   "execution_count": 77,
   "metadata": {},
   "outputs": [
    {
     "name": "stdout",
     "output_type": "stream",
     "text": [
      "['maximum', 'presumably', 'multiply', 'provision', 'churches', 'owed', 'ear', 'saying', 'crying', 'string', 'meant', 'cement', 'is', 'are', 'aardwolves']\n"
     ]
    },
    {
     "data": {
      "text/plain": [
       "['maximum',\n",
       " 'presum',\n",
       " 'multipli',\n",
       " 'provis',\n",
       " 'church',\n",
       " 'owe',\n",
       " 'ear',\n",
       " 'say',\n",
       " 'cri',\n",
       " 'string',\n",
       " 'meant',\n",
       " 'cement',\n",
       " 'is',\n",
       " 'are',\n",
       " 'aardwolv']"
      ]
     },
     "execution_count": 77,
     "metadata": {},
     "output_type": "execute_result"
    }
   ],
   "source": [
    "from nltk.stem.porter import PorterStemmer\n",
    "ps = PorterStemmer() #define method \n",
    "\n",
    "# There are a few implementations of porters original work.  \n",
    "#More information on them may be found @ http://www.nltk.org/api/nltk.stem.html#nltk.stem.porter.PorterStemmer\n",
    "\n",
    "print((testlist))\n",
    "[ps.stem(word) for word in testlist] \n",
    "#lots of stuff going on here.  For each word in the list, apply the stemmer"
   ]
  },
  {
   "cell_type": "code",
   "execution_count": 78,
   "metadata": {},
   "outputs": [
    {
     "name": "stdout",
     "output_type": "stream",
     "text": [
      "sever sever\n",
      "univers univers\n",
      "iron iron\n",
      "anim anim\n"
     ]
    }
   ],
   "source": [
    "#### Porter Mishaps\n",
    "\n",
    "print(ps.stem(\"severing\"), ps.stem(\"several\"))\n",
    "\n",
    "print(ps.stem(\"university\"), ps.stem(\"universe\"))\n",
    "\n",
    "print(ps.stem(\"iron\"), ps.stem(\"ironic\"))\n",
    "\n",
    "print(ps.stem(\"animal\"), ps.stem(\"animated\"))"
   ]
  },
  {
   "cell_type": "code",
   "execution_count": 79,
   "metadata": {},
   "outputs": [
    {
     "data": {
      "text/plain": [
       "['maxim',\n",
       " 'presum',\n",
       " 'multiply',\n",
       " 'provid',\n",
       " 'church',\n",
       " 'ow',\n",
       " 'ear',\n",
       " 'say',\n",
       " 'cry',\n",
       " 'string',\n",
       " 'meant',\n",
       " 'cem',\n",
       " 'is',\n",
       " 'ar',\n",
       " 'aardwolv']"
      ]
     },
     "execution_count": 79,
     "metadata": {},
     "output_type": "execute_result"
    }
   ],
   "source": [
    "#lancaster stemmer - much more aggressive\n",
    "\n",
    "from nltk.stem.lancaster import LancasterStemmer\n",
    "ls = LancasterStemmer()\n",
    "[ls.stem(word) for word in testlist]"
   ]
  },
  {
   "cell_type": "code",
   "execution_count": 80,
   "metadata": {
    "scrolled": true
   },
   "outputs": [
    {
     "name": "stdout",
     "output_type": "stream",
     "text": [
      "sev sev\n",
      "univers univers\n",
      "iron iron\n",
      "anim anim\n"
     ]
    }
   ],
   "source": [
    "#### Are Porter Mishaps also Lancaster mishaps?\n",
    "\n",
    "print(ls.stem(\"severing\"), ls.stem(\"several\"))\n",
    "\n",
    "print(ls.stem(\"university\"), ls.stem(\"universe\"))\n",
    "\n",
    "print(ls.stem(\"iron\"), ls.stem(\"ironic\"))\n",
    "\n",
    "print(ls.stem(\"animal\"), ls.stem(\"animated\"))"
   ]
  },
  {
   "cell_type": "markdown",
   "metadata": {},
   "source": [
    "#### Next gen stemmers:  Porter2 or Snowball\n",
    "Actually language for creating stemmers, it's based on the Porter logic and the NLTK method can\n",
    "handle multiple languages. \n",
    "\n",
    "http://snowballstem.org/"
   ]
  },
  {
   "cell_type": "code",
   "execution_count": 81,
   "metadata": {},
   "outputs": [
    {
     "data": {
      "text/plain": [
       "['maximum',\n",
       " 'presum',\n",
       " 'multipli',\n",
       " 'provis',\n",
       " 'church',\n",
       " 'owe',\n",
       " 'ear',\n",
       " 'say',\n",
       " 'cri',\n",
       " 'string',\n",
       " 'meant',\n",
       " 'cement',\n",
       " 'is',\n",
       " 'are',\n",
       " 'aardwolv']"
      ]
     },
     "execution_count": 81,
     "metadata": {},
     "output_type": "execute_result"
    }
   ],
   "source": [
    "\n",
    "from nltk.stem import SnowballStemmer\n",
    "ss = SnowballStemmer(\"english\")\n",
    "[ss.stem(word) for word in testlist]"
   ]
  },
  {
   "cell_type": "code",
   "execution_count": 82,
   "metadata": {},
   "outputs": [
    {
     "name": "stdout",
     "output_type": "stream",
     "text": [
      "sever sever\n",
      "univers univers\n",
      "iron iron\n",
      "anim anim\n"
     ]
    }
   ],
   "source": [
    "#### Fix mishaps?\n",
    "\n",
    "print(ss.stem(\"severing\"), ss.stem(\"several\"))\n",
    "\n",
    "print(ss.stem(\"university\"), ss.stem(\"universe\"))\n",
    "\n",
    "print(ss.stem(\"iron\"), ss.stem(\"ironic\"))\n",
    "\n",
    "print(ss.stem(\"animal\"), ss.stem(\"animated\"))"
   ]
  },
  {
   "cell_type": "markdown",
   "metadata": {},
   "source": [
    "#### Stemming Shortcomings\n",
    "* Stemmers are rudimentary\n",
    "* No word sense disambiguation (“bats” vs “batting”)\n",
    "* No POS disambiguation (“Batting” could be noun or verb, but “hitting” could only be verb)\n",
    "* Cannot handle irregular conjungation/inflection (“to be”, etc.)\n",
    "\n",
    "\n",
    "#### Lemmatization\n",
    "Lemmas differ from stems in that a lemma is a canonical form (basic form of a word used as a dictionary entry) of the word, while a stem may not be a real word. So lemmatizers try to reduce things to their lemma which is a word. "
   ]
  },
  {
   "cell_type": "code",
   "execution_count": 83,
   "metadata": {},
   "outputs": [
    {
     "name": "stdout",
     "output_type": "stream",
     "text": [
      "['maximum', 'presumably', 'multiply', 'provision', 'churches', 'owed', 'ear', 'saying', 'crying', 'string', 'meant', 'cement', 'is', 'are', 'aardwolves']\n"
     ]
    },
    {
     "data": {
      "text/plain": [
       "['maximum',\n",
       " 'presumably',\n",
       " 'multiply',\n",
       " 'provision',\n",
       " 'church',\n",
       " 'owed',\n",
       " 'ear',\n",
       " 'saying',\n",
       " 'cry',\n",
       " 'string',\n",
       " 'meant',\n",
       " 'cement',\n",
       " 'is',\n",
       " 'are',\n",
       " 'aardwolf']"
      ]
     },
     "execution_count": 83,
     "metadata": {},
     "output_type": "execute_result"
    }
   ],
   "source": [
    "# lemmetizing - tries to make sense of things instead of chopping them down\n",
    "from nltk.stem import WordNetLemmatizer\n",
    "wnl = WordNetLemmatizer()\n",
    "print(testlist)\n",
    "[wnl.lemmatize(word) for word in testlist]"
   ]
  },
  {
   "cell_type": "code",
   "execution_count": 84,
   "metadata": {},
   "outputs": [
    {
     "name": "stdout",
     "output_type": "stream",
     "text": [
      "cat run ran cactu cactus cacti commun commun\n",
      "cat run ran cact cactus cact commun commun\n",
      "cat run ran cactus cactus cacti communiti communiti\n"
     ]
    }
   ],
   "source": [
    "#another great example\n",
    "#stemming can chop but not convert\n",
    "\n",
    "sent = \"cats running ran cactus cactuses cacti community communities\"\n",
    "\n",
    "print(\" \".join([ps.stem(i) for i in sent.split()]))\n",
    "print(\" \".join([ls.stem(i) for i in sent.split()]))\n",
    "print(\" \".join([ss.stem(i) for i in sent.split()]))\n"
   ]
  },
  {
   "cell_type": "code",
   "execution_count": 85,
   "metadata": {},
   "outputs": [
    {
     "name": "stdout",
     "output_type": "stream",
     "text": [
      "cats running ran cactus cactuses cacti community communities\n",
      "cat running ran cactus cactus cactus community community\n"
     ]
    }
   ],
   "source": [
    "# lemmatizing tries a little harder\n",
    "print(sent)\n",
    "print(\" \".join([wnl.lemmatize(i) for i in sent.split()]))"
   ]
  },
  {
   "cell_type": "code",
   "execution_count": 86,
   "metadata": {},
   "outputs": [
    {
     "name": "stdout",
     "output_type": "stream",
     "text": [
      "cats running ran cactus cactuses cacti community communities\n",
      "cat run run cactus cactuses cacti community communities\n"
     ]
    }
   ],
   "source": [
    "# why did it miss run/running?  It can handle parts of speech and the default is noun\n",
    "\n",
    "print(sent)\n",
    "print(\" \".join([wnl.lemmatize(i, pos = \"v\") for i in sent.split()]))\n",
    "\n"
   ]
  },
  {
   "cell_type": "code",
   "execution_count": 87,
   "metadata": {},
   "outputs": [
    {
     "name": "stdout",
     "output_type": "stream",
     "text": [
      "thi will be the day when all of god' children will be abl to sing with a new meaning, \"mi country, 'ti of thee, sweet land of liberty, of thee I sing. land where my father died, land of the pilgrim' pride, from everi mountainside, let freedom ring.\"\n"
     ]
    }
   ],
   "source": [
    "# what happens to MLK's speech if we stem it?\n",
    "\n",
    "#porter - note the capitals\n",
    "p_speech = [[ps.stem(word) for word in sentence.split(\" \")] for sentence in speechtext]\n",
    "p_speech = [\" \".join(sentence) for sentence in p_speech]\n",
    "\n",
    "print(p_speech[20])"
   ]
  },
  {
   "cell_type": "code",
   "execution_count": 88,
   "metadata": {},
   "outputs": [
    {
     "name": "stdout",
     "output_type": "stream",
     "text": [
      "thi wil be the day when al of god's childr wil be abl to sing with a new meaning, \"my country, 'tis of thee, sweet land of liberty, of the i sing. land wher my fath died, land of the pilgrim's pride, from every mountainside, let freedom ring.\"\n"
     ]
    }
   ],
   "source": [
    "# lancaster - note the lack of capitals\n",
    "l_speech = [[ls.stem(word) for word in sentence.split()] for sentence in speechtext]\n",
    "l_speech = [\" \".join(sentence) for sentence in l_speech]\n",
    "\n",
    "print(l_speech[20])"
   ]
  },
  {
   "cell_type": "code",
   "execution_count": 89,
   "metadata": {},
   "outputs": [
    {
     "name": "stdout",
     "output_type": "stream",
     "text": [
      "This will be the day when all of God's child will be able to sing with a new meaning, \"My country, 'tis of thee, sweet land of liberty, of thee I sing. Land where my father died, land of the pilgrim's pride, from every mountainside, let freedom ring.\"\n"
     ]
    }
   ],
   "source": [
    "#lemmatization - Capitals are there\n",
    "\n",
    "lem_speech = [[wnl.lemmatize(word) for word in sentence.split()] for sentence in speechtext]\n",
    "lem_speech = [\" \".join(sentence) for sentence in lem_speech]\n",
    "\n",
    "print(lem_speech[20])"
   ]
  },
  {
   "cell_type": "markdown",
   "metadata": {},
   "source": [
    "#### Effects both the size and contents of your feature space"
   ]
  },
  {
   "cell_type": "code",
   "execution_count": 90,
   "metadata": {},
   "outputs": [
    {
     "name": "stdout",
     "output_type": "stream",
     "text": [
      "(28, 412)\n",
      "(28, 434)\n",
      "434\n"
     ]
    }
   ],
   "source": [
    "#effect of lancaster stemmer on feature space (stop words already accounted for)\n",
    "#tf_skl = TfidfVectorizer(binary=False, stop_words='english', min_df = .01, max_df = .95)\n",
    "skl_ls_dm = tf_skl.fit_transform(l_speech) # applied to lancaster stemmed speech\n",
    "\n",
    "print(skl_dm.shape)\n",
    "print(skl_ls_dm.shape)\n",
    "ls_features = tf_skl.get_feature_names()\n",
    "print(len(ls_features))"
   ]
  },
  {
   "cell_type": "code",
   "execution_count": 91,
   "metadata": {},
   "outputs": [
    {
     "name": "stdout",
     "output_type": "stream",
     "text": [
      "(28, 412)\n",
      "(28, 409)\n",
      "409\n"
     ]
    }
   ],
   "source": [
    "#effect of lemmatization on feature space (stop words already accounted for)\n",
    "#tf_skl = TfidfVectorizer(binary=False, stop_words='english', min_df = .01, max_df = .95) \n",
    "skl_lem_dm = tf_skl.fit_transform(lem_speech)\n",
    "\n",
    "print(skl_dm.shape)\n",
    "print(skl_lem_dm.shape)\n",
    "\n",
    "lem_features = tf_skl.get_feature_names()\n",
    "print(len(lem_features))"
   ]
  },
  {
   "cell_type": "markdown",
   "metadata": {},
   "source": [
    "A little more set math"
   ]
  },
  {
   "cell_type": "code",
   "execution_count": 92,
   "metadata": {},
   "outputs": [
    {
     "name": "stdout",
     "output_type": "stream",
     "text": [
      "204\n"
     ]
    }
   ],
   "source": [
    "ls_minus_lem = set(ls_features) - set(lem_features)\n",
    "print(len(ls_minus_lem))"
   ]
  },
  {
   "cell_type": "markdown",
   "metadata": {
    "collapsed": true
   },
   "source": [
    "## Let's see what we can do with our news stories"
   ]
  },
  {
   "cell_type": "code",
   "execution_count": 94,
   "metadata": {},
   "outputs": [
    {
     "name": "stdout",
     "output_type": "stream",
     "text": [
      "(3848, 5)\n"
     ]
    },
    {
     "data": {
      "text/html": [
       "<div>\n",
       "<style scoped>\n",
       "    .dataframe tbody tr th:only-of-type {\n",
       "        vertical-align: middle;\n",
       "    }\n",
       "\n",
       "    .dataframe tbody tr th {\n",
       "        vertical-align: top;\n",
       "    }\n",
       "\n",
       "    .dataframe thead th {\n",
       "        text-align: right;\n",
       "    }\n",
       "</style>\n",
       "<table border=\"1\" class=\"dataframe\">\n",
       "  <thead>\n",
       "    <tr style=\"text-align: right;\">\n",
       "      <th></th>\n",
       "      <th>date</th>\n",
       "      <th>description</th>\n",
       "      <th>headline</th>\n",
       "      <th>url</th>\n",
       "      <th>text</th>\n",
       "    </tr>\n",
       "  </thead>\n",
       "  <tbody>\n",
       "    <tr>\n",
       "      <th>0</th>\n",
       "      <td>2013-01-01</td>\n",
       "      <td>Ending a climactic showdown in the final hours of the 112th Congress, the House sent to President Obama legislation to avert big income tax increases on most Americans.</td>\n",
       "      <td>Divided House Passes Tax Deal in End to Latest Fiscal Standoff</td>\n",
       "      <td>http://www.nytimes.com/2013/01/02/us/politics/house-takes-on-fiscal-cliff.html</td>\n",
       "      <td>WASHINGTON — Ending a climactic fiscal showdown in the final hours of the 112th Congress, the House late Tuesday passed and sent to   legislation to avert big income tax increases on most Americans and prevent large cuts in spending for the Pentagon and other government programs.         The measure, brought to the House floor less than 24 hours after its passage in the Senate, was approved 257 to 167, with 85 Republicans joining 172 Democrats in voting to allow income taxes to rise for the first time in two decades, in this case for the highest-earning Americans. Voting no were 151 Republicans and 16 Democrats.         The bill was expected to be signed quickly by Mr. Obama, who won re-election on a promise to increase taxes on the wealthy.         Mr. Obama strode into the White House briefing room shortly after the vote, less to hail the end of the fiscal crisis than to lay out a marker for the next one. “The one thing that I think, hopefully, the new year will focus on,” he said, “is seeing if we can put a package like this together with a little bit less drama, a little less brinkmanship, and not scare the heck out of folks quite as much.”         In approving the measure after days of legislative intrigue, Congress concluded its final and most pitched fight over fiscal policy, the culmination of two years of battles over taxes, the federal debt, spending and what to do to slow the growth in popular social programs like  .         The decision by Republican leaders to allow the vote came despite widespread scorn among House Republicans for the bill, passed overwhelmingly by the Senate in the early hours of New Year’s Day. They were unhappy that it did not include significant spending cuts in health and other social programs, which they say are essential to any long-term solution to the nation’s debt.         Democrats, while hardly placated by the compromise, celebrated Mr. Obama’s nominal victory in his final showdown with House Republicans in the 112th Congress, who began their term emboldened by scores of new, conservative members whose reach to the right ultimately tipped them over.         “The American people are the real winners tonight,” Representative Bill Pascrell Jr., Democrat of New Jersey, said on the House floor, “not anyone who navigates these halls.”         Not a single leader among House Republicans came to the floor to speak in favor of the bill, though Speaker  , who rarely takes part in roll calls, voted in favor. Representative Eric Cantor of Virginia, the majority leader, and Representative Kevin McCarthy of California, the No. 3 Republican, voted no. Representative Paul D. Ryan, the budget chairman who was the Republican vice-presidential candidate, supported the bill.         Despite the party divisions, many Republicans in their remarks characterized the measure, which allows taxes to go up on household income over $400,000 for individuals and $450,000 for couples but makes permanent tax cuts for income below that level, as a victory of sorts, even as so many of them declined to vote for it.         “After more than a decade of criticizing these tax cuts,” said Representative Dave Camp of Michigan, “Democrats are finally joining Republicans in making them permanent. Republicans and the American people are getting something really important, permanent tax relief.”         The dynamic with the House was a near replay of a fight at the end of 2011 over a   break extension. In that showdown, Senate Democrats and Republicans passed legislation, and while House Republicans fulminated, they were eventually forced to swallow it.         On Tuesday, as they got a detailed look at the Senate’s fiscal legislation, House Republicans ranging from Midwest pragmatists to  -blessed conservatives voiced serious reservations about the measure, emerging from a lunchtime New Year’s Day meeting with their leaders, eyes flashing and faces grim, insisting they would not accept a bill without substantial savings from cuts.         The unrest reached to the highest levels as Mr. Cantor told members in a closed-door meeting in the basement of the Capitol that he could not support the legislation in its current form.         Mr. Boehner, who faces a re-election vote on his post on Thursday when the 113th Congress convenes, had grave concerns as well, but he had pledged to allow the House to consider any legislation that cleared the Senate. And he was not eager to have such a major piece of legislation pass with mainly opposition votes, and the outcome could be seen as undermining his authority.         Adding to the pressure on the House, the fiscal agreement was reached by Senator Mitch McConnell of Kentucky, the Senate Republican leader, and had deep Republican support in the Senate, isolating the House Republicans in their opposition. Some of the Senate Republicans who backed the bill are staunch conservatives, like Senators Patrick J. Toomey of Pennsylvania and Tom Coburn of Oklahoma, with deep credibility among House Republicans.</td>\n",
       "    </tr>\n",
       "  </tbody>\n",
       "</table>\n",
       "</div>"
      ],
      "text/plain": [
       "         date  \\\n",
       "0  2013-01-01   \n",
       "\n",
       "                                                                                                                                                                description  \\\n",
       "0  Ending a climactic showdown in the final hours of the 112th Congress, the House sent to President Obama legislation to avert big income tax increases on most Americans.   \n",
       "\n",
       "                                                         headline  \\\n",
       "0  Divided House Passes Tax Deal in End to Latest Fiscal Standoff   \n",
       "\n",
       "                                                                              url  \\\n",
       "0  http://www.nytimes.com/2013/01/02/us/politics/house-takes-on-fiscal-cliff.html   \n",
       "\n",
       "                                                                                                                                                                                                                                                                                                                                                                                                                                                                                                                                                                                                                                                                                                                                                                                                                                                                                                                                                                                                                                                                                                                                                                                                                                                                                                                                                                                                                                                                                                                                                                                                                                                                                                                                                                                                                                                                                                                                                                                                                                                                                                                                                                                                                                                                                                                                                                                                                                                                                                                                                                                                                                                                                                                                                                                                                                                                                                                                                                                                                                                                                                                                                                                                                                                                                                                                                                                                                                                                                                                                                                                                                                                                                                                                                                                                                                                                                                                                                                                                                                                                                                                                                                                                                                                                                                                                                                                                                                                                                                                                                                                                                                                                                                                                                                                                                                                                                                                                                                                                                                                                                                                                                                                                                                               text  \n",
       "0  WASHINGTON — Ending a climactic fiscal showdown in the final hours of the 112th Congress, the House late Tuesday passed and sent to   legislation to avert big income tax increases on most Americans and prevent large cuts in spending for the Pentagon and other government programs.         The measure, brought to the House floor less than 24 hours after its passage in the Senate, was approved 257 to 167, with 85 Republicans joining 172 Democrats in voting to allow income taxes to rise for the first time in two decades, in this case for the highest-earning Americans. Voting no were 151 Republicans and 16 Democrats.         The bill was expected to be signed quickly by Mr. Obama, who won re-election on a promise to increase taxes on the wealthy.         Mr. Obama strode into the White House briefing room shortly after the vote, less to hail the end of the fiscal crisis than to lay out a marker for the next one. “The one thing that I think, hopefully, the new year will focus on,” he said, “is seeing if we can put a package like this together with a little bit less drama, a little less brinkmanship, and not scare the heck out of folks quite as much.”         In approving the measure after days of legislative intrigue, Congress concluded its final and most pitched fight over fiscal policy, the culmination of two years of battles over taxes, the federal debt, spending and what to do to slow the growth in popular social programs like  .         The decision by Republican leaders to allow the vote came despite widespread scorn among House Republicans for the bill, passed overwhelmingly by the Senate in the early hours of New Year’s Day. They were unhappy that it did not include significant spending cuts in health and other social programs, which they say are essential to any long-term solution to the nation’s debt.         Democrats, while hardly placated by the compromise, celebrated Mr. Obama’s nominal victory in his final showdown with House Republicans in the 112th Congress, who began their term emboldened by scores of new, conservative members whose reach to the right ultimately tipped them over.         “The American people are the real winners tonight,” Representative Bill Pascrell Jr., Democrat of New Jersey, said on the House floor, “not anyone who navigates these halls.”         Not a single leader among House Republicans came to the floor to speak in favor of the bill, though Speaker  , who rarely takes part in roll calls, voted in favor. Representative Eric Cantor of Virginia, the majority leader, and Representative Kevin McCarthy of California, the No. 3 Republican, voted no. Representative Paul D. Ryan, the budget chairman who was the Republican vice-presidential candidate, supported the bill.         Despite the party divisions, many Republicans in their remarks characterized the measure, which allows taxes to go up on household income over $400,000 for individuals and $450,000 for couples but makes permanent tax cuts for income below that level, as a victory of sorts, even as so many of them declined to vote for it.         “After more than a decade of criticizing these tax cuts,” said Representative Dave Camp of Michigan, “Democrats are finally joining Republicans in making them permanent. Republicans and the American people are getting something really important, permanent tax relief.”         The dynamic with the House was a near replay of a fight at the end of 2011 over a   break extension. In that showdown, Senate Democrats and Republicans passed legislation, and while House Republicans fulminated, they were eventually forced to swallow it.         On Tuesday, as they got a detailed look at the Senate’s fiscal legislation, House Republicans ranging from Midwest pragmatists to  -blessed conservatives voiced serious reservations about the measure, emerging from a lunchtime New Year’s Day meeting with their leaders, eyes flashing and faces grim, insisting they would not accept a bill without substantial savings from cuts.         The unrest reached to the highest levels as Mr. Cantor told members in a closed-door meeting in the basement of the Capitol that he could not support the legislation in its current form.         Mr. Boehner, who faces a re-election vote on his post on Thursday when the 113th Congress convenes, had grave concerns as well, but he had pledged to allow the House to consider any legislation that cleared the Senate. And he was not eager to have such a major piece of legislation pass with mainly opposition votes, and the outcome could be seen as undermining his authority.         Adding to the pressure on the House, the fiscal agreement was reached by Senator Mitch McConnell of Kentucky, the Senate Republican leader, and had deep Republican support in the Senate, isolating the House Republicans in their opposition. Some of the Senate Republicans who backed the bill are staunch conservatives, like Senators Patrick J. Toomey of Pennsylvania and Tom Coburn of Oklahoma, with deep credibility among House Republicans.          "
      ]
     },
     "execution_count": 94,
     "metadata": {},
     "output_type": "execute_result"
    }
   ],
   "source": [
    "filename = \"C:\\\\Users\\\\Paul\\\\Desktop\\\\Rockhurst\\\\BIA 6304-Text Mining\\\\Week 2\\\\nytimes2013.csv\"\n",
    "newsdf = pd.read_csv(filename, index_col = 0) \n",
    "\n",
    "print(newsdf.shape)\n",
    "newsdf.head(1)"
   ]
  },
  {
   "cell_type": "code",
   "execution_count": 95,
   "metadata": {},
   "outputs": [
    {
     "name": "stdout",
     "output_type": "stream",
     "text": [
      "(3848, 426)\n"
     ]
    },
    {
     "data": {
      "text/html": [
       "<div>\n",
       "<style scoped>\n",
       "    .dataframe tbody tr th:only-of-type {\n",
       "        vertical-align: middle;\n",
       "    }\n",
       "\n",
       "    .dataframe tbody tr th {\n",
       "        vertical-align: top;\n",
       "    }\n",
       "\n",
       "    .dataframe thead th {\n",
       "        text-align: right;\n",
       "    }\n",
       "</style>\n",
       "<table border=\"1\" class=\"dataframe\">\n",
       "  <thead>\n",
       "    <tr style=\"text-align: right;\">\n",
       "      <th></th>\n",
       "      <th>count</th>\n",
       "    </tr>\n",
       "  </thead>\n",
       "  <tbody>\n",
       "    <tr>\n",
       "      <th>said</th>\n",
       "      <td>21374</td>\n",
       "    </tr>\n",
       "    <tr>\n",
       "      <th>mr</th>\n",
       "      <td>13575</td>\n",
       "    </tr>\n",
       "    <tr>\n",
       "      <th>new</th>\n",
       "      <td>7997</td>\n",
       "    </tr>\n",
       "    <tr>\n",
       "      <th>like</th>\n",
       "      <td>6614</td>\n",
       "    </tr>\n",
       "    <tr>\n",
       "      <th>people</th>\n",
       "      <td>5547</td>\n",
       "    </tr>\n",
       "    <tr>\n",
       "      <th>year</th>\n",
       "      <td>5461</td>\n",
       "    </tr>\n",
       "    <tr>\n",
       "      <th>years</th>\n",
       "      <td>4853</td>\n",
       "    </tr>\n",
       "    <tr>\n",
       "      <th>time</th>\n",
       "      <td>4757</td>\n",
       "    </tr>\n",
       "    <tr>\n",
       "      <th>just</th>\n",
       "      <td>4127</td>\n",
       "    </tr>\n",
       "    <tr>\n",
       "      <th>city</th>\n",
       "      <td>3514</td>\n",
       "    </tr>\n",
       "    <tr>\n",
       "      <th>states</th>\n",
       "      <td>3247</td>\n",
       "    </tr>\n",
       "    <tr>\n",
       "      <th>state</th>\n",
       "      <td>3139</td>\n",
       "    </tr>\n",
       "    <tr>\n",
       "      <th>president</th>\n",
       "      <td>2991</td>\n",
       "    </tr>\n",
       "    <tr>\n",
       "      <th>government</th>\n",
       "      <td>2959</td>\n",
       "    </tr>\n",
       "    <tr>\n",
       "      <th>house</th>\n",
       "      <td>2943</td>\n",
       "    </tr>\n",
       "    <tr>\n",
       "      <th>did</th>\n",
       "      <td>2939</td>\n",
       "    </tr>\n",
       "    <tr>\n",
       "      <th>say</th>\n",
       "      <td>2886</td>\n",
       "    </tr>\n",
       "    <tr>\n",
       "      <th>ms</th>\n",
       "      <td>2882</td>\n",
       "    </tr>\n",
       "    <tr>\n",
       "      <th>united</th>\n",
       "      <td>2833</td>\n",
       "    </tr>\n",
       "    <tr>\n",
       "      <th>way</th>\n",
       "      <td>2777</td>\n",
       "    </tr>\n",
       "  </tbody>\n",
       "</table>\n",
       "</div>"
      ],
      "text/plain": [
       "            count\n",
       "said        21374\n",
       "mr          13575\n",
       "new          7997\n",
       "like         6614\n",
       "people       5547\n",
       "year         5461\n",
       "years        4853\n",
       "time         4757\n",
       "just         4127\n",
       "city         3514\n",
       "states       3247\n",
       "state        3139\n",
       "president    2991\n",
       "government   2959\n",
       "house        2943\n",
       "did          2939\n",
       "say          2886\n",
       "ms           2882\n",
       "united       2833\n",
       "way          2777"
      ]
     },
     "execution_count": 95,
     "metadata": {},
     "output_type": "execute_result"
    }
   ],
   "source": [
    "#remember my favorite vectorizer\n",
    "from sklearn.feature_extraction.text import CountVectorizer\n",
    "\n",
    "cv8 = CountVectorizer(binary=False, min_df = .1, stop_words = \"english\") #define the transformation\n",
    "cv8_news = cv8.fit_transform(newsdf['text']) #apply the transformation\n",
    "print(cv8_news.shape)\n",
    "\n",
    "names = cv8.get_feature_names()   #create list of feature names\n",
    "count = np.sum(cv8_news.toarray(), axis = 0) # add up feature counts \n",
    "count2 = count.tolist()  # convert numpy array to list\n",
    "count_df = pd.DataFrame(count2, index = names, columns = ['count']) # create a dataframe from the list\n",
    "count_df.sort_values(['count'], ascending = False)[0:20]  #arrange by count instead"
   ]
  },
  {
   "cell_type": "markdown",
   "metadata": {},
   "source": [
    "# ____\n",
    "## Break up into pairs for 10-15 minutes (time permitting)\n",
    "1) Stem or lematize the text (not the headlines) from our news articles\n",
    "\n",
    "2) Create and apply the following vectorizer inserting a stopwords list of your choice\n",
    "- CountVectorizer(binary=False, min_df = .1, stop_words = \"your choice\")\n",
    "\n",
    "3) Print a sorted list of your top 20 features\n",
    "\n",
    "4) Report back the decisions you made and whether youre happy with your top feature list\n",
    "# ____"
   ]
  },
  {
   "cell_type": "code",
   "execution_count": 99,
   "metadata": {},
   "outputs": [
    {
     "name": "stdout",
     "output_type": "stream",
     "text": [
      "(3848, 426)\n"
     ]
    },
    {
     "data": {
      "text/html": [
       "<div>\n",
       "<style scoped>\n",
       "    .dataframe tbody tr th:only-of-type {\n",
       "        vertical-align: middle;\n",
       "    }\n",
       "\n",
       "    .dataframe tbody tr th {\n",
       "        vertical-align: top;\n",
       "    }\n",
       "\n",
       "    .dataframe thead th {\n",
       "        text-align: right;\n",
       "    }\n",
       "</style>\n",
       "<table border=\"1\" class=\"dataframe\">\n",
       "  <thead>\n",
       "    <tr style=\"text-align: right;\">\n",
       "      <th></th>\n",
       "      <th>count</th>\n",
       "    </tr>\n",
       "  </thead>\n",
       "  <tbody>\n",
       "    <tr>\n",
       "      <th>said</th>\n",
       "      <td>21374</td>\n",
       "    </tr>\n",
       "    <tr>\n",
       "      <th>mr</th>\n",
       "      <td>13575</td>\n",
       "    </tr>\n",
       "    <tr>\n",
       "      <th>new</th>\n",
       "      <td>7997</td>\n",
       "    </tr>\n",
       "    <tr>\n",
       "      <th>like</th>\n",
       "      <td>6614</td>\n",
       "    </tr>\n",
       "    <tr>\n",
       "      <th>people</th>\n",
       "      <td>5547</td>\n",
       "    </tr>\n",
       "    <tr>\n",
       "      <th>year</th>\n",
       "      <td>5461</td>\n",
       "    </tr>\n",
       "    <tr>\n",
       "      <th>years</th>\n",
       "      <td>4853</td>\n",
       "    </tr>\n",
       "    <tr>\n",
       "      <th>time</th>\n",
       "      <td>4757</td>\n",
       "    </tr>\n",
       "    <tr>\n",
       "      <th>just</th>\n",
       "      <td>4127</td>\n",
       "    </tr>\n",
       "    <tr>\n",
       "      <th>city</th>\n",
       "      <td>3514</td>\n",
       "    </tr>\n",
       "    <tr>\n",
       "      <th>states</th>\n",
       "      <td>3247</td>\n",
       "    </tr>\n",
       "    <tr>\n",
       "      <th>state</th>\n",
       "      <td>3139</td>\n",
       "    </tr>\n",
       "    <tr>\n",
       "      <th>president</th>\n",
       "      <td>2991</td>\n",
       "    </tr>\n",
       "    <tr>\n",
       "      <th>government</th>\n",
       "      <td>2959</td>\n",
       "    </tr>\n",
       "    <tr>\n",
       "      <th>house</th>\n",
       "      <td>2943</td>\n",
       "    </tr>\n",
       "    <tr>\n",
       "      <th>did</th>\n",
       "      <td>2939</td>\n",
       "    </tr>\n",
       "    <tr>\n",
       "      <th>say</th>\n",
       "      <td>2886</td>\n",
       "    </tr>\n",
       "    <tr>\n",
       "      <th>ms</th>\n",
       "      <td>2882</td>\n",
       "    </tr>\n",
       "    <tr>\n",
       "      <th>united</th>\n",
       "      <td>2833</td>\n",
       "    </tr>\n",
       "    <tr>\n",
       "      <th>way</th>\n",
       "      <td>2777</td>\n",
       "    </tr>\n",
       "  </tbody>\n",
       "</table>\n",
       "</div>"
      ],
      "text/plain": [
       "            count\n",
       "said        21374\n",
       "mr          13575\n",
       "new          7997\n",
       "like         6614\n",
       "people       5547\n",
       "year         5461\n",
       "years        4853\n",
       "time         4757\n",
       "just         4127\n",
       "city         3514\n",
       "states       3247\n",
       "state        3139\n",
       "president    2991\n",
       "government   2959\n",
       "house        2943\n",
       "did          2939\n",
       "say          2886\n",
       "ms           2882\n",
       "united       2833\n",
       "way          2777"
      ]
     },
     "execution_count": 99,
     "metadata": {},
     "output_type": "execute_result"
    }
   ],
   "source": [
    "news_df_lem = [wnl.lemmatize(word) for word in newsdf['text']]\n",
    "\n",
    "news_cv = CountVectorizer(binary=False, min_df = .1, stop_words = \"english\") \n",
    "news_cv_fit = news_cv.fit_transform(news_df_lem) \n",
    "print(news_cv_fit.shape)\n",
    "\n",
    "names = news_cv.get_feature_names()  \n",
    "count = np.sum(news_cv_fit.toarray(), axis = 0)\n",
    "count2 = count.tolist() \n",
    "count_df = pd.DataFrame(count2, index = names, columns = ['count'])\n",
    "count_df.sort_values(['count'], ascending = False)[0:20]  \n"
   ]
  },
  {
   "cell_type": "code",
   "execution_count": 100,
   "metadata": {},
   "outputs": [
    {
     "data": {
      "text/html": [
       "<div>\n",
       "<style scoped>\n",
       "    .dataframe tbody tr th:only-of-type {\n",
       "        vertical-align: middle;\n",
       "    }\n",
       "\n",
       "    .dataframe tbody tr th {\n",
       "        vertical-align: top;\n",
       "    }\n",
       "\n",
       "    .dataframe thead th {\n",
       "        text-align: right;\n",
       "    }\n",
       "</style>\n",
       "<table border=\"1\" class=\"dataframe\">\n",
       "  <thead>\n",
       "    <tr style=\"text-align: right;\">\n",
       "      <th></th>\n",
       "      <th>date</th>\n",
       "      <th>description</th>\n",
       "      <th>headline</th>\n",
       "      <th>url</th>\n",
       "      <th>text</th>\n",
       "      <th>pstem</th>\n",
       "    </tr>\n",
       "  </thead>\n",
       "  <tbody>\n",
       "    <tr>\n",
       "      <th>0</th>\n",
       "      <td>2013-01-01</td>\n",
       "      <td>Ending a climactic showdown in the final hours of the 112th Congress, the House sent to President Obama legislation to avert big income tax increases on most Americans.</td>\n",
       "      <td>Divided House Passes Tax Deal in End to Latest Fiscal Standoff</td>\n",
       "      <td>http://www.nytimes.com/2013/01/02/us/politics/house-takes-on-fiscal-cliff.html</td>\n",
       "      <td>WASHINGTON — Ending a climactic fiscal showdown in the final hours of the 112th Congress, the House late Tuesday passed and sent to   legislation to avert big income tax increases on most Americans and prevent large cuts in spending for the Pentagon and other government programs.         The measure, brought to the House floor less than 24 hours after its passage in the Senate, was approved 257 to 167, with 85 Republicans joining 172 Democrats in voting to allow income taxes to rise for the first time in two decades, in this case for the highest-earning Americans. Voting no were 151 Republicans and 16 Democrats.         The bill was expected to be signed quickly by Mr. Obama, who won re-election on a promise to increase taxes on the wealthy.         Mr. Obama strode into the White House briefing room shortly after the vote, less to hail the end of the fiscal crisis than to lay out a marker for the next one. “The one thing that I think, hopefully, the new year will focus on,” he said, “is seeing if we can put a package like this together with a little bit less drama, a little less brinkmanship, and not scare the heck out of folks quite as much.”         In approving the measure after days of legislative intrigue, Congress concluded its final and most pitched fight over fiscal policy, the culmination of two years of battles over taxes, the federal debt, spending and what to do to slow the growth in popular social programs like  .         The decision by Republican leaders to allow the vote came despite widespread scorn among House Republicans for the bill, passed overwhelmingly by the Senate in the early hours of New Year’s Day. They were unhappy that it did not include significant spending cuts in health and other social programs, which they say are essential to any long-term solution to the nation’s debt.         Democrats, while hardly placated by the compromise, celebrated Mr. Obama’s nominal victory in his final showdown with House Republicans in the 112th Congress, who began their term emboldened by scores of new, conservative members whose reach to the right ultimately tipped them over.         “The American people are the real winners tonight,” Representative Bill Pascrell Jr., Democrat of New Jersey, said on the House floor, “not anyone who navigates these halls.”         Not a single leader among House Republicans came to the floor to speak in favor of the bill, though Speaker  , who rarely takes part in roll calls, voted in favor. Representative Eric Cantor of Virginia, the majority leader, and Representative Kevin McCarthy of California, the No. 3 Republican, voted no. Representative Paul D. Ryan, the budget chairman who was the Republican vice-presidential candidate, supported the bill.         Despite the party divisions, many Republicans in their remarks characterized the measure, which allows taxes to go up on household income over $400,000 for individuals and $450,000 for couples but makes permanent tax cuts for income below that level, as a victory of sorts, even as so many of them declined to vote for it.         “After more than a decade of criticizing these tax cuts,” said Representative Dave Camp of Michigan, “Democrats are finally joining Republicans in making them permanent. Republicans and the American people are getting something really important, permanent tax relief.”         The dynamic with the House was a near replay of a fight at the end of 2011 over a   break extension. In that showdown, Senate Democrats and Republicans passed legislation, and while House Republicans fulminated, they were eventually forced to swallow it.         On Tuesday, as they got a detailed look at the Senate’s fiscal legislation, House Republicans ranging from Midwest pragmatists to  -blessed conservatives voiced serious reservations about the measure, emerging from a lunchtime New Year’s Day meeting with their leaders, eyes flashing and faces grim, insisting they would not accept a bill without substantial savings from cuts.         The unrest reached to the highest levels as Mr. Cantor told members in a closed-door meeting in the basement of the Capitol that he could not support the legislation in its current form.         Mr. Boehner, who faces a re-election vote on his post on Thursday when the 113th Congress convenes, had grave concerns as well, but he had pledged to allow the House to consider any legislation that cleared the Senate. And he was not eager to have such a major piece of legislation pass with mainly opposition votes, and the outcome could be seen as undermining his authority.         Adding to the pressure on the House, the fiscal agreement was reached by Senator Mitch McConnell of Kentucky, the Senate Republican leader, and had deep Republican support in the Senate, isolating the House Republicans in their opposition. Some of the Senate Republicans who backed the bill are staunch conservatives, like Senators Patrick J. Toomey of Pennsylvania and Tom Coburn of Oklahoma, with deep credibility among House Republicans.</td>\n",
       "      <td>washington — end a climact fiscal showdown in the final hour of the 112th congress, the hous late tuesday pass and sent to legisl to avert big incom tax increas on most american and prevent larg cut in spend for the pentagon and other govern programs. the measure, brought to the hous floor less than 24 hour after it passag in the senate, wa approv 257 to 167, with 85 republican join 172 democrat in vote to allow incom tax to rise for the first time in two decades, in thi case for the highest-earn americans. vote no were 151 republican and 16 democrats. the bill wa expect to be sign quickli by mr. obama, who won re-elect on a promis to increas tax on the wealthy. mr. obama strode into the white hous brief room shortli after the vote, less to hail the end of the fiscal crisi than to lay out a marker for the next one. “the one thing that I think, hopefully, the new year will focu on,” he said, “i see if we can put a packag like thi togeth with a littl bit less drama, a littl less brinkmanship, and not scare the heck out of folk quit as much.” In approv the measur after day of legisl intrigue, congress conclud it final and most pitch fight over fiscal policy, the culmin of two year of battl over taxes, the feder debt, spend and what to do to slow the growth in popular social program like . the decis by republican leader to allow the vote came despit widespread scorn among hous republican for the bill, pass overwhelmingli by the senat in the earli hour of new year’ day. they were unhappi that it did not includ signific spend cut in health and other social programs, which they say are essenti to ani long-term solut to the nation’ debt. democrats, while hardli placat by the compromise, celebr mr. obama’ nomin victori in hi final showdown with hous republican in the 112th congress, who began their term embolden by score of new, conserv member whose reach to the right ultim tip them over. “the american peopl are the real winner tonight,” repres bill pascrel jr., democrat of new jersey, said on the hous floor, “not anyon who navig these halls.” not a singl leader among hous republican came to the floor to speak in favor of the bill, though speaker , who rare take part in roll calls, vote in favor. repres eric cantor of virginia, the major leader, and repres kevin mccarthi of california, the no. 3 republican, vote no. repres paul D. ryan, the budget chairman who wa the republican vice-presidenti candidate, support the bill. despit the parti divisions, mani republican in their remark character the measure, which allow tax to go up on household incom over $400,000 for individu and $450,000 for coupl but make perman tax cut for incom below that level, as a victori of sorts, even as so mani of them declin to vote for it. “after more than a decad of critic these tax cuts,” said repres dave camp of michigan, “democrat are final join republican in make them permanent. republican and the american peopl are get someth realli important, perman tax relief.” the dynam with the hous wa a near replay of a fight at the end of 2011 over a break extension. In that showdown, senat democrat and republican pass legislation, and while hous republican fulminated, they were eventu forc to swallow it. On tuesday, as they got a detail look at the senate’ fiscal legislation, hous republican rang from midwest pragmatist to -bless conserv voic seriou reserv about the measure, emerg from a lunchtim new year’ day meet with their leaders, eye flash and face grim, insist they would not accept a bill without substanti save from cuts. the unrest reach to the highest level as mr. cantor told member in a closed-door meet in the basement of the capitol that he could not support the legisl in it current form. mr. boehner, who face a re-elect vote on hi post on thursday when the 113th congress convenes, had grave concern as well, but he had pledg to allow the hous to consid ani legisl that clear the senate. and he wa not eager to have such a major piec of legisl pass with mainli opposit votes, and the outcom could be seen as undermin hi authority. ad to the pressur on the house, the fiscal agreement wa reach by senat mitch mcconnel of kentucky, the senat republican leader, and had deep republican support in the senate, isol the hous republican in their opposition. some of the senat republican who back the bill are staunch conservatives, like senat patrick J. toomey of pennsylvania and tom coburn of oklahoma, with deep credibl among hous republicans.</td>\n",
       "    </tr>\n",
       "    <tr>\n",
       "      <th>1</th>\n",
       "      <td>2013-01-01</td>\n",
       "      <td>A report on nearly three million people found that those whose body mass index ranked them as overweight had less risk of dying than people of normal weight.</td>\n",
       "      <td>Study Suggests Lower Mortality Risk for People Deemed to Be Overweight</td>\n",
       "      <td>http://www.nytimes.com/2013/01/02/health/study-suggests-lower-death-risk-for-the-overweight.html</td>\n",
       "      <td>A century ago, Elsie Scheel was the perfect woman. So said a 1912   in The New York Times about how Miss Scheel, 24, was chosen by the “medical examiner of the 400 ‘co-eds’ ” at Cornell University as a woman “whose very presence bespeaks perfect health.”         Miss Scheel, however, was hardly model-thin. At 5-foot-7 and 171 pounds, she would, by today’s medical standards, be clearly overweight. (Her body mass index was 27; 25 to 29.9 is overweight.)         But a   suggests that Miss Scheel may have been onto something. The report on nearly three million people found that those whose B.M.I. ranked them as overweight had less risk of dying than people of normal weight. And while obese people had a greater mortality risk over all, those at the lowest   level (B.M.I. of 30 to 34.9) were not more likely to die than normal-weight people.         The report, although not the first to suggest this relationship between B.M.I. and mortality, is by far the largest and most carefully done, analyzing nearly 100 studies, experts said.         But don’t scrap those New Year’s weight-loss resolutions and start gorging on fried Belgian waffles or triple cheeseburgers.         Experts not involved in the research said it suggested that overweight people need not panic unless they have other indicators of poor health and that depending on where fat is in the body, it might be protective or even nutritional for older or sicker people. But over all, piling on pounds and becoming more than slightly obese remains dangerous.         “We wouldn’t want people to think, ‘Well, I can take a pass and gain more weight,’ ” said Dr. George Blackburn, associate director of Harvard Medical School’s   division.         Rather, he and others said, the report, in The Journal of the American Medical Association, suggests that B.M.I., a ratio of height to weight, should not be the only indicator of healthy weight.         “Body mass index is an imperfect measure of the risk of mortality,” and factors like  ,   and blood sugar must be considered, said Dr. Samuel Klein, director of the Center for Human Nutrition at Washington University School of Medicine in St. Louis.         Dr. Steven Heymsfield, executive director of the Pennington Biomedical Research Center in Louisiana, who wrote an editorial accompanying the study, said that for overweight people, if indicators like cholesterol “are in the abnormal range, then that weight is affecting you,” but that if indicators are normal, there’s no reason to “go on a crash diet.”         Experts also said the data suggested that the definition of “normal” B.M.I., 18.5 to 24.9, should be revised, excluding its lowest weights, which might be too thin.         The study did show that the two highest obesity categories (B.M.I. of 35 and up) are at high risk. “Once you have higher obesity, the fat’s in the fire,” Dr. Blackburn said.         But experts also suggested that concepts of fat be refined.         “Fat per se is not as bad as we thought,” said Dr. Kamyar Kalantar-Zadeh, professor of medicine and public health at the University of California, Irvine.         “What is bad is a type of fat that is inside your belly,” he said. “Non-belly fat, underneath your skin in your thigh and your butt area — these are not necessarily bad.”         He added that, to a point, extra fat is accompanied by extra muscle, which can be healthy.         Still, it is possible that overweight or somewhat obese people are less likely to die because they, or their doctors, have identified other conditions associated with weight gain, like high cholesterol or  .         “You’re more likely to be in your doctor’s office and more likely to be treated,” said Dr. Robert Eckel, a past president of the American Heart Association and a professor at University of Colorado.         Some experts said fat could be protective in some cases, although that is unproven and debated. The study did find that people 65 and over had no greater mortality risk even at high obesity.         “There’s something about extra body fat when you’re older that is providing some reserve,” Dr. Eckel said.         And studies on specific illnesses, like heart and kidney disease, have found an “obesity paradox,” that heavier patients are less likely to die.         Still, death is not everything. Even if “being overweight doesn’t increase your risk of dying,” Dr. Klein said, it “does increase your risk of having diabetes” or other conditions.         Ultimately, said the study’s lead author, Katherine Flegal, a senior scientist at the Centers for Disease Control and Prevention, “the best weight might depend on the situation you’re in.”          , in whose “physical makeup there is not a single defect,” the Times article said.         This woman who “has never been ill and doesn’t know what fear is” loved sports and didn’t consume candy, coffee or tea. But she also ate only three meals every two days, and loved beefsteak.         Maybe such seeming contradictions made sense against the societal inconsistencies of that time. After all, her post-college plans involved tilling her father’s farm, but “if she were a man, she would study mechanical engineering.”</td>\n",
       "      <td>A centuri ago, elsi scheel wa the perfect woman. So said a 1912 in the new york time about how miss scheel, 24, wa chosen by the “medic examin of the 400 ‘co-eds’ ” at cornel univers as a woman “whose veri presenc bespeak perfect health.” miss scheel, however, wa hardli model-thin. At 5-foot-7 and 171 pounds, she would, by today’ medic standards, be clearli overweight. (her bodi mass index wa 27; 25 to 29.9 is overweight.) but a suggest that miss scheel may have been onto something. the report on nearli three million peopl found that those whose b.m.i. rank them as overweight had less risk of die than peopl of normal weight. and while obes peopl had a greater mortal risk over all, those at the lowest level (b.m.i. of 30 to 34.9) were not more like to die than normal-weight people. the report, although not the first to suggest thi relationship between b.m.i. and mortality, is by far the largest and most care done, analyz nearli 100 studies, expert said. but don’t scrap those new year’ weight-loss resolut and start gorg on fri belgian waffl or tripl cheeseburgers. expert not involv in the research said it suggest that overweight peopl need not panic unless they have other indic of poor health and that depend on where fat is in the body, it might be protect or even nutrit for older or sicker people. but over all, pile on pound and becom more than slightli obes remain dangerous. “we wouldn’t want peopl to think, ‘well, I can take a pass and gain more weight,’ ” said dr. georg blackburn, associ director of harvard medic school’ division. rather, he and other said, the report, in the journal of the american medic association, suggest that b.m.i., a ratio of height to weight, should not be the onli indic of healthi weight. “bodi mass index is an imperfect measur of the risk of mortality,” and factor like , and blood sugar must be considered, said dr. samuel klein, director of the center for human nutrit at washington univers school of medicin in st. louis. dr. steven heymsfield, execut director of the pennington biomed research center in louisiana, who wrote an editori accompani the study, said that for overweight people, if indic like cholesterol “are in the abnorm range, then that weight is affect you,” but that if indic are normal, there’ no reason to “go on a crash diet.” expert also said the data suggest that the definit of “normal” b.m.i., 18.5 to 24.9, should be revised, exclud it lowest weights, which might be too thin. the studi did show that the two highest obes categori (b.m.i. of 35 and up) are at high risk. “onc you have higher obesity, the fat’ in the fire,” dr. blackburn said. but expert also suggest that concept of fat be refined. “fat per se is not as bad as we thought,” said dr. kamyar kalantar-zadeh, professor of medicin and public health at the univers of california, irvine. “what is bad is a type of fat that is insid your belly,” he said. “non-belli fat, underneath your skin in your thigh and your butt area — these are not necessarili bad.” He ad that, to a point, extra fat is accompani by extra muscle, which can be healthy. still, it is possibl that overweight or somewhat obes peopl are less like to die becaus they, or their doctors, have identifi other condit associ with weight gain, like high cholesterol or . “you’r more like to be in your doctor’ offic and more like to be treated,” said dr. robert eckel, a past presid of the american heart associ and a professor at univers of colorado. some expert said fat could be protect in some cases, although that is unproven and debated. the studi did find that peopl 65 and over had no greater mortal risk even at high obesity. “there’ someth about extra bodi fat when you’r older that is provid some reserve,” dr. eckel said. and studi on specif illnesses, like heart and kidney disease, have found an “obes paradox,” that heavier patient are less like to die. still, death is not everything. even if “be overweight doesn’t increas your risk of dying,” dr. klein said, it “doe increas your risk of have diabetes” or other conditions. ultimately, said the study’ lead author, katherin flegal, a senior scientist at the center for diseas control and prevention, “the best weight might depend on the situat you’r in.” , in whose “physic makeup there is not a singl defect,” the time articl said. thi woman who “ha never been ill and doesn’t know what fear is” love sport and didn’t consum candy, coffe or tea. but she also ate onli three meal everi two days, and love beefsteak. mayb such seem contradict made sens against the societ inconsist of that time. after all, her post-colleg plan involv till her father’ farm, but “if she were a man, she would studi mechan engineering.”</td>\n",
       "    </tr>\n",
       "  </tbody>\n",
       "</table>\n",
       "</div>"
      ],
      "text/plain": [
       "         date  \\\n",
       "0  2013-01-01   \n",
       "1  2013-01-01   \n",
       "\n",
       "                                                                                                                                                                description  \\\n",
       "0  Ending a climactic showdown in the final hours of the 112th Congress, the House sent to President Obama legislation to avert big income tax increases on most Americans.   \n",
       "1             A report on nearly three million people found that those whose body mass index ranked them as overweight had less risk of dying than people of normal weight.   \n",
       "\n",
       "                                                                 headline  \\\n",
       "0          Divided House Passes Tax Deal in End to Latest Fiscal Standoff   \n",
       "1  Study Suggests Lower Mortality Risk for People Deemed to Be Overweight   \n",
       "\n",
       "                                                                                                url  \\\n",
       "0                    http://www.nytimes.com/2013/01/02/us/politics/house-takes-on-fiscal-cliff.html   \n",
       "1  http://www.nytimes.com/2013/01/02/health/study-suggests-lower-death-risk-for-the-overweight.html   \n",
       "\n",
       "                                                                                                                                                                                                                                                                                                                                                                                                                                                                                                                                                                                                                                                                                                                                                                                                                                                                                                                                                                                                                                                                                                                                                                                                                                                                                                                                                                                                                                                                                                                                                                                                                                                                                                                                                                                                                                                                                                                                                                                                                                                                                                                                                                                                                                                                                                                                                                                                                                                                                                                                                                                                                                                                                                                                                                                                                                                                                                                                                                                                                                                                                                                                                                                                                                                                                                                                                                                                                                                                                                                                                                                                                                                                                                                                                                                                                                                                                                                                                                                                                                                                                                                                                                                                                                                                                                                                                                                                                                                                                                                                                                                                                                                                                                                                                                                                                                                                                                                                                                                                                                                                                                                                                                                                                                                                                                                                                                                                                        text  \\\n",
       "0                                                                                                                                                                           WASHINGTON — Ending a climactic fiscal showdown in the final hours of the 112th Congress, the House late Tuesday passed and sent to   legislation to avert big income tax increases on most Americans and prevent large cuts in spending for the Pentagon and other government programs.         The measure, brought to the House floor less than 24 hours after its passage in the Senate, was approved 257 to 167, with 85 Republicans joining 172 Democrats in voting to allow income taxes to rise for the first time in two decades, in this case for the highest-earning Americans. Voting no were 151 Republicans and 16 Democrats.         The bill was expected to be signed quickly by Mr. Obama, who won re-election on a promise to increase taxes on the wealthy.         Mr. Obama strode into the White House briefing room shortly after the vote, less to hail the end of the fiscal crisis than to lay out a marker for the next one. “The one thing that I think, hopefully, the new year will focus on,” he said, “is seeing if we can put a package like this together with a little bit less drama, a little less brinkmanship, and not scare the heck out of folks quite as much.”         In approving the measure after days of legislative intrigue, Congress concluded its final and most pitched fight over fiscal policy, the culmination of two years of battles over taxes, the federal debt, spending and what to do to slow the growth in popular social programs like  .         The decision by Republican leaders to allow the vote came despite widespread scorn among House Republicans for the bill, passed overwhelmingly by the Senate in the early hours of New Year’s Day. They were unhappy that it did not include significant spending cuts in health and other social programs, which they say are essential to any long-term solution to the nation’s debt.         Democrats, while hardly placated by the compromise, celebrated Mr. Obama’s nominal victory in his final showdown with House Republicans in the 112th Congress, who began their term emboldened by scores of new, conservative members whose reach to the right ultimately tipped them over.         “The American people are the real winners tonight,” Representative Bill Pascrell Jr., Democrat of New Jersey, said on the House floor, “not anyone who navigates these halls.”         Not a single leader among House Republicans came to the floor to speak in favor of the bill, though Speaker  , who rarely takes part in roll calls, voted in favor. Representative Eric Cantor of Virginia, the majority leader, and Representative Kevin McCarthy of California, the No. 3 Republican, voted no. Representative Paul D. Ryan, the budget chairman who was the Republican vice-presidential candidate, supported the bill.         Despite the party divisions, many Republicans in their remarks characterized the measure, which allows taxes to go up on household income over $400,000 for individuals and $450,000 for couples but makes permanent tax cuts for income below that level, as a victory of sorts, even as so many of them declined to vote for it.         “After more than a decade of criticizing these tax cuts,” said Representative Dave Camp of Michigan, “Democrats are finally joining Republicans in making them permanent. Republicans and the American people are getting something really important, permanent tax relief.”         The dynamic with the House was a near replay of a fight at the end of 2011 over a   break extension. In that showdown, Senate Democrats and Republicans passed legislation, and while House Republicans fulminated, they were eventually forced to swallow it.         On Tuesday, as they got a detailed look at the Senate’s fiscal legislation, House Republicans ranging from Midwest pragmatists to  -blessed conservatives voiced serious reservations about the measure, emerging from a lunchtime New Year’s Day meeting with their leaders, eyes flashing and faces grim, insisting they would not accept a bill without substantial savings from cuts.         The unrest reached to the highest levels as Mr. Cantor told members in a closed-door meeting in the basement of the Capitol that he could not support the legislation in its current form.         Mr. Boehner, who faces a re-election vote on his post on Thursday when the 113th Congress convenes, had grave concerns as well, but he had pledged to allow the House to consider any legislation that cleared the Senate. And he was not eager to have such a major piece of legislation pass with mainly opposition votes, and the outcome could be seen as undermining his authority.         Adding to the pressure on the House, the fiscal agreement was reached by Senator Mitch McConnell of Kentucky, the Senate Republican leader, and had deep Republican support in the Senate, isolating the House Republicans in their opposition. Some of the Senate Republicans who backed the bill are staunch conservatives, like Senators Patrick J. Toomey of Pennsylvania and Tom Coburn of Oklahoma, with deep credibility among House Republicans.           \n",
       "1  A century ago, Elsie Scheel was the perfect woman. So said a 1912   in The New York Times about how Miss Scheel, 24, was chosen by the “medical examiner of the 400 ‘co-eds’ ” at Cornell University as a woman “whose very presence bespeaks perfect health.”         Miss Scheel, however, was hardly model-thin. At 5-foot-7 and 171 pounds, she would, by today’s medical standards, be clearly overweight. (Her body mass index was 27; 25 to 29.9 is overweight.)         But a   suggests that Miss Scheel may have been onto something. The report on nearly three million people found that those whose B.M.I. ranked them as overweight had less risk of dying than people of normal weight. And while obese people had a greater mortality risk over all, those at the lowest   level (B.M.I. of 30 to 34.9) were not more likely to die than normal-weight people.         The report, although not the first to suggest this relationship between B.M.I. and mortality, is by far the largest and most carefully done, analyzing nearly 100 studies, experts said.         But don’t scrap those New Year’s weight-loss resolutions and start gorging on fried Belgian waffles or triple cheeseburgers.         Experts not involved in the research said it suggested that overweight people need not panic unless they have other indicators of poor health and that depending on where fat is in the body, it might be protective or even nutritional for older or sicker people. But over all, piling on pounds and becoming more than slightly obese remains dangerous.         “We wouldn’t want people to think, ‘Well, I can take a pass and gain more weight,’ ” said Dr. George Blackburn, associate director of Harvard Medical School’s   division.         Rather, he and others said, the report, in The Journal of the American Medical Association, suggests that B.M.I., a ratio of height to weight, should not be the only indicator of healthy weight.         “Body mass index is an imperfect measure of the risk of mortality,” and factors like  ,   and blood sugar must be considered, said Dr. Samuel Klein, director of the Center for Human Nutrition at Washington University School of Medicine in St. Louis.         Dr. Steven Heymsfield, executive director of the Pennington Biomedical Research Center in Louisiana, who wrote an editorial accompanying the study, said that for overweight people, if indicators like cholesterol “are in the abnormal range, then that weight is affecting you,” but that if indicators are normal, there’s no reason to “go on a crash diet.”         Experts also said the data suggested that the definition of “normal” B.M.I., 18.5 to 24.9, should be revised, excluding its lowest weights, which might be too thin.         The study did show that the two highest obesity categories (B.M.I. of 35 and up) are at high risk. “Once you have higher obesity, the fat’s in the fire,” Dr. Blackburn said.         But experts also suggested that concepts of fat be refined.         “Fat per se is not as bad as we thought,” said Dr. Kamyar Kalantar-Zadeh, professor of medicine and public health at the University of California, Irvine.         “What is bad is a type of fat that is inside your belly,” he said. “Non-belly fat, underneath your skin in your thigh and your butt area — these are not necessarily bad.”         He added that, to a point, extra fat is accompanied by extra muscle, which can be healthy.         Still, it is possible that overweight or somewhat obese people are less likely to die because they, or their doctors, have identified other conditions associated with weight gain, like high cholesterol or  .         “You’re more likely to be in your doctor’s office and more likely to be treated,” said Dr. Robert Eckel, a past president of the American Heart Association and a professor at University of Colorado.         Some experts said fat could be protective in some cases, although that is unproven and debated. The study did find that people 65 and over had no greater mortality risk even at high obesity.         “There’s something about extra body fat when you’re older that is providing some reserve,” Dr. Eckel said.         And studies on specific illnesses, like heart and kidney disease, have found an “obesity paradox,” that heavier patients are less likely to die.         Still, death is not everything. Even if “being overweight doesn’t increase your risk of dying,” Dr. Klein said, it “does increase your risk of having diabetes” or other conditions.         Ultimately, said the study’s lead author, Katherine Flegal, a senior scientist at the Centers for Disease Control and Prevention, “the best weight might depend on the situation you’re in.”          , in whose “physical makeup there is not a single defect,” the Times article said.         This woman who “has never been ill and doesn’t know what fear is” loved sports and didn’t consume candy, coffee or tea. But she also ate only three meals every two days, and loved beefsteak.         Maybe such seeming contradictions made sense against the societal inconsistencies of that time. After all, her post-college plans involved tilling her father’s farm, but “if she were a man, she would study mechanical engineering.”           \n",
       "\n",
       "                                                                                                                                                                                                                                                                                                                                                                                                                                                                                                                                                                                                                                                                                                                                                                                                                                                                                                                                                                                                                                                                                                                                                                                                                                                                                                                                                                                                                                                                                                                                                                                                                                                                                                                                                                                                                                                                                                                                                                                                                                                                                                                                                                                                                                                                                                                                                                                                                                                                                                                                                                                                                                                                                                                                                                                                                                                                                                                                                                                                                                                                                                                                                                                                                                                                                                                                                                                                                                                                                                                                                                                                                                                                                                                                                                                                                                                                                                                                                                                                                                                                                                                                                                                                                                                                                                                                                                                                                                                                                                                                                                                                                                                                                                                                                                                                                                                                                          pstem  \n",
       "0                                                                                                                                                                                                                           washington — end a climact fiscal showdown in the final hour of the 112th congress, the hous late tuesday pass and sent to legisl to avert big incom tax increas on most american and prevent larg cut in spend for the pentagon and other govern programs. the measure, brought to the hous floor less than 24 hour after it passag in the senate, wa approv 257 to 167, with 85 republican join 172 democrat in vote to allow incom tax to rise for the first time in two decades, in thi case for the highest-earn americans. vote no were 151 republican and 16 democrats. the bill wa expect to be sign quickli by mr. obama, who won re-elect on a promis to increas tax on the wealthy. mr. obama strode into the white hous brief room shortli after the vote, less to hail the end of the fiscal crisi than to lay out a marker for the next one. “the one thing that I think, hopefully, the new year will focu on,” he said, “i see if we can put a packag like thi togeth with a littl bit less drama, a littl less brinkmanship, and not scare the heck out of folk quit as much.” In approv the measur after day of legisl intrigue, congress conclud it final and most pitch fight over fiscal policy, the culmin of two year of battl over taxes, the feder debt, spend and what to do to slow the growth in popular social program like . the decis by republican leader to allow the vote came despit widespread scorn among hous republican for the bill, pass overwhelmingli by the senat in the earli hour of new year’ day. they were unhappi that it did not includ signific spend cut in health and other social programs, which they say are essenti to ani long-term solut to the nation’ debt. democrats, while hardli placat by the compromise, celebr mr. obama’ nomin victori in hi final showdown with hous republican in the 112th congress, who began their term embolden by score of new, conserv member whose reach to the right ultim tip them over. “the american peopl are the real winner tonight,” repres bill pascrel jr., democrat of new jersey, said on the hous floor, “not anyon who navig these halls.” not a singl leader among hous republican came to the floor to speak in favor of the bill, though speaker , who rare take part in roll calls, vote in favor. repres eric cantor of virginia, the major leader, and repres kevin mccarthi of california, the no. 3 republican, vote no. repres paul D. ryan, the budget chairman who wa the republican vice-presidenti candidate, support the bill. despit the parti divisions, mani republican in their remark character the measure, which allow tax to go up on household incom over $400,000 for individu and $450,000 for coupl but make perman tax cut for incom below that level, as a victori of sorts, even as so mani of them declin to vote for it. “after more than a decad of critic these tax cuts,” said repres dave camp of michigan, “democrat are final join republican in make them permanent. republican and the american peopl are get someth realli important, perman tax relief.” the dynam with the hous wa a near replay of a fight at the end of 2011 over a break extension. In that showdown, senat democrat and republican pass legislation, and while hous republican fulminated, they were eventu forc to swallow it. On tuesday, as they got a detail look at the senate’ fiscal legislation, hous republican rang from midwest pragmatist to -bless conserv voic seriou reserv about the measure, emerg from a lunchtim new year’ day meet with their leaders, eye flash and face grim, insist they would not accept a bill without substanti save from cuts. the unrest reach to the highest level as mr. cantor told member in a closed-door meet in the basement of the capitol that he could not support the legisl in it current form. mr. boehner, who face a re-elect vote on hi post on thursday when the 113th congress convenes, had grave concern as well, but he had pledg to allow the hous to consid ani legisl that clear the senate. and he wa not eager to have such a major piec of legisl pass with mainli opposit votes, and the outcom could be seen as undermin hi authority. ad to the pressur on the house, the fiscal agreement wa reach by senat mitch mcconnel of kentucky, the senat republican leader, and had deep republican support in the senate, isol the hous republican in their opposition. some of the senat republican who back the bill are staunch conservatives, like senat patrick J. toomey of pennsylvania and tom coburn of oklahoma, with deep credibl among hous republicans.  \n",
       "1  A centuri ago, elsi scheel wa the perfect woman. So said a 1912 in the new york time about how miss scheel, 24, wa chosen by the “medic examin of the 400 ‘co-eds’ ” at cornel univers as a woman “whose veri presenc bespeak perfect health.” miss scheel, however, wa hardli model-thin. At 5-foot-7 and 171 pounds, she would, by today’ medic standards, be clearli overweight. (her bodi mass index wa 27; 25 to 29.9 is overweight.) but a suggest that miss scheel may have been onto something. the report on nearli three million peopl found that those whose b.m.i. rank them as overweight had less risk of die than peopl of normal weight. and while obes peopl had a greater mortal risk over all, those at the lowest level (b.m.i. of 30 to 34.9) were not more like to die than normal-weight people. the report, although not the first to suggest thi relationship between b.m.i. and mortality, is by far the largest and most care done, analyz nearli 100 studies, expert said. but don’t scrap those new year’ weight-loss resolut and start gorg on fri belgian waffl or tripl cheeseburgers. expert not involv in the research said it suggest that overweight peopl need not panic unless they have other indic of poor health and that depend on where fat is in the body, it might be protect or even nutrit for older or sicker people. but over all, pile on pound and becom more than slightli obes remain dangerous. “we wouldn’t want peopl to think, ‘well, I can take a pass and gain more weight,’ ” said dr. georg blackburn, associ director of harvard medic school’ division. rather, he and other said, the report, in the journal of the american medic association, suggest that b.m.i., a ratio of height to weight, should not be the onli indic of healthi weight. “bodi mass index is an imperfect measur of the risk of mortality,” and factor like , and blood sugar must be considered, said dr. samuel klein, director of the center for human nutrit at washington univers school of medicin in st. louis. dr. steven heymsfield, execut director of the pennington biomed research center in louisiana, who wrote an editori accompani the study, said that for overweight people, if indic like cholesterol “are in the abnorm range, then that weight is affect you,” but that if indic are normal, there’ no reason to “go on a crash diet.” expert also said the data suggest that the definit of “normal” b.m.i., 18.5 to 24.9, should be revised, exclud it lowest weights, which might be too thin. the studi did show that the two highest obes categori (b.m.i. of 35 and up) are at high risk. “onc you have higher obesity, the fat’ in the fire,” dr. blackburn said. but expert also suggest that concept of fat be refined. “fat per se is not as bad as we thought,” said dr. kamyar kalantar-zadeh, professor of medicin and public health at the univers of california, irvine. “what is bad is a type of fat that is insid your belly,” he said. “non-belli fat, underneath your skin in your thigh and your butt area — these are not necessarili bad.” He ad that, to a point, extra fat is accompani by extra muscle, which can be healthy. still, it is possibl that overweight or somewhat obes peopl are less like to die becaus they, or their doctors, have identifi other condit associ with weight gain, like high cholesterol or . “you’r more like to be in your doctor’ offic and more like to be treated,” said dr. robert eckel, a past presid of the american heart associ and a professor at univers of colorado. some expert said fat could be protect in some cases, although that is unproven and debated. the studi did find that peopl 65 and over had no greater mortal risk even at high obesity. “there’ someth about extra bodi fat when you’r older that is provid some reserve,” dr. eckel said. and studi on specif illnesses, like heart and kidney disease, have found an “obes paradox,” that heavier patient are less like to die. still, death is not everything. even if “be overweight doesn’t increas your risk of dying,” dr. klein said, it “doe increas your risk of have diabetes” or other conditions. ultimately, said the study’ lead author, katherin flegal, a senior scientist at the center for diseas control and prevention, “the best weight might depend on the situat you’r in.” , in whose “physic makeup there is not a singl defect,” the time articl said. thi woman who “ha never been ill and doesn’t know what fear is” love sport and didn’t consum candy, coffe or tea. but she also ate onli three meal everi two days, and love beefsteak. mayb such seem contradict made sens against the societ inconsist of that time. after all, her post-colleg plan involv till her father’ farm, but “if she were a man, she would studi mechan engineering.”  "
      ]
     },
     "execution_count": 100,
     "metadata": {},
     "output_type": "execute_result"
    }
   ],
   "source": [
    "# Apply the porter stemmer\n",
    "newsdf['pstem'] = newsdf[\"text\"].apply(lambda x: [ps.stem(y) for y in x.split()])\n",
    "newsdf['pstem']= [\" \".join(token) for token in newsdf['pstem']]\n",
    "newsdf.head(2)"
   ]
  },
  {
   "cell_type": "code",
   "execution_count": 101,
   "metadata": {},
   "outputs": [
    {
     "name": "stdout",
     "output_type": "stream",
     "text": [
      "(3848, 542)\n"
     ]
    },
    {
     "data": {
      "text/html": [
       "<div>\n",
       "<style scoped>\n",
       "    .dataframe tbody tr th:only-of-type {\n",
       "        vertical-align: middle;\n",
       "    }\n",
       "\n",
       "    .dataframe tbody tr th {\n",
       "        vertical-align: top;\n",
       "    }\n",
       "\n",
       "    .dataframe thead th {\n",
       "        text-align: right;\n",
       "    }\n",
       "</style>\n",
       "<table border=\"1\" class=\"dataframe\">\n",
       "  <thead>\n",
       "    <tr style=\"text-align: right;\">\n",
       "      <th></th>\n",
       "      <th>count</th>\n",
       "    </tr>\n",
       "  </thead>\n",
       "  <tbody>\n",
       "    <tr>\n",
       "      <th>wa</th>\n",
       "      <td>22797</td>\n",
       "    </tr>\n",
       "    <tr>\n",
       "      <th>said</th>\n",
       "      <td>21374</td>\n",
       "    </tr>\n",
       "    <tr>\n",
       "      <th>hi</th>\n",
       "      <td>15170</td>\n",
       "    </tr>\n",
       "    <tr>\n",
       "      <th>mr</th>\n",
       "      <td>13575</td>\n",
       "    </tr>\n",
       "    <tr>\n",
       "      <th>ha</th>\n",
       "      <td>12566</td>\n",
       "    </tr>\n",
       "    <tr>\n",
       "      <th>thi</th>\n",
       "      <td>9283</td>\n",
       "    </tr>\n",
       "    <tr>\n",
       "      <th>year</th>\n",
       "      <td>8520</td>\n",
       "    </tr>\n",
       "    <tr>\n",
       "      <th>new</th>\n",
       "      <td>8149</td>\n",
       "    </tr>\n",
       "    <tr>\n",
       "      <th>like</th>\n",
       "      <td>7618</td>\n",
       "    </tr>\n",
       "    <tr>\n",
       "      <th>time</th>\n",
       "      <td>5579</td>\n",
       "    </tr>\n",
       "    <tr>\n",
       "      <th>state</th>\n",
       "      <td>5530</td>\n",
       "    </tr>\n",
       "    <tr>\n",
       "      <th>peopl</th>\n",
       "      <td>4698</td>\n",
       "    </tr>\n",
       "    <tr>\n",
       "      <th>make</th>\n",
       "      <td>4406</td>\n",
       "    </tr>\n",
       "    <tr>\n",
       "      <th>say</th>\n",
       "      <td>4248</td>\n",
       "    </tr>\n",
       "    <tr>\n",
       "      <th>mani</th>\n",
       "      <td>4141</td>\n",
       "    </tr>\n",
       "    <tr>\n",
       "      <th>just</th>\n",
       "      <td>4127</td>\n",
       "    </tr>\n",
       "    <tr>\n",
       "      <th>work</th>\n",
       "      <td>4094</td>\n",
       "    </tr>\n",
       "    <tr>\n",
       "      <th>use</th>\n",
       "      <td>3934</td>\n",
       "    </tr>\n",
       "    <tr>\n",
       "      <th>becaus</th>\n",
       "      <td>3560</td>\n",
       "    </tr>\n",
       "    <tr>\n",
       "      <th>american</th>\n",
       "      <td>3436</td>\n",
       "    </tr>\n",
       "  </tbody>\n",
       "</table>\n",
       "</div>"
      ],
      "text/plain": [
       "          count\n",
       "wa        22797\n",
       "said      21374\n",
       "hi        15170\n",
       "mr        13575\n",
       "ha        12566\n",
       "thi        9283\n",
       "year       8520\n",
       "new        8149\n",
       "like       7618\n",
       "time       5579\n",
       "state      5530\n",
       "peopl      4698\n",
       "make       4406\n",
       "say        4248\n",
       "mani       4141\n",
       "just       4127\n",
       "work       4094\n",
       "use        3934\n",
       "becaus     3560\n",
       "american   3436"
      ]
     },
     "execution_count": 101,
     "metadata": {},
     "output_type": "execute_result"
    }
   ],
   "source": [
    "from sklearn.feature_extraction.text import CountVectorizer\n",
    "\n",
    "cv8 = CountVectorizer(binary=False, min_df = .1, stop_words = \"english\") #define the transformation\n",
    "cv8_news = cv8.fit_transform(newsdf['pstem']) #apply the transformation\n",
    "print(cv8_news.shape)\n",
    "\n",
    "names = cv8.get_feature_names()   #create list of feature names\n",
    "count = np.sum(cv8_news.toarray(), axis = 0) # add up feature counts \n",
    "count2 = count.tolist()  # convert numpy array to list\n",
    "count_df = pd.DataFrame(count2, index = names, columns = ['count']) # create a dataframe from the list\n",
    "count_df.sort_values(['count'], ascending = False)[0:20]  #arrange by count instead"
   ]
  },
  {
   "cell_type": "markdown",
   "metadata": {},
   "source": [
    "#### Wait \"wa\"? Where'd that come from?  Any guesses?"
   ]
  },
  {
   "cell_type": "markdown",
   "metadata": {},
   "source": [
    "### POS tagging"
   ]
  },
  {
   "cell_type": "code",
   "execution_count": 102,
   "metadata": {},
   "outputs": [
    {
     "name": "stdout",
     "output_type": "stream",
     "text": [
      "<class 'list'>\n",
      "['This', 'will', 'be', 'the', 'day', 'when', 'all', 'of', 'God', \"'s\", 'children', 'will', 'be', 'able', 'to', 'sing', 'with', 'a', 'new', 'meaning', ',', '``', 'My', 'country', ',', \"'t\", 'is', 'of', 'thee', ',', 'sweet', 'land', 'of', 'liberty', ',', 'of', 'thee', 'I', 'sing', '.', 'Land', 'where', 'my', 'fathers', 'died', ',', 'land', 'of', 'the', 'pilgrim', \"'s\", 'pride', ',', 'from', 'every', 'mountainside', ',', 'let', 'freedom', 'ring', '.', \"''\"]\n"
     ]
    }
   ],
   "source": [
    "# NLTK also has tokenizers \n",
    "from nltk import word_tokenize\n",
    "text = word_tokenize(speechtext[20])\n",
    "print(type(text))\n",
    "print(text)\n"
   ]
  },
  {
   "cell_type": "code",
   "execution_count": 103,
   "metadata": {},
   "outputs": [
    {
     "data": {
      "text/plain": [
       "[('This', 'DT'),\n",
       " ('will', 'MD'),\n",
       " ('be', 'VB'),\n",
       " ('the', 'DT'),\n",
       " ('day', 'NN'),\n",
       " ('when', 'WRB'),\n",
       " ('all', 'DT'),\n",
       " ('of', 'IN'),\n",
       " ('God', 'NNP'),\n",
       " (\"'s\", 'POS'),\n",
       " ('children', 'NNS'),\n",
       " ('will', 'MD'),\n",
       " ('be', 'VB'),\n",
       " ('able', 'JJ'),\n",
       " ('to', 'TO'),\n",
       " ('sing', 'VBG'),\n",
       " ('with', 'IN'),\n",
       " ('a', 'DT'),\n",
       " ('new', 'JJ'),\n",
       " ('meaning', 'NN'),\n",
       " (',', ','),\n",
       " ('``', '``'),\n",
       " ('My', 'PRP$'),\n",
       " ('country', 'NN'),\n",
       " (',', ','),\n",
       " (\"'t\", \"''\"),\n",
       " ('is', 'VBZ'),\n",
       " ('of', 'IN'),\n",
       " ('thee', 'NN'),\n",
       " (',', ','),\n",
       " ('sweet', 'JJ'),\n",
       " ('land', 'NN'),\n",
       " ('of', 'IN'),\n",
       " ('liberty', 'NN'),\n",
       " (',', ','),\n",
       " ('of', 'IN'),\n",
       " ('thee', 'NN'),\n",
       " ('I', 'PRP'),\n",
       " ('sing', 'VBG'),\n",
       " ('.', '.'),\n",
       " ('Land', 'NNP'),\n",
       " ('where', 'WRB'),\n",
       " ('my', 'PRP$'),\n",
       " ('fathers', 'NNS'),\n",
       " ('died', 'VBN'),\n",
       " (',', ','),\n",
       " ('land', 'NN'),\n",
       " ('of', 'IN'),\n",
       " ('the', 'DT'),\n",
       " ('pilgrim', 'NN'),\n",
       " (\"'s\", 'POS'),\n",
       " ('pride', 'NN'),\n",
       " (',', ','),\n",
       " ('from', 'IN'),\n",
       " ('every', 'DT'),\n",
       " ('mountainside', 'NN'),\n",
       " (',', ','),\n",
       " ('let', 'VB'),\n",
       " ('freedom', 'NN'),\n",
       " ('ring', 'VBG'),\n",
       " ('.', '.'),\n",
       " (\"''\", \"''\")]"
      ]
     },
     "execution_count": 103,
     "metadata": {},
     "output_type": "execute_result"
    }
   ],
   "source": [
    "# and can try to figure out parts of speech\n",
    "import nltk\n",
    "nltk.pos_tag(text)"
   ]
  },
  {
   "cell_type": "code",
   "execution_count": 104,
   "metadata": {},
   "outputs": [
    {
     "name": "stdout",
     "output_type": "stream",
     "text": [
      "$: dollar\n",
      "    $ -$ --$ A$ C$ HK$ M$ NZ$ S$ U.S.$ US$\n",
      "'': closing quotation mark\n",
      "    ' ''\n",
      "(: opening parenthesis\n",
      "    ( [ {\n",
      "): closing parenthesis\n",
      "    ) ] }\n",
      ",: comma\n",
      "    ,\n",
      "--: dash\n",
      "    --\n",
      ".: sentence terminator\n",
      "    . ! ?\n",
      ":: colon or ellipsis\n",
      "    : ; ...\n",
      "CC: conjunction, coordinating\n",
      "    & 'n and both but either et for less minus neither nor or plus so\n",
      "    therefore times v. versus vs. whether yet\n",
      "CD: numeral, cardinal\n",
      "    mid-1890 nine-thirty forty-two one-tenth ten million 0.5 one forty-\n",
      "    seven 1987 twenty '79 zero two 78-degrees eighty-four IX '60s .025\n",
      "    fifteen 271,124 dozen quintillion DM2,000 ...\n",
      "DT: determiner\n",
      "    all an another any both del each either every half la many much nary\n",
      "    neither no some such that the them these this those\n",
      "EX: existential there\n",
      "    there\n",
      "FW: foreign word\n",
      "    gemeinschaft hund ich jeux habeas Haementeria Herr K'ang-si vous\n",
      "    lutihaw alai je jour objets salutaris fille quibusdam pas trop Monte\n",
      "    terram fiche oui corporis ...\n",
      "IN: preposition or conjunction, subordinating\n",
      "    astride among uppon whether out inside pro despite on by throughout\n",
      "    below within for towards near behind atop around if like until below\n",
      "    next into if beside ...\n",
      "JJ: adjective or numeral, ordinal\n",
      "    third ill-mannered pre-war regrettable oiled calamitous first separable\n",
      "    ectoplasmic battery-powered participatory fourth still-to-be-named\n",
      "    multilingual multi-disciplinary ...\n",
      "JJR: adjective, comparative\n",
      "    bleaker braver breezier briefer brighter brisker broader bumper busier\n",
      "    calmer cheaper choosier cleaner clearer closer colder commoner costlier\n",
      "    cozier creamier crunchier cuter ...\n",
      "JJS: adjective, superlative\n",
      "    calmest cheapest choicest classiest cleanest clearest closest commonest\n",
      "    corniest costliest crassest creepiest crudest cutest darkest deadliest\n",
      "    dearest deepest densest dinkiest ...\n",
      "LS: list item marker\n",
      "    A A. B B. C C. D E F First G H I J K One SP-44001 SP-44002 SP-44005\n",
      "    SP-44007 Second Third Three Two * a b c d first five four one six three\n",
      "    two\n",
      "MD: modal auxiliary\n",
      "    can cannot could couldn't dare may might must need ought shall should\n",
      "    shouldn't will would\n",
      "NN: noun, common, singular or mass\n",
      "    common-carrier cabbage knuckle-duster Casino afghan shed thermostat\n",
      "    investment slide humour falloff slick wind hyena override subhumanity\n",
      "    machinist ...\n",
      "NNP: noun, proper, singular\n",
      "    Motown Venneboerger Czestochwa Ranzer Conchita Trumplane Christos\n",
      "    Oceanside Escobar Kreisler Sawyer Cougar Yvette Ervin ODI Darryl CTCA\n",
      "    Shannon A.K.C. Meltex Liverpool ...\n",
      "NNPS: noun, proper, plural\n",
      "    Americans Americas Amharas Amityvilles Amusements Anarcho-Syndicalists\n",
      "    Andalusians Andes Andruses Angels Animals Anthony Antilles Antiques\n",
      "    Apache Apaches Apocrypha ...\n",
      "NNS: noun, common, plural\n",
      "    undergraduates scotches bric-a-brac products bodyguards facets coasts\n",
      "    divestitures storehouses designs clubs fragrances averages\n",
      "    subjectivists apprehensions muses factory-jobs ...\n",
      "PDT: pre-determiner\n",
      "    all both half many quite such sure this\n",
      "POS: genitive marker\n",
      "    ' 's\n",
      "PRP: pronoun, personal\n",
      "    hers herself him himself hisself it itself me myself one oneself ours\n",
      "    ourselves ownself self she thee theirs them themselves they thou thy us\n",
      "PRP$: pronoun, possessive\n",
      "    her his mine my our ours their thy your\n",
      "RB: adverb\n",
      "    occasionally unabatingly maddeningly adventurously professedly\n",
      "    stirringly prominently technologically magisterially predominately\n",
      "    swiftly fiscally pitilessly ...\n",
      "RBR: adverb, comparative\n",
      "    further gloomier grander graver greater grimmer harder harsher\n",
      "    healthier heavier higher however larger later leaner lengthier less-\n",
      "    perfectly lesser lonelier longer louder lower more ...\n",
      "RBS: adverb, superlative\n",
      "    best biggest bluntest earliest farthest first furthest hardest\n",
      "    heartiest highest largest least less most nearest second tightest worst\n",
      "RP: particle\n",
      "    aboard about across along apart around aside at away back before behind\n",
      "    by crop down ever fast for forth from go high i.e. in into just later\n",
      "    low more off on open out over per pie raising start teeth that through\n",
      "    under unto up up-pp upon whole with you\n",
      "SYM: symbol\n",
      "    % & ' '' ''. ) ). * + ,. < = > @ A[fj] U.S U.S.S.R * ** ***\n",
      "TO: \"to\" as preposition or infinitive marker\n",
      "    to\n",
      "UH: interjection\n",
      "    Goodbye Goody Gosh Wow Jeepers Jee-sus Hubba Hey Kee-reist Oops amen\n",
      "    huh howdy uh dammit whammo shucks heck anyways whodunnit honey golly\n",
      "    man baby diddle hush sonuvabitch ...\n",
      "VB: verb, base form\n",
      "    ask assemble assess assign assume atone attention avoid bake balkanize\n",
      "    bank begin behold believe bend benefit bevel beware bless boil bomb\n",
      "    boost brace break bring broil brush build ...\n",
      "VBD: verb, past tense\n",
      "    dipped pleaded swiped regummed soaked tidied convened halted registered\n",
      "    cushioned exacted snubbed strode aimed adopted belied figgered\n",
      "    speculated wore appreciated contemplated ...\n",
      "VBG: verb, present participle or gerund\n",
      "    telegraphing stirring focusing angering judging stalling lactating\n",
      "    hankerin' alleging veering capping approaching traveling besieging\n",
      "    encrypting interrupting erasing wincing ...\n",
      "VBN: verb, past participle\n",
      "    multihulled dilapidated aerosolized chaired languished panelized used\n",
      "    experimented flourished imitated reunifed factored condensed sheared\n",
      "    unsettled primed dubbed desired ...\n",
      "VBP: verb, present tense, not 3rd person singular\n",
      "    predominate wrap resort sue twist spill cure lengthen brush terminate\n",
      "    appear tend stray glisten obtain comprise detest tease attract\n",
      "    emphasize mold postpone sever return wag ...\n",
      "VBZ: verb, present tense, 3rd person singular\n",
      "    bases reconstructs marks mixes displeases seals carps weaves snatches\n",
      "    slumps stretches authorizes smolders pictures emerges stockpiles\n",
      "    seduces fizzes uses bolsters slaps speaks pleads ...\n",
      "WDT: WH-determiner\n",
      "    that what whatever which whichever\n",
      "WP: WH-pronoun\n",
      "    that what whatever whatsoever which who whom whosoever\n",
      "WP$: WH-pronoun, possessive\n",
      "    whose\n",
      "WRB: Wh-adverb\n",
      "    how however whence whenever where whereby whereever wherein whereof why\n",
      "``: opening quotation mark\n",
      "    ` ``\n"
     ]
    }
   ],
   "source": [
    "# but what do those  abbreviations mean?\n",
    "nltk.help.upenn_tagset()"
   ]
  },
  {
   "cell_type": "code",
   "execution_count": 105,
   "metadata": {},
   "outputs": [
    {
     "data": {
      "text/plain": [
       "[('cats', 'NNS'),\n",
       " ('running', 'VBG'),\n",
       " ('ran', 'NN'),\n",
       " ('cactus', 'NN'),\n",
       " ('cactuses', 'VBZ'),\n",
       " ('cacti', 'VBP'),\n",
       " ('community', 'NN'),\n",
       " ('communities', 'NNS')]"
      ]
     },
     "execution_count": 105,
     "metadata": {},
     "output_type": "execute_result"
    }
   ],
   "source": [
    "sent = \"cats running ran cactus cactuses cacti community communities\"\n",
    "text = word_tokenize(sent)\n",
    "\n",
    "nltk.pos_tag(text)"
   ]
  },
  {
   "cell_type": "markdown",
   "metadata": {},
   "source": [
    "This is getting more into NLP - we won't cover that in this class but if you are interested, read about grammars in the NLTK book.  You'll need to know POS to construct grammars."
   ]
  },
  {
   "cell_type": "markdown",
   "metadata": {
    "collapsed": true
   },
   "source": [
    "### Main take aways:\n",
    "* Removing stopwords generally decreases the size of the feature space but be careful what words are considered \"unhelpful.\"\n",
    "* Stemming and lemmatization try to consolidate features by reducing words down to their root but be careful you aren't conflating multiple concepts.  \n",
    "* What stopwords to use and whether or not to stem words are more choices that the data scientist needs to make (on top of vectorizer options, parameter settings, etc.)"
   ]
  }
 ],
 "metadata": {
  "anaconda-cloud": {},
  "kernelspec": {
   "display_name": "Python 3",
   "language": "python",
   "name": "python3"
  },
  "language_info": {
   "codemirror_mode": {
    "name": "ipython",
    "version": 3
   },
   "file_extension": ".py",
   "mimetype": "text/x-python",
   "name": "python",
   "nbconvert_exporter": "python",
   "pygments_lexer": "ipython3",
   "version": "3.6.4"
  }
 },
 "nbformat": 4,
 "nbformat_minor": 1
}
